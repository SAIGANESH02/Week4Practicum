{
  "nbformat": 4,
  "nbformat_minor": 0,
  "metadata": {
    "colab": {
      "provenance": [],
      "machine_shape": "hm",
      "gpuType": "T4",
      "toc_visible": true
    },
    "kernelspec": {
      "name": "python3",
      "display_name": "Python 3"
    },
    "language_info": {
      "name": "python"
    },
    "accelerator": "GPU",
    "widgets": {
      "application/vnd.jupyter.widget-state+json": {
        "c262a98e6dd84239bbc1576b40605239": {
          "model_module": "@jupyter-widgets/controls",
          "model_name": "VBoxModel",
          "model_module_version": "1.5.0",
          "state": {
            "_dom_classes": [],
            "_model_module": "@jupyter-widgets/controls",
            "_model_module_version": "1.5.0",
            "_model_name": "VBoxModel",
            "_view_count": null,
            "_view_module": "@jupyter-widgets/controls",
            "_view_module_version": "1.5.0",
            "_view_name": "VBoxView",
            "box_style": "",
            "children": [
              "IPY_MODEL_fa53f22a927846f4a1147b1c71116bfb",
              "IPY_MODEL_2d3f7dde28c147b9868963d7698b1870"
            ],
            "layout": "IPY_MODEL_562358f5f9cd40858b4c48dede560d1b"
          }
        },
        "fa53f22a927846f4a1147b1c71116bfb": {
          "model_module": "@jupyter-widgets/controls",
          "model_name": "LabelModel",
          "model_module_version": "1.5.0",
          "state": {
            "_dom_classes": [],
            "_model_module": "@jupyter-widgets/controls",
            "_model_module_version": "1.5.0",
            "_model_name": "LabelModel",
            "_view_count": null,
            "_view_module": "@jupyter-widgets/controls",
            "_view_module_version": "1.5.0",
            "_view_name": "LabelView",
            "description": "",
            "description_tooltip": null,
            "layout": "IPY_MODEL_1f4633b600654915b099f265387f28f4",
            "placeholder": "​",
            "style": "IPY_MODEL_4d199f5780324363b3d2a12577dfd32b",
            "value": "0.016 MB of 0.016 MB uploaded\r"
          }
        },
        "2d3f7dde28c147b9868963d7698b1870": {
          "model_module": "@jupyter-widgets/controls",
          "model_name": "FloatProgressModel",
          "model_module_version": "1.5.0",
          "state": {
            "_dom_classes": [],
            "_model_module": "@jupyter-widgets/controls",
            "_model_module_version": "1.5.0",
            "_model_name": "FloatProgressModel",
            "_view_count": null,
            "_view_module": "@jupyter-widgets/controls",
            "_view_module_version": "1.5.0",
            "_view_name": "ProgressView",
            "bar_style": "",
            "description": "",
            "description_tooltip": null,
            "layout": "IPY_MODEL_524a6ca239ca45e79c5f1d5d39514661",
            "max": 1,
            "min": 0,
            "orientation": "horizontal",
            "style": "IPY_MODEL_0e7c16d496434763b62afeebacabeb80",
            "value": 1
          }
        },
        "562358f5f9cd40858b4c48dede560d1b": {
          "model_module": "@jupyter-widgets/base",
          "model_name": "LayoutModel",
          "model_module_version": "1.2.0",
          "state": {
            "_model_module": "@jupyter-widgets/base",
            "_model_module_version": "1.2.0",
            "_model_name": "LayoutModel",
            "_view_count": null,
            "_view_module": "@jupyter-widgets/base",
            "_view_module_version": "1.2.0",
            "_view_name": "LayoutView",
            "align_content": null,
            "align_items": null,
            "align_self": null,
            "border": null,
            "bottom": null,
            "display": null,
            "flex": null,
            "flex_flow": null,
            "grid_area": null,
            "grid_auto_columns": null,
            "grid_auto_flow": null,
            "grid_auto_rows": null,
            "grid_column": null,
            "grid_gap": null,
            "grid_row": null,
            "grid_template_areas": null,
            "grid_template_columns": null,
            "grid_template_rows": null,
            "height": null,
            "justify_content": null,
            "justify_items": null,
            "left": null,
            "margin": null,
            "max_height": null,
            "max_width": null,
            "min_height": null,
            "min_width": null,
            "object_fit": null,
            "object_position": null,
            "order": null,
            "overflow": null,
            "overflow_x": null,
            "overflow_y": null,
            "padding": null,
            "right": null,
            "top": null,
            "visibility": null,
            "width": null
          }
        },
        "1f4633b600654915b099f265387f28f4": {
          "model_module": "@jupyter-widgets/base",
          "model_name": "LayoutModel",
          "model_module_version": "1.2.0",
          "state": {
            "_model_module": "@jupyter-widgets/base",
            "_model_module_version": "1.2.0",
            "_model_name": "LayoutModel",
            "_view_count": null,
            "_view_module": "@jupyter-widgets/base",
            "_view_module_version": "1.2.0",
            "_view_name": "LayoutView",
            "align_content": null,
            "align_items": null,
            "align_self": null,
            "border": null,
            "bottom": null,
            "display": null,
            "flex": null,
            "flex_flow": null,
            "grid_area": null,
            "grid_auto_columns": null,
            "grid_auto_flow": null,
            "grid_auto_rows": null,
            "grid_column": null,
            "grid_gap": null,
            "grid_row": null,
            "grid_template_areas": null,
            "grid_template_columns": null,
            "grid_template_rows": null,
            "height": null,
            "justify_content": null,
            "justify_items": null,
            "left": null,
            "margin": null,
            "max_height": null,
            "max_width": null,
            "min_height": null,
            "min_width": null,
            "object_fit": null,
            "object_position": null,
            "order": null,
            "overflow": null,
            "overflow_x": null,
            "overflow_y": null,
            "padding": null,
            "right": null,
            "top": null,
            "visibility": null,
            "width": null
          }
        },
        "4d199f5780324363b3d2a12577dfd32b": {
          "model_module": "@jupyter-widgets/controls",
          "model_name": "DescriptionStyleModel",
          "model_module_version": "1.5.0",
          "state": {
            "_model_module": "@jupyter-widgets/controls",
            "_model_module_version": "1.5.0",
            "_model_name": "DescriptionStyleModel",
            "_view_count": null,
            "_view_module": "@jupyter-widgets/base",
            "_view_module_version": "1.2.0",
            "_view_name": "StyleView",
            "description_width": ""
          }
        },
        "524a6ca239ca45e79c5f1d5d39514661": {
          "model_module": "@jupyter-widgets/base",
          "model_name": "LayoutModel",
          "model_module_version": "1.2.0",
          "state": {
            "_model_module": "@jupyter-widgets/base",
            "_model_module_version": "1.2.0",
            "_model_name": "LayoutModel",
            "_view_count": null,
            "_view_module": "@jupyter-widgets/base",
            "_view_module_version": "1.2.0",
            "_view_name": "LayoutView",
            "align_content": null,
            "align_items": null,
            "align_self": null,
            "border": null,
            "bottom": null,
            "display": null,
            "flex": null,
            "flex_flow": null,
            "grid_area": null,
            "grid_auto_columns": null,
            "grid_auto_flow": null,
            "grid_auto_rows": null,
            "grid_column": null,
            "grid_gap": null,
            "grid_row": null,
            "grid_template_areas": null,
            "grid_template_columns": null,
            "grid_template_rows": null,
            "height": null,
            "justify_content": null,
            "justify_items": null,
            "left": null,
            "margin": null,
            "max_height": null,
            "max_width": null,
            "min_height": null,
            "min_width": null,
            "object_fit": null,
            "object_position": null,
            "order": null,
            "overflow": null,
            "overflow_x": null,
            "overflow_y": null,
            "padding": null,
            "right": null,
            "top": null,
            "visibility": null,
            "width": null
          }
        },
        "0e7c16d496434763b62afeebacabeb80": {
          "model_module": "@jupyter-widgets/controls",
          "model_name": "ProgressStyleModel",
          "model_module_version": "1.5.0",
          "state": {
            "_model_module": "@jupyter-widgets/controls",
            "_model_module_version": "1.5.0",
            "_model_name": "ProgressStyleModel",
            "_view_count": null,
            "_view_module": "@jupyter-widgets/base",
            "_view_module_version": "1.2.0",
            "_view_name": "StyleView",
            "bar_color": null,
            "description_width": ""
          }
        },
        "836e441338334fd1ac172734a3e18a51": {
          "model_module": "@jupyter-widgets/controls",
          "model_name": "VBoxModel",
          "model_module_version": "1.5.0",
          "state": {
            "_dom_classes": [],
            "_model_module": "@jupyter-widgets/controls",
            "_model_module_version": "1.5.0",
            "_model_name": "VBoxModel",
            "_view_count": null,
            "_view_module": "@jupyter-widgets/controls",
            "_view_module_version": "1.5.0",
            "_view_name": "VBoxView",
            "box_style": "",
            "children": [
              "IPY_MODEL_d317741854f0438f956236aa06d4d16b",
              "IPY_MODEL_cf528bb713a34bddb00ef829517a75ec"
            ],
            "layout": "IPY_MODEL_1f6656e43f954dbb961d02451815039a"
          }
        },
        "d317741854f0438f956236aa06d4d16b": {
          "model_module": "@jupyter-widgets/controls",
          "model_name": "LabelModel",
          "model_module_version": "1.5.0",
          "state": {
            "_dom_classes": [],
            "_model_module": "@jupyter-widgets/controls",
            "_model_module_version": "1.5.0",
            "_model_name": "LabelModel",
            "_view_count": null,
            "_view_module": "@jupyter-widgets/controls",
            "_view_module_version": "1.5.0",
            "_view_name": "LabelView",
            "description": "",
            "description_tooltip": null,
            "layout": "IPY_MODEL_05c86c3f55514b08b828f268a239ce26",
            "placeholder": "​",
            "style": "IPY_MODEL_2a04d38c275747a498b6ed5c951abc22",
            "value": "0.016 MB of 0.016 MB uploaded\r"
          }
        },
        "cf528bb713a34bddb00ef829517a75ec": {
          "model_module": "@jupyter-widgets/controls",
          "model_name": "FloatProgressModel",
          "model_module_version": "1.5.0",
          "state": {
            "_dom_classes": [],
            "_model_module": "@jupyter-widgets/controls",
            "_model_module_version": "1.5.0",
            "_model_name": "FloatProgressModel",
            "_view_count": null,
            "_view_module": "@jupyter-widgets/controls",
            "_view_module_version": "1.5.0",
            "_view_name": "ProgressView",
            "bar_style": "",
            "description": "",
            "description_tooltip": null,
            "layout": "IPY_MODEL_37aabebb784b4923ad594dc412070201",
            "max": 1,
            "min": 0,
            "orientation": "horizontal",
            "style": "IPY_MODEL_8d34963482b84ed68a1934c4b4191b33",
            "value": 1
          }
        },
        "1f6656e43f954dbb961d02451815039a": {
          "model_module": "@jupyter-widgets/base",
          "model_name": "LayoutModel",
          "model_module_version": "1.2.0",
          "state": {
            "_model_module": "@jupyter-widgets/base",
            "_model_module_version": "1.2.0",
            "_model_name": "LayoutModel",
            "_view_count": null,
            "_view_module": "@jupyter-widgets/base",
            "_view_module_version": "1.2.0",
            "_view_name": "LayoutView",
            "align_content": null,
            "align_items": null,
            "align_self": null,
            "border": null,
            "bottom": null,
            "display": null,
            "flex": null,
            "flex_flow": null,
            "grid_area": null,
            "grid_auto_columns": null,
            "grid_auto_flow": null,
            "grid_auto_rows": null,
            "grid_column": null,
            "grid_gap": null,
            "grid_row": null,
            "grid_template_areas": null,
            "grid_template_columns": null,
            "grid_template_rows": null,
            "height": null,
            "justify_content": null,
            "justify_items": null,
            "left": null,
            "margin": null,
            "max_height": null,
            "max_width": null,
            "min_height": null,
            "min_width": null,
            "object_fit": null,
            "object_position": null,
            "order": null,
            "overflow": null,
            "overflow_x": null,
            "overflow_y": null,
            "padding": null,
            "right": null,
            "top": null,
            "visibility": null,
            "width": null
          }
        },
        "05c86c3f55514b08b828f268a239ce26": {
          "model_module": "@jupyter-widgets/base",
          "model_name": "LayoutModel",
          "model_module_version": "1.2.0",
          "state": {
            "_model_module": "@jupyter-widgets/base",
            "_model_module_version": "1.2.0",
            "_model_name": "LayoutModel",
            "_view_count": null,
            "_view_module": "@jupyter-widgets/base",
            "_view_module_version": "1.2.0",
            "_view_name": "LayoutView",
            "align_content": null,
            "align_items": null,
            "align_self": null,
            "border": null,
            "bottom": null,
            "display": null,
            "flex": null,
            "flex_flow": null,
            "grid_area": null,
            "grid_auto_columns": null,
            "grid_auto_flow": null,
            "grid_auto_rows": null,
            "grid_column": null,
            "grid_gap": null,
            "grid_row": null,
            "grid_template_areas": null,
            "grid_template_columns": null,
            "grid_template_rows": null,
            "height": null,
            "justify_content": null,
            "justify_items": null,
            "left": null,
            "margin": null,
            "max_height": null,
            "max_width": null,
            "min_height": null,
            "min_width": null,
            "object_fit": null,
            "object_position": null,
            "order": null,
            "overflow": null,
            "overflow_x": null,
            "overflow_y": null,
            "padding": null,
            "right": null,
            "top": null,
            "visibility": null,
            "width": null
          }
        },
        "2a04d38c275747a498b6ed5c951abc22": {
          "model_module": "@jupyter-widgets/controls",
          "model_name": "DescriptionStyleModel",
          "model_module_version": "1.5.0",
          "state": {
            "_model_module": "@jupyter-widgets/controls",
            "_model_module_version": "1.5.0",
            "_model_name": "DescriptionStyleModel",
            "_view_count": null,
            "_view_module": "@jupyter-widgets/base",
            "_view_module_version": "1.2.0",
            "_view_name": "StyleView",
            "description_width": ""
          }
        },
        "37aabebb784b4923ad594dc412070201": {
          "model_module": "@jupyter-widgets/base",
          "model_name": "LayoutModel",
          "model_module_version": "1.2.0",
          "state": {
            "_model_module": "@jupyter-widgets/base",
            "_model_module_version": "1.2.0",
            "_model_name": "LayoutModel",
            "_view_count": null,
            "_view_module": "@jupyter-widgets/base",
            "_view_module_version": "1.2.0",
            "_view_name": "LayoutView",
            "align_content": null,
            "align_items": null,
            "align_self": null,
            "border": null,
            "bottom": null,
            "display": null,
            "flex": null,
            "flex_flow": null,
            "grid_area": null,
            "grid_auto_columns": null,
            "grid_auto_flow": null,
            "grid_auto_rows": null,
            "grid_column": null,
            "grid_gap": null,
            "grid_row": null,
            "grid_template_areas": null,
            "grid_template_columns": null,
            "grid_template_rows": null,
            "height": null,
            "justify_content": null,
            "justify_items": null,
            "left": null,
            "margin": null,
            "max_height": null,
            "max_width": null,
            "min_height": null,
            "min_width": null,
            "object_fit": null,
            "object_position": null,
            "order": null,
            "overflow": null,
            "overflow_x": null,
            "overflow_y": null,
            "padding": null,
            "right": null,
            "top": null,
            "visibility": null,
            "width": null
          }
        },
        "8d34963482b84ed68a1934c4b4191b33": {
          "model_module": "@jupyter-widgets/controls",
          "model_name": "ProgressStyleModel",
          "model_module_version": "1.5.0",
          "state": {
            "_model_module": "@jupyter-widgets/controls",
            "_model_module_version": "1.5.0",
            "_model_name": "ProgressStyleModel",
            "_view_count": null,
            "_view_module": "@jupyter-widgets/base",
            "_view_module_version": "1.2.0",
            "_view_name": "StyleView",
            "bar_color": null,
            "description_width": ""
          }
        },
        "d9491a99a24e45c0834430ee5ffa38ce": {
          "model_module": "@jupyter-widgets/controls",
          "model_name": "VBoxModel",
          "model_module_version": "1.5.0",
          "state": {
            "_dom_classes": [],
            "_model_module": "@jupyter-widgets/controls",
            "_model_module_version": "1.5.0",
            "_model_name": "VBoxModel",
            "_view_count": null,
            "_view_module": "@jupyter-widgets/controls",
            "_view_module_version": "1.5.0",
            "_view_name": "VBoxView",
            "box_style": "",
            "children": [
              "IPY_MODEL_8abe812f6bd54b84aad5f452380a834f",
              "IPY_MODEL_62e9d6da43e241a7bf36a08ab8eabbae"
            ],
            "layout": "IPY_MODEL_ad595290a77e435b9429385120c657ba"
          }
        },
        "8abe812f6bd54b84aad5f452380a834f": {
          "model_module": "@jupyter-widgets/controls",
          "model_name": "LabelModel",
          "model_module_version": "1.5.0",
          "state": {
            "_dom_classes": [],
            "_model_module": "@jupyter-widgets/controls",
            "_model_module_version": "1.5.0",
            "_model_name": "LabelModel",
            "_view_count": null,
            "_view_module": "@jupyter-widgets/controls",
            "_view_module_version": "1.5.0",
            "_view_name": "LabelView",
            "description": "",
            "description_tooltip": null,
            "layout": "IPY_MODEL_1710d03e084b4b9baa889d2490aa8fe3",
            "placeholder": "​",
            "style": "IPY_MODEL_2b64d4d2a6bf4730aeb1b0aae39550f2",
            "value": "0.016 MB of 0.016 MB uploaded\r"
          }
        },
        "62e9d6da43e241a7bf36a08ab8eabbae": {
          "model_module": "@jupyter-widgets/controls",
          "model_name": "FloatProgressModel",
          "model_module_version": "1.5.0",
          "state": {
            "_dom_classes": [],
            "_model_module": "@jupyter-widgets/controls",
            "_model_module_version": "1.5.0",
            "_model_name": "FloatProgressModel",
            "_view_count": null,
            "_view_module": "@jupyter-widgets/controls",
            "_view_module_version": "1.5.0",
            "_view_name": "ProgressView",
            "bar_style": "",
            "description": "",
            "description_tooltip": null,
            "layout": "IPY_MODEL_f3f1a29342b5497dab3d3f2f91634d30",
            "max": 1,
            "min": 0,
            "orientation": "horizontal",
            "style": "IPY_MODEL_dda8b02c30f54c89be0c7e182ffe8af9",
            "value": 1
          }
        },
        "ad595290a77e435b9429385120c657ba": {
          "model_module": "@jupyter-widgets/base",
          "model_name": "LayoutModel",
          "model_module_version": "1.2.0",
          "state": {
            "_model_module": "@jupyter-widgets/base",
            "_model_module_version": "1.2.0",
            "_model_name": "LayoutModel",
            "_view_count": null,
            "_view_module": "@jupyter-widgets/base",
            "_view_module_version": "1.2.0",
            "_view_name": "LayoutView",
            "align_content": null,
            "align_items": null,
            "align_self": null,
            "border": null,
            "bottom": null,
            "display": null,
            "flex": null,
            "flex_flow": null,
            "grid_area": null,
            "grid_auto_columns": null,
            "grid_auto_flow": null,
            "grid_auto_rows": null,
            "grid_column": null,
            "grid_gap": null,
            "grid_row": null,
            "grid_template_areas": null,
            "grid_template_columns": null,
            "grid_template_rows": null,
            "height": null,
            "justify_content": null,
            "justify_items": null,
            "left": null,
            "margin": null,
            "max_height": null,
            "max_width": null,
            "min_height": null,
            "min_width": null,
            "object_fit": null,
            "object_position": null,
            "order": null,
            "overflow": null,
            "overflow_x": null,
            "overflow_y": null,
            "padding": null,
            "right": null,
            "top": null,
            "visibility": null,
            "width": null
          }
        },
        "1710d03e084b4b9baa889d2490aa8fe3": {
          "model_module": "@jupyter-widgets/base",
          "model_name": "LayoutModel",
          "model_module_version": "1.2.0",
          "state": {
            "_model_module": "@jupyter-widgets/base",
            "_model_module_version": "1.2.0",
            "_model_name": "LayoutModel",
            "_view_count": null,
            "_view_module": "@jupyter-widgets/base",
            "_view_module_version": "1.2.0",
            "_view_name": "LayoutView",
            "align_content": null,
            "align_items": null,
            "align_self": null,
            "border": null,
            "bottom": null,
            "display": null,
            "flex": null,
            "flex_flow": null,
            "grid_area": null,
            "grid_auto_columns": null,
            "grid_auto_flow": null,
            "grid_auto_rows": null,
            "grid_column": null,
            "grid_gap": null,
            "grid_row": null,
            "grid_template_areas": null,
            "grid_template_columns": null,
            "grid_template_rows": null,
            "height": null,
            "justify_content": null,
            "justify_items": null,
            "left": null,
            "margin": null,
            "max_height": null,
            "max_width": null,
            "min_height": null,
            "min_width": null,
            "object_fit": null,
            "object_position": null,
            "order": null,
            "overflow": null,
            "overflow_x": null,
            "overflow_y": null,
            "padding": null,
            "right": null,
            "top": null,
            "visibility": null,
            "width": null
          }
        },
        "2b64d4d2a6bf4730aeb1b0aae39550f2": {
          "model_module": "@jupyter-widgets/controls",
          "model_name": "DescriptionStyleModel",
          "model_module_version": "1.5.0",
          "state": {
            "_model_module": "@jupyter-widgets/controls",
            "_model_module_version": "1.5.0",
            "_model_name": "DescriptionStyleModel",
            "_view_count": null,
            "_view_module": "@jupyter-widgets/base",
            "_view_module_version": "1.2.0",
            "_view_name": "StyleView",
            "description_width": ""
          }
        },
        "f3f1a29342b5497dab3d3f2f91634d30": {
          "model_module": "@jupyter-widgets/base",
          "model_name": "LayoutModel",
          "model_module_version": "1.2.0",
          "state": {
            "_model_module": "@jupyter-widgets/base",
            "_model_module_version": "1.2.0",
            "_model_name": "LayoutModel",
            "_view_count": null,
            "_view_module": "@jupyter-widgets/base",
            "_view_module_version": "1.2.0",
            "_view_name": "LayoutView",
            "align_content": null,
            "align_items": null,
            "align_self": null,
            "border": null,
            "bottom": null,
            "display": null,
            "flex": null,
            "flex_flow": null,
            "grid_area": null,
            "grid_auto_columns": null,
            "grid_auto_flow": null,
            "grid_auto_rows": null,
            "grid_column": null,
            "grid_gap": null,
            "grid_row": null,
            "grid_template_areas": null,
            "grid_template_columns": null,
            "grid_template_rows": null,
            "height": null,
            "justify_content": null,
            "justify_items": null,
            "left": null,
            "margin": null,
            "max_height": null,
            "max_width": null,
            "min_height": null,
            "min_width": null,
            "object_fit": null,
            "object_position": null,
            "order": null,
            "overflow": null,
            "overflow_x": null,
            "overflow_y": null,
            "padding": null,
            "right": null,
            "top": null,
            "visibility": null,
            "width": null
          }
        },
        "dda8b02c30f54c89be0c7e182ffe8af9": {
          "model_module": "@jupyter-widgets/controls",
          "model_name": "ProgressStyleModel",
          "model_module_version": "1.5.0",
          "state": {
            "_model_module": "@jupyter-widgets/controls",
            "_model_module_version": "1.5.0",
            "_model_name": "ProgressStyleModel",
            "_view_count": null,
            "_view_module": "@jupyter-widgets/base",
            "_view_module_version": "1.2.0",
            "_view_name": "StyleView",
            "bar_color": null,
            "description_width": ""
          }
        },
        "45bedc6c6eaa4f6a89c17100e5066398": {
          "model_module": "@jupyter-widgets/controls",
          "model_name": "VBoxModel",
          "model_module_version": "1.5.0",
          "state": {
            "_dom_classes": [],
            "_model_module": "@jupyter-widgets/controls",
            "_model_module_version": "1.5.0",
            "_model_name": "VBoxModel",
            "_view_count": null,
            "_view_module": "@jupyter-widgets/controls",
            "_view_module_version": "1.5.0",
            "_view_name": "VBoxView",
            "box_style": "",
            "children": [
              "IPY_MODEL_762df78d751f486db9f2ace998b94205",
              "IPY_MODEL_bd9ef14807fc4253b6e587af6f6cc961"
            ],
            "layout": "IPY_MODEL_3e7aa7dc91314ffcaee99ae8afac1cad"
          }
        },
        "762df78d751f486db9f2ace998b94205": {
          "model_module": "@jupyter-widgets/controls",
          "model_name": "LabelModel",
          "model_module_version": "1.5.0",
          "state": {
            "_dom_classes": [],
            "_model_module": "@jupyter-widgets/controls",
            "_model_module_version": "1.5.0",
            "_model_name": "LabelModel",
            "_view_count": null,
            "_view_module": "@jupyter-widgets/controls",
            "_view_module_version": "1.5.0",
            "_view_name": "LabelView",
            "description": "",
            "description_tooltip": null,
            "layout": "IPY_MODEL_915e3a85732445869f4f1db20a4ae6d5",
            "placeholder": "​",
            "style": "IPY_MODEL_c20e1c0448d441fba6ff21c1c4770ed2",
            "value": "0.016 MB of 0.016 MB uploaded\r"
          }
        },
        "bd9ef14807fc4253b6e587af6f6cc961": {
          "model_module": "@jupyter-widgets/controls",
          "model_name": "FloatProgressModel",
          "model_module_version": "1.5.0",
          "state": {
            "_dom_classes": [],
            "_model_module": "@jupyter-widgets/controls",
            "_model_module_version": "1.5.0",
            "_model_name": "FloatProgressModel",
            "_view_count": null,
            "_view_module": "@jupyter-widgets/controls",
            "_view_module_version": "1.5.0",
            "_view_name": "ProgressView",
            "bar_style": "",
            "description": "",
            "description_tooltip": null,
            "layout": "IPY_MODEL_f1bc3fbafe4d4a508953b580bb991a76",
            "max": 1,
            "min": 0,
            "orientation": "horizontal",
            "style": "IPY_MODEL_28c6d41e0c5f4419ada77f1b66ee6e66",
            "value": 1
          }
        },
        "3e7aa7dc91314ffcaee99ae8afac1cad": {
          "model_module": "@jupyter-widgets/base",
          "model_name": "LayoutModel",
          "model_module_version": "1.2.0",
          "state": {
            "_model_module": "@jupyter-widgets/base",
            "_model_module_version": "1.2.0",
            "_model_name": "LayoutModel",
            "_view_count": null,
            "_view_module": "@jupyter-widgets/base",
            "_view_module_version": "1.2.0",
            "_view_name": "LayoutView",
            "align_content": null,
            "align_items": null,
            "align_self": null,
            "border": null,
            "bottom": null,
            "display": null,
            "flex": null,
            "flex_flow": null,
            "grid_area": null,
            "grid_auto_columns": null,
            "grid_auto_flow": null,
            "grid_auto_rows": null,
            "grid_column": null,
            "grid_gap": null,
            "grid_row": null,
            "grid_template_areas": null,
            "grid_template_columns": null,
            "grid_template_rows": null,
            "height": null,
            "justify_content": null,
            "justify_items": null,
            "left": null,
            "margin": null,
            "max_height": null,
            "max_width": null,
            "min_height": null,
            "min_width": null,
            "object_fit": null,
            "object_position": null,
            "order": null,
            "overflow": null,
            "overflow_x": null,
            "overflow_y": null,
            "padding": null,
            "right": null,
            "top": null,
            "visibility": null,
            "width": null
          }
        },
        "915e3a85732445869f4f1db20a4ae6d5": {
          "model_module": "@jupyter-widgets/base",
          "model_name": "LayoutModel",
          "model_module_version": "1.2.0",
          "state": {
            "_model_module": "@jupyter-widgets/base",
            "_model_module_version": "1.2.0",
            "_model_name": "LayoutModel",
            "_view_count": null,
            "_view_module": "@jupyter-widgets/base",
            "_view_module_version": "1.2.0",
            "_view_name": "LayoutView",
            "align_content": null,
            "align_items": null,
            "align_self": null,
            "border": null,
            "bottom": null,
            "display": null,
            "flex": null,
            "flex_flow": null,
            "grid_area": null,
            "grid_auto_columns": null,
            "grid_auto_flow": null,
            "grid_auto_rows": null,
            "grid_column": null,
            "grid_gap": null,
            "grid_row": null,
            "grid_template_areas": null,
            "grid_template_columns": null,
            "grid_template_rows": null,
            "height": null,
            "justify_content": null,
            "justify_items": null,
            "left": null,
            "margin": null,
            "max_height": null,
            "max_width": null,
            "min_height": null,
            "min_width": null,
            "object_fit": null,
            "object_position": null,
            "order": null,
            "overflow": null,
            "overflow_x": null,
            "overflow_y": null,
            "padding": null,
            "right": null,
            "top": null,
            "visibility": null,
            "width": null
          }
        },
        "c20e1c0448d441fba6ff21c1c4770ed2": {
          "model_module": "@jupyter-widgets/controls",
          "model_name": "DescriptionStyleModel",
          "model_module_version": "1.5.0",
          "state": {
            "_model_module": "@jupyter-widgets/controls",
            "_model_module_version": "1.5.0",
            "_model_name": "DescriptionStyleModel",
            "_view_count": null,
            "_view_module": "@jupyter-widgets/base",
            "_view_module_version": "1.2.0",
            "_view_name": "StyleView",
            "description_width": ""
          }
        },
        "f1bc3fbafe4d4a508953b580bb991a76": {
          "model_module": "@jupyter-widgets/base",
          "model_name": "LayoutModel",
          "model_module_version": "1.2.0",
          "state": {
            "_model_module": "@jupyter-widgets/base",
            "_model_module_version": "1.2.0",
            "_model_name": "LayoutModel",
            "_view_count": null,
            "_view_module": "@jupyter-widgets/base",
            "_view_module_version": "1.2.0",
            "_view_name": "LayoutView",
            "align_content": null,
            "align_items": null,
            "align_self": null,
            "border": null,
            "bottom": null,
            "display": null,
            "flex": null,
            "flex_flow": null,
            "grid_area": null,
            "grid_auto_columns": null,
            "grid_auto_flow": null,
            "grid_auto_rows": null,
            "grid_column": null,
            "grid_gap": null,
            "grid_row": null,
            "grid_template_areas": null,
            "grid_template_columns": null,
            "grid_template_rows": null,
            "height": null,
            "justify_content": null,
            "justify_items": null,
            "left": null,
            "margin": null,
            "max_height": null,
            "max_width": null,
            "min_height": null,
            "min_width": null,
            "object_fit": null,
            "object_position": null,
            "order": null,
            "overflow": null,
            "overflow_x": null,
            "overflow_y": null,
            "padding": null,
            "right": null,
            "top": null,
            "visibility": null,
            "width": null
          }
        },
        "28c6d41e0c5f4419ada77f1b66ee6e66": {
          "model_module": "@jupyter-widgets/controls",
          "model_name": "ProgressStyleModel",
          "model_module_version": "1.5.0",
          "state": {
            "_model_module": "@jupyter-widgets/controls",
            "_model_module_version": "1.5.0",
            "_model_name": "ProgressStyleModel",
            "_view_count": null,
            "_view_module": "@jupyter-widgets/base",
            "_view_module_version": "1.2.0",
            "_view_name": "StyleView",
            "bar_color": null,
            "description_width": ""
          }
        },
        "f4b008756da44cc4af87c1496ec196c4": {
          "model_module": "@jupyter-widgets/controls",
          "model_name": "VBoxModel",
          "model_module_version": "1.5.0",
          "state": {
            "_dom_classes": [],
            "_model_module": "@jupyter-widgets/controls",
            "_model_module_version": "1.5.0",
            "_model_name": "VBoxModel",
            "_view_count": null,
            "_view_module": "@jupyter-widgets/controls",
            "_view_module_version": "1.5.0",
            "_view_name": "VBoxView",
            "box_style": "",
            "children": [
              "IPY_MODEL_c80cdd67d4d443bb873cc15aa0e10831",
              "IPY_MODEL_5d0f9f160fa8499298b2f65d815ba6ca"
            ],
            "layout": "IPY_MODEL_06da1750d27349fba29db2cb09e37502"
          }
        },
        "c80cdd67d4d443bb873cc15aa0e10831": {
          "model_module": "@jupyter-widgets/controls",
          "model_name": "LabelModel",
          "model_module_version": "1.5.0",
          "state": {
            "_dom_classes": [],
            "_model_module": "@jupyter-widgets/controls",
            "_model_module_version": "1.5.0",
            "_model_name": "LabelModel",
            "_view_count": null,
            "_view_module": "@jupyter-widgets/controls",
            "_view_module_version": "1.5.0",
            "_view_name": "LabelView",
            "description": "",
            "description_tooltip": null,
            "layout": "IPY_MODEL_5ead37eb2cbd449f8cfe2ad1cb46554e",
            "placeholder": "​",
            "style": "IPY_MODEL_d93a05bc05d44ae78caabed2bacf5c5c",
            "value": "0.016 MB of 0.016 MB uploaded\r"
          }
        },
        "5d0f9f160fa8499298b2f65d815ba6ca": {
          "model_module": "@jupyter-widgets/controls",
          "model_name": "FloatProgressModel",
          "model_module_version": "1.5.0",
          "state": {
            "_dom_classes": [],
            "_model_module": "@jupyter-widgets/controls",
            "_model_module_version": "1.5.0",
            "_model_name": "FloatProgressModel",
            "_view_count": null,
            "_view_module": "@jupyter-widgets/controls",
            "_view_module_version": "1.5.0",
            "_view_name": "ProgressView",
            "bar_style": "",
            "description": "",
            "description_tooltip": null,
            "layout": "IPY_MODEL_6d01a7efc6754afdae43aa9939234b76",
            "max": 1,
            "min": 0,
            "orientation": "horizontal",
            "style": "IPY_MODEL_db4c53123b4741aa8c0081f40ca69f52",
            "value": 1
          }
        },
        "06da1750d27349fba29db2cb09e37502": {
          "model_module": "@jupyter-widgets/base",
          "model_name": "LayoutModel",
          "model_module_version": "1.2.0",
          "state": {
            "_model_module": "@jupyter-widgets/base",
            "_model_module_version": "1.2.0",
            "_model_name": "LayoutModel",
            "_view_count": null,
            "_view_module": "@jupyter-widgets/base",
            "_view_module_version": "1.2.0",
            "_view_name": "LayoutView",
            "align_content": null,
            "align_items": null,
            "align_self": null,
            "border": null,
            "bottom": null,
            "display": null,
            "flex": null,
            "flex_flow": null,
            "grid_area": null,
            "grid_auto_columns": null,
            "grid_auto_flow": null,
            "grid_auto_rows": null,
            "grid_column": null,
            "grid_gap": null,
            "grid_row": null,
            "grid_template_areas": null,
            "grid_template_columns": null,
            "grid_template_rows": null,
            "height": null,
            "justify_content": null,
            "justify_items": null,
            "left": null,
            "margin": null,
            "max_height": null,
            "max_width": null,
            "min_height": null,
            "min_width": null,
            "object_fit": null,
            "object_position": null,
            "order": null,
            "overflow": null,
            "overflow_x": null,
            "overflow_y": null,
            "padding": null,
            "right": null,
            "top": null,
            "visibility": null,
            "width": null
          }
        },
        "5ead37eb2cbd449f8cfe2ad1cb46554e": {
          "model_module": "@jupyter-widgets/base",
          "model_name": "LayoutModel",
          "model_module_version": "1.2.0",
          "state": {
            "_model_module": "@jupyter-widgets/base",
            "_model_module_version": "1.2.0",
            "_model_name": "LayoutModel",
            "_view_count": null,
            "_view_module": "@jupyter-widgets/base",
            "_view_module_version": "1.2.0",
            "_view_name": "LayoutView",
            "align_content": null,
            "align_items": null,
            "align_self": null,
            "border": null,
            "bottom": null,
            "display": null,
            "flex": null,
            "flex_flow": null,
            "grid_area": null,
            "grid_auto_columns": null,
            "grid_auto_flow": null,
            "grid_auto_rows": null,
            "grid_column": null,
            "grid_gap": null,
            "grid_row": null,
            "grid_template_areas": null,
            "grid_template_columns": null,
            "grid_template_rows": null,
            "height": null,
            "justify_content": null,
            "justify_items": null,
            "left": null,
            "margin": null,
            "max_height": null,
            "max_width": null,
            "min_height": null,
            "min_width": null,
            "object_fit": null,
            "object_position": null,
            "order": null,
            "overflow": null,
            "overflow_x": null,
            "overflow_y": null,
            "padding": null,
            "right": null,
            "top": null,
            "visibility": null,
            "width": null
          }
        },
        "d93a05bc05d44ae78caabed2bacf5c5c": {
          "model_module": "@jupyter-widgets/controls",
          "model_name": "DescriptionStyleModel",
          "model_module_version": "1.5.0",
          "state": {
            "_model_module": "@jupyter-widgets/controls",
            "_model_module_version": "1.5.0",
            "_model_name": "DescriptionStyleModel",
            "_view_count": null,
            "_view_module": "@jupyter-widgets/base",
            "_view_module_version": "1.2.0",
            "_view_name": "StyleView",
            "description_width": ""
          }
        },
        "6d01a7efc6754afdae43aa9939234b76": {
          "model_module": "@jupyter-widgets/base",
          "model_name": "LayoutModel",
          "model_module_version": "1.2.0",
          "state": {
            "_model_module": "@jupyter-widgets/base",
            "_model_module_version": "1.2.0",
            "_model_name": "LayoutModel",
            "_view_count": null,
            "_view_module": "@jupyter-widgets/base",
            "_view_module_version": "1.2.0",
            "_view_name": "LayoutView",
            "align_content": null,
            "align_items": null,
            "align_self": null,
            "border": null,
            "bottom": null,
            "display": null,
            "flex": null,
            "flex_flow": null,
            "grid_area": null,
            "grid_auto_columns": null,
            "grid_auto_flow": null,
            "grid_auto_rows": null,
            "grid_column": null,
            "grid_gap": null,
            "grid_row": null,
            "grid_template_areas": null,
            "grid_template_columns": null,
            "grid_template_rows": null,
            "height": null,
            "justify_content": null,
            "justify_items": null,
            "left": null,
            "margin": null,
            "max_height": null,
            "max_width": null,
            "min_height": null,
            "min_width": null,
            "object_fit": null,
            "object_position": null,
            "order": null,
            "overflow": null,
            "overflow_x": null,
            "overflow_y": null,
            "padding": null,
            "right": null,
            "top": null,
            "visibility": null,
            "width": null
          }
        },
        "db4c53123b4741aa8c0081f40ca69f52": {
          "model_module": "@jupyter-widgets/controls",
          "model_name": "ProgressStyleModel",
          "model_module_version": "1.5.0",
          "state": {
            "_model_module": "@jupyter-widgets/controls",
            "_model_module_version": "1.5.0",
            "_model_name": "ProgressStyleModel",
            "_view_count": null,
            "_view_module": "@jupyter-widgets/base",
            "_view_module_version": "1.2.0",
            "_view_name": "StyleView",
            "bar_color": null,
            "description_width": ""
          }
        },
        "7cb9abffe3504a46aa9de8e7844a3468": {
          "model_module": "@jupyter-widgets/controls",
          "model_name": "VBoxModel",
          "model_module_version": "1.5.0",
          "state": {
            "_dom_classes": [],
            "_model_module": "@jupyter-widgets/controls",
            "_model_module_version": "1.5.0",
            "_model_name": "VBoxModel",
            "_view_count": null,
            "_view_module": "@jupyter-widgets/controls",
            "_view_module_version": "1.5.0",
            "_view_name": "VBoxView",
            "box_style": "",
            "children": [
              "IPY_MODEL_8a7a5e291a0744ce8c74eaa0f85e306f",
              "IPY_MODEL_d9fab98f76c94e66b1dd96f4f8a42908"
            ],
            "layout": "IPY_MODEL_04a4f747035c4dff978e20112ada04c8"
          }
        },
        "8a7a5e291a0744ce8c74eaa0f85e306f": {
          "model_module": "@jupyter-widgets/controls",
          "model_name": "LabelModel",
          "model_module_version": "1.5.0",
          "state": {
            "_dom_classes": [],
            "_model_module": "@jupyter-widgets/controls",
            "_model_module_version": "1.5.0",
            "_model_name": "LabelModel",
            "_view_count": null,
            "_view_module": "@jupyter-widgets/controls",
            "_view_module_version": "1.5.0",
            "_view_name": "LabelView",
            "description": "",
            "description_tooltip": null,
            "layout": "IPY_MODEL_b05cc420247844d09983ef1a6b4068ae",
            "placeholder": "​",
            "style": "IPY_MODEL_8c94a181cbdd464b8e14e63b44571b3d",
            "value": "0.016 MB of 0.016 MB uploaded\r"
          }
        },
        "d9fab98f76c94e66b1dd96f4f8a42908": {
          "model_module": "@jupyter-widgets/controls",
          "model_name": "FloatProgressModel",
          "model_module_version": "1.5.0",
          "state": {
            "_dom_classes": [],
            "_model_module": "@jupyter-widgets/controls",
            "_model_module_version": "1.5.0",
            "_model_name": "FloatProgressModel",
            "_view_count": null,
            "_view_module": "@jupyter-widgets/controls",
            "_view_module_version": "1.5.0",
            "_view_name": "ProgressView",
            "bar_style": "",
            "description": "",
            "description_tooltip": null,
            "layout": "IPY_MODEL_bff47bdd00cd4af0b1d2e48939cc3242",
            "max": 1,
            "min": 0,
            "orientation": "horizontal",
            "style": "IPY_MODEL_70fdcb5018734c989eb47f5125bb03e1",
            "value": 1
          }
        },
        "04a4f747035c4dff978e20112ada04c8": {
          "model_module": "@jupyter-widgets/base",
          "model_name": "LayoutModel",
          "model_module_version": "1.2.0",
          "state": {
            "_model_module": "@jupyter-widgets/base",
            "_model_module_version": "1.2.0",
            "_model_name": "LayoutModel",
            "_view_count": null,
            "_view_module": "@jupyter-widgets/base",
            "_view_module_version": "1.2.0",
            "_view_name": "LayoutView",
            "align_content": null,
            "align_items": null,
            "align_self": null,
            "border": null,
            "bottom": null,
            "display": null,
            "flex": null,
            "flex_flow": null,
            "grid_area": null,
            "grid_auto_columns": null,
            "grid_auto_flow": null,
            "grid_auto_rows": null,
            "grid_column": null,
            "grid_gap": null,
            "grid_row": null,
            "grid_template_areas": null,
            "grid_template_columns": null,
            "grid_template_rows": null,
            "height": null,
            "justify_content": null,
            "justify_items": null,
            "left": null,
            "margin": null,
            "max_height": null,
            "max_width": null,
            "min_height": null,
            "min_width": null,
            "object_fit": null,
            "object_position": null,
            "order": null,
            "overflow": null,
            "overflow_x": null,
            "overflow_y": null,
            "padding": null,
            "right": null,
            "top": null,
            "visibility": null,
            "width": null
          }
        },
        "b05cc420247844d09983ef1a6b4068ae": {
          "model_module": "@jupyter-widgets/base",
          "model_name": "LayoutModel",
          "model_module_version": "1.2.0",
          "state": {
            "_model_module": "@jupyter-widgets/base",
            "_model_module_version": "1.2.0",
            "_model_name": "LayoutModel",
            "_view_count": null,
            "_view_module": "@jupyter-widgets/base",
            "_view_module_version": "1.2.0",
            "_view_name": "LayoutView",
            "align_content": null,
            "align_items": null,
            "align_self": null,
            "border": null,
            "bottom": null,
            "display": null,
            "flex": null,
            "flex_flow": null,
            "grid_area": null,
            "grid_auto_columns": null,
            "grid_auto_flow": null,
            "grid_auto_rows": null,
            "grid_column": null,
            "grid_gap": null,
            "grid_row": null,
            "grid_template_areas": null,
            "grid_template_columns": null,
            "grid_template_rows": null,
            "height": null,
            "justify_content": null,
            "justify_items": null,
            "left": null,
            "margin": null,
            "max_height": null,
            "max_width": null,
            "min_height": null,
            "min_width": null,
            "object_fit": null,
            "object_position": null,
            "order": null,
            "overflow": null,
            "overflow_x": null,
            "overflow_y": null,
            "padding": null,
            "right": null,
            "top": null,
            "visibility": null,
            "width": null
          }
        },
        "8c94a181cbdd464b8e14e63b44571b3d": {
          "model_module": "@jupyter-widgets/controls",
          "model_name": "DescriptionStyleModel",
          "model_module_version": "1.5.0",
          "state": {
            "_model_module": "@jupyter-widgets/controls",
            "_model_module_version": "1.5.0",
            "_model_name": "DescriptionStyleModel",
            "_view_count": null,
            "_view_module": "@jupyter-widgets/base",
            "_view_module_version": "1.2.0",
            "_view_name": "StyleView",
            "description_width": ""
          }
        },
        "bff47bdd00cd4af0b1d2e48939cc3242": {
          "model_module": "@jupyter-widgets/base",
          "model_name": "LayoutModel",
          "model_module_version": "1.2.0",
          "state": {
            "_model_module": "@jupyter-widgets/base",
            "_model_module_version": "1.2.0",
            "_model_name": "LayoutModel",
            "_view_count": null,
            "_view_module": "@jupyter-widgets/base",
            "_view_module_version": "1.2.0",
            "_view_name": "LayoutView",
            "align_content": null,
            "align_items": null,
            "align_self": null,
            "border": null,
            "bottom": null,
            "display": null,
            "flex": null,
            "flex_flow": null,
            "grid_area": null,
            "grid_auto_columns": null,
            "grid_auto_flow": null,
            "grid_auto_rows": null,
            "grid_column": null,
            "grid_gap": null,
            "grid_row": null,
            "grid_template_areas": null,
            "grid_template_columns": null,
            "grid_template_rows": null,
            "height": null,
            "justify_content": null,
            "justify_items": null,
            "left": null,
            "margin": null,
            "max_height": null,
            "max_width": null,
            "min_height": null,
            "min_width": null,
            "object_fit": null,
            "object_position": null,
            "order": null,
            "overflow": null,
            "overflow_x": null,
            "overflow_y": null,
            "padding": null,
            "right": null,
            "top": null,
            "visibility": null,
            "width": null
          }
        },
        "70fdcb5018734c989eb47f5125bb03e1": {
          "model_module": "@jupyter-widgets/controls",
          "model_name": "ProgressStyleModel",
          "model_module_version": "1.5.0",
          "state": {
            "_model_module": "@jupyter-widgets/controls",
            "_model_module_version": "1.5.0",
            "_model_name": "ProgressStyleModel",
            "_view_count": null,
            "_view_module": "@jupyter-widgets/base",
            "_view_module_version": "1.2.0",
            "_view_name": "StyleView",
            "bar_color": null,
            "description_width": ""
          }
        },
        "a2f99ced280a4453bdf0359130af50eb": {
          "model_module": "@jupyter-widgets/controls",
          "model_name": "VBoxModel",
          "model_module_version": "1.5.0",
          "state": {
            "_dom_classes": [],
            "_model_module": "@jupyter-widgets/controls",
            "_model_module_version": "1.5.0",
            "_model_name": "VBoxModel",
            "_view_count": null,
            "_view_module": "@jupyter-widgets/controls",
            "_view_module_version": "1.5.0",
            "_view_name": "VBoxView",
            "box_style": "",
            "children": [
              "IPY_MODEL_a1f283f650b34220b952573026e7560e",
              "IPY_MODEL_112ac17f650a425c809f9f3f7be24cef"
            ],
            "layout": "IPY_MODEL_8106e792613d4d1f945459975a589db0"
          }
        },
        "a1f283f650b34220b952573026e7560e": {
          "model_module": "@jupyter-widgets/controls",
          "model_name": "LabelModel",
          "model_module_version": "1.5.0",
          "state": {
            "_dom_classes": [],
            "_model_module": "@jupyter-widgets/controls",
            "_model_module_version": "1.5.0",
            "_model_name": "LabelModel",
            "_view_count": null,
            "_view_module": "@jupyter-widgets/controls",
            "_view_module_version": "1.5.0",
            "_view_name": "LabelView",
            "description": "",
            "description_tooltip": null,
            "layout": "IPY_MODEL_982f34b8b9304da39a0d3f173da31df1",
            "placeholder": "​",
            "style": "IPY_MODEL_afb10681297e4605a87df30846c03ecd",
            "value": "0.016 MB of 0.016 MB uploaded\r"
          }
        },
        "112ac17f650a425c809f9f3f7be24cef": {
          "model_module": "@jupyter-widgets/controls",
          "model_name": "FloatProgressModel",
          "model_module_version": "1.5.0",
          "state": {
            "_dom_classes": [],
            "_model_module": "@jupyter-widgets/controls",
            "_model_module_version": "1.5.0",
            "_model_name": "FloatProgressModel",
            "_view_count": null,
            "_view_module": "@jupyter-widgets/controls",
            "_view_module_version": "1.5.0",
            "_view_name": "ProgressView",
            "bar_style": "",
            "description": "",
            "description_tooltip": null,
            "layout": "IPY_MODEL_3b2aed006be64b0591c7751a38f66251",
            "max": 1,
            "min": 0,
            "orientation": "horizontal",
            "style": "IPY_MODEL_a3b783fd840947109c0dd17b87177bdd",
            "value": 1
          }
        },
        "8106e792613d4d1f945459975a589db0": {
          "model_module": "@jupyter-widgets/base",
          "model_name": "LayoutModel",
          "model_module_version": "1.2.0",
          "state": {
            "_model_module": "@jupyter-widgets/base",
            "_model_module_version": "1.2.0",
            "_model_name": "LayoutModel",
            "_view_count": null,
            "_view_module": "@jupyter-widgets/base",
            "_view_module_version": "1.2.0",
            "_view_name": "LayoutView",
            "align_content": null,
            "align_items": null,
            "align_self": null,
            "border": null,
            "bottom": null,
            "display": null,
            "flex": null,
            "flex_flow": null,
            "grid_area": null,
            "grid_auto_columns": null,
            "grid_auto_flow": null,
            "grid_auto_rows": null,
            "grid_column": null,
            "grid_gap": null,
            "grid_row": null,
            "grid_template_areas": null,
            "grid_template_columns": null,
            "grid_template_rows": null,
            "height": null,
            "justify_content": null,
            "justify_items": null,
            "left": null,
            "margin": null,
            "max_height": null,
            "max_width": null,
            "min_height": null,
            "min_width": null,
            "object_fit": null,
            "object_position": null,
            "order": null,
            "overflow": null,
            "overflow_x": null,
            "overflow_y": null,
            "padding": null,
            "right": null,
            "top": null,
            "visibility": null,
            "width": null
          }
        },
        "982f34b8b9304da39a0d3f173da31df1": {
          "model_module": "@jupyter-widgets/base",
          "model_name": "LayoutModel",
          "model_module_version": "1.2.0",
          "state": {
            "_model_module": "@jupyter-widgets/base",
            "_model_module_version": "1.2.0",
            "_model_name": "LayoutModel",
            "_view_count": null,
            "_view_module": "@jupyter-widgets/base",
            "_view_module_version": "1.2.0",
            "_view_name": "LayoutView",
            "align_content": null,
            "align_items": null,
            "align_self": null,
            "border": null,
            "bottom": null,
            "display": null,
            "flex": null,
            "flex_flow": null,
            "grid_area": null,
            "grid_auto_columns": null,
            "grid_auto_flow": null,
            "grid_auto_rows": null,
            "grid_column": null,
            "grid_gap": null,
            "grid_row": null,
            "grid_template_areas": null,
            "grid_template_columns": null,
            "grid_template_rows": null,
            "height": null,
            "justify_content": null,
            "justify_items": null,
            "left": null,
            "margin": null,
            "max_height": null,
            "max_width": null,
            "min_height": null,
            "min_width": null,
            "object_fit": null,
            "object_position": null,
            "order": null,
            "overflow": null,
            "overflow_x": null,
            "overflow_y": null,
            "padding": null,
            "right": null,
            "top": null,
            "visibility": null,
            "width": null
          }
        },
        "afb10681297e4605a87df30846c03ecd": {
          "model_module": "@jupyter-widgets/controls",
          "model_name": "DescriptionStyleModel",
          "model_module_version": "1.5.0",
          "state": {
            "_model_module": "@jupyter-widgets/controls",
            "_model_module_version": "1.5.0",
            "_model_name": "DescriptionStyleModel",
            "_view_count": null,
            "_view_module": "@jupyter-widgets/base",
            "_view_module_version": "1.2.0",
            "_view_name": "StyleView",
            "description_width": ""
          }
        },
        "3b2aed006be64b0591c7751a38f66251": {
          "model_module": "@jupyter-widgets/base",
          "model_name": "LayoutModel",
          "model_module_version": "1.2.0",
          "state": {
            "_model_module": "@jupyter-widgets/base",
            "_model_module_version": "1.2.0",
            "_model_name": "LayoutModel",
            "_view_count": null,
            "_view_module": "@jupyter-widgets/base",
            "_view_module_version": "1.2.0",
            "_view_name": "LayoutView",
            "align_content": null,
            "align_items": null,
            "align_self": null,
            "border": null,
            "bottom": null,
            "display": null,
            "flex": null,
            "flex_flow": null,
            "grid_area": null,
            "grid_auto_columns": null,
            "grid_auto_flow": null,
            "grid_auto_rows": null,
            "grid_column": null,
            "grid_gap": null,
            "grid_row": null,
            "grid_template_areas": null,
            "grid_template_columns": null,
            "grid_template_rows": null,
            "height": null,
            "justify_content": null,
            "justify_items": null,
            "left": null,
            "margin": null,
            "max_height": null,
            "max_width": null,
            "min_height": null,
            "min_width": null,
            "object_fit": null,
            "object_position": null,
            "order": null,
            "overflow": null,
            "overflow_x": null,
            "overflow_y": null,
            "padding": null,
            "right": null,
            "top": null,
            "visibility": null,
            "width": null
          }
        },
        "a3b783fd840947109c0dd17b87177bdd": {
          "model_module": "@jupyter-widgets/controls",
          "model_name": "ProgressStyleModel",
          "model_module_version": "1.5.0",
          "state": {
            "_model_module": "@jupyter-widgets/controls",
            "_model_module_version": "1.5.0",
            "_model_name": "ProgressStyleModel",
            "_view_count": null,
            "_view_module": "@jupyter-widgets/base",
            "_view_module_version": "1.2.0",
            "_view_name": "StyleView",
            "bar_color": null,
            "description_width": ""
          }
        },
        "b269ebb8408c4a52a511b5cbae21018f": {
          "model_module": "@jupyter-widgets/controls",
          "model_name": "VBoxModel",
          "model_module_version": "1.5.0",
          "state": {
            "_dom_classes": [],
            "_model_module": "@jupyter-widgets/controls",
            "_model_module_version": "1.5.0",
            "_model_name": "VBoxModel",
            "_view_count": null,
            "_view_module": "@jupyter-widgets/controls",
            "_view_module_version": "1.5.0",
            "_view_name": "VBoxView",
            "box_style": "",
            "children": [
              "IPY_MODEL_a62eb74b9bc145649e3a6aa2051b6bb2",
              "IPY_MODEL_ecec31e57faa4fc78dc139049be061f9"
            ],
            "layout": "IPY_MODEL_d5f1ca8a99404a8da1ef29dcc2baae6b"
          }
        },
        "a62eb74b9bc145649e3a6aa2051b6bb2": {
          "model_module": "@jupyter-widgets/controls",
          "model_name": "LabelModel",
          "model_module_version": "1.5.0",
          "state": {
            "_dom_classes": [],
            "_model_module": "@jupyter-widgets/controls",
            "_model_module_version": "1.5.0",
            "_model_name": "LabelModel",
            "_view_count": null,
            "_view_module": "@jupyter-widgets/controls",
            "_view_module_version": "1.5.0",
            "_view_name": "LabelView",
            "description": "",
            "description_tooltip": null,
            "layout": "IPY_MODEL_01407dfa35f440c0828f980ae7144939",
            "placeholder": "​",
            "style": "IPY_MODEL_aceed95e90114b95b14b538fd46a4ea6",
            "value": "0.015 MB of 0.015 MB uploaded\r"
          }
        },
        "ecec31e57faa4fc78dc139049be061f9": {
          "model_module": "@jupyter-widgets/controls",
          "model_name": "FloatProgressModel",
          "model_module_version": "1.5.0",
          "state": {
            "_dom_classes": [],
            "_model_module": "@jupyter-widgets/controls",
            "_model_module_version": "1.5.0",
            "_model_name": "FloatProgressModel",
            "_view_count": null,
            "_view_module": "@jupyter-widgets/controls",
            "_view_module_version": "1.5.0",
            "_view_name": "ProgressView",
            "bar_style": "",
            "description": "",
            "description_tooltip": null,
            "layout": "IPY_MODEL_3aa01590c2534e1e8c55a41102795b01",
            "max": 1,
            "min": 0,
            "orientation": "horizontal",
            "style": "IPY_MODEL_2e4f3fa1dc5646be9ffe780e58d2ebbd",
            "value": 1
          }
        },
        "d5f1ca8a99404a8da1ef29dcc2baae6b": {
          "model_module": "@jupyter-widgets/base",
          "model_name": "LayoutModel",
          "model_module_version": "1.2.0",
          "state": {
            "_model_module": "@jupyter-widgets/base",
            "_model_module_version": "1.2.0",
            "_model_name": "LayoutModel",
            "_view_count": null,
            "_view_module": "@jupyter-widgets/base",
            "_view_module_version": "1.2.0",
            "_view_name": "LayoutView",
            "align_content": null,
            "align_items": null,
            "align_self": null,
            "border": null,
            "bottom": null,
            "display": null,
            "flex": null,
            "flex_flow": null,
            "grid_area": null,
            "grid_auto_columns": null,
            "grid_auto_flow": null,
            "grid_auto_rows": null,
            "grid_column": null,
            "grid_gap": null,
            "grid_row": null,
            "grid_template_areas": null,
            "grid_template_columns": null,
            "grid_template_rows": null,
            "height": null,
            "justify_content": null,
            "justify_items": null,
            "left": null,
            "margin": null,
            "max_height": null,
            "max_width": null,
            "min_height": null,
            "min_width": null,
            "object_fit": null,
            "object_position": null,
            "order": null,
            "overflow": null,
            "overflow_x": null,
            "overflow_y": null,
            "padding": null,
            "right": null,
            "top": null,
            "visibility": null,
            "width": null
          }
        },
        "01407dfa35f440c0828f980ae7144939": {
          "model_module": "@jupyter-widgets/base",
          "model_name": "LayoutModel",
          "model_module_version": "1.2.0",
          "state": {
            "_model_module": "@jupyter-widgets/base",
            "_model_module_version": "1.2.0",
            "_model_name": "LayoutModel",
            "_view_count": null,
            "_view_module": "@jupyter-widgets/base",
            "_view_module_version": "1.2.0",
            "_view_name": "LayoutView",
            "align_content": null,
            "align_items": null,
            "align_self": null,
            "border": null,
            "bottom": null,
            "display": null,
            "flex": null,
            "flex_flow": null,
            "grid_area": null,
            "grid_auto_columns": null,
            "grid_auto_flow": null,
            "grid_auto_rows": null,
            "grid_column": null,
            "grid_gap": null,
            "grid_row": null,
            "grid_template_areas": null,
            "grid_template_columns": null,
            "grid_template_rows": null,
            "height": null,
            "justify_content": null,
            "justify_items": null,
            "left": null,
            "margin": null,
            "max_height": null,
            "max_width": null,
            "min_height": null,
            "min_width": null,
            "object_fit": null,
            "object_position": null,
            "order": null,
            "overflow": null,
            "overflow_x": null,
            "overflow_y": null,
            "padding": null,
            "right": null,
            "top": null,
            "visibility": null,
            "width": null
          }
        },
        "aceed95e90114b95b14b538fd46a4ea6": {
          "model_module": "@jupyter-widgets/controls",
          "model_name": "DescriptionStyleModel",
          "model_module_version": "1.5.0",
          "state": {
            "_model_module": "@jupyter-widgets/controls",
            "_model_module_version": "1.5.0",
            "_model_name": "DescriptionStyleModel",
            "_view_count": null,
            "_view_module": "@jupyter-widgets/base",
            "_view_module_version": "1.2.0",
            "_view_name": "StyleView",
            "description_width": ""
          }
        },
        "3aa01590c2534e1e8c55a41102795b01": {
          "model_module": "@jupyter-widgets/base",
          "model_name": "LayoutModel",
          "model_module_version": "1.2.0",
          "state": {
            "_model_module": "@jupyter-widgets/base",
            "_model_module_version": "1.2.0",
            "_model_name": "LayoutModel",
            "_view_count": null,
            "_view_module": "@jupyter-widgets/base",
            "_view_module_version": "1.2.0",
            "_view_name": "LayoutView",
            "align_content": null,
            "align_items": null,
            "align_self": null,
            "border": null,
            "bottom": null,
            "display": null,
            "flex": null,
            "flex_flow": null,
            "grid_area": null,
            "grid_auto_columns": null,
            "grid_auto_flow": null,
            "grid_auto_rows": null,
            "grid_column": null,
            "grid_gap": null,
            "grid_row": null,
            "grid_template_areas": null,
            "grid_template_columns": null,
            "grid_template_rows": null,
            "height": null,
            "justify_content": null,
            "justify_items": null,
            "left": null,
            "margin": null,
            "max_height": null,
            "max_width": null,
            "min_height": null,
            "min_width": null,
            "object_fit": null,
            "object_position": null,
            "order": null,
            "overflow": null,
            "overflow_x": null,
            "overflow_y": null,
            "padding": null,
            "right": null,
            "top": null,
            "visibility": null,
            "width": null
          }
        },
        "2e4f3fa1dc5646be9ffe780e58d2ebbd": {
          "model_module": "@jupyter-widgets/controls",
          "model_name": "ProgressStyleModel",
          "model_module_version": "1.5.0",
          "state": {
            "_model_module": "@jupyter-widgets/controls",
            "_model_module_version": "1.5.0",
            "_model_name": "ProgressStyleModel",
            "_view_count": null,
            "_view_module": "@jupyter-widgets/base",
            "_view_module_version": "1.2.0",
            "_view_name": "StyleView",
            "bar_color": null,
            "description_width": ""
          }
        },
        "9175b9b25cb8456aa2fcd6310c1f54fb": {
          "model_module": "@jupyter-widgets/controls",
          "model_name": "VBoxModel",
          "model_module_version": "1.5.0",
          "state": {
            "_dom_classes": [],
            "_model_module": "@jupyter-widgets/controls",
            "_model_module_version": "1.5.0",
            "_model_name": "VBoxModel",
            "_view_count": null,
            "_view_module": "@jupyter-widgets/controls",
            "_view_module_version": "1.5.0",
            "_view_name": "VBoxView",
            "box_style": "",
            "children": [
              "IPY_MODEL_e752694f2a084aed833fba72339ab57a",
              "IPY_MODEL_9602fca341074059b60e8d51706283a0"
            ],
            "layout": "IPY_MODEL_427bb82467864899abcd6da01d2ba2a2"
          }
        },
        "e752694f2a084aed833fba72339ab57a": {
          "model_module": "@jupyter-widgets/controls",
          "model_name": "LabelModel",
          "model_module_version": "1.5.0",
          "state": {
            "_dom_classes": [],
            "_model_module": "@jupyter-widgets/controls",
            "_model_module_version": "1.5.0",
            "_model_name": "LabelModel",
            "_view_count": null,
            "_view_module": "@jupyter-widgets/controls",
            "_view_module_version": "1.5.0",
            "_view_name": "LabelView",
            "description": "",
            "description_tooltip": null,
            "layout": "IPY_MODEL_39d98ce78b72450481352d67ac7dc6af",
            "placeholder": "​",
            "style": "IPY_MODEL_52e9c3d7098e44b88b69dd4ef2e9e001",
            "value": "0.015 MB of 0.015 MB uploaded\r"
          }
        },
        "9602fca341074059b60e8d51706283a0": {
          "model_module": "@jupyter-widgets/controls",
          "model_name": "FloatProgressModel",
          "model_module_version": "1.5.0",
          "state": {
            "_dom_classes": [],
            "_model_module": "@jupyter-widgets/controls",
            "_model_module_version": "1.5.0",
            "_model_name": "FloatProgressModel",
            "_view_count": null,
            "_view_module": "@jupyter-widgets/controls",
            "_view_module_version": "1.5.0",
            "_view_name": "ProgressView",
            "bar_style": "",
            "description": "",
            "description_tooltip": null,
            "layout": "IPY_MODEL_a444ad51559e431d978adca6c06a765b",
            "max": 1,
            "min": 0,
            "orientation": "horizontal",
            "style": "IPY_MODEL_25f134a0f45d48f595badbba5b1fafae",
            "value": 1
          }
        },
        "427bb82467864899abcd6da01d2ba2a2": {
          "model_module": "@jupyter-widgets/base",
          "model_name": "LayoutModel",
          "model_module_version": "1.2.0",
          "state": {
            "_model_module": "@jupyter-widgets/base",
            "_model_module_version": "1.2.0",
            "_model_name": "LayoutModel",
            "_view_count": null,
            "_view_module": "@jupyter-widgets/base",
            "_view_module_version": "1.2.0",
            "_view_name": "LayoutView",
            "align_content": null,
            "align_items": null,
            "align_self": null,
            "border": null,
            "bottom": null,
            "display": null,
            "flex": null,
            "flex_flow": null,
            "grid_area": null,
            "grid_auto_columns": null,
            "grid_auto_flow": null,
            "grid_auto_rows": null,
            "grid_column": null,
            "grid_gap": null,
            "grid_row": null,
            "grid_template_areas": null,
            "grid_template_columns": null,
            "grid_template_rows": null,
            "height": null,
            "justify_content": null,
            "justify_items": null,
            "left": null,
            "margin": null,
            "max_height": null,
            "max_width": null,
            "min_height": null,
            "min_width": null,
            "object_fit": null,
            "object_position": null,
            "order": null,
            "overflow": null,
            "overflow_x": null,
            "overflow_y": null,
            "padding": null,
            "right": null,
            "top": null,
            "visibility": null,
            "width": null
          }
        },
        "39d98ce78b72450481352d67ac7dc6af": {
          "model_module": "@jupyter-widgets/base",
          "model_name": "LayoutModel",
          "model_module_version": "1.2.0",
          "state": {
            "_model_module": "@jupyter-widgets/base",
            "_model_module_version": "1.2.0",
            "_model_name": "LayoutModel",
            "_view_count": null,
            "_view_module": "@jupyter-widgets/base",
            "_view_module_version": "1.2.0",
            "_view_name": "LayoutView",
            "align_content": null,
            "align_items": null,
            "align_self": null,
            "border": null,
            "bottom": null,
            "display": null,
            "flex": null,
            "flex_flow": null,
            "grid_area": null,
            "grid_auto_columns": null,
            "grid_auto_flow": null,
            "grid_auto_rows": null,
            "grid_column": null,
            "grid_gap": null,
            "grid_row": null,
            "grid_template_areas": null,
            "grid_template_columns": null,
            "grid_template_rows": null,
            "height": null,
            "justify_content": null,
            "justify_items": null,
            "left": null,
            "margin": null,
            "max_height": null,
            "max_width": null,
            "min_height": null,
            "min_width": null,
            "object_fit": null,
            "object_position": null,
            "order": null,
            "overflow": null,
            "overflow_x": null,
            "overflow_y": null,
            "padding": null,
            "right": null,
            "top": null,
            "visibility": null,
            "width": null
          }
        },
        "52e9c3d7098e44b88b69dd4ef2e9e001": {
          "model_module": "@jupyter-widgets/controls",
          "model_name": "DescriptionStyleModel",
          "model_module_version": "1.5.0",
          "state": {
            "_model_module": "@jupyter-widgets/controls",
            "_model_module_version": "1.5.0",
            "_model_name": "DescriptionStyleModel",
            "_view_count": null,
            "_view_module": "@jupyter-widgets/base",
            "_view_module_version": "1.2.0",
            "_view_name": "StyleView",
            "description_width": ""
          }
        },
        "a444ad51559e431d978adca6c06a765b": {
          "model_module": "@jupyter-widgets/base",
          "model_name": "LayoutModel",
          "model_module_version": "1.2.0",
          "state": {
            "_model_module": "@jupyter-widgets/base",
            "_model_module_version": "1.2.0",
            "_model_name": "LayoutModel",
            "_view_count": null,
            "_view_module": "@jupyter-widgets/base",
            "_view_module_version": "1.2.0",
            "_view_name": "LayoutView",
            "align_content": null,
            "align_items": null,
            "align_self": null,
            "border": null,
            "bottom": null,
            "display": null,
            "flex": null,
            "flex_flow": null,
            "grid_area": null,
            "grid_auto_columns": null,
            "grid_auto_flow": null,
            "grid_auto_rows": null,
            "grid_column": null,
            "grid_gap": null,
            "grid_row": null,
            "grid_template_areas": null,
            "grid_template_columns": null,
            "grid_template_rows": null,
            "height": null,
            "justify_content": null,
            "justify_items": null,
            "left": null,
            "margin": null,
            "max_height": null,
            "max_width": null,
            "min_height": null,
            "min_width": null,
            "object_fit": null,
            "object_position": null,
            "order": null,
            "overflow": null,
            "overflow_x": null,
            "overflow_y": null,
            "padding": null,
            "right": null,
            "top": null,
            "visibility": null,
            "width": null
          }
        },
        "25f134a0f45d48f595badbba5b1fafae": {
          "model_module": "@jupyter-widgets/controls",
          "model_name": "ProgressStyleModel",
          "model_module_version": "1.5.0",
          "state": {
            "_model_module": "@jupyter-widgets/controls",
            "_model_module_version": "1.5.0",
            "_model_name": "ProgressStyleModel",
            "_view_count": null,
            "_view_module": "@jupyter-widgets/base",
            "_view_module_version": "1.2.0",
            "_view_name": "StyleView",
            "bar_color": null,
            "description_width": ""
          }
        },
        "bac199875efd4669b71238eb2c330896": {
          "model_module": "@jupyter-widgets/controls",
          "model_name": "VBoxModel",
          "model_module_version": "1.5.0",
          "state": {
            "_dom_classes": [],
            "_model_module": "@jupyter-widgets/controls",
            "_model_module_version": "1.5.0",
            "_model_name": "VBoxModel",
            "_view_count": null,
            "_view_module": "@jupyter-widgets/controls",
            "_view_module_version": "1.5.0",
            "_view_name": "VBoxView",
            "box_style": "",
            "children": [
              "IPY_MODEL_ab56d09b1dca420e96c7686a200f2141",
              "IPY_MODEL_573197772e2b4d968bfd7fac4e829821"
            ],
            "layout": "IPY_MODEL_e0d83f6df7054e118950b9f72a52e289"
          }
        },
        "ab56d09b1dca420e96c7686a200f2141": {
          "model_module": "@jupyter-widgets/controls",
          "model_name": "LabelModel",
          "model_module_version": "1.5.0",
          "state": {
            "_dom_classes": [],
            "_model_module": "@jupyter-widgets/controls",
            "_model_module_version": "1.5.0",
            "_model_name": "LabelModel",
            "_view_count": null,
            "_view_module": "@jupyter-widgets/controls",
            "_view_module_version": "1.5.0",
            "_view_name": "LabelView",
            "description": "",
            "description_tooltip": null,
            "layout": "IPY_MODEL_5417f75b29a049e2a7705c9e7fdd4a62",
            "placeholder": "​",
            "style": "IPY_MODEL_4f78d27e92fc4cd19d26537074bec050",
            "value": "0.016 MB of 0.016 MB uploaded\r"
          }
        },
        "573197772e2b4d968bfd7fac4e829821": {
          "model_module": "@jupyter-widgets/controls",
          "model_name": "FloatProgressModel",
          "model_module_version": "1.5.0",
          "state": {
            "_dom_classes": [],
            "_model_module": "@jupyter-widgets/controls",
            "_model_module_version": "1.5.0",
            "_model_name": "FloatProgressModel",
            "_view_count": null,
            "_view_module": "@jupyter-widgets/controls",
            "_view_module_version": "1.5.0",
            "_view_name": "ProgressView",
            "bar_style": "",
            "description": "",
            "description_tooltip": null,
            "layout": "IPY_MODEL_9d69efe0825f4bb8b53a13cefff0d58e",
            "max": 1,
            "min": 0,
            "orientation": "horizontal",
            "style": "IPY_MODEL_4e926c800d554e109e7fef4aa6294841",
            "value": 1
          }
        },
        "e0d83f6df7054e118950b9f72a52e289": {
          "model_module": "@jupyter-widgets/base",
          "model_name": "LayoutModel",
          "model_module_version": "1.2.0",
          "state": {
            "_model_module": "@jupyter-widgets/base",
            "_model_module_version": "1.2.0",
            "_model_name": "LayoutModel",
            "_view_count": null,
            "_view_module": "@jupyter-widgets/base",
            "_view_module_version": "1.2.0",
            "_view_name": "LayoutView",
            "align_content": null,
            "align_items": null,
            "align_self": null,
            "border": null,
            "bottom": null,
            "display": null,
            "flex": null,
            "flex_flow": null,
            "grid_area": null,
            "grid_auto_columns": null,
            "grid_auto_flow": null,
            "grid_auto_rows": null,
            "grid_column": null,
            "grid_gap": null,
            "grid_row": null,
            "grid_template_areas": null,
            "grid_template_columns": null,
            "grid_template_rows": null,
            "height": null,
            "justify_content": null,
            "justify_items": null,
            "left": null,
            "margin": null,
            "max_height": null,
            "max_width": null,
            "min_height": null,
            "min_width": null,
            "object_fit": null,
            "object_position": null,
            "order": null,
            "overflow": null,
            "overflow_x": null,
            "overflow_y": null,
            "padding": null,
            "right": null,
            "top": null,
            "visibility": null,
            "width": null
          }
        },
        "5417f75b29a049e2a7705c9e7fdd4a62": {
          "model_module": "@jupyter-widgets/base",
          "model_name": "LayoutModel",
          "model_module_version": "1.2.0",
          "state": {
            "_model_module": "@jupyter-widgets/base",
            "_model_module_version": "1.2.0",
            "_model_name": "LayoutModel",
            "_view_count": null,
            "_view_module": "@jupyter-widgets/base",
            "_view_module_version": "1.2.0",
            "_view_name": "LayoutView",
            "align_content": null,
            "align_items": null,
            "align_self": null,
            "border": null,
            "bottom": null,
            "display": null,
            "flex": null,
            "flex_flow": null,
            "grid_area": null,
            "grid_auto_columns": null,
            "grid_auto_flow": null,
            "grid_auto_rows": null,
            "grid_column": null,
            "grid_gap": null,
            "grid_row": null,
            "grid_template_areas": null,
            "grid_template_columns": null,
            "grid_template_rows": null,
            "height": null,
            "justify_content": null,
            "justify_items": null,
            "left": null,
            "margin": null,
            "max_height": null,
            "max_width": null,
            "min_height": null,
            "min_width": null,
            "object_fit": null,
            "object_position": null,
            "order": null,
            "overflow": null,
            "overflow_x": null,
            "overflow_y": null,
            "padding": null,
            "right": null,
            "top": null,
            "visibility": null,
            "width": null
          }
        },
        "4f78d27e92fc4cd19d26537074bec050": {
          "model_module": "@jupyter-widgets/controls",
          "model_name": "DescriptionStyleModel",
          "model_module_version": "1.5.0",
          "state": {
            "_model_module": "@jupyter-widgets/controls",
            "_model_module_version": "1.5.0",
            "_model_name": "DescriptionStyleModel",
            "_view_count": null,
            "_view_module": "@jupyter-widgets/base",
            "_view_module_version": "1.2.0",
            "_view_name": "StyleView",
            "description_width": ""
          }
        },
        "9d69efe0825f4bb8b53a13cefff0d58e": {
          "model_module": "@jupyter-widgets/base",
          "model_name": "LayoutModel",
          "model_module_version": "1.2.0",
          "state": {
            "_model_module": "@jupyter-widgets/base",
            "_model_module_version": "1.2.0",
            "_model_name": "LayoutModel",
            "_view_count": null,
            "_view_module": "@jupyter-widgets/base",
            "_view_module_version": "1.2.0",
            "_view_name": "LayoutView",
            "align_content": null,
            "align_items": null,
            "align_self": null,
            "border": null,
            "bottom": null,
            "display": null,
            "flex": null,
            "flex_flow": null,
            "grid_area": null,
            "grid_auto_columns": null,
            "grid_auto_flow": null,
            "grid_auto_rows": null,
            "grid_column": null,
            "grid_gap": null,
            "grid_row": null,
            "grid_template_areas": null,
            "grid_template_columns": null,
            "grid_template_rows": null,
            "height": null,
            "justify_content": null,
            "justify_items": null,
            "left": null,
            "margin": null,
            "max_height": null,
            "max_width": null,
            "min_height": null,
            "min_width": null,
            "object_fit": null,
            "object_position": null,
            "order": null,
            "overflow": null,
            "overflow_x": null,
            "overflow_y": null,
            "padding": null,
            "right": null,
            "top": null,
            "visibility": null,
            "width": null
          }
        },
        "4e926c800d554e109e7fef4aa6294841": {
          "model_module": "@jupyter-widgets/controls",
          "model_name": "ProgressStyleModel",
          "model_module_version": "1.5.0",
          "state": {
            "_model_module": "@jupyter-widgets/controls",
            "_model_module_version": "1.5.0",
            "_model_name": "ProgressStyleModel",
            "_view_count": null,
            "_view_module": "@jupyter-widgets/base",
            "_view_module_version": "1.2.0",
            "_view_name": "StyleView",
            "bar_color": null,
            "description_width": ""
          }
        },
        "67433962dd43498dbbcc26b0911ec575": {
          "model_module": "@jupyter-widgets/controls",
          "model_name": "VBoxModel",
          "model_module_version": "1.5.0",
          "state": {
            "_dom_classes": [],
            "_model_module": "@jupyter-widgets/controls",
            "_model_module_version": "1.5.0",
            "_model_name": "VBoxModel",
            "_view_count": null,
            "_view_module": "@jupyter-widgets/controls",
            "_view_module_version": "1.5.0",
            "_view_name": "VBoxView",
            "box_style": "",
            "children": [
              "IPY_MODEL_854be6e0243b4287ba6fab83e9026566",
              "IPY_MODEL_37e574430f0647b7ae09f5689d6af407"
            ],
            "layout": "IPY_MODEL_9be6ff0d8992496ab47c8435b7cb3ee9"
          }
        },
        "854be6e0243b4287ba6fab83e9026566": {
          "model_module": "@jupyter-widgets/controls",
          "model_name": "LabelModel",
          "model_module_version": "1.5.0",
          "state": {
            "_dom_classes": [],
            "_model_module": "@jupyter-widgets/controls",
            "_model_module_version": "1.5.0",
            "_model_name": "LabelModel",
            "_view_count": null,
            "_view_module": "@jupyter-widgets/controls",
            "_view_module_version": "1.5.0",
            "_view_name": "LabelView",
            "description": "",
            "description_tooltip": null,
            "layout": "IPY_MODEL_38ab3effd1574aa9a62cdae05c2254c3",
            "placeholder": "​",
            "style": "IPY_MODEL_184ce5e3b2584867985d0e7c3e921843",
            "value": "0.016 MB of 0.016 MB uploaded\r"
          }
        },
        "37e574430f0647b7ae09f5689d6af407": {
          "model_module": "@jupyter-widgets/controls",
          "model_name": "FloatProgressModel",
          "model_module_version": "1.5.0",
          "state": {
            "_dom_classes": [],
            "_model_module": "@jupyter-widgets/controls",
            "_model_module_version": "1.5.0",
            "_model_name": "FloatProgressModel",
            "_view_count": null,
            "_view_module": "@jupyter-widgets/controls",
            "_view_module_version": "1.5.0",
            "_view_name": "ProgressView",
            "bar_style": "",
            "description": "",
            "description_tooltip": null,
            "layout": "IPY_MODEL_3fbfdd7738c548cc94510477063d95a6",
            "max": 1,
            "min": 0,
            "orientation": "horizontal",
            "style": "IPY_MODEL_90bc067381bb4e8e85b6e579a9429d58",
            "value": 1
          }
        },
        "9be6ff0d8992496ab47c8435b7cb3ee9": {
          "model_module": "@jupyter-widgets/base",
          "model_name": "LayoutModel",
          "model_module_version": "1.2.0",
          "state": {
            "_model_module": "@jupyter-widgets/base",
            "_model_module_version": "1.2.0",
            "_model_name": "LayoutModel",
            "_view_count": null,
            "_view_module": "@jupyter-widgets/base",
            "_view_module_version": "1.2.0",
            "_view_name": "LayoutView",
            "align_content": null,
            "align_items": null,
            "align_self": null,
            "border": null,
            "bottom": null,
            "display": null,
            "flex": null,
            "flex_flow": null,
            "grid_area": null,
            "grid_auto_columns": null,
            "grid_auto_flow": null,
            "grid_auto_rows": null,
            "grid_column": null,
            "grid_gap": null,
            "grid_row": null,
            "grid_template_areas": null,
            "grid_template_columns": null,
            "grid_template_rows": null,
            "height": null,
            "justify_content": null,
            "justify_items": null,
            "left": null,
            "margin": null,
            "max_height": null,
            "max_width": null,
            "min_height": null,
            "min_width": null,
            "object_fit": null,
            "object_position": null,
            "order": null,
            "overflow": null,
            "overflow_x": null,
            "overflow_y": null,
            "padding": null,
            "right": null,
            "top": null,
            "visibility": null,
            "width": null
          }
        },
        "38ab3effd1574aa9a62cdae05c2254c3": {
          "model_module": "@jupyter-widgets/base",
          "model_name": "LayoutModel",
          "model_module_version": "1.2.0",
          "state": {
            "_model_module": "@jupyter-widgets/base",
            "_model_module_version": "1.2.0",
            "_model_name": "LayoutModel",
            "_view_count": null,
            "_view_module": "@jupyter-widgets/base",
            "_view_module_version": "1.2.0",
            "_view_name": "LayoutView",
            "align_content": null,
            "align_items": null,
            "align_self": null,
            "border": null,
            "bottom": null,
            "display": null,
            "flex": null,
            "flex_flow": null,
            "grid_area": null,
            "grid_auto_columns": null,
            "grid_auto_flow": null,
            "grid_auto_rows": null,
            "grid_column": null,
            "grid_gap": null,
            "grid_row": null,
            "grid_template_areas": null,
            "grid_template_columns": null,
            "grid_template_rows": null,
            "height": null,
            "justify_content": null,
            "justify_items": null,
            "left": null,
            "margin": null,
            "max_height": null,
            "max_width": null,
            "min_height": null,
            "min_width": null,
            "object_fit": null,
            "object_position": null,
            "order": null,
            "overflow": null,
            "overflow_x": null,
            "overflow_y": null,
            "padding": null,
            "right": null,
            "top": null,
            "visibility": null,
            "width": null
          }
        },
        "184ce5e3b2584867985d0e7c3e921843": {
          "model_module": "@jupyter-widgets/controls",
          "model_name": "DescriptionStyleModel",
          "model_module_version": "1.5.0",
          "state": {
            "_model_module": "@jupyter-widgets/controls",
            "_model_module_version": "1.5.0",
            "_model_name": "DescriptionStyleModel",
            "_view_count": null,
            "_view_module": "@jupyter-widgets/base",
            "_view_module_version": "1.2.0",
            "_view_name": "StyleView",
            "description_width": ""
          }
        },
        "3fbfdd7738c548cc94510477063d95a6": {
          "model_module": "@jupyter-widgets/base",
          "model_name": "LayoutModel",
          "model_module_version": "1.2.0",
          "state": {
            "_model_module": "@jupyter-widgets/base",
            "_model_module_version": "1.2.0",
            "_model_name": "LayoutModel",
            "_view_count": null,
            "_view_module": "@jupyter-widgets/base",
            "_view_module_version": "1.2.0",
            "_view_name": "LayoutView",
            "align_content": null,
            "align_items": null,
            "align_self": null,
            "border": null,
            "bottom": null,
            "display": null,
            "flex": null,
            "flex_flow": null,
            "grid_area": null,
            "grid_auto_columns": null,
            "grid_auto_flow": null,
            "grid_auto_rows": null,
            "grid_column": null,
            "grid_gap": null,
            "grid_row": null,
            "grid_template_areas": null,
            "grid_template_columns": null,
            "grid_template_rows": null,
            "height": null,
            "justify_content": null,
            "justify_items": null,
            "left": null,
            "margin": null,
            "max_height": null,
            "max_width": null,
            "min_height": null,
            "min_width": null,
            "object_fit": null,
            "object_position": null,
            "order": null,
            "overflow": null,
            "overflow_x": null,
            "overflow_y": null,
            "padding": null,
            "right": null,
            "top": null,
            "visibility": null,
            "width": null
          }
        },
        "90bc067381bb4e8e85b6e579a9429d58": {
          "model_module": "@jupyter-widgets/controls",
          "model_name": "ProgressStyleModel",
          "model_module_version": "1.5.0",
          "state": {
            "_model_module": "@jupyter-widgets/controls",
            "_model_module_version": "1.5.0",
            "_model_name": "ProgressStyleModel",
            "_view_count": null,
            "_view_module": "@jupyter-widgets/base",
            "_view_module_version": "1.2.0",
            "_view_name": "StyleView",
            "bar_color": null,
            "description_width": ""
          }
        },
        "4e0cbb85ff104f53af2c6ccfcff3ee2c": {
          "model_module": "@jupyter-widgets/controls",
          "model_name": "VBoxModel",
          "model_module_version": "1.5.0",
          "state": {
            "_dom_classes": [],
            "_model_module": "@jupyter-widgets/controls",
            "_model_module_version": "1.5.0",
            "_model_name": "VBoxModel",
            "_view_count": null,
            "_view_module": "@jupyter-widgets/controls",
            "_view_module_version": "1.5.0",
            "_view_name": "VBoxView",
            "box_style": "",
            "children": [
              "IPY_MODEL_cf8c7934d7ca4c6d9d6bfd073c655ffc",
              "IPY_MODEL_80580d1ddf3e46eab320f6f3a3f7772d"
            ],
            "layout": "IPY_MODEL_b7c88704171e4899baf247d0a6d547d4"
          }
        },
        "cf8c7934d7ca4c6d9d6bfd073c655ffc": {
          "model_module": "@jupyter-widgets/controls",
          "model_name": "LabelModel",
          "model_module_version": "1.5.0",
          "state": {
            "_dom_classes": [],
            "_model_module": "@jupyter-widgets/controls",
            "_model_module_version": "1.5.0",
            "_model_name": "LabelModel",
            "_view_count": null,
            "_view_module": "@jupyter-widgets/controls",
            "_view_module_version": "1.5.0",
            "_view_name": "LabelView",
            "description": "",
            "description_tooltip": null,
            "layout": "IPY_MODEL_ce9071bc1cf64787b4f10e4cde61617e",
            "placeholder": "​",
            "style": "IPY_MODEL_985f8dd5520649dcbcb95a6e6091ddf6",
            "value": "0.016 MB of 0.016 MB uploaded\r"
          }
        },
        "80580d1ddf3e46eab320f6f3a3f7772d": {
          "model_module": "@jupyter-widgets/controls",
          "model_name": "FloatProgressModel",
          "model_module_version": "1.5.0",
          "state": {
            "_dom_classes": [],
            "_model_module": "@jupyter-widgets/controls",
            "_model_module_version": "1.5.0",
            "_model_name": "FloatProgressModel",
            "_view_count": null,
            "_view_module": "@jupyter-widgets/controls",
            "_view_module_version": "1.5.0",
            "_view_name": "ProgressView",
            "bar_style": "",
            "description": "",
            "description_tooltip": null,
            "layout": "IPY_MODEL_105ac9198f5942e887ef715dce8fcb76",
            "max": 1,
            "min": 0,
            "orientation": "horizontal",
            "style": "IPY_MODEL_d0d5a115800d40c6bd992baf5a70e5b9",
            "value": 1
          }
        },
        "b7c88704171e4899baf247d0a6d547d4": {
          "model_module": "@jupyter-widgets/base",
          "model_name": "LayoutModel",
          "model_module_version": "1.2.0",
          "state": {
            "_model_module": "@jupyter-widgets/base",
            "_model_module_version": "1.2.0",
            "_model_name": "LayoutModel",
            "_view_count": null,
            "_view_module": "@jupyter-widgets/base",
            "_view_module_version": "1.2.0",
            "_view_name": "LayoutView",
            "align_content": null,
            "align_items": null,
            "align_self": null,
            "border": null,
            "bottom": null,
            "display": null,
            "flex": null,
            "flex_flow": null,
            "grid_area": null,
            "grid_auto_columns": null,
            "grid_auto_flow": null,
            "grid_auto_rows": null,
            "grid_column": null,
            "grid_gap": null,
            "grid_row": null,
            "grid_template_areas": null,
            "grid_template_columns": null,
            "grid_template_rows": null,
            "height": null,
            "justify_content": null,
            "justify_items": null,
            "left": null,
            "margin": null,
            "max_height": null,
            "max_width": null,
            "min_height": null,
            "min_width": null,
            "object_fit": null,
            "object_position": null,
            "order": null,
            "overflow": null,
            "overflow_x": null,
            "overflow_y": null,
            "padding": null,
            "right": null,
            "top": null,
            "visibility": null,
            "width": null
          }
        },
        "ce9071bc1cf64787b4f10e4cde61617e": {
          "model_module": "@jupyter-widgets/base",
          "model_name": "LayoutModel",
          "model_module_version": "1.2.0",
          "state": {
            "_model_module": "@jupyter-widgets/base",
            "_model_module_version": "1.2.0",
            "_model_name": "LayoutModel",
            "_view_count": null,
            "_view_module": "@jupyter-widgets/base",
            "_view_module_version": "1.2.0",
            "_view_name": "LayoutView",
            "align_content": null,
            "align_items": null,
            "align_self": null,
            "border": null,
            "bottom": null,
            "display": null,
            "flex": null,
            "flex_flow": null,
            "grid_area": null,
            "grid_auto_columns": null,
            "grid_auto_flow": null,
            "grid_auto_rows": null,
            "grid_column": null,
            "grid_gap": null,
            "grid_row": null,
            "grid_template_areas": null,
            "grid_template_columns": null,
            "grid_template_rows": null,
            "height": null,
            "justify_content": null,
            "justify_items": null,
            "left": null,
            "margin": null,
            "max_height": null,
            "max_width": null,
            "min_height": null,
            "min_width": null,
            "object_fit": null,
            "object_position": null,
            "order": null,
            "overflow": null,
            "overflow_x": null,
            "overflow_y": null,
            "padding": null,
            "right": null,
            "top": null,
            "visibility": null,
            "width": null
          }
        },
        "985f8dd5520649dcbcb95a6e6091ddf6": {
          "model_module": "@jupyter-widgets/controls",
          "model_name": "DescriptionStyleModel",
          "model_module_version": "1.5.0",
          "state": {
            "_model_module": "@jupyter-widgets/controls",
            "_model_module_version": "1.5.0",
            "_model_name": "DescriptionStyleModel",
            "_view_count": null,
            "_view_module": "@jupyter-widgets/base",
            "_view_module_version": "1.2.0",
            "_view_name": "StyleView",
            "description_width": ""
          }
        },
        "105ac9198f5942e887ef715dce8fcb76": {
          "model_module": "@jupyter-widgets/base",
          "model_name": "LayoutModel",
          "model_module_version": "1.2.0",
          "state": {
            "_model_module": "@jupyter-widgets/base",
            "_model_module_version": "1.2.0",
            "_model_name": "LayoutModel",
            "_view_count": null,
            "_view_module": "@jupyter-widgets/base",
            "_view_module_version": "1.2.0",
            "_view_name": "LayoutView",
            "align_content": null,
            "align_items": null,
            "align_self": null,
            "border": null,
            "bottom": null,
            "display": null,
            "flex": null,
            "flex_flow": null,
            "grid_area": null,
            "grid_auto_columns": null,
            "grid_auto_flow": null,
            "grid_auto_rows": null,
            "grid_column": null,
            "grid_gap": null,
            "grid_row": null,
            "grid_template_areas": null,
            "grid_template_columns": null,
            "grid_template_rows": null,
            "height": null,
            "justify_content": null,
            "justify_items": null,
            "left": null,
            "margin": null,
            "max_height": null,
            "max_width": null,
            "min_height": null,
            "min_width": null,
            "object_fit": null,
            "object_position": null,
            "order": null,
            "overflow": null,
            "overflow_x": null,
            "overflow_y": null,
            "padding": null,
            "right": null,
            "top": null,
            "visibility": null,
            "width": null
          }
        },
        "d0d5a115800d40c6bd992baf5a70e5b9": {
          "model_module": "@jupyter-widgets/controls",
          "model_name": "ProgressStyleModel",
          "model_module_version": "1.5.0",
          "state": {
            "_model_module": "@jupyter-widgets/controls",
            "_model_module_version": "1.5.0",
            "_model_name": "ProgressStyleModel",
            "_view_count": null,
            "_view_module": "@jupyter-widgets/base",
            "_view_module_version": "1.2.0",
            "_view_name": "StyleView",
            "bar_color": null,
            "description_width": ""
          }
        },
        "a87e5543782f436e86d8432ba12140b7": {
          "model_module": "@jupyter-widgets/controls",
          "model_name": "VBoxModel",
          "model_module_version": "1.5.0",
          "state": {
            "_dom_classes": [],
            "_model_module": "@jupyter-widgets/controls",
            "_model_module_version": "1.5.0",
            "_model_name": "VBoxModel",
            "_view_count": null,
            "_view_module": "@jupyter-widgets/controls",
            "_view_module_version": "1.5.0",
            "_view_name": "VBoxView",
            "box_style": "",
            "children": [
              "IPY_MODEL_41348c8c09ee4280af1c655d0fda2721",
              "IPY_MODEL_63f4c329fd91451a8343dee2d39d0b8d"
            ],
            "layout": "IPY_MODEL_5b9c2c31ba1342b78c05cf78d2768ed7"
          }
        },
        "41348c8c09ee4280af1c655d0fda2721": {
          "model_module": "@jupyter-widgets/controls",
          "model_name": "LabelModel",
          "model_module_version": "1.5.0",
          "state": {
            "_dom_classes": [],
            "_model_module": "@jupyter-widgets/controls",
            "_model_module_version": "1.5.0",
            "_model_name": "LabelModel",
            "_view_count": null,
            "_view_module": "@jupyter-widgets/controls",
            "_view_module_version": "1.5.0",
            "_view_name": "LabelView",
            "description": "",
            "description_tooltip": null,
            "layout": "IPY_MODEL_32689432325a4c3f9772fcae1bc966b1",
            "placeholder": "​",
            "style": "IPY_MODEL_281f66f890c7462e99076e0b7b089936",
            "value": "0.015 MB of 0.015 MB uploaded\r"
          }
        },
        "63f4c329fd91451a8343dee2d39d0b8d": {
          "model_module": "@jupyter-widgets/controls",
          "model_name": "FloatProgressModel",
          "model_module_version": "1.5.0",
          "state": {
            "_dom_classes": [],
            "_model_module": "@jupyter-widgets/controls",
            "_model_module_version": "1.5.0",
            "_model_name": "FloatProgressModel",
            "_view_count": null,
            "_view_module": "@jupyter-widgets/controls",
            "_view_module_version": "1.5.0",
            "_view_name": "ProgressView",
            "bar_style": "",
            "description": "",
            "description_tooltip": null,
            "layout": "IPY_MODEL_707c15495b0f4f36867a13a75ac6fbac",
            "max": 1,
            "min": 0,
            "orientation": "horizontal",
            "style": "IPY_MODEL_94649aa275764884911db95e2dcc10ad",
            "value": 1
          }
        },
        "5b9c2c31ba1342b78c05cf78d2768ed7": {
          "model_module": "@jupyter-widgets/base",
          "model_name": "LayoutModel",
          "model_module_version": "1.2.0",
          "state": {
            "_model_module": "@jupyter-widgets/base",
            "_model_module_version": "1.2.0",
            "_model_name": "LayoutModel",
            "_view_count": null,
            "_view_module": "@jupyter-widgets/base",
            "_view_module_version": "1.2.0",
            "_view_name": "LayoutView",
            "align_content": null,
            "align_items": null,
            "align_self": null,
            "border": null,
            "bottom": null,
            "display": null,
            "flex": null,
            "flex_flow": null,
            "grid_area": null,
            "grid_auto_columns": null,
            "grid_auto_flow": null,
            "grid_auto_rows": null,
            "grid_column": null,
            "grid_gap": null,
            "grid_row": null,
            "grid_template_areas": null,
            "grid_template_columns": null,
            "grid_template_rows": null,
            "height": null,
            "justify_content": null,
            "justify_items": null,
            "left": null,
            "margin": null,
            "max_height": null,
            "max_width": null,
            "min_height": null,
            "min_width": null,
            "object_fit": null,
            "object_position": null,
            "order": null,
            "overflow": null,
            "overflow_x": null,
            "overflow_y": null,
            "padding": null,
            "right": null,
            "top": null,
            "visibility": null,
            "width": null
          }
        },
        "32689432325a4c3f9772fcae1bc966b1": {
          "model_module": "@jupyter-widgets/base",
          "model_name": "LayoutModel",
          "model_module_version": "1.2.0",
          "state": {
            "_model_module": "@jupyter-widgets/base",
            "_model_module_version": "1.2.0",
            "_model_name": "LayoutModel",
            "_view_count": null,
            "_view_module": "@jupyter-widgets/base",
            "_view_module_version": "1.2.0",
            "_view_name": "LayoutView",
            "align_content": null,
            "align_items": null,
            "align_self": null,
            "border": null,
            "bottom": null,
            "display": null,
            "flex": null,
            "flex_flow": null,
            "grid_area": null,
            "grid_auto_columns": null,
            "grid_auto_flow": null,
            "grid_auto_rows": null,
            "grid_column": null,
            "grid_gap": null,
            "grid_row": null,
            "grid_template_areas": null,
            "grid_template_columns": null,
            "grid_template_rows": null,
            "height": null,
            "justify_content": null,
            "justify_items": null,
            "left": null,
            "margin": null,
            "max_height": null,
            "max_width": null,
            "min_height": null,
            "min_width": null,
            "object_fit": null,
            "object_position": null,
            "order": null,
            "overflow": null,
            "overflow_x": null,
            "overflow_y": null,
            "padding": null,
            "right": null,
            "top": null,
            "visibility": null,
            "width": null
          }
        },
        "281f66f890c7462e99076e0b7b089936": {
          "model_module": "@jupyter-widgets/controls",
          "model_name": "DescriptionStyleModel",
          "model_module_version": "1.5.0",
          "state": {
            "_model_module": "@jupyter-widgets/controls",
            "_model_module_version": "1.5.0",
            "_model_name": "DescriptionStyleModel",
            "_view_count": null,
            "_view_module": "@jupyter-widgets/base",
            "_view_module_version": "1.2.0",
            "_view_name": "StyleView",
            "description_width": ""
          }
        },
        "707c15495b0f4f36867a13a75ac6fbac": {
          "model_module": "@jupyter-widgets/base",
          "model_name": "LayoutModel",
          "model_module_version": "1.2.0",
          "state": {
            "_model_module": "@jupyter-widgets/base",
            "_model_module_version": "1.2.0",
            "_model_name": "LayoutModel",
            "_view_count": null,
            "_view_module": "@jupyter-widgets/base",
            "_view_module_version": "1.2.0",
            "_view_name": "LayoutView",
            "align_content": null,
            "align_items": null,
            "align_self": null,
            "border": null,
            "bottom": null,
            "display": null,
            "flex": null,
            "flex_flow": null,
            "grid_area": null,
            "grid_auto_columns": null,
            "grid_auto_flow": null,
            "grid_auto_rows": null,
            "grid_column": null,
            "grid_gap": null,
            "grid_row": null,
            "grid_template_areas": null,
            "grid_template_columns": null,
            "grid_template_rows": null,
            "height": null,
            "justify_content": null,
            "justify_items": null,
            "left": null,
            "margin": null,
            "max_height": null,
            "max_width": null,
            "min_height": null,
            "min_width": null,
            "object_fit": null,
            "object_position": null,
            "order": null,
            "overflow": null,
            "overflow_x": null,
            "overflow_y": null,
            "padding": null,
            "right": null,
            "top": null,
            "visibility": null,
            "width": null
          }
        },
        "94649aa275764884911db95e2dcc10ad": {
          "model_module": "@jupyter-widgets/controls",
          "model_name": "ProgressStyleModel",
          "model_module_version": "1.5.0",
          "state": {
            "_model_module": "@jupyter-widgets/controls",
            "_model_module_version": "1.5.0",
            "_model_name": "ProgressStyleModel",
            "_view_count": null,
            "_view_module": "@jupyter-widgets/base",
            "_view_module_version": "1.2.0",
            "_view_name": "StyleView",
            "bar_color": null,
            "description_width": ""
          }
        },
        "f0e544d5542f4a67813bfcfc63db0e7f": {
          "model_module": "@jupyter-widgets/controls",
          "model_name": "VBoxModel",
          "model_module_version": "1.5.0",
          "state": {
            "_dom_classes": [],
            "_model_module": "@jupyter-widgets/controls",
            "_model_module_version": "1.5.0",
            "_model_name": "VBoxModel",
            "_view_count": null,
            "_view_module": "@jupyter-widgets/controls",
            "_view_module_version": "1.5.0",
            "_view_name": "VBoxView",
            "box_style": "",
            "children": [
              "IPY_MODEL_8b06a3feafbe42a28dba4b85e4204e3f",
              "IPY_MODEL_e3582de767fc48b28cf32703249254ff"
            ],
            "layout": "IPY_MODEL_9b652c74ae1045929fa86085b903bb8c"
          }
        },
        "8b06a3feafbe42a28dba4b85e4204e3f": {
          "model_module": "@jupyter-widgets/controls",
          "model_name": "LabelModel",
          "model_module_version": "1.5.0",
          "state": {
            "_dom_classes": [],
            "_model_module": "@jupyter-widgets/controls",
            "_model_module_version": "1.5.0",
            "_model_name": "LabelModel",
            "_view_count": null,
            "_view_module": "@jupyter-widgets/controls",
            "_view_module_version": "1.5.0",
            "_view_name": "LabelView",
            "description": "",
            "description_tooltip": null,
            "layout": "IPY_MODEL_4c4270fd31f148da83fb516d5f00cdbd",
            "placeholder": "​",
            "style": "IPY_MODEL_d367fb60279947e1baa4eae1fc3e2e8a",
            "value": "0.016 MB of 0.016 MB uploaded\r"
          }
        },
        "e3582de767fc48b28cf32703249254ff": {
          "model_module": "@jupyter-widgets/controls",
          "model_name": "FloatProgressModel",
          "model_module_version": "1.5.0",
          "state": {
            "_dom_classes": [],
            "_model_module": "@jupyter-widgets/controls",
            "_model_module_version": "1.5.0",
            "_model_name": "FloatProgressModel",
            "_view_count": null,
            "_view_module": "@jupyter-widgets/controls",
            "_view_module_version": "1.5.0",
            "_view_name": "ProgressView",
            "bar_style": "",
            "description": "",
            "description_tooltip": null,
            "layout": "IPY_MODEL_aabda8eb3f7c4d78b3e530b05cd31ec3",
            "max": 1,
            "min": 0,
            "orientation": "horizontal",
            "style": "IPY_MODEL_2dabe6c66a70454c95a2e0e19266ea4e",
            "value": 1
          }
        },
        "9b652c74ae1045929fa86085b903bb8c": {
          "model_module": "@jupyter-widgets/base",
          "model_name": "LayoutModel",
          "model_module_version": "1.2.0",
          "state": {
            "_model_module": "@jupyter-widgets/base",
            "_model_module_version": "1.2.0",
            "_model_name": "LayoutModel",
            "_view_count": null,
            "_view_module": "@jupyter-widgets/base",
            "_view_module_version": "1.2.0",
            "_view_name": "LayoutView",
            "align_content": null,
            "align_items": null,
            "align_self": null,
            "border": null,
            "bottom": null,
            "display": null,
            "flex": null,
            "flex_flow": null,
            "grid_area": null,
            "grid_auto_columns": null,
            "grid_auto_flow": null,
            "grid_auto_rows": null,
            "grid_column": null,
            "grid_gap": null,
            "grid_row": null,
            "grid_template_areas": null,
            "grid_template_columns": null,
            "grid_template_rows": null,
            "height": null,
            "justify_content": null,
            "justify_items": null,
            "left": null,
            "margin": null,
            "max_height": null,
            "max_width": null,
            "min_height": null,
            "min_width": null,
            "object_fit": null,
            "object_position": null,
            "order": null,
            "overflow": null,
            "overflow_x": null,
            "overflow_y": null,
            "padding": null,
            "right": null,
            "top": null,
            "visibility": null,
            "width": null
          }
        },
        "4c4270fd31f148da83fb516d5f00cdbd": {
          "model_module": "@jupyter-widgets/base",
          "model_name": "LayoutModel",
          "model_module_version": "1.2.0",
          "state": {
            "_model_module": "@jupyter-widgets/base",
            "_model_module_version": "1.2.0",
            "_model_name": "LayoutModel",
            "_view_count": null,
            "_view_module": "@jupyter-widgets/base",
            "_view_module_version": "1.2.0",
            "_view_name": "LayoutView",
            "align_content": null,
            "align_items": null,
            "align_self": null,
            "border": null,
            "bottom": null,
            "display": null,
            "flex": null,
            "flex_flow": null,
            "grid_area": null,
            "grid_auto_columns": null,
            "grid_auto_flow": null,
            "grid_auto_rows": null,
            "grid_column": null,
            "grid_gap": null,
            "grid_row": null,
            "grid_template_areas": null,
            "grid_template_columns": null,
            "grid_template_rows": null,
            "height": null,
            "justify_content": null,
            "justify_items": null,
            "left": null,
            "margin": null,
            "max_height": null,
            "max_width": null,
            "min_height": null,
            "min_width": null,
            "object_fit": null,
            "object_position": null,
            "order": null,
            "overflow": null,
            "overflow_x": null,
            "overflow_y": null,
            "padding": null,
            "right": null,
            "top": null,
            "visibility": null,
            "width": null
          }
        },
        "d367fb60279947e1baa4eae1fc3e2e8a": {
          "model_module": "@jupyter-widgets/controls",
          "model_name": "DescriptionStyleModel",
          "model_module_version": "1.5.0",
          "state": {
            "_model_module": "@jupyter-widgets/controls",
            "_model_module_version": "1.5.0",
            "_model_name": "DescriptionStyleModel",
            "_view_count": null,
            "_view_module": "@jupyter-widgets/base",
            "_view_module_version": "1.2.0",
            "_view_name": "StyleView",
            "description_width": ""
          }
        },
        "aabda8eb3f7c4d78b3e530b05cd31ec3": {
          "model_module": "@jupyter-widgets/base",
          "model_name": "LayoutModel",
          "model_module_version": "1.2.0",
          "state": {
            "_model_module": "@jupyter-widgets/base",
            "_model_module_version": "1.2.0",
            "_model_name": "LayoutModel",
            "_view_count": null,
            "_view_module": "@jupyter-widgets/base",
            "_view_module_version": "1.2.0",
            "_view_name": "LayoutView",
            "align_content": null,
            "align_items": null,
            "align_self": null,
            "border": null,
            "bottom": null,
            "display": null,
            "flex": null,
            "flex_flow": null,
            "grid_area": null,
            "grid_auto_columns": null,
            "grid_auto_flow": null,
            "grid_auto_rows": null,
            "grid_column": null,
            "grid_gap": null,
            "grid_row": null,
            "grid_template_areas": null,
            "grid_template_columns": null,
            "grid_template_rows": null,
            "height": null,
            "justify_content": null,
            "justify_items": null,
            "left": null,
            "margin": null,
            "max_height": null,
            "max_width": null,
            "min_height": null,
            "min_width": null,
            "object_fit": null,
            "object_position": null,
            "order": null,
            "overflow": null,
            "overflow_x": null,
            "overflow_y": null,
            "padding": null,
            "right": null,
            "top": null,
            "visibility": null,
            "width": null
          }
        },
        "2dabe6c66a70454c95a2e0e19266ea4e": {
          "model_module": "@jupyter-widgets/controls",
          "model_name": "ProgressStyleModel",
          "model_module_version": "1.5.0",
          "state": {
            "_model_module": "@jupyter-widgets/controls",
            "_model_module_version": "1.5.0",
            "_model_name": "ProgressStyleModel",
            "_view_count": null,
            "_view_module": "@jupyter-widgets/base",
            "_view_module_version": "1.2.0",
            "_view_name": "StyleView",
            "bar_color": null,
            "description_width": ""
          }
        },
        "cfc5969c8919426bb797a753381e3bac": {
          "model_module": "@jupyter-widgets/controls",
          "model_name": "VBoxModel",
          "model_module_version": "1.5.0",
          "state": {
            "_dom_classes": [],
            "_model_module": "@jupyter-widgets/controls",
            "_model_module_version": "1.5.0",
            "_model_name": "VBoxModel",
            "_view_count": null,
            "_view_module": "@jupyter-widgets/controls",
            "_view_module_version": "1.5.0",
            "_view_name": "VBoxView",
            "box_style": "",
            "children": [
              "IPY_MODEL_b64fc49a2f6c4c028ba81267060043aa",
              "IPY_MODEL_f7f34fa0866b4a47bfd66859ff586cc2"
            ],
            "layout": "IPY_MODEL_32a0fcfea7504851897a0b4475a19e85"
          }
        },
        "b64fc49a2f6c4c028ba81267060043aa": {
          "model_module": "@jupyter-widgets/controls",
          "model_name": "LabelModel",
          "model_module_version": "1.5.0",
          "state": {
            "_dom_classes": [],
            "_model_module": "@jupyter-widgets/controls",
            "_model_module_version": "1.5.0",
            "_model_name": "LabelModel",
            "_view_count": null,
            "_view_module": "@jupyter-widgets/controls",
            "_view_module_version": "1.5.0",
            "_view_name": "LabelView",
            "description": "",
            "description_tooltip": null,
            "layout": "IPY_MODEL_ba71ce08a53945a6beb00dc32969567d",
            "placeholder": "​",
            "style": "IPY_MODEL_572f722ac6b94981995a3b088c206654",
            "value": "0.010 MB of 0.010 MB uploaded\r"
          }
        },
        "f7f34fa0866b4a47bfd66859ff586cc2": {
          "model_module": "@jupyter-widgets/controls",
          "model_name": "FloatProgressModel",
          "model_module_version": "1.5.0",
          "state": {
            "_dom_classes": [],
            "_model_module": "@jupyter-widgets/controls",
            "_model_module_version": "1.5.0",
            "_model_name": "FloatProgressModel",
            "_view_count": null,
            "_view_module": "@jupyter-widgets/controls",
            "_view_module_version": "1.5.0",
            "_view_name": "ProgressView",
            "bar_style": "",
            "description": "",
            "description_tooltip": null,
            "layout": "IPY_MODEL_9e363225d3714e628808958d6a67f89a",
            "max": 1,
            "min": 0,
            "orientation": "horizontal",
            "style": "IPY_MODEL_e281a317ebbc407bae10885288846433",
            "value": 1
          }
        },
        "32a0fcfea7504851897a0b4475a19e85": {
          "model_module": "@jupyter-widgets/base",
          "model_name": "LayoutModel",
          "model_module_version": "1.2.0",
          "state": {
            "_model_module": "@jupyter-widgets/base",
            "_model_module_version": "1.2.0",
            "_model_name": "LayoutModel",
            "_view_count": null,
            "_view_module": "@jupyter-widgets/base",
            "_view_module_version": "1.2.0",
            "_view_name": "LayoutView",
            "align_content": null,
            "align_items": null,
            "align_self": null,
            "border": null,
            "bottom": null,
            "display": null,
            "flex": null,
            "flex_flow": null,
            "grid_area": null,
            "grid_auto_columns": null,
            "grid_auto_flow": null,
            "grid_auto_rows": null,
            "grid_column": null,
            "grid_gap": null,
            "grid_row": null,
            "grid_template_areas": null,
            "grid_template_columns": null,
            "grid_template_rows": null,
            "height": null,
            "justify_content": null,
            "justify_items": null,
            "left": null,
            "margin": null,
            "max_height": null,
            "max_width": null,
            "min_height": null,
            "min_width": null,
            "object_fit": null,
            "object_position": null,
            "order": null,
            "overflow": null,
            "overflow_x": null,
            "overflow_y": null,
            "padding": null,
            "right": null,
            "top": null,
            "visibility": null,
            "width": null
          }
        },
        "ba71ce08a53945a6beb00dc32969567d": {
          "model_module": "@jupyter-widgets/base",
          "model_name": "LayoutModel",
          "model_module_version": "1.2.0",
          "state": {
            "_model_module": "@jupyter-widgets/base",
            "_model_module_version": "1.2.0",
            "_model_name": "LayoutModel",
            "_view_count": null,
            "_view_module": "@jupyter-widgets/base",
            "_view_module_version": "1.2.0",
            "_view_name": "LayoutView",
            "align_content": null,
            "align_items": null,
            "align_self": null,
            "border": null,
            "bottom": null,
            "display": null,
            "flex": null,
            "flex_flow": null,
            "grid_area": null,
            "grid_auto_columns": null,
            "grid_auto_flow": null,
            "grid_auto_rows": null,
            "grid_column": null,
            "grid_gap": null,
            "grid_row": null,
            "grid_template_areas": null,
            "grid_template_columns": null,
            "grid_template_rows": null,
            "height": null,
            "justify_content": null,
            "justify_items": null,
            "left": null,
            "margin": null,
            "max_height": null,
            "max_width": null,
            "min_height": null,
            "min_width": null,
            "object_fit": null,
            "object_position": null,
            "order": null,
            "overflow": null,
            "overflow_x": null,
            "overflow_y": null,
            "padding": null,
            "right": null,
            "top": null,
            "visibility": null,
            "width": null
          }
        },
        "572f722ac6b94981995a3b088c206654": {
          "model_module": "@jupyter-widgets/controls",
          "model_name": "DescriptionStyleModel",
          "model_module_version": "1.5.0",
          "state": {
            "_model_module": "@jupyter-widgets/controls",
            "_model_module_version": "1.5.0",
            "_model_name": "DescriptionStyleModel",
            "_view_count": null,
            "_view_module": "@jupyter-widgets/base",
            "_view_module_version": "1.2.0",
            "_view_name": "StyleView",
            "description_width": ""
          }
        },
        "9e363225d3714e628808958d6a67f89a": {
          "model_module": "@jupyter-widgets/base",
          "model_name": "LayoutModel",
          "model_module_version": "1.2.0",
          "state": {
            "_model_module": "@jupyter-widgets/base",
            "_model_module_version": "1.2.0",
            "_model_name": "LayoutModel",
            "_view_count": null,
            "_view_module": "@jupyter-widgets/base",
            "_view_module_version": "1.2.0",
            "_view_name": "LayoutView",
            "align_content": null,
            "align_items": null,
            "align_self": null,
            "border": null,
            "bottom": null,
            "display": null,
            "flex": null,
            "flex_flow": null,
            "grid_area": null,
            "grid_auto_columns": null,
            "grid_auto_flow": null,
            "grid_auto_rows": null,
            "grid_column": null,
            "grid_gap": null,
            "grid_row": null,
            "grid_template_areas": null,
            "grid_template_columns": null,
            "grid_template_rows": null,
            "height": null,
            "justify_content": null,
            "justify_items": null,
            "left": null,
            "margin": null,
            "max_height": null,
            "max_width": null,
            "min_height": null,
            "min_width": null,
            "object_fit": null,
            "object_position": null,
            "order": null,
            "overflow": null,
            "overflow_x": null,
            "overflow_y": null,
            "padding": null,
            "right": null,
            "top": null,
            "visibility": null,
            "width": null
          }
        },
        "e281a317ebbc407bae10885288846433": {
          "model_module": "@jupyter-widgets/controls",
          "model_name": "ProgressStyleModel",
          "model_module_version": "1.5.0",
          "state": {
            "_model_module": "@jupyter-widgets/controls",
            "_model_module_version": "1.5.0",
            "_model_name": "ProgressStyleModel",
            "_view_count": null,
            "_view_module": "@jupyter-widgets/base",
            "_view_module_version": "1.2.0",
            "_view_name": "StyleView",
            "bar_color": null,
            "description_width": ""
          }
        },
        "ec40168df537430aa5ad5fd242a47b53": {
          "model_module": "@jupyter-widgets/controls",
          "model_name": "VBoxModel",
          "model_module_version": "1.5.0",
          "state": {
            "_dom_classes": [],
            "_model_module": "@jupyter-widgets/controls",
            "_model_module_version": "1.5.0",
            "_model_name": "VBoxModel",
            "_view_count": null,
            "_view_module": "@jupyter-widgets/controls",
            "_view_module_version": "1.5.0",
            "_view_name": "VBoxView",
            "box_style": "",
            "children": [
              "IPY_MODEL_32daee8d99db4ab2b69985ad259ce3f3",
              "IPY_MODEL_1ab5fef0b73947b0831e6f9da7292320"
            ],
            "layout": "IPY_MODEL_ef28b3a7d87a4ae4bb34b62a900bf464"
          }
        },
        "32daee8d99db4ab2b69985ad259ce3f3": {
          "model_module": "@jupyter-widgets/controls",
          "model_name": "LabelModel",
          "model_module_version": "1.5.0",
          "state": {
            "_dom_classes": [],
            "_model_module": "@jupyter-widgets/controls",
            "_model_module_version": "1.5.0",
            "_model_name": "LabelModel",
            "_view_count": null,
            "_view_module": "@jupyter-widgets/controls",
            "_view_module_version": "1.5.0",
            "_view_name": "LabelView",
            "description": "",
            "description_tooltip": null,
            "layout": "IPY_MODEL_7baecee27be047f2a17d6cfcebafd7b7",
            "placeholder": "​",
            "style": "IPY_MODEL_564d9de89d5a4910956c688fdf148a13",
            "value": "0.010 MB of 0.010 MB uploaded\r"
          }
        },
        "1ab5fef0b73947b0831e6f9da7292320": {
          "model_module": "@jupyter-widgets/controls",
          "model_name": "FloatProgressModel",
          "model_module_version": "1.5.0",
          "state": {
            "_dom_classes": [],
            "_model_module": "@jupyter-widgets/controls",
            "_model_module_version": "1.5.0",
            "_model_name": "FloatProgressModel",
            "_view_count": null,
            "_view_module": "@jupyter-widgets/controls",
            "_view_module_version": "1.5.0",
            "_view_name": "ProgressView",
            "bar_style": "",
            "description": "",
            "description_tooltip": null,
            "layout": "IPY_MODEL_6fa4b462aa2b4911b390f96f781792aa",
            "max": 1,
            "min": 0,
            "orientation": "horizontal",
            "style": "IPY_MODEL_03760ab009a74a39ba5c510a0a278fb4",
            "value": 1
          }
        },
        "ef28b3a7d87a4ae4bb34b62a900bf464": {
          "model_module": "@jupyter-widgets/base",
          "model_name": "LayoutModel",
          "model_module_version": "1.2.0",
          "state": {
            "_model_module": "@jupyter-widgets/base",
            "_model_module_version": "1.2.0",
            "_model_name": "LayoutModel",
            "_view_count": null,
            "_view_module": "@jupyter-widgets/base",
            "_view_module_version": "1.2.0",
            "_view_name": "LayoutView",
            "align_content": null,
            "align_items": null,
            "align_self": null,
            "border": null,
            "bottom": null,
            "display": null,
            "flex": null,
            "flex_flow": null,
            "grid_area": null,
            "grid_auto_columns": null,
            "grid_auto_flow": null,
            "grid_auto_rows": null,
            "grid_column": null,
            "grid_gap": null,
            "grid_row": null,
            "grid_template_areas": null,
            "grid_template_columns": null,
            "grid_template_rows": null,
            "height": null,
            "justify_content": null,
            "justify_items": null,
            "left": null,
            "margin": null,
            "max_height": null,
            "max_width": null,
            "min_height": null,
            "min_width": null,
            "object_fit": null,
            "object_position": null,
            "order": null,
            "overflow": null,
            "overflow_x": null,
            "overflow_y": null,
            "padding": null,
            "right": null,
            "top": null,
            "visibility": null,
            "width": null
          }
        },
        "7baecee27be047f2a17d6cfcebafd7b7": {
          "model_module": "@jupyter-widgets/base",
          "model_name": "LayoutModel",
          "model_module_version": "1.2.0",
          "state": {
            "_model_module": "@jupyter-widgets/base",
            "_model_module_version": "1.2.0",
            "_model_name": "LayoutModel",
            "_view_count": null,
            "_view_module": "@jupyter-widgets/base",
            "_view_module_version": "1.2.0",
            "_view_name": "LayoutView",
            "align_content": null,
            "align_items": null,
            "align_self": null,
            "border": null,
            "bottom": null,
            "display": null,
            "flex": null,
            "flex_flow": null,
            "grid_area": null,
            "grid_auto_columns": null,
            "grid_auto_flow": null,
            "grid_auto_rows": null,
            "grid_column": null,
            "grid_gap": null,
            "grid_row": null,
            "grid_template_areas": null,
            "grid_template_columns": null,
            "grid_template_rows": null,
            "height": null,
            "justify_content": null,
            "justify_items": null,
            "left": null,
            "margin": null,
            "max_height": null,
            "max_width": null,
            "min_height": null,
            "min_width": null,
            "object_fit": null,
            "object_position": null,
            "order": null,
            "overflow": null,
            "overflow_x": null,
            "overflow_y": null,
            "padding": null,
            "right": null,
            "top": null,
            "visibility": null,
            "width": null
          }
        },
        "564d9de89d5a4910956c688fdf148a13": {
          "model_module": "@jupyter-widgets/controls",
          "model_name": "DescriptionStyleModel",
          "model_module_version": "1.5.0",
          "state": {
            "_model_module": "@jupyter-widgets/controls",
            "_model_module_version": "1.5.0",
            "_model_name": "DescriptionStyleModel",
            "_view_count": null,
            "_view_module": "@jupyter-widgets/base",
            "_view_module_version": "1.2.0",
            "_view_name": "StyleView",
            "description_width": ""
          }
        },
        "6fa4b462aa2b4911b390f96f781792aa": {
          "model_module": "@jupyter-widgets/base",
          "model_name": "LayoutModel",
          "model_module_version": "1.2.0",
          "state": {
            "_model_module": "@jupyter-widgets/base",
            "_model_module_version": "1.2.0",
            "_model_name": "LayoutModel",
            "_view_count": null,
            "_view_module": "@jupyter-widgets/base",
            "_view_module_version": "1.2.0",
            "_view_name": "LayoutView",
            "align_content": null,
            "align_items": null,
            "align_self": null,
            "border": null,
            "bottom": null,
            "display": null,
            "flex": null,
            "flex_flow": null,
            "grid_area": null,
            "grid_auto_columns": null,
            "grid_auto_flow": null,
            "grid_auto_rows": null,
            "grid_column": null,
            "grid_gap": null,
            "grid_row": null,
            "grid_template_areas": null,
            "grid_template_columns": null,
            "grid_template_rows": null,
            "height": null,
            "justify_content": null,
            "justify_items": null,
            "left": null,
            "margin": null,
            "max_height": null,
            "max_width": null,
            "min_height": null,
            "min_width": null,
            "object_fit": null,
            "object_position": null,
            "order": null,
            "overflow": null,
            "overflow_x": null,
            "overflow_y": null,
            "padding": null,
            "right": null,
            "top": null,
            "visibility": null,
            "width": null
          }
        },
        "03760ab009a74a39ba5c510a0a278fb4": {
          "model_module": "@jupyter-widgets/controls",
          "model_name": "ProgressStyleModel",
          "model_module_version": "1.5.0",
          "state": {
            "_model_module": "@jupyter-widgets/controls",
            "_model_module_version": "1.5.0",
            "_model_name": "ProgressStyleModel",
            "_view_count": null,
            "_view_module": "@jupyter-widgets/base",
            "_view_module_version": "1.2.0",
            "_view_name": "StyleView",
            "bar_color": null,
            "description_width": ""
          }
        },
        "c811d114d42747788c96ae1b3c877a79": {
          "model_module": "@jupyter-widgets/controls",
          "model_name": "VBoxModel",
          "model_module_version": "1.5.0",
          "state": {
            "_dom_classes": [],
            "_model_module": "@jupyter-widgets/controls",
            "_model_module_version": "1.5.0",
            "_model_name": "VBoxModel",
            "_view_count": null,
            "_view_module": "@jupyter-widgets/controls",
            "_view_module_version": "1.5.0",
            "_view_name": "VBoxView",
            "box_style": "",
            "children": [
              "IPY_MODEL_3c8af41205ba48868124b5e57d58002a",
              "IPY_MODEL_0803ccc12eb24053a29876dbd39a18e3"
            ],
            "layout": "IPY_MODEL_db8ed21ef3b1402ab444b31dfdb39c7c"
          }
        },
        "3c8af41205ba48868124b5e57d58002a": {
          "model_module": "@jupyter-widgets/controls",
          "model_name": "LabelModel",
          "model_module_version": "1.5.0",
          "state": {
            "_dom_classes": [],
            "_model_module": "@jupyter-widgets/controls",
            "_model_module_version": "1.5.0",
            "_model_name": "LabelModel",
            "_view_count": null,
            "_view_module": "@jupyter-widgets/controls",
            "_view_module_version": "1.5.0",
            "_view_name": "LabelView",
            "description": "",
            "description_tooltip": null,
            "layout": "IPY_MODEL_1dfeb673defd4de7bfe7b826a0235f7c",
            "placeholder": "​",
            "style": "IPY_MODEL_442c59f6b8a14c48b954c6d38ae64584",
            "value": "0.010 MB of 0.010 MB uploaded\r"
          }
        },
        "0803ccc12eb24053a29876dbd39a18e3": {
          "model_module": "@jupyter-widgets/controls",
          "model_name": "FloatProgressModel",
          "model_module_version": "1.5.0",
          "state": {
            "_dom_classes": [],
            "_model_module": "@jupyter-widgets/controls",
            "_model_module_version": "1.5.0",
            "_model_name": "FloatProgressModel",
            "_view_count": null,
            "_view_module": "@jupyter-widgets/controls",
            "_view_module_version": "1.5.0",
            "_view_name": "ProgressView",
            "bar_style": "",
            "description": "",
            "description_tooltip": null,
            "layout": "IPY_MODEL_00cf472ba7ca4377a3b0e2572a286ca6",
            "max": 1,
            "min": 0,
            "orientation": "horizontal",
            "style": "IPY_MODEL_10c77505e8184267a675b916ea68ee9b",
            "value": 1
          }
        },
        "db8ed21ef3b1402ab444b31dfdb39c7c": {
          "model_module": "@jupyter-widgets/base",
          "model_name": "LayoutModel",
          "model_module_version": "1.2.0",
          "state": {
            "_model_module": "@jupyter-widgets/base",
            "_model_module_version": "1.2.0",
            "_model_name": "LayoutModel",
            "_view_count": null,
            "_view_module": "@jupyter-widgets/base",
            "_view_module_version": "1.2.0",
            "_view_name": "LayoutView",
            "align_content": null,
            "align_items": null,
            "align_self": null,
            "border": null,
            "bottom": null,
            "display": null,
            "flex": null,
            "flex_flow": null,
            "grid_area": null,
            "grid_auto_columns": null,
            "grid_auto_flow": null,
            "grid_auto_rows": null,
            "grid_column": null,
            "grid_gap": null,
            "grid_row": null,
            "grid_template_areas": null,
            "grid_template_columns": null,
            "grid_template_rows": null,
            "height": null,
            "justify_content": null,
            "justify_items": null,
            "left": null,
            "margin": null,
            "max_height": null,
            "max_width": null,
            "min_height": null,
            "min_width": null,
            "object_fit": null,
            "object_position": null,
            "order": null,
            "overflow": null,
            "overflow_x": null,
            "overflow_y": null,
            "padding": null,
            "right": null,
            "top": null,
            "visibility": null,
            "width": null
          }
        },
        "1dfeb673defd4de7bfe7b826a0235f7c": {
          "model_module": "@jupyter-widgets/base",
          "model_name": "LayoutModel",
          "model_module_version": "1.2.0",
          "state": {
            "_model_module": "@jupyter-widgets/base",
            "_model_module_version": "1.2.0",
            "_model_name": "LayoutModel",
            "_view_count": null,
            "_view_module": "@jupyter-widgets/base",
            "_view_module_version": "1.2.0",
            "_view_name": "LayoutView",
            "align_content": null,
            "align_items": null,
            "align_self": null,
            "border": null,
            "bottom": null,
            "display": null,
            "flex": null,
            "flex_flow": null,
            "grid_area": null,
            "grid_auto_columns": null,
            "grid_auto_flow": null,
            "grid_auto_rows": null,
            "grid_column": null,
            "grid_gap": null,
            "grid_row": null,
            "grid_template_areas": null,
            "grid_template_columns": null,
            "grid_template_rows": null,
            "height": null,
            "justify_content": null,
            "justify_items": null,
            "left": null,
            "margin": null,
            "max_height": null,
            "max_width": null,
            "min_height": null,
            "min_width": null,
            "object_fit": null,
            "object_position": null,
            "order": null,
            "overflow": null,
            "overflow_x": null,
            "overflow_y": null,
            "padding": null,
            "right": null,
            "top": null,
            "visibility": null,
            "width": null
          }
        },
        "442c59f6b8a14c48b954c6d38ae64584": {
          "model_module": "@jupyter-widgets/controls",
          "model_name": "DescriptionStyleModel",
          "model_module_version": "1.5.0",
          "state": {
            "_model_module": "@jupyter-widgets/controls",
            "_model_module_version": "1.5.0",
            "_model_name": "DescriptionStyleModel",
            "_view_count": null,
            "_view_module": "@jupyter-widgets/base",
            "_view_module_version": "1.2.0",
            "_view_name": "StyleView",
            "description_width": ""
          }
        },
        "00cf472ba7ca4377a3b0e2572a286ca6": {
          "model_module": "@jupyter-widgets/base",
          "model_name": "LayoutModel",
          "model_module_version": "1.2.0",
          "state": {
            "_model_module": "@jupyter-widgets/base",
            "_model_module_version": "1.2.0",
            "_model_name": "LayoutModel",
            "_view_count": null,
            "_view_module": "@jupyter-widgets/base",
            "_view_module_version": "1.2.0",
            "_view_name": "LayoutView",
            "align_content": null,
            "align_items": null,
            "align_self": null,
            "border": null,
            "bottom": null,
            "display": null,
            "flex": null,
            "flex_flow": null,
            "grid_area": null,
            "grid_auto_columns": null,
            "grid_auto_flow": null,
            "grid_auto_rows": null,
            "grid_column": null,
            "grid_gap": null,
            "grid_row": null,
            "grid_template_areas": null,
            "grid_template_columns": null,
            "grid_template_rows": null,
            "height": null,
            "justify_content": null,
            "justify_items": null,
            "left": null,
            "margin": null,
            "max_height": null,
            "max_width": null,
            "min_height": null,
            "min_width": null,
            "object_fit": null,
            "object_position": null,
            "order": null,
            "overflow": null,
            "overflow_x": null,
            "overflow_y": null,
            "padding": null,
            "right": null,
            "top": null,
            "visibility": null,
            "width": null
          }
        },
        "10c77505e8184267a675b916ea68ee9b": {
          "model_module": "@jupyter-widgets/controls",
          "model_name": "ProgressStyleModel",
          "model_module_version": "1.5.0",
          "state": {
            "_model_module": "@jupyter-widgets/controls",
            "_model_module_version": "1.5.0",
            "_model_name": "ProgressStyleModel",
            "_view_count": null,
            "_view_module": "@jupyter-widgets/base",
            "_view_module_version": "1.2.0",
            "_view_name": "StyleView",
            "bar_color": null,
            "description_width": ""
          }
        },
        "54db653d6a52451b863fbc5f369a393d": {
          "model_module": "@jupyter-widgets/controls",
          "model_name": "VBoxModel",
          "model_module_version": "1.5.0",
          "state": {
            "_dom_classes": [],
            "_model_module": "@jupyter-widgets/controls",
            "_model_module_version": "1.5.0",
            "_model_name": "VBoxModel",
            "_view_count": null,
            "_view_module": "@jupyter-widgets/controls",
            "_view_module_version": "1.5.0",
            "_view_name": "VBoxView",
            "box_style": "",
            "children": [
              "IPY_MODEL_8dcd0d519291491283cfd6312abea906",
              "IPY_MODEL_7a2775b421d64501a771906ebddcbc08"
            ],
            "layout": "IPY_MODEL_2648f32968fa40f6a22414659991986d"
          }
        },
        "8dcd0d519291491283cfd6312abea906": {
          "model_module": "@jupyter-widgets/controls",
          "model_name": "LabelModel",
          "model_module_version": "1.5.0",
          "state": {
            "_dom_classes": [],
            "_model_module": "@jupyter-widgets/controls",
            "_model_module_version": "1.5.0",
            "_model_name": "LabelModel",
            "_view_count": null,
            "_view_module": "@jupyter-widgets/controls",
            "_view_module_version": "1.5.0",
            "_view_name": "LabelView",
            "description": "",
            "description_tooltip": null,
            "layout": "IPY_MODEL_b445b9b42b3a4049a1511b2210737162",
            "placeholder": "​",
            "style": "IPY_MODEL_ed5eabe14a354a6391ae1eeb6ad0b2bc",
            "value": "0.010 MB of 0.010 MB uploaded\r"
          }
        },
        "7a2775b421d64501a771906ebddcbc08": {
          "model_module": "@jupyter-widgets/controls",
          "model_name": "FloatProgressModel",
          "model_module_version": "1.5.0",
          "state": {
            "_dom_classes": [],
            "_model_module": "@jupyter-widgets/controls",
            "_model_module_version": "1.5.0",
            "_model_name": "FloatProgressModel",
            "_view_count": null,
            "_view_module": "@jupyter-widgets/controls",
            "_view_module_version": "1.5.0",
            "_view_name": "ProgressView",
            "bar_style": "",
            "description": "",
            "description_tooltip": null,
            "layout": "IPY_MODEL_6d5f9da09bf948d6a963ffbc9b030c97",
            "max": 1,
            "min": 0,
            "orientation": "horizontal",
            "style": "IPY_MODEL_85f5bed12d884ef6bba3c4a27175b4be",
            "value": 1
          }
        },
        "2648f32968fa40f6a22414659991986d": {
          "model_module": "@jupyter-widgets/base",
          "model_name": "LayoutModel",
          "model_module_version": "1.2.0",
          "state": {
            "_model_module": "@jupyter-widgets/base",
            "_model_module_version": "1.2.0",
            "_model_name": "LayoutModel",
            "_view_count": null,
            "_view_module": "@jupyter-widgets/base",
            "_view_module_version": "1.2.0",
            "_view_name": "LayoutView",
            "align_content": null,
            "align_items": null,
            "align_self": null,
            "border": null,
            "bottom": null,
            "display": null,
            "flex": null,
            "flex_flow": null,
            "grid_area": null,
            "grid_auto_columns": null,
            "grid_auto_flow": null,
            "grid_auto_rows": null,
            "grid_column": null,
            "grid_gap": null,
            "grid_row": null,
            "grid_template_areas": null,
            "grid_template_columns": null,
            "grid_template_rows": null,
            "height": null,
            "justify_content": null,
            "justify_items": null,
            "left": null,
            "margin": null,
            "max_height": null,
            "max_width": null,
            "min_height": null,
            "min_width": null,
            "object_fit": null,
            "object_position": null,
            "order": null,
            "overflow": null,
            "overflow_x": null,
            "overflow_y": null,
            "padding": null,
            "right": null,
            "top": null,
            "visibility": null,
            "width": null
          }
        },
        "b445b9b42b3a4049a1511b2210737162": {
          "model_module": "@jupyter-widgets/base",
          "model_name": "LayoutModel",
          "model_module_version": "1.2.0",
          "state": {
            "_model_module": "@jupyter-widgets/base",
            "_model_module_version": "1.2.0",
            "_model_name": "LayoutModel",
            "_view_count": null,
            "_view_module": "@jupyter-widgets/base",
            "_view_module_version": "1.2.0",
            "_view_name": "LayoutView",
            "align_content": null,
            "align_items": null,
            "align_self": null,
            "border": null,
            "bottom": null,
            "display": null,
            "flex": null,
            "flex_flow": null,
            "grid_area": null,
            "grid_auto_columns": null,
            "grid_auto_flow": null,
            "grid_auto_rows": null,
            "grid_column": null,
            "grid_gap": null,
            "grid_row": null,
            "grid_template_areas": null,
            "grid_template_columns": null,
            "grid_template_rows": null,
            "height": null,
            "justify_content": null,
            "justify_items": null,
            "left": null,
            "margin": null,
            "max_height": null,
            "max_width": null,
            "min_height": null,
            "min_width": null,
            "object_fit": null,
            "object_position": null,
            "order": null,
            "overflow": null,
            "overflow_x": null,
            "overflow_y": null,
            "padding": null,
            "right": null,
            "top": null,
            "visibility": null,
            "width": null
          }
        },
        "ed5eabe14a354a6391ae1eeb6ad0b2bc": {
          "model_module": "@jupyter-widgets/controls",
          "model_name": "DescriptionStyleModel",
          "model_module_version": "1.5.0",
          "state": {
            "_model_module": "@jupyter-widgets/controls",
            "_model_module_version": "1.5.0",
            "_model_name": "DescriptionStyleModel",
            "_view_count": null,
            "_view_module": "@jupyter-widgets/base",
            "_view_module_version": "1.2.0",
            "_view_name": "StyleView",
            "description_width": ""
          }
        },
        "6d5f9da09bf948d6a963ffbc9b030c97": {
          "model_module": "@jupyter-widgets/base",
          "model_name": "LayoutModel",
          "model_module_version": "1.2.0",
          "state": {
            "_model_module": "@jupyter-widgets/base",
            "_model_module_version": "1.2.0",
            "_model_name": "LayoutModel",
            "_view_count": null,
            "_view_module": "@jupyter-widgets/base",
            "_view_module_version": "1.2.0",
            "_view_name": "LayoutView",
            "align_content": null,
            "align_items": null,
            "align_self": null,
            "border": null,
            "bottom": null,
            "display": null,
            "flex": null,
            "flex_flow": null,
            "grid_area": null,
            "grid_auto_columns": null,
            "grid_auto_flow": null,
            "grid_auto_rows": null,
            "grid_column": null,
            "grid_gap": null,
            "grid_row": null,
            "grid_template_areas": null,
            "grid_template_columns": null,
            "grid_template_rows": null,
            "height": null,
            "justify_content": null,
            "justify_items": null,
            "left": null,
            "margin": null,
            "max_height": null,
            "max_width": null,
            "min_height": null,
            "min_width": null,
            "object_fit": null,
            "object_position": null,
            "order": null,
            "overflow": null,
            "overflow_x": null,
            "overflow_y": null,
            "padding": null,
            "right": null,
            "top": null,
            "visibility": null,
            "width": null
          }
        },
        "85f5bed12d884ef6bba3c4a27175b4be": {
          "model_module": "@jupyter-widgets/controls",
          "model_name": "ProgressStyleModel",
          "model_module_version": "1.5.0",
          "state": {
            "_model_module": "@jupyter-widgets/controls",
            "_model_module_version": "1.5.0",
            "_model_name": "ProgressStyleModel",
            "_view_count": null,
            "_view_module": "@jupyter-widgets/base",
            "_view_module_version": "1.2.0",
            "_view_name": "StyleView",
            "bar_color": null,
            "description_width": ""
          }
        },
        "20e43cff235e4138a0a18ce714ffda9a": {
          "model_module": "@jupyter-widgets/controls",
          "model_name": "VBoxModel",
          "model_module_version": "1.5.0",
          "state": {
            "_dom_classes": [],
            "_model_module": "@jupyter-widgets/controls",
            "_model_module_version": "1.5.0",
            "_model_name": "VBoxModel",
            "_view_count": null,
            "_view_module": "@jupyter-widgets/controls",
            "_view_module_version": "1.5.0",
            "_view_name": "VBoxView",
            "box_style": "",
            "children": [
              "IPY_MODEL_5bca9962209e4c53b4b367100ba5acd8",
              "IPY_MODEL_bab93c4c514d46868d0c3e34739c1cb7"
            ],
            "layout": "IPY_MODEL_4e8143f8f0c54cb880759f56d3150079"
          }
        },
        "5bca9962209e4c53b4b367100ba5acd8": {
          "model_module": "@jupyter-widgets/controls",
          "model_name": "LabelModel",
          "model_module_version": "1.5.0",
          "state": {
            "_dom_classes": [],
            "_model_module": "@jupyter-widgets/controls",
            "_model_module_version": "1.5.0",
            "_model_name": "LabelModel",
            "_view_count": null,
            "_view_module": "@jupyter-widgets/controls",
            "_view_module_version": "1.5.0",
            "_view_name": "LabelView",
            "description": "",
            "description_tooltip": null,
            "layout": "IPY_MODEL_2d869e7edad746e79326fa239bc9cbf6",
            "placeholder": "​",
            "style": "IPY_MODEL_745a070ab8f64bafa7c48046c8a58e6b",
            "value": "0.010 MB of 0.010 MB uploaded\r"
          }
        },
        "bab93c4c514d46868d0c3e34739c1cb7": {
          "model_module": "@jupyter-widgets/controls",
          "model_name": "FloatProgressModel",
          "model_module_version": "1.5.0",
          "state": {
            "_dom_classes": [],
            "_model_module": "@jupyter-widgets/controls",
            "_model_module_version": "1.5.0",
            "_model_name": "FloatProgressModel",
            "_view_count": null,
            "_view_module": "@jupyter-widgets/controls",
            "_view_module_version": "1.5.0",
            "_view_name": "ProgressView",
            "bar_style": "",
            "description": "",
            "description_tooltip": null,
            "layout": "IPY_MODEL_9d007714ad00425793aa470b762c7b0d",
            "max": 1,
            "min": 0,
            "orientation": "horizontal",
            "style": "IPY_MODEL_9b24567021b942f48e4ec62dad89ae0c",
            "value": 1
          }
        },
        "4e8143f8f0c54cb880759f56d3150079": {
          "model_module": "@jupyter-widgets/base",
          "model_name": "LayoutModel",
          "model_module_version": "1.2.0",
          "state": {
            "_model_module": "@jupyter-widgets/base",
            "_model_module_version": "1.2.0",
            "_model_name": "LayoutModel",
            "_view_count": null,
            "_view_module": "@jupyter-widgets/base",
            "_view_module_version": "1.2.0",
            "_view_name": "LayoutView",
            "align_content": null,
            "align_items": null,
            "align_self": null,
            "border": null,
            "bottom": null,
            "display": null,
            "flex": null,
            "flex_flow": null,
            "grid_area": null,
            "grid_auto_columns": null,
            "grid_auto_flow": null,
            "grid_auto_rows": null,
            "grid_column": null,
            "grid_gap": null,
            "grid_row": null,
            "grid_template_areas": null,
            "grid_template_columns": null,
            "grid_template_rows": null,
            "height": null,
            "justify_content": null,
            "justify_items": null,
            "left": null,
            "margin": null,
            "max_height": null,
            "max_width": null,
            "min_height": null,
            "min_width": null,
            "object_fit": null,
            "object_position": null,
            "order": null,
            "overflow": null,
            "overflow_x": null,
            "overflow_y": null,
            "padding": null,
            "right": null,
            "top": null,
            "visibility": null,
            "width": null
          }
        },
        "2d869e7edad746e79326fa239bc9cbf6": {
          "model_module": "@jupyter-widgets/base",
          "model_name": "LayoutModel",
          "model_module_version": "1.2.0",
          "state": {
            "_model_module": "@jupyter-widgets/base",
            "_model_module_version": "1.2.0",
            "_model_name": "LayoutModel",
            "_view_count": null,
            "_view_module": "@jupyter-widgets/base",
            "_view_module_version": "1.2.0",
            "_view_name": "LayoutView",
            "align_content": null,
            "align_items": null,
            "align_self": null,
            "border": null,
            "bottom": null,
            "display": null,
            "flex": null,
            "flex_flow": null,
            "grid_area": null,
            "grid_auto_columns": null,
            "grid_auto_flow": null,
            "grid_auto_rows": null,
            "grid_column": null,
            "grid_gap": null,
            "grid_row": null,
            "grid_template_areas": null,
            "grid_template_columns": null,
            "grid_template_rows": null,
            "height": null,
            "justify_content": null,
            "justify_items": null,
            "left": null,
            "margin": null,
            "max_height": null,
            "max_width": null,
            "min_height": null,
            "min_width": null,
            "object_fit": null,
            "object_position": null,
            "order": null,
            "overflow": null,
            "overflow_x": null,
            "overflow_y": null,
            "padding": null,
            "right": null,
            "top": null,
            "visibility": null,
            "width": null
          }
        },
        "745a070ab8f64bafa7c48046c8a58e6b": {
          "model_module": "@jupyter-widgets/controls",
          "model_name": "DescriptionStyleModel",
          "model_module_version": "1.5.0",
          "state": {
            "_model_module": "@jupyter-widgets/controls",
            "_model_module_version": "1.5.0",
            "_model_name": "DescriptionStyleModel",
            "_view_count": null,
            "_view_module": "@jupyter-widgets/base",
            "_view_module_version": "1.2.0",
            "_view_name": "StyleView",
            "description_width": ""
          }
        },
        "9d007714ad00425793aa470b762c7b0d": {
          "model_module": "@jupyter-widgets/base",
          "model_name": "LayoutModel",
          "model_module_version": "1.2.0",
          "state": {
            "_model_module": "@jupyter-widgets/base",
            "_model_module_version": "1.2.0",
            "_model_name": "LayoutModel",
            "_view_count": null,
            "_view_module": "@jupyter-widgets/base",
            "_view_module_version": "1.2.0",
            "_view_name": "LayoutView",
            "align_content": null,
            "align_items": null,
            "align_self": null,
            "border": null,
            "bottom": null,
            "display": null,
            "flex": null,
            "flex_flow": null,
            "grid_area": null,
            "grid_auto_columns": null,
            "grid_auto_flow": null,
            "grid_auto_rows": null,
            "grid_column": null,
            "grid_gap": null,
            "grid_row": null,
            "grid_template_areas": null,
            "grid_template_columns": null,
            "grid_template_rows": null,
            "height": null,
            "justify_content": null,
            "justify_items": null,
            "left": null,
            "margin": null,
            "max_height": null,
            "max_width": null,
            "min_height": null,
            "min_width": null,
            "object_fit": null,
            "object_position": null,
            "order": null,
            "overflow": null,
            "overflow_x": null,
            "overflow_y": null,
            "padding": null,
            "right": null,
            "top": null,
            "visibility": null,
            "width": null
          }
        },
        "9b24567021b942f48e4ec62dad89ae0c": {
          "model_module": "@jupyter-widgets/controls",
          "model_name": "ProgressStyleModel",
          "model_module_version": "1.5.0",
          "state": {
            "_model_module": "@jupyter-widgets/controls",
            "_model_module_version": "1.5.0",
            "_model_name": "ProgressStyleModel",
            "_view_count": null,
            "_view_module": "@jupyter-widgets/base",
            "_view_module_version": "1.2.0",
            "_view_name": "StyleView",
            "bar_color": null,
            "description_width": ""
          }
        },
        "9a366eaa69504e9694beb0412ad87112": {
          "model_module": "@jupyter-widgets/controls",
          "model_name": "VBoxModel",
          "model_module_version": "1.5.0",
          "state": {
            "_dom_classes": [],
            "_model_module": "@jupyter-widgets/controls",
            "_model_module_version": "1.5.0",
            "_model_name": "VBoxModel",
            "_view_count": null,
            "_view_module": "@jupyter-widgets/controls",
            "_view_module_version": "1.5.0",
            "_view_name": "VBoxView",
            "box_style": "",
            "children": [
              "IPY_MODEL_01814da2c2064c6ea0258ef5a23fef0b",
              "IPY_MODEL_e723f13dad3941c68f4a2fb319650576"
            ],
            "layout": "IPY_MODEL_4de5b49350c14ab5b56a7d3b682a7fe5"
          }
        },
        "01814da2c2064c6ea0258ef5a23fef0b": {
          "model_module": "@jupyter-widgets/controls",
          "model_name": "LabelModel",
          "model_module_version": "1.5.0",
          "state": {
            "_dom_classes": [],
            "_model_module": "@jupyter-widgets/controls",
            "_model_module_version": "1.5.0",
            "_model_name": "LabelModel",
            "_view_count": null,
            "_view_module": "@jupyter-widgets/controls",
            "_view_module_version": "1.5.0",
            "_view_name": "LabelView",
            "description": "",
            "description_tooltip": null,
            "layout": "IPY_MODEL_cce3f5ab84c04b74b1e356e539c6ff8f",
            "placeholder": "​",
            "style": "IPY_MODEL_bea7c5a5b0624b3cabffe669e3172ac4",
            "value": "0.010 MB of 0.010 MB uploaded\r"
          }
        },
        "e723f13dad3941c68f4a2fb319650576": {
          "model_module": "@jupyter-widgets/controls",
          "model_name": "FloatProgressModel",
          "model_module_version": "1.5.0",
          "state": {
            "_dom_classes": [],
            "_model_module": "@jupyter-widgets/controls",
            "_model_module_version": "1.5.0",
            "_model_name": "FloatProgressModel",
            "_view_count": null,
            "_view_module": "@jupyter-widgets/controls",
            "_view_module_version": "1.5.0",
            "_view_name": "ProgressView",
            "bar_style": "",
            "description": "",
            "description_tooltip": null,
            "layout": "IPY_MODEL_0987b393fe0f4b39ab8dd6eb4c83ba2a",
            "max": 1,
            "min": 0,
            "orientation": "horizontal",
            "style": "IPY_MODEL_4caa27782a3c46ad871a5139d2cf5961",
            "value": 1
          }
        },
        "4de5b49350c14ab5b56a7d3b682a7fe5": {
          "model_module": "@jupyter-widgets/base",
          "model_name": "LayoutModel",
          "model_module_version": "1.2.0",
          "state": {
            "_model_module": "@jupyter-widgets/base",
            "_model_module_version": "1.2.0",
            "_model_name": "LayoutModel",
            "_view_count": null,
            "_view_module": "@jupyter-widgets/base",
            "_view_module_version": "1.2.0",
            "_view_name": "LayoutView",
            "align_content": null,
            "align_items": null,
            "align_self": null,
            "border": null,
            "bottom": null,
            "display": null,
            "flex": null,
            "flex_flow": null,
            "grid_area": null,
            "grid_auto_columns": null,
            "grid_auto_flow": null,
            "grid_auto_rows": null,
            "grid_column": null,
            "grid_gap": null,
            "grid_row": null,
            "grid_template_areas": null,
            "grid_template_columns": null,
            "grid_template_rows": null,
            "height": null,
            "justify_content": null,
            "justify_items": null,
            "left": null,
            "margin": null,
            "max_height": null,
            "max_width": null,
            "min_height": null,
            "min_width": null,
            "object_fit": null,
            "object_position": null,
            "order": null,
            "overflow": null,
            "overflow_x": null,
            "overflow_y": null,
            "padding": null,
            "right": null,
            "top": null,
            "visibility": null,
            "width": null
          }
        },
        "cce3f5ab84c04b74b1e356e539c6ff8f": {
          "model_module": "@jupyter-widgets/base",
          "model_name": "LayoutModel",
          "model_module_version": "1.2.0",
          "state": {
            "_model_module": "@jupyter-widgets/base",
            "_model_module_version": "1.2.0",
            "_model_name": "LayoutModel",
            "_view_count": null,
            "_view_module": "@jupyter-widgets/base",
            "_view_module_version": "1.2.0",
            "_view_name": "LayoutView",
            "align_content": null,
            "align_items": null,
            "align_self": null,
            "border": null,
            "bottom": null,
            "display": null,
            "flex": null,
            "flex_flow": null,
            "grid_area": null,
            "grid_auto_columns": null,
            "grid_auto_flow": null,
            "grid_auto_rows": null,
            "grid_column": null,
            "grid_gap": null,
            "grid_row": null,
            "grid_template_areas": null,
            "grid_template_columns": null,
            "grid_template_rows": null,
            "height": null,
            "justify_content": null,
            "justify_items": null,
            "left": null,
            "margin": null,
            "max_height": null,
            "max_width": null,
            "min_height": null,
            "min_width": null,
            "object_fit": null,
            "object_position": null,
            "order": null,
            "overflow": null,
            "overflow_x": null,
            "overflow_y": null,
            "padding": null,
            "right": null,
            "top": null,
            "visibility": null,
            "width": null
          }
        },
        "bea7c5a5b0624b3cabffe669e3172ac4": {
          "model_module": "@jupyter-widgets/controls",
          "model_name": "DescriptionStyleModel",
          "model_module_version": "1.5.0",
          "state": {
            "_model_module": "@jupyter-widgets/controls",
            "_model_module_version": "1.5.0",
            "_model_name": "DescriptionStyleModel",
            "_view_count": null,
            "_view_module": "@jupyter-widgets/base",
            "_view_module_version": "1.2.0",
            "_view_name": "StyleView",
            "description_width": ""
          }
        },
        "0987b393fe0f4b39ab8dd6eb4c83ba2a": {
          "model_module": "@jupyter-widgets/base",
          "model_name": "LayoutModel",
          "model_module_version": "1.2.0",
          "state": {
            "_model_module": "@jupyter-widgets/base",
            "_model_module_version": "1.2.0",
            "_model_name": "LayoutModel",
            "_view_count": null,
            "_view_module": "@jupyter-widgets/base",
            "_view_module_version": "1.2.0",
            "_view_name": "LayoutView",
            "align_content": null,
            "align_items": null,
            "align_self": null,
            "border": null,
            "bottom": null,
            "display": null,
            "flex": null,
            "flex_flow": null,
            "grid_area": null,
            "grid_auto_columns": null,
            "grid_auto_flow": null,
            "grid_auto_rows": null,
            "grid_column": null,
            "grid_gap": null,
            "grid_row": null,
            "grid_template_areas": null,
            "grid_template_columns": null,
            "grid_template_rows": null,
            "height": null,
            "justify_content": null,
            "justify_items": null,
            "left": null,
            "margin": null,
            "max_height": null,
            "max_width": null,
            "min_height": null,
            "min_width": null,
            "object_fit": null,
            "object_position": null,
            "order": null,
            "overflow": null,
            "overflow_x": null,
            "overflow_y": null,
            "padding": null,
            "right": null,
            "top": null,
            "visibility": null,
            "width": null
          }
        },
        "4caa27782a3c46ad871a5139d2cf5961": {
          "model_module": "@jupyter-widgets/controls",
          "model_name": "ProgressStyleModel",
          "model_module_version": "1.5.0",
          "state": {
            "_model_module": "@jupyter-widgets/controls",
            "_model_module_version": "1.5.0",
            "_model_name": "ProgressStyleModel",
            "_view_count": null,
            "_view_module": "@jupyter-widgets/base",
            "_view_module_version": "1.2.0",
            "_view_name": "StyleView",
            "bar_color": null,
            "description_width": ""
          }
        },
        "07e6d00cf0b24df486a95b8369295bcb": {
          "model_module": "@jupyter-widgets/controls",
          "model_name": "VBoxModel",
          "model_module_version": "1.5.0",
          "state": {
            "_dom_classes": [],
            "_model_module": "@jupyter-widgets/controls",
            "_model_module_version": "1.5.0",
            "_model_name": "VBoxModel",
            "_view_count": null,
            "_view_module": "@jupyter-widgets/controls",
            "_view_module_version": "1.5.0",
            "_view_name": "VBoxView",
            "box_style": "",
            "children": [
              "IPY_MODEL_7cce6cc5645644029ba43c11c359f1f5",
              "IPY_MODEL_b5f92a8bb4444049825458f370fbd66e"
            ],
            "layout": "IPY_MODEL_78f462a0ebe046f89b852646db02c3fa"
          }
        },
        "7cce6cc5645644029ba43c11c359f1f5": {
          "model_module": "@jupyter-widgets/controls",
          "model_name": "LabelModel",
          "model_module_version": "1.5.0",
          "state": {
            "_dom_classes": [],
            "_model_module": "@jupyter-widgets/controls",
            "_model_module_version": "1.5.0",
            "_model_name": "LabelModel",
            "_view_count": null,
            "_view_module": "@jupyter-widgets/controls",
            "_view_module_version": "1.5.0",
            "_view_name": "LabelView",
            "description": "",
            "description_tooltip": null,
            "layout": "IPY_MODEL_26edff0e2c5147fd994a02ae3e174497",
            "placeholder": "​",
            "style": "IPY_MODEL_b7442e14fe8b42eeb68e7e2a9a987def",
            "value": "0.010 MB of 0.010 MB uploaded\r"
          }
        },
        "b5f92a8bb4444049825458f370fbd66e": {
          "model_module": "@jupyter-widgets/controls",
          "model_name": "FloatProgressModel",
          "model_module_version": "1.5.0",
          "state": {
            "_dom_classes": [],
            "_model_module": "@jupyter-widgets/controls",
            "_model_module_version": "1.5.0",
            "_model_name": "FloatProgressModel",
            "_view_count": null,
            "_view_module": "@jupyter-widgets/controls",
            "_view_module_version": "1.5.0",
            "_view_name": "ProgressView",
            "bar_style": "",
            "description": "",
            "description_tooltip": null,
            "layout": "IPY_MODEL_964d79bfb347415d82c1baaa2e619ab0",
            "max": 1,
            "min": 0,
            "orientation": "horizontal",
            "style": "IPY_MODEL_5be3d8115fe444bb8d2443cb211b1c14",
            "value": 1
          }
        },
        "78f462a0ebe046f89b852646db02c3fa": {
          "model_module": "@jupyter-widgets/base",
          "model_name": "LayoutModel",
          "model_module_version": "1.2.0",
          "state": {
            "_model_module": "@jupyter-widgets/base",
            "_model_module_version": "1.2.0",
            "_model_name": "LayoutModel",
            "_view_count": null,
            "_view_module": "@jupyter-widgets/base",
            "_view_module_version": "1.2.0",
            "_view_name": "LayoutView",
            "align_content": null,
            "align_items": null,
            "align_self": null,
            "border": null,
            "bottom": null,
            "display": null,
            "flex": null,
            "flex_flow": null,
            "grid_area": null,
            "grid_auto_columns": null,
            "grid_auto_flow": null,
            "grid_auto_rows": null,
            "grid_column": null,
            "grid_gap": null,
            "grid_row": null,
            "grid_template_areas": null,
            "grid_template_columns": null,
            "grid_template_rows": null,
            "height": null,
            "justify_content": null,
            "justify_items": null,
            "left": null,
            "margin": null,
            "max_height": null,
            "max_width": null,
            "min_height": null,
            "min_width": null,
            "object_fit": null,
            "object_position": null,
            "order": null,
            "overflow": null,
            "overflow_x": null,
            "overflow_y": null,
            "padding": null,
            "right": null,
            "top": null,
            "visibility": null,
            "width": null
          }
        },
        "26edff0e2c5147fd994a02ae3e174497": {
          "model_module": "@jupyter-widgets/base",
          "model_name": "LayoutModel",
          "model_module_version": "1.2.0",
          "state": {
            "_model_module": "@jupyter-widgets/base",
            "_model_module_version": "1.2.0",
            "_model_name": "LayoutModel",
            "_view_count": null,
            "_view_module": "@jupyter-widgets/base",
            "_view_module_version": "1.2.0",
            "_view_name": "LayoutView",
            "align_content": null,
            "align_items": null,
            "align_self": null,
            "border": null,
            "bottom": null,
            "display": null,
            "flex": null,
            "flex_flow": null,
            "grid_area": null,
            "grid_auto_columns": null,
            "grid_auto_flow": null,
            "grid_auto_rows": null,
            "grid_column": null,
            "grid_gap": null,
            "grid_row": null,
            "grid_template_areas": null,
            "grid_template_columns": null,
            "grid_template_rows": null,
            "height": null,
            "justify_content": null,
            "justify_items": null,
            "left": null,
            "margin": null,
            "max_height": null,
            "max_width": null,
            "min_height": null,
            "min_width": null,
            "object_fit": null,
            "object_position": null,
            "order": null,
            "overflow": null,
            "overflow_x": null,
            "overflow_y": null,
            "padding": null,
            "right": null,
            "top": null,
            "visibility": null,
            "width": null
          }
        },
        "b7442e14fe8b42eeb68e7e2a9a987def": {
          "model_module": "@jupyter-widgets/controls",
          "model_name": "DescriptionStyleModel",
          "model_module_version": "1.5.0",
          "state": {
            "_model_module": "@jupyter-widgets/controls",
            "_model_module_version": "1.5.0",
            "_model_name": "DescriptionStyleModel",
            "_view_count": null,
            "_view_module": "@jupyter-widgets/base",
            "_view_module_version": "1.2.0",
            "_view_name": "StyleView",
            "description_width": ""
          }
        },
        "964d79bfb347415d82c1baaa2e619ab0": {
          "model_module": "@jupyter-widgets/base",
          "model_name": "LayoutModel",
          "model_module_version": "1.2.0",
          "state": {
            "_model_module": "@jupyter-widgets/base",
            "_model_module_version": "1.2.0",
            "_model_name": "LayoutModel",
            "_view_count": null,
            "_view_module": "@jupyter-widgets/base",
            "_view_module_version": "1.2.0",
            "_view_name": "LayoutView",
            "align_content": null,
            "align_items": null,
            "align_self": null,
            "border": null,
            "bottom": null,
            "display": null,
            "flex": null,
            "flex_flow": null,
            "grid_area": null,
            "grid_auto_columns": null,
            "grid_auto_flow": null,
            "grid_auto_rows": null,
            "grid_column": null,
            "grid_gap": null,
            "grid_row": null,
            "grid_template_areas": null,
            "grid_template_columns": null,
            "grid_template_rows": null,
            "height": null,
            "justify_content": null,
            "justify_items": null,
            "left": null,
            "margin": null,
            "max_height": null,
            "max_width": null,
            "min_height": null,
            "min_width": null,
            "object_fit": null,
            "object_position": null,
            "order": null,
            "overflow": null,
            "overflow_x": null,
            "overflow_y": null,
            "padding": null,
            "right": null,
            "top": null,
            "visibility": null,
            "width": null
          }
        },
        "5be3d8115fe444bb8d2443cb211b1c14": {
          "model_module": "@jupyter-widgets/controls",
          "model_name": "ProgressStyleModel",
          "model_module_version": "1.5.0",
          "state": {
            "_model_module": "@jupyter-widgets/controls",
            "_model_module_version": "1.5.0",
            "_model_name": "ProgressStyleModel",
            "_view_count": null,
            "_view_module": "@jupyter-widgets/base",
            "_view_module_version": "1.2.0",
            "_view_name": "StyleView",
            "bar_color": null,
            "description_width": ""
          }
        },
        "6d9aef83c60346b08cf22b891dbef0b9": {
          "model_module": "@jupyter-widgets/controls",
          "model_name": "VBoxModel",
          "model_module_version": "1.5.0",
          "state": {
            "_dom_classes": [],
            "_model_module": "@jupyter-widgets/controls",
            "_model_module_version": "1.5.0",
            "_model_name": "VBoxModel",
            "_view_count": null,
            "_view_module": "@jupyter-widgets/controls",
            "_view_module_version": "1.5.0",
            "_view_name": "VBoxView",
            "box_style": "",
            "children": [
              "IPY_MODEL_91405f75da7d48638ee0d076d049ad65",
              "IPY_MODEL_ee50d9e89daf4e7bb6ff68411ed054d5"
            ],
            "layout": "IPY_MODEL_e597e143094a4639a505bed2896804b1"
          }
        },
        "91405f75da7d48638ee0d076d049ad65": {
          "model_module": "@jupyter-widgets/controls",
          "model_name": "LabelModel",
          "model_module_version": "1.5.0",
          "state": {
            "_dom_classes": [],
            "_model_module": "@jupyter-widgets/controls",
            "_model_module_version": "1.5.0",
            "_model_name": "LabelModel",
            "_view_count": null,
            "_view_module": "@jupyter-widgets/controls",
            "_view_module_version": "1.5.0",
            "_view_name": "LabelView",
            "description": "",
            "description_tooltip": null,
            "layout": "IPY_MODEL_1e041e41d84f4ae0bb83c118c068079e",
            "placeholder": "​",
            "style": "IPY_MODEL_c43a5beb2eab4e7a89b08c0affd8754a",
            "value": "0.010 MB of 0.010 MB uploaded\r"
          }
        },
        "ee50d9e89daf4e7bb6ff68411ed054d5": {
          "model_module": "@jupyter-widgets/controls",
          "model_name": "FloatProgressModel",
          "model_module_version": "1.5.0",
          "state": {
            "_dom_classes": [],
            "_model_module": "@jupyter-widgets/controls",
            "_model_module_version": "1.5.0",
            "_model_name": "FloatProgressModel",
            "_view_count": null,
            "_view_module": "@jupyter-widgets/controls",
            "_view_module_version": "1.5.0",
            "_view_name": "ProgressView",
            "bar_style": "",
            "description": "",
            "description_tooltip": null,
            "layout": "IPY_MODEL_9d2afc9971314d60a7002b3b72ccf4f9",
            "max": 1,
            "min": 0,
            "orientation": "horizontal",
            "style": "IPY_MODEL_9d61d403038b458aa06d1fdd0e9b7093",
            "value": 1
          }
        },
        "e597e143094a4639a505bed2896804b1": {
          "model_module": "@jupyter-widgets/base",
          "model_name": "LayoutModel",
          "model_module_version": "1.2.0",
          "state": {
            "_model_module": "@jupyter-widgets/base",
            "_model_module_version": "1.2.0",
            "_model_name": "LayoutModel",
            "_view_count": null,
            "_view_module": "@jupyter-widgets/base",
            "_view_module_version": "1.2.0",
            "_view_name": "LayoutView",
            "align_content": null,
            "align_items": null,
            "align_self": null,
            "border": null,
            "bottom": null,
            "display": null,
            "flex": null,
            "flex_flow": null,
            "grid_area": null,
            "grid_auto_columns": null,
            "grid_auto_flow": null,
            "grid_auto_rows": null,
            "grid_column": null,
            "grid_gap": null,
            "grid_row": null,
            "grid_template_areas": null,
            "grid_template_columns": null,
            "grid_template_rows": null,
            "height": null,
            "justify_content": null,
            "justify_items": null,
            "left": null,
            "margin": null,
            "max_height": null,
            "max_width": null,
            "min_height": null,
            "min_width": null,
            "object_fit": null,
            "object_position": null,
            "order": null,
            "overflow": null,
            "overflow_x": null,
            "overflow_y": null,
            "padding": null,
            "right": null,
            "top": null,
            "visibility": null,
            "width": null
          }
        },
        "1e041e41d84f4ae0bb83c118c068079e": {
          "model_module": "@jupyter-widgets/base",
          "model_name": "LayoutModel",
          "model_module_version": "1.2.0",
          "state": {
            "_model_module": "@jupyter-widgets/base",
            "_model_module_version": "1.2.0",
            "_model_name": "LayoutModel",
            "_view_count": null,
            "_view_module": "@jupyter-widgets/base",
            "_view_module_version": "1.2.0",
            "_view_name": "LayoutView",
            "align_content": null,
            "align_items": null,
            "align_self": null,
            "border": null,
            "bottom": null,
            "display": null,
            "flex": null,
            "flex_flow": null,
            "grid_area": null,
            "grid_auto_columns": null,
            "grid_auto_flow": null,
            "grid_auto_rows": null,
            "grid_column": null,
            "grid_gap": null,
            "grid_row": null,
            "grid_template_areas": null,
            "grid_template_columns": null,
            "grid_template_rows": null,
            "height": null,
            "justify_content": null,
            "justify_items": null,
            "left": null,
            "margin": null,
            "max_height": null,
            "max_width": null,
            "min_height": null,
            "min_width": null,
            "object_fit": null,
            "object_position": null,
            "order": null,
            "overflow": null,
            "overflow_x": null,
            "overflow_y": null,
            "padding": null,
            "right": null,
            "top": null,
            "visibility": null,
            "width": null
          }
        },
        "c43a5beb2eab4e7a89b08c0affd8754a": {
          "model_module": "@jupyter-widgets/controls",
          "model_name": "DescriptionStyleModel",
          "model_module_version": "1.5.0",
          "state": {
            "_model_module": "@jupyter-widgets/controls",
            "_model_module_version": "1.5.0",
            "_model_name": "DescriptionStyleModel",
            "_view_count": null,
            "_view_module": "@jupyter-widgets/base",
            "_view_module_version": "1.2.0",
            "_view_name": "StyleView",
            "description_width": ""
          }
        },
        "9d2afc9971314d60a7002b3b72ccf4f9": {
          "model_module": "@jupyter-widgets/base",
          "model_name": "LayoutModel",
          "model_module_version": "1.2.0",
          "state": {
            "_model_module": "@jupyter-widgets/base",
            "_model_module_version": "1.2.0",
            "_model_name": "LayoutModel",
            "_view_count": null,
            "_view_module": "@jupyter-widgets/base",
            "_view_module_version": "1.2.0",
            "_view_name": "LayoutView",
            "align_content": null,
            "align_items": null,
            "align_self": null,
            "border": null,
            "bottom": null,
            "display": null,
            "flex": null,
            "flex_flow": null,
            "grid_area": null,
            "grid_auto_columns": null,
            "grid_auto_flow": null,
            "grid_auto_rows": null,
            "grid_column": null,
            "grid_gap": null,
            "grid_row": null,
            "grid_template_areas": null,
            "grid_template_columns": null,
            "grid_template_rows": null,
            "height": null,
            "justify_content": null,
            "justify_items": null,
            "left": null,
            "margin": null,
            "max_height": null,
            "max_width": null,
            "min_height": null,
            "min_width": null,
            "object_fit": null,
            "object_position": null,
            "order": null,
            "overflow": null,
            "overflow_x": null,
            "overflow_y": null,
            "padding": null,
            "right": null,
            "top": null,
            "visibility": null,
            "width": null
          }
        },
        "9d61d403038b458aa06d1fdd0e9b7093": {
          "model_module": "@jupyter-widgets/controls",
          "model_name": "ProgressStyleModel",
          "model_module_version": "1.5.0",
          "state": {
            "_model_module": "@jupyter-widgets/controls",
            "_model_module_version": "1.5.0",
            "_model_name": "ProgressStyleModel",
            "_view_count": null,
            "_view_module": "@jupyter-widgets/base",
            "_view_module_version": "1.2.0",
            "_view_name": "StyleView",
            "bar_color": null,
            "description_width": ""
          }
        },
        "6236c01de09546d295359b612531e2d6": {
          "model_module": "@jupyter-widgets/controls",
          "model_name": "VBoxModel",
          "model_module_version": "1.5.0",
          "state": {
            "_dom_classes": [],
            "_model_module": "@jupyter-widgets/controls",
            "_model_module_version": "1.5.0",
            "_model_name": "VBoxModel",
            "_view_count": null,
            "_view_module": "@jupyter-widgets/controls",
            "_view_module_version": "1.5.0",
            "_view_name": "VBoxView",
            "box_style": "",
            "children": [
              "IPY_MODEL_61873a50e42d4736bc7ab2d6428a5e4d",
              "IPY_MODEL_c8f3305418af4ed4be22783ed18ed4bb"
            ],
            "layout": "IPY_MODEL_bddda0f2c8ae4a22af5074174e7818c7"
          }
        },
        "61873a50e42d4736bc7ab2d6428a5e4d": {
          "model_module": "@jupyter-widgets/controls",
          "model_name": "LabelModel",
          "model_module_version": "1.5.0",
          "state": {
            "_dom_classes": [],
            "_model_module": "@jupyter-widgets/controls",
            "_model_module_version": "1.5.0",
            "_model_name": "LabelModel",
            "_view_count": null,
            "_view_module": "@jupyter-widgets/controls",
            "_view_module_version": "1.5.0",
            "_view_name": "LabelView",
            "description": "",
            "description_tooltip": null,
            "layout": "IPY_MODEL_41bd43e0921c44f2aa8d61a8491e55e0",
            "placeholder": "​",
            "style": "IPY_MODEL_a7447f23940b4f5d8f1b2d5fee761ae9",
            "value": "0.010 MB of 0.010 MB uploaded\r"
          }
        },
        "c8f3305418af4ed4be22783ed18ed4bb": {
          "model_module": "@jupyter-widgets/controls",
          "model_name": "FloatProgressModel",
          "model_module_version": "1.5.0",
          "state": {
            "_dom_classes": [],
            "_model_module": "@jupyter-widgets/controls",
            "_model_module_version": "1.5.0",
            "_model_name": "FloatProgressModel",
            "_view_count": null,
            "_view_module": "@jupyter-widgets/controls",
            "_view_module_version": "1.5.0",
            "_view_name": "ProgressView",
            "bar_style": "",
            "description": "",
            "description_tooltip": null,
            "layout": "IPY_MODEL_e2b47e5d190e4340a82a6164e9dd0d22",
            "max": 1,
            "min": 0,
            "orientation": "horizontal",
            "style": "IPY_MODEL_df51a2725d06407291ca5064e9c0a28c",
            "value": 1
          }
        },
        "bddda0f2c8ae4a22af5074174e7818c7": {
          "model_module": "@jupyter-widgets/base",
          "model_name": "LayoutModel",
          "model_module_version": "1.2.0",
          "state": {
            "_model_module": "@jupyter-widgets/base",
            "_model_module_version": "1.2.0",
            "_model_name": "LayoutModel",
            "_view_count": null,
            "_view_module": "@jupyter-widgets/base",
            "_view_module_version": "1.2.0",
            "_view_name": "LayoutView",
            "align_content": null,
            "align_items": null,
            "align_self": null,
            "border": null,
            "bottom": null,
            "display": null,
            "flex": null,
            "flex_flow": null,
            "grid_area": null,
            "grid_auto_columns": null,
            "grid_auto_flow": null,
            "grid_auto_rows": null,
            "grid_column": null,
            "grid_gap": null,
            "grid_row": null,
            "grid_template_areas": null,
            "grid_template_columns": null,
            "grid_template_rows": null,
            "height": null,
            "justify_content": null,
            "justify_items": null,
            "left": null,
            "margin": null,
            "max_height": null,
            "max_width": null,
            "min_height": null,
            "min_width": null,
            "object_fit": null,
            "object_position": null,
            "order": null,
            "overflow": null,
            "overflow_x": null,
            "overflow_y": null,
            "padding": null,
            "right": null,
            "top": null,
            "visibility": null,
            "width": null
          }
        },
        "41bd43e0921c44f2aa8d61a8491e55e0": {
          "model_module": "@jupyter-widgets/base",
          "model_name": "LayoutModel",
          "model_module_version": "1.2.0",
          "state": {
            "_model_module": "@jupyter-widgets/base",
            "_model_module_version": "1.2.0",
            "_model_name": "LayoutModel",
            "_view_count": null,
            "_view_module": "@jupyter-widgets/base",
            "_view_module_version": "1.2.0",
            "_view_name": "LayoutView",
            "align_content": null,
            "align_items": null,
            "align_self": null,
            "border": null,
            "bottom": null,
            "display": null,
            "flex": null,
            "flex_flow": null,
            "grid_area": null,
            "grid_auto_columns": null,
            "grid_auto_flow": null,
            "grid_auto_rows": null,
            "grid_column": null,
            "grid_gap": null,
            "grid_row": null,
            "grid_template_areas": null,
            "grid_template_columns": null,
            "grid_template_rows": null,
            "height": null,
            "justify_content": null,
            "justify_items": null,
            "left": null,
            "margin": null,
            "max_height": null,
            "max_width": null,
            "min_height": null,
            "min_width": null,
            "object_fit": null,
            "object_position": null,
            "order": null,
            "overflow": null,
            "overflow_x": null,
            "overflow_y": null,
            "padding": null,
            "right": null,
            "top": null,
            "visibility": null,
            "width": null
          }
        },
        "a7447f23940b4f5d8f1b2d5fee761ae9": {
          "model_module": "@jupyter-widgets/controls",
          "model_name": "DescriptionStyleModel",
          "model_module_version": "1.5.0",
          "state": {
            "_model_module": "@jupyter-widgets/controls",
            "_model_module_version": "1.5.0",
            "_model_name": "DescriptionStyleModel",
            "_view_count": null,
            "_view_module": "@jupyter-widgets/base",
            "_view_module_version": "1.2.0",
            "_view_name": "StyleView",
            "description_width": ""
          }
        },
        "e2b47e5d190e4340a82a6164e9dd0d22": {
          "model_module": "@jupyter-widgets/base",
          "model_name": "LayoutModel",
          "model_module_version": "1.2.0",
          "state": {
            "_model_module": "@jupyter-widgets/base",
            "_model_module_version": "1.2.0",
            "_model_name": "LayoutModel",
            "_view_count": null,
            "_view_module": "@jupyter-widgets/base",
            "_view_module_version": "1.2.0",
            "_view_name": "LayoutView",
            "align_content": null,
            "align_items": null,
            "align_self": null,
            "border": null,
            "bottom": null,
            "display": null,
            "flex": null,
            "flex_flow": null,
            "grid_area": null,
            "grid_auto_columns": null,
            "grid_auto_flow": null,
            "grid_auto_rows": null,
            "grid_column": null,
            "grid_gap": null,
            "grid_row": null,
            "grid_template_areas": null,
            "grid_template_columns": null,
            "grid_template_rows": null,
            "height": null,
            "justify_content": null,
            "justify_items": null,
            "left": null,
            "margin": null,
            "max_height": null,
            "max_width": null,
            "min_height": null,
            "min_width": null,
            "object_fit": null,
            "object_position": null,
            "order": null,
            "overflow": null,
            "overflow_x": null,
            "overflow_y": null,
            "padding": null,
            "right": null,
            "top": null,
            "visibility": null,
            "width": null
          }
        },
        "df51a2725d06407291ca5064e9c0a28c": {
          "model_module": "@jupyter-widgets/controls",
          "model_name": "ProgressStyleModel",
          "model_module_version": "1.5.0",
          "state": {
            "_model_module": "@jupyter-widgets/controls",
            "_model_module_version": "1.5.0",
            "_model_name": "ProgressStyleModel",
            "_view_count": null,
            "_view_module": "@jupyter-widgets/base",
            "_view_module_version": "1.2.0",
            "_view_name": "StyleView",
            "bar_color": null,
            "description_width": ""
          }
        },
        "6e6f01d4987447fab6ca5950a6373e13": {
          "model_module": "@jupyter-widgets/controls",
          "model_name": "VBoxModel",
          "model_module_version": "1.5.0",
          "state": {
            "_dom_classes": [],
            "_model_module": "@jupyter-widgets/controls",
            "_model_module_version": "1.5.0",
            "_model_name": "VBoxModel",
            "_view_count": null,
            "_view_module": "@jupyter-widgets/controls",
            "_view_module_version": "1.5.0",
            "_view_name": "VBoxView",
            "box_style": "",
            "children": [
              "IPY_MODEL_0e87656405704e5ab9c82fa081600c6f",
              "IPY_MODEL_0a73937cfb8f4d07a737454deb61a06b"
            ],
            "layout": "IPY_MODEL_8706d6d3bc294d96ad93b368f92581db"
          }
        },
        "0e87656405704e5ab9c82fa081600c6f": {
          "model_module": "@jupyter-widgets/controls",
          "model_name": "LabelModel",
          "model_module_version": "1.5.0",
          "state": {
            "_dom_classes": [],
            "_model_module": "@jupyter-widgets/controls",
            "_model_module_version": "1.5.0",
            "_model_name": "LabelModel",
            "_view_count": null,
            "_view_module": "@jupyter-widgets/controls",
            "_view_module_version": "1.5.0",
            "_view_name": "LabelView",
            "description": "",
            "description_tooltip": null,
            "layout": "IPY_MODEL_d5c7306987474a07814b74763221ef67",
            "placeholder": "​",
            "style": "IPY_MODEL_d962ec537d014c79977a979b83bf785a",
            "value": "0.010 MB of 0.010 MB uploaded\r"
          }
        },
        "0a73937cfb8f4d07a737454deb61a06b": {
          "model_module": "@jupyter-widgets/controls",
          "model_name": "FloatProgressModel",
          "model_module_version": "1.5.0",
          "state": {
            "_dom_classes": [],
            "_model_module": "@jupyter-widgets/controls",
            "_model_module_version": "1.5.0",
            "_model_name": "FloatProgressModel",
            "_view_count": null,
            "_view_module": "@jupyter-widgets/controls",
            "_view_module_version": "1.5.0",
            "_view_name": "ProgressView",
            "bar_style": "",
            "description": "",
            "description_tooltip": null,
            "layout": "IPY_MODEL_68f797ea6436420bb03fbffd9238d49d",
            "max": 1,
            "min": 0,
            "orientation": "horizontal",
            "style": "IPY_MODEL_b9b2298658684348ac9e0104e0e5f744",
            "value": 1
          }
        },
        "8706d6d3bc294d96ad93b368f92581db": {
          "model_module": "@jupyter-widgets/base",
          "model_name": "LayoutModel",
          "model_module_version": "1.2.0",
          "state": {
            "_model_module": "@jupyter-widgets/base",
            "_model_module_version": "1.2.0",
            "_model_name": "LayoutModel",
            "_view_count": null,
            "_view_module": "@jupyter-widgets/base",
            "_view_module_version": "1.2.0",
            "_view_name": "LayoutView",
            "align_content": null,
            "align_items": null,
            "align_self": null,
            "border": null,
            "bottom": null,
            "display": null,
            "flex": null,
            "flex_flow": null,
            "grid_area": null,
            "grid_auto_columns": null,
            "grid_auto_flow": null,
            "grid_auto_rows": null,
            "grid_column": null,
            "grid_gap": null,
            "grid_row": null,
            "grid_template_areas": null,
            "grid_template_columns": null,
            "grid_template_rows": null,
            "height": null,
            "justify_content": null,
            "justify_items": null,
            "left": null,
            "margin": null,
            "max_height": null,
            "max_width": null,
            "min_height": null,
            "min_width": null,
            "object_fit": null,
            "object_position": null,
            "order": null,
            "overflow": null,
            "overflow_x": null,
            "overflow_y": null,
            "padding": null,
            "right": null,
            "top": null,
            "visibility": null,
            "width": null
          }
        },
        "d5c7306987474a07814b74763221ef67": {
          "model_module": "@jupyter-widgets/base",
          "model_name": "LayoutModel",
          "model_module_version": "1.2.0",
          "state": {
            "_model_module": "@jupyter-widgets/base",
            "_model_module_version": "1.2.0",
            "_model_name": "LayoutModel",
            "_view_count": null,
            "_view_module": "@jupyter-widgets/base",
            "_view_module_version": "1.2.0",
            "_view_name": "LayoutView",
            "align_content": null,
            "align_items": null,
            "align_self": null,
            "border": null,
            "bottom": null,
            "display": null,
            "flex": null,
            "flex_flow": null,
            "grid_area": null,
            "grid_auto_columns": null,
            "grid_auto_flow": null,
            "grid_auto_rows": null,
            "grid_column": null,
            "grid_gap": null,
            "grid_row": null,
            "grid_template_areas": null,
            "grid_template_columns": null,
            "grid_template_rows": null,
            "height": null,
            "justify_content": null,
            "justify_items": null,
            "left": null,
            "margin": null,
            "max_height": null,
            "max_width": null,
            "min_height": null,
            "min_width": null,
            "object_fit": null,
            "object_position": null,
            "order": null,
            "overflow": null,
            "overflow_x": null,
            "overflow_y": null,
            "padding": null,
            "right": null,
            "top": null,
            "visibility": null,
            "width": null
          }
        },
        "d962ec537d014c79977a979b83bf785a": {
          "model_module": "@jupyter-widgets/controls",
          "model_name": "DescriptionStyleModel",
          "model_module_version": "1.5.0",
          "state": {
            "_model_module": "@jupyter-widgets/controls",
            "_model_module_version": "1.5.0",
            "_model_name": "DescriptionStyleModel",
            "_view_count": null,
            "_view_module": "@jupyter-widgets/base",
            "_view_module_version": "1.2.0",
            "_view_name": "StyleView",
            "description_width": ""
          }
        },
        "68f797ea6436420bb03fbffd9238d49d": {
          "model_module": "@jupyter-widgets/base",
          "model_name": "LayoutModel",
          "model_module_version": "1.2.0",
          "state": {
            "_model_module": "@jupyter-widgets/base",
            "_model_module_version": "1.2.0",
            "_model_name": "LayoutModel",
            "_view_count": null,
            "_view_module": "@jupyter-widgets/base",
            "_view_module_version": "1.2.0",
            "_view_name": "LayoutView",
            "align_content": null,
            "align_items": null,
            "align_self": null,
            "border": null,
            "bottom": null,
            "display": null,
            "flex": null,
            "flex_flow": null,
            "grid_area": null,
            "grid_auto_columns": null,
            "grid_auto_flow": null,
            "grid_auto_rows": null,
            "grid_column": null,
            "grid_gap": null,
            "grid_row": null,
            "grid_template_areas": null,
            "grid_template_columns": null,
            "grid_template_rows": null,
            "height": null,
            "justify_content": null,
            "justify_items": null,
            "left": null,
            "margin": null,
            "max_height": null,
            "max_width": null,
            "min_height": null,
            "min_width": null,
            "object_fit": null,
            "object_position": null,
            "order": null,
            "overflow": null,
            "overflow_x": null,
            "overflow_y": null,
            "padding": null,
            "right": null,
            "top": null,
            "visibility": null,
            "width": null
          }
        },
        "b9b2298658684348ac9e0104e0e5f744": {
          "model_module": "@jupyter-widgets/controls",
          "model_name": "ProgressStyleModel",
          "model_module_version": "1.5.0",
          "state": {
            "_model_module": "@jupyter-widgets/controls",
            "_model_module_version": "1.5.0",
            "_model_name": "ProgressStyleModel",
            "_view_count": null,
            "_view_module": "@jupyter-widgets/base",
            "_view_module_version": "1.2.0",
            "_view_name": "StyleView",
            "bar_color": null,
            "description_width": ""
          }
        },
        "2ba44468d9664b27a8093bd1e41dca75": {
          "model_module": "@jupyter-widgets/controls",
          "model_name": "VBoxModel",
          "model_module_version": "1.5.0",
          "state": {
            "_dom_classes": [],
            "_model_module": "@jupyter-widgets/controls",
            "_model_module_version": "1.5.0",
            "_model_name": "VBoxModel",
            "_view_count": null,
            "_view_module": "@jupyter-widgets/controls",
            "_view_module_version": "1.5.0",
            "_view_name": "VBoxView",
            "box_style": "",
            "children": [
              "IPY_MODEL_216b391b1969419a879e4cbaf12e89c3",
              "IPY_MODEL_387c2ff208d34ff8806b72446b19fd59"
            ],
            "layout": "IPY_MODEL_4c4a4be4a0d94e5b9e4b539fe73ab7dd"
          }
        },
        "216b391b1969419a879e4cbaf12e89c3": {
          "model_module": "@jupyter-widgets/controls",
          "model_name": "LabelModel",
          "model_module_version": "1.5.0",
          "state": {
            "_dom_classes": [],
            "_model_module": "@jupyter-widgets/controls",
            "_model_module_version": "1.5.0",
            "_model_name": "LabelModel",
            "_view_count": null,
            "_view_module": "@jupyter-widgets/controls",
            "_view_module_version": "1.5.0",
            "_view_name": "LabelView",
            "description": "",
            "description_tooltip": null,
            "layout": "IPY_MODEL_6438ebb822db4965923c72c1ba3741b5",
            "placeholder": "​",
            "style": "IPY_MODEL_087233dad50c4d2b8e576cd193cab3b4",
            "value": "0.010 MB of 0.010 MB uploaded\r"
          }
        },
        "387c2ff208d34ff8806b72446b19fd59": {
          "model_module": "@jupyter-widgets/controls",
          "model_name": "FloatProgressModel",
          "model_module_version": "1.5.0",
          "state": {
            "_dom_classes": [],
            "_model_module": "@jupyter-widgets/controls",
            "_model_module_version": "1.5.0",
            "_model_name": "FloatProgressModel",
            "_view_count": null,
            "_view_module": "@jupyter-widgets/controls",
            "_view_module_version": "1.5.0",
            "_view_name": "ProgressView",
            "bar_style": "",
            "description": "",
            "description_tooltip": null,
            "layout": "IPY_MODEL_2723ab8d45b241829eefc58400a33ae6",
            "max": 1,
            "min": 0,
            "orientation": "horizontal",
            "style": "IPY_MODEL_e52ee048319043f8bcd5efd684f83005",
            "value": 1
          }
        },
        "4c4a4be4a0d94e5b9e4b539fe73ab7dd": {
          "model_module": "@jupyter-widgets/base",
          "model_name": "LayoutModel",
          "model_module_version": "1.2.0",
          "state": {
            "_model_module": "@jupyter-widgets/base",
            "_model_module_version": "1.2.0",
            "_model_name": "LayoutModel",
            "_view_count": null,
            "_view_module": "@jupyter-widgets/base",
            "_view_module_version": "1.2.0",
            "_view_name": "LayoutView",
            "align_content": null,
            "align_items": null,
            "align_self": null,
            "border": null,
            "bottom": null,
            "display": null,
            "flex": null,
            "flex_flow": null,
            "grid_area": null,
            "grid_auto_columns": null,
            "grid_auto_flow": null,
            "grid_auto_rows": null,
            "grid_column": null,
            "grid_gap": null,
            "grid_row": null,
            "grid_template_areas": null,
            "grid_template_columns": null,
            "grid_template_rows": null,
            "height": null,
            "justify_content": null,
            "justify_items": null,
            "left": null,
            "margin": null,
            "max_height": null,
            "max_width": null,
            "min_height": null,
            "min_width": null,
            "object_fit": null,
            "object_position": null,
            "order": null,
            "overflow": null,
            "overflow_x": null,
            "overflow_y": null,
            "padding": null,
            "right": null,
            "top": null,
            "visibility": null,
            "width": null
          }
        },
        "6438ebb822db4965923c72c1ba3741b5": {
          "model_module": "@jupyter-widgets/base",
          "model_name": "LayoutModel",
          "model_module_version": "1.2.0",
          "state": {
            "_model_module": "@jupyter-widgets/base",
            "_model_module_version": "1.2.0",
            "_model_name": "LayoutModel",
            "_view_count": null,
            "_view_module": "@jupyter-widgets/base",
            "_view_module_version": "1.2.0",
            "_view_name": "LayoutView",
            "align_content": null,
            "align_items": null,
            "align_self": null,
            "border": null,
            "bottom": null,
            "display": null,
            "flex": null,
            "flex_flow": null,
            "grid_area": null,
            "grid_auto_columns": null,
            "grid_auto_flow": null,
            "grid_auto_rows": null,
            "grid_column": null,
            "grid_gap": null,
            "grid_row": null,
            "grid_template_areas": null,
            "grid_template_columns": null,
            "grid_template_rows": null,
            "height": null,
            "justify_content": null,
            "justify_items": null,
            "left": null,
            "margin": null,
            "max_height": null,
            "max_width": null,
            "min_height": null,
            "min_width": null,
            "object_fit": null,
            "object_position": null,
            "order": null,
            "overflow": null,
            "overflow_x": null,
            "overflow_y": null,
            "padding": null,
            "right": null,
            "top": null,
            "visibility": null,
            "width": null
          }
        },
        "087233dad50c4d2b8e576cd193cab3b4": {
          "model_module": "@jupyter-widgets/controls",
          "model_name": "DescriptionStyleModel",
          "model_module_version": "1.5.0",
          "state": {
            "_model_module": "@jupyter-widgets/controls",
            "_model_module_version": "1.5.0",
            "_model_name": "DescriptionStyleModel",
            "_view_count": null,
            "_view_module": "@jupyter-widgets/base",
            "_view_module_version": "1.2.0",
            "_view_name": "StyleView",
            "description_width": ""
          }
        },
        "2723ab8d45b241829eefc58400a33ae6": {
          "model_module": "@jupyter-widgets/base",
          "model_name": "LayoutModel",
          "model_module_version": "1.2.0",
          "state": {
            "_model_module": "@jupyter-widgets/base",
            "_model_module_version": "1.2.0",
            "_model_name": "LayoutModel",
            "_view_count": null,
            "_view_module": "@jupyter-widgets/base",
            "_view_module_version": "1.2.0",
            "_view_name": "LayoutView",
            "align_content": null,
            "align_items": null,
            "align_self": null,
            "border": null,
            "bottom": null,
            "display": null,
            "flex": null,
            "flex_flow": null,
            "grid_area": null,
            "grid_auto_columns": null,
            "grid_auto_flow": null,
            "grid_auto_rows": null,
            "grid_column": null,
            "grid_gap": null,
            "grid_row": null,
            "grid_template_areas": null,
            "grid_template_columns": null,
            "grid_template_rows": null,
            "height": null,
            "justify_content": null,
            "justify_items": null,
            "left": null,
            "margin": null,
            "max_height": null,
            "max_width": null,
            "min_height": null,
            "min_width": null,
            "object_fit": null,
            "object_position": null,
            "order": null,
            "overflow": null,
            "overflow_x": null,
            "overflow_y": null,
            "padding": null,
            "right": null,
            "top": null,
            "visibility": null,
            "width": null
          }
        },
        "e52ee048319043f8bcd5efd684f83005": {
          "model_module": "@jupyter-widgets/controls",
          "model_name": "ProgressStyleModel",
          "model_module_version": "1.5.0",
          "state": {
            "_model_module": "@jupyter-widgets/controls",
            "_model_module_version": "1.5.0",
            "_model_name": "ProgressStyleModel",
            "_view_count": null,
            "_view_module": "@jupyter-widgets/base",
            "_view_module_version": "1.2.0",
            "_view_name": "StyleView",
            "bar_color": null,
            "description_width": ""
          }
        },
        "c31f78dc7aac44a195ed497181ab2bae": {
          "model_module": "@jupyter-widgets/controls",
          "model_name": "VBoxModel",
          "model_module_version": "1.5.0",
          "state": {
            "_dom_classes": [],
            "_model_module": "@jupyter-widgets/controls",
            "_model_module_version": "1.5.0",
            "_model_name": "VBoxModel",
            "_view_count": null,
            "_view_module": "@jupyter-widgets/controls",
            "_view_module_version": "1.5.0",
            "_view_name": "VBoxView",
            "box_style": "",
            "children": [
              "IPY_MODEL_0baa4dc3f09d45c182e47617b24ff0ee",
              "IPY_MODEL_d3ee10a48c4c44f0abe64cd03bad6f45"
            ],
            "layout": "IPY_MODEL_5a8d5669bca046fd9a801b5c8ebca279"
          }
        },
        "0baa4dc3f09d45c182e47617b24ff0ee": {
          "model_module": "@jupyter-widgets/controls",
          "model_name": "LabelModel",
          "model_module_version": "1.5.0",
          "state": {
            "_dom_classes": [],
            "_model_module": "@jupyter-widgets/controls",
            "_model_module_version": "1.5.0",
            "_model_name": "LabelModel",
            "_view_count": null,
            "_view_module": "@jupyter-widgets/controls",
            "_view_module_version": "1.5.0",
            "_view_name": "LabelView",
            "description": "",
            "description_tooltip": null,
            "layout": "IPY_MODEL_c262f18eb3534dfd8e499e86be1ca9d8",
            "placeholder": "​",
            "style": "IPY_MODEL_eb0a12de19534a26a48bc96856111d1a",
            "value": "0.010 MB of 0.010 MB uploaded\r"
          }
        },
        "d3ee10a48c4c44f0abe64cd03bad6f45": {
          "model_module": "@jupyter-widgets/controls",
          "model_name": "FloatProgressModel",
          "model_module_version": "1.5.0",
          "state": {
            "_dom_classes": [],
            "_model_module": "@jupyter-widgets/controls",
            "_model_module_version": "1.5.0",
            "_model_name": "FloatProgressModel",
            "_view_count": null,
            "_view_module": "@jupyter-widgets/controls",
            "_view_module_version": "1.5.0",
            "_view_name": "ProgressView",
            "bar_style": "",
            "description": "",
            "description_tooltip": null,
            "layout": "IPY_MODEL_3c58bde1de624a7b99d976ce6b4cf3ad",
            "max": 1,
            "min": 0,
            "orientation": "horizontal",
            "style": "IPY_MODEL_3e6d3f9f892248769da6c2f18447fde9",
            "value": 1
          }
        },
        "5a8d5669bca046fd9a801b5c8ebca279": {
          "model_module": "@jupyter-widgets/base",
          "model_name": "LayoutModel",
          "model_module_version": "1.2.0",
          "state": {
            "_model_module": "@jupyter-widgets/base",
            "_model_module_version": "1.2.0",
            "_model_name": "LayoutModel",
            "_view_count": null,
            "_view_module": "@jupyter-widgets/base",
            "_view_module_version": "1.2.0",
            "_view_name": "LayoutView",
            "align_content": null,
            "align_items": null,
            "align_self": null,
            "border": null,
            "bottom": null,
            "display": null,
            "flex": null,
            "flex_flow": null,
            "grid_area": null,
            "grid_auto_columns": null,
            "grid_auto_flow": null,
            "grid_auto_rows": null,
            "grid_column": null,
            "grid_gap": null,
            "grid_row": null,
            "grid_template_areas": null,
            "grid_template_columns": null,
            "grid_template_rows": null,
            "height": null,
            "justify_content": null,
            "justify_items": null,
            "left": null,
            "margin": null,
            "max_height": null,
            "max_width": null,
            "min_height": null,
            "min_width": null,
            "object_fit": null,
            "object_position": null,
            "order": null,
            "overflow": null,
            "overflow_x": null,
            "overflow_y": null,
            "padding": null,
            "right": null,
            "top": null,
            "visibility": null,
            "width": null
          }
        },
        "c262f18eb3534dfd8e499e86be1ca9d8": {
          "model_module": "@jupyter-widgets/base",
          "model_name": "LayoutModel",
          "model_module_version": "1.2.0",
          "state": {
            "_model_module": "@jupyter-widgets/base",
            "_model_module_version": "1.2.0",
            "_model_name": "LayoutModel",
            "_view_count": null,
            "_view_module": "@jupyter-widgets/base",
            "_view_module_version": "1.2.0",
            "_view_name": "LayoutView",
            "align_content": null,
            "align_items": null,
            "align_self": null,
            "border": null,
            "bottom": null,
            "display": null,
            "flex": null,
            "flex_flow": null,
            "grid_area": null,
            "grid_auto_columns": null,
            "grid_auto_flow": null,
            "grid_auto_rows": null,
            "grid_column": null,
            "grid_gap": null,
            "grid_row": null,
            "grid_template_areas": null,
            "grid_template_columns": null,
            "grid_template_rows": null,
            "height": null,
            "justify_content": null,
            "justify_items": null,
            "left": null,
            "margin": null,
            "max_height": null,
            "max_width": null,
            "min_height": null,
            "min_width": null,
            "object_fit": null,
            "object_position": null,
            "order": null,
            "overflow": null,
            "overflow_x": null,
            "overflow_y": null,
            "padding": null,
            "right": null,
            "top": null,
            "visibility": null,
            "width": null
          }
        },
        "eb0a12de19534a26a48bc96856111d1a": {
          "model_module": "@jupyter-widgets/controls",
          "model_name": "DescriptionStyleModel",
          "model_module_version": "1.5.0",
          "state": {
            "_model_module": "@jupyter-widgets/controls",
            "_model_module_version": "1.5.0",
            "_model_name": "DescriptionStyleModel",
            "_view_count": null,
            "_view_module": "@jupyter-widgets/base",
            "_view_module_version": "1.2.0",
            "_view_name": "StyleView",
            "description_width": ""
          }
        },
        "3c58bde1de624a7b99d976ce6b4cf3ad": {
          "model_module": "@jupyter-widgets/base",
          "model_name": "LayoutModel",
          "model_module_version": "1.2.0",
          "state": {
            "_model_module": "@jupyter-widgets/base",
            "_model_module_version": "1.2.0",
            "_model_name": "LayoutModel",
            "_view_count": null,
            "_view_module": "@jupyter-widgets/base",
            "_view_module_version": "1.2.0",
            "_view_name": "LayoutView",
            "align_content": null,
            "align_items": null,
            "align_self": null,
            "border": null,
            "bottom": null,
            "display": null,
            "flex": null,
            "flex_flow": null,
            "grid_area": null,
            "grid_auto_columns": null,
            "grid_auto_flow": null,
            "grid_auto_rows": null,
            "grid_column": null,
            "grid_gap": null,
            "grid_row": null,
            "grid_template_areas": null,
            "grid_template_columns": null,
            "grid_template_rows": null,
            "height": null,
            "justify_content": null,
            "justify_items": null,
            "left": null,
            "margin": null,
            "max_height": null,
            "max_width": null,
            "min_height": null,
            "min_width": null,
            "object_fit": null,
            "object_position": null,
            "order": null,
            "overflow": null,
            "overflow_x": null,
            "overflow_y": null,
            "padding": null,
            "right": null,
            "top": null,
            "visibility": null,
            "width": null
          }
        },
        "3e6d3f9f892248769da6c2f18447fde9": {
          "model_module": "@jupyter-widgets/controls",
          "model_name": "ProgressStyleModel",
          "model_module_version": "1.5.0",
          "state": {
            "_model_module": "@jupyter-widgets/controls",
            "_model_module_version": "1.5.0",
            "_model_name": "ProgressStyleModel",
            "_view_count": null,
            "_view_module": "@jupyter-widgets/base",
            "_view_module_version": "1.2.0",
            "_view_name": "StyleView",
            "bar_color": null,
            "description_width": ""
          }
        },
        "c0f7a21c84704700bc47244549653810": {
          "model_module": "@jupyter-widgets/controls",
          "model_name": "VBoxModel",
          "model_module_version": "1.5.0",
          "state": {
            "_dom_classes": [],
            "_model_module": "@jupyter-widgets/controls",
            "_model_module_version": "1.5.0",
            "_model_name": "VBoxModel",
            "_view_count": null,
            "_view_module": "@jupyter-widgets/controls",
            "_view_module_version": "1.5.0",
            "_view_name": "VBoxView",
            "box_style": "",
            "children": [
              "IPY_MODEL_e34385a6a15b4cad912a158befabc1e0",
              "IPY_MODEL_0b23b677102f46e081055d11ec73a364"
            ],
            "layout": "IPY_MODEL_793e6bf3442a4e46b9742c3ad2331f8c"
          }
        },
        "e34385a6a15b4cad912a158befabc1e0": {
          "model_module": "@jupyter-widgets/controls",
          "model_name": "LabelModel",
          "model_module_version": "1.5.0",
          "state": {
            "_dom_classes": [],
            "_model_module": "@jupyter-widgets/controls",
            "_model_module_version": "1.5.0",
            "_model_name": "LabelModel",
            "_view_count": null,
            "_view_module": "@jupyter-widgets/controls",
            "_view_module_version": "1.5.0",
            "_view_name": "LabelView",
            "description": "",
            "description_tooltip": null,
            "layout": "IPY_MODEL_bbe6d86d27294911aa60d4d798e1851a",
            "placeholder": "​",
            "style": "IPY_MODEL_56b7902a34fc4a65b06cd80b20f3794d",
            "value": "0.010 MB of 0.010 MB uploaded\r"
          }
        },
        "0b23b677102f46e081055d11ec73a364": {
          "model_module": "@jupyter-widgets/controls",
          "model_name": "FloatProgressModel",
          "model_module_version": "1.5.0",
          "state": {
            "_dom_classes": [],
            "_model_module": "@jupyter-widgets/controls",
            "_model_module_version": "1.5.0",
            "_model_name": "FloatProgressModel",
            "_view_count": null,
            "_view_module": "@jupyter-widgets/controls",
            "_view_module_version": "1.5.0",
            "_view_name": "ProgressView",
            "bar_style": "",
            "description": "",
            "description_tooltip": null,
            "layout": "IPY_MODEL_5b309fd24aab4c0dbe0c8f08e48c18b4",
            "max": 1,
            "min": 0,
            "orientation": "horizontal",
            "style": "IPY_MODEL_7730540532d742c0a8082377d985f53c",
            "value": 1
          }
        },
        "793e6bf3442a4e46b9742c3ad2331f8c": {
          "model_module": "@jupyter-widgets/base",
          "model_name": "LayoutModel",
          "model_module_version": "1.2.0",
          "state": {
            "_model_module": "@jupyter-widgets/base",
            "_model_module_version": "1.2.0",
            "_model_name": "LayoutModel",
            "_view_count": null,
            "_view_module": "@jupyter-widgets/base",
            "_view_module_version": "1.2.0",
            "_view_name": "LayoutView",
            "align_content": null,
            "align_items": null,
            "align_self": null,
            "border": null,
            "bottom": null,
            "display": null,
            "flex": null,
            "flex_flow": null,
            "grid_area": null,
            "grid_auto_columns": null,
            "grid_auto_flow": null,
            "grid_auto_rows": null,
            "grid_column": null,
            "grid_gap": null,
            "grid_row": null,
            "grid_template_areas": null,
            "grid_template_columns": null,
            "grid_template_rows": null,
            "height": null,
            "justify_content": null,
            "justify_items": null,
            "left": null,
            "margin": null,
            "max_height": null,
            "max_width": null,
            "min_height": null,
            "min_width": null,
            "object_fit": null,
            "object_position": null,
            "order": null,
            "overflow": null,
            "overflow_x": null,
            "overflow_y": null,
            "padding": null,
            "right": null,
            "top": null,
            "visibility": null,
            "width": null
          }
        },
        "bbe6d86d27294911aa60d4d798e1851a": {
          "model_module": "@jupyter-widgets/base",
          "model_name": "LayoutModel",
          "model_module_version": "1.2.0",
          "state": {
            "_model_module": "@jupyter-widgets/base",
            "_model_module_version": "1.2.0",
            "_model_name": "LayoutModel",
            "_view_count": null,
            "_view_module": "@jupyter-widgets/base",
            "_view_module_version": "1.2.0",
            "_view_name": "LayoutView",
            "align_content": null,
            "align_items": null,
            "align_self": null,
            "border": null,
            "bottom": null,
            "display": null,
            "flex": null,
            "flex_flow": null,
            "grid_area": null,
            "grid_auto_columns": null,
            "grid_auto_flow": null,
            "grid_auto_rows": null,
            "grid_column": null,
            "grid_gap": null,
            "grid_row": null,
            "grid_template_areas": null,
            "grid_template_columns": null,
            "grid_template_rows": null,
            "height": null,
            "justify_content": null,
            "justify_items": null,
            "left": null,
            "margin": null,
            "max_height": null,
            "max_width": null,
            "min_height": null,
            "min_width": null,
            "object_fit": null,
            "object_position": null,
            "order": null,
            "overflow": null,
            "overflow_x": null,
            "overflow_y": null,
            "padding": null,
            "right": null,
            "top": null,
            "visibility": null,
            "width": null
          }
        },
        "56b7902a34fc4a65b06cd80b20f3794d": {
          "model_module": "@jupyter-widgets/controls",
          "model_name": "DescriptionStyleModel",
          "model_module_version": "1.5.0",
          "state": {
            "_model_module": "@jupyter-widgets/controls",
            "_model_module_version": "1.5.0",
            "_model_name": "DescriptionStyleModel",
            "_view_count": null,
            "_view_module": "@jupyter-widgets/base",
            "_view_module_version": "1.2.0",
            "_view_name": "StyleView",
            "description_width": ""
          }
        },
        "5b309fd24aab4c0dbe0c8f08e48c18b4": {
          "model_module": "@jupyter-widgets/base",
          "model_name": "LayoutModel",
          "model_module_version": "1.2.0",
          "state": {
            "_model_module": "@jupyter-widgets/base",
            "_model_module_version": "1.2.0",
            "_model_name": "LayoutModel",
            "_view_count": null,
            "_view_module": "@jupyter-widgets/base",
            "_view_module_version": "1.2.0",
            "_view_name": "LayoutView",
            "align_content": null,
            "align_items": null,
            "align_self": null,
            "border": null,
            "bottom": null,
            "display": null,
            "flex": null,
            "flex_flow": null,
            "grid_area": null,
            "grid_auto_columns": null,
            "grid_auto_flow": null,
            "grid_auto_rows": null,
            "grid_column": null,
            "grid_gap": null,
            "grid_row": null,
            "grid_template_areas": null,
            "grid_template_columns": null,
            "grid_template_rows": null,
            "height": null,
            "justify_content": null,
            "justify_items": null,
            "left": null,
            "margin": null,
            "max_height": null,
            "max_width": null,
            "min_height": null,
            "min_width": null,
            "object_fit": null,
            "object_position": null,
            "order": null,
            "overflow": null,
            "overflow_x": null,
            "overflow_y": null,
            "padding": null,
            "right": null,
            "top": null,
            "visibility": null,
            "width": null
          }
        },
        "7730540532d742c0a8082377d985f53c": {
          "model_module": "@jupyter-widgets/controls",
          "model_name": "ProgressStyleModel",
          "model_module_version": "1.5.0",
          "state": {
            "_model_module": "@jupyter-widgets/controls",
            "_model_module_version": "1.5.0",
            "_model_name": "ProgressStyleModel",
            "_view_count": null,
            "_view_module": "@jupyter-widgets/base",
            "_view_module_version": "1.2.0",
            "_view_name": "StyleView",
            "bar_color": null,
            "description_width": ""
          }
        },
        "bc55cce558714274b0b38cf868a1e9d2": {
          "model_module": "@jupyter-widgets/controls",
          "model_name": "VBoxModel",
          "model_module_version": "1.5.0",
          "state": {
            "_dom_classes": [],
            "_model_module": "@jupyter-widgets/controls",
            "_model_module_version": "1.5.0",
            "_model_name": "VBoxModel",
            "_view_count": null,
            "_view_module": "@jupyter-widgets/controls",
            "_view_module_version": "1.5.0",
            "_view_name": "VBoxView",
            "box_style": "",
            "children": [
              "IPY_MODEL_0126e4c0747543d1bd3e916ee962f915",
              "IPY_MODEL_4a907817c6c44779bdd4ff357fa0a29e"
            ],
            "layout": "IPY_MODEL_e694eff69cc8442db8e044a5d5f1e99b"
          }
        },
        "0126e4c0747543d1bd3e916ee962f915": {
          "model_module": "@jupyter-widgets/controls",
          "model_name": "LabelModel",
          "model_module_version": "1.5.0",
          "state": {
            "_dom_classes": [],
            "_model_module": "@jupyter-widgets/controls",
            "_model_module_version": "1.5.0",
            "_model_name": "LabelModel",
            "_view_count": null,
            "_view_module": "@jupyter-widgets/controls",
            "_view_module_version": "1.5.0",
            "_view_name": "LabelView",
            "description": "",
            "description_tooltip": null,
            "layout": "IPY_MODEL_d379324daba8465193c0f7aa7548d521",
            "placeholder": "​",
            "style": "IPY_MODEL_3d70544d588e462d8e54dc45d6d1d956",
            "value": "0.010 MB of 0.010 MB uploaded\r"
          }
        },
        "4a907817c6c44779bdd4ff357fa0a29e": {
          "model_module": "@jupyter-widgets/controls",
          "model_name": "FloatProgressModel",
          "model_module_version": "1.5.0",
          "state": {
            "_dom_classes": [],
            "_model_module": "@jupyter-widgets/controls",
            "_model_module_version": "1.5.0",
            "_model_name": "FloatProgressModel",
            "_view_count": null,
            "_view_module": "@jupyter-widgets/controls",
            "_view_module_version": "1.5.0",
            "_view_name": "ProgressView",
            "bar_style": "",
            "description": "",
            "description_tooltip": null,
            "layout": "IPY_MODEL_4756e56b20de4ccda292a0115d66b979",
            "max": 1,
            "min": 0,
            "orientation": "horizontal",
            "style": "IPY_MODEL_5ca593f2456041509aeb44f088ae3c2e",
            "value": 1
          }
        },
        "e694eff69cc8442db8e044a5d5f1e99b": {
          "model_module": "@jupyter-widgets/base",
          "model_name": "LayoutModel",
          "model_module_version": "1.2.0",
          "state": {
            "_model_module": "@jupyter-widgets/base",
            "_model_module_version": "1.2.0",
            "_model_name": "LayoutModel",
            "_view_count": null,
            "_view_module": "@jupyter-widgets/base",
            "_view_module_version": "1.2.0",
            "_view_name": "LayoutView",
            "align_content": null,
            "align_items": null,
            "align_self": null,
            "border": null,
            "bottom": null,
            "display": null,
            "flex": null,
            "flex_flow": null,
            "grid_area": null,
            "grid_auto_columns": null,
            "grid_auto_flow": null,
            "grid_auto_rows": null,
            "grid_column": null,
            "grid_gap": null,
            "grid_row": null,
            "grid_template_areas": null,
            "grid_template_columns": null,
            "grid_template_rows": null,
            "height": null,
            "justify_content": null,
            "justify_items": null,
            "left": null,
            "margin": null,
            "max_height": null,
            "max_width": null,
            "min_height": null,
            "min_width": null,
            "object_fit": null,
            "object_position": null,
            "order": null,
            "overflow": null,
            "overflow_x": null,
            "overflow_y": null,
            "padding": null,
            "right": null,
            "top": null,
            "visibility": null,
            "width": null
          }
        },
        "d379324daba8465193c0f7aa7548d521": {
          "model_module": "@jupyter-widgets/base",
          "model_name": "LayoutModel",
          "model_module_version": "1.2.0",
          "state": {
            "_model_module": "@jupyter-widgets/base",
            "_model_module_version": "1.2.0",
            "_model_name": "LayoutModel",
            "_view_count": null,
            "_view_module": "@jupyter-widgets/base",
            "_view_module_version": "1.2.0",
            "_view_name": "LayoutView",
            "align_content": null,
            "align_items": null,
            "align_self": null,
            "border": null,
            "bottom": null,
            "display": null,
            "flex": null,
            "flex_flow": null,
            "grid_area": null,
            "grid_auto_columns": null,
            "grid_auto_flow": null,
            "grid_auto_rows": null,
            "grid_column": null,
            "grid_gap": null,
            "grid_row": null,
            "grid_template_areas": null,
            "grid_template_columns": null,
            "grid_template_rows": null,
            "height": null,
            "justify_content": null,
            "justify_items": null,
            "left": null,
            "margin": null,
            "max_height": null,
            "max_width": null,
            "min_height": null,
            "min_width": null,
            "object_fit": null,
            "object_position": null,
            "order": null,
            "overflow": null,
            "overflow_x": null,
            "overflow_y": null,
            "padding": null,
            "right": null,
            "top": null,
            "visibility": null,
            "width": null
          }
        },
        "3d70544d588e462d8e54dc45d6d1d956": {
          "model_module": "@jupyter-widgets/controls",
          "model_name": "DescriptionStyleModel",
          "model_module_version": "1.5.0",
          "state": {
            "_model_module": "@jupyter-widgets/controls",
            "_model_module_version": "1.5.0",
            "_model_name": "DescriptionStyleModel",
            "_view_count": null,
            "_view_module": "@jupyter-widgets/base",
            "_view_module_version": "1.2.0",
            "_view_name": "StyleView",
            "description_width": ""
          }
        },
        "4756e56b20de4ccda292a0115d66b979": {
          "model_module": "@jupyter-widgets/base",
          "model_name": "LayoutModel",
          "model_module_version": "1.2.0",
          "state": {
            "_model_module": "@jupyter-widgets/base",
            "_model_module_version": "1.2.0",
            "_model_name": "LayoutModel",
            "_view_count": null,
            "_view_module": "@jupyter-widgets/base",
            "_view_module_version": "1.2.0",
            "_view_name": "LayoutView",
            "align_content": null,
            "align_items": null,
            "align_self": null,
            "border": null,
            "bottom": null,
            "display": null,
            "flex": null,
            "flex_flow": null,
            "grid_area": null,
            "grid_auto_columns": null,
            "grid_auto_flow": null,
            "grid_auto_rows": null,
            "grid_column": null,
            "grid_gap": null,
            "grid_row": null,
            "grid_template_areas": null,
            "grid_template_columns": null,
            "grid_template_rows": null,
            "height": null,
            "justify_content": null,
            "justify_items": null,
            "left": null,
            "margin": null,
            "max_height": null,
            "max_width": null,
            "min_height": null,
            "min_width": null,
            "object_fit": null,
            "object_position": null,
            "order": null,
            "overflow": null,
            "overflow_x": null,
            "overflow_y": null,
            "padding": null,
            "right": null,
            "top": null,
            "visibility": null,
            "width": null
          }
        },
        "5ca593f2456041509aeb44f088ae3c2e": {
          "model_module": "@jupyter-widgets/controls",
          "model_name": "ProgressStyleModel",
          "model_module_version": "1.5.0",
          "state": {
            "_model_module": "@jupyter-widgets/controls",
            "_model_module_version": "1.5.0",
            "_model_name": "ProgressStyleModel",
            "_view_count": null,
            "_view_module": "@jupyter-widgets/base",
            "_view_module_version": "1.2.0",
            "_view_name": "StyleView",
            "bar_color": null,
            "description_width": ""
          }
        },
        "691e931eb4d14784a8f69c650fbc5bf6": {
          "model_module": "@jupyter-widgets/controls",
          "model_name": "VBoxModel",
          "model_module_version": "1.5.0",
          "state": {
            "_dom_classes": [],
            "_model_module": "@jupyter-widgets/controls",
            "_model_module_version": "1.5.0",
            "_model_name": "VBoxModel",
            "_view_count": null,
            "_view_module": "@jupyter-widgets/controls",
            "_view_module_version": "1.5.0",
            "_view_name": "VBoxView",
            "box_style": "",
            "children": [
              "IPY_MODEL_7468613c55ae430fa9c634d2382eaf04",
              "IPY_MODEL_cb845ff044c64c1f9cef67b91433d418"
            ],
            "layout": "IPY_MODEL_273d3e4a181744628efb15295415fe7f"
          }
        },
        "7468613c55ae430fa9c634d2382eaf04": {
          "model_module": "@jupyter-widgets/controls",
          "model_name": "LabelModel",
          "model_module_version": "1.5.0",
          "state": {
            "_dom_classes": [],
            "_model_module": "@jupyter-widgets/controls",
            "_model_module_version": "1.5.0",
            "_model_name": "LabelModel",
            "_view_count": null,
            "_view_module": "@jupyter-widgets/controls",
            "_view_module_version": "1.5.0",
            "_view_name": "LabelView",
            "description": "",
            "description_tooltip": null,
            "layout": "IPY_MODEL_2f9aaf79c9784a56a525e5fb89052a34",
            "placeholder": "​",
            "style": "IPY_MODEL_5efbf52d365c47c8862872b06d9e901d",
            "value": "0.010 MB of 0.010 MB uploaded\r"
          }
        },
        "cb845ff044c64c1f9cef67b91433d418": {
          "model_module": "@jupyter-widgets/controls",
          "model_name": "FloatProgressModel",
          "model_module_version": "1.5.0",
          "state": {
            "_dom_classes": [],
            "_model_module": "@jupyter-widgets/controls",
            "_model_module_version": "1.5.0",
            "_model_name": "FloatProgressModel",
            "_view_count": null,
            "_view_module": "@jupyter-widgets/controls",
            "_view_module_version": "1.5.0",
            "_view_name": "ProgressView",
            "bar_style": "",
            "description": "",
            "description_tooltip": null,
            "layout": "IPY_MODEL_1c5dc0df60734c2188c87af3b13a82cb",
            "max": 1,
            "min": 0,
            "orientation": "horizontal",
            "style": "IPY_MODEL_280131557db74c13be9dc841c6835ac2",
            "value": 1
          }
        },
        "273d3e4a181744628efb15295415fe7f": {
          "model_module": "@jupyter-widgets/base",
          "model_name": "LayoutModel",
          "model_module_version": "1.2.0",
          "state": {
            "_model_module": "@jupyter-widgets/base",
            "_model_module_version": "1.2.0",
            "_model_name": "LayoutModel",
            "_view_count": null,
            "_view_module": "@jupyter-widgets/base",
            "_view_module_version": "1.2.0",
            "_view_name": "LayoutView",
            "align_content": null,
            "align_items": null,
            "align_self": null,
            "border": null,
            "bottom": null,
            "display": null,
            "flex": null,
            "flex_flow": null,
            "grid_area": null,
            "grid_auto_columns": null,
            "grid_auto_flow": null,
            "grid_auto_rows": null,
            "grid_column": null,
            "grid_gap": null,
            "grid_row": null,
            "grid_template_areas": null,
            "grid_template_columns": null,
            "grid_template_rows": null,
            "height": null,
            "justify_content": null,
            "justify_items": null,
            "left": null,
            "margin": null,
            "max_height": null,
            "max_width": null,
            "min_height": null,
            "min_width": null,
            "object_fit": null,
            "object_position": null,
            "order": null,
            "overflow": null,
            "overflow_x": null,
            "overflow_y": null,
            "padding": null,
            "right": null,
            "top": null,
            "visibility": null,
            "width": null
          }
        },
        "2f9aaf79c9784a56a525e5fb89052a34": {
          "model_module": "@jupyter-widgets/base",
          "model_name": "LayoutModel",
          "model_module_version": "1.2.0",
          "state": {
            "_model_module": "@jupyter-widgets/base",
            "_model_module_version": "1.2.0",
            "_model_name": "LayoutModel",
            "_view_count": null,
            "_view_module": "@jupyter-widgets/base",
            "_view_module_version": "1.2.0",
            "_view_name": "LayoutView",
            "align_content": null,
            "align_items": null,
            "align_self": null,
            "border": null,
            "bottom": null,
            "display": null,
            "flex": null,
            "flex_flow": null,
            "grid_area": null,
            "grid_auto_columns": null,
            "grid_auto_flow": null,
            "grid_auto_rows": null,
            "grid_column": null,
            "grid_gap": null,
            "grid_row": null,
            "grid_template_areas": null,
            "grid_template_columns": null,
            "grid_template_rows": null,
            "height": null,
            "justify_content": null,
            "justify_items": null,
            "left": null,
            "margin": null,
            "max_height": null,
            "max_width": null,
            "min_height": null,
            "min_width": null,
            "object_fit": null,
            "object_position": null,
            "order": null,
            "overflow": null,
            "overflow_x": null,
            "overflow_y": null,
            "padding": null,
            "right": null,
            "top": null,
            "visibility": null,
            "width": null
          }
        },
        "5efbf52d365c47c8862872b06d9e901d": {
          "model_module": "@jupyter-widgets/controls",
          "model_name": "DescriptionStyleModel",
          "model_module_version": "1.5.0",
          "state": {
            "_model_module": "@jupyter-widgets/controls",
            "_model_module_version": "1.5.0",
            "_model_name": "DescriptionStyleModel",
            "_view_count": null,
            "_view_module": "@jupyter-widgets/base",
            "_view_module_version": "1.2.0",
            "_view_name": "StyleView",
            "description_width": ""
          }
        },
        "1c5dc0df60734c2188c87af3b13a82cb": {
          "model_module": "@jupyter-widgets/base",
          "model_name": "LayoutModel",
          "model_module_version": "1.2.0",
          "state": {
            "_model_module": "@jupyter-widgets/base",
            "_model_module_version": "1.2.0",
            "_model_name": "LayoutModel",
            "_view_count": null,
            "_view_module": "@jupyter-widgets/base",
            "_view_module_version": "1.2.0",
            "_view_name": "LayoutView",
            "align_content": null,
            "align_items": null,
            "align_self": null,
            "border": null,
            "bottom": null,
            "display": null,
            "flex": null,
            "flex_flow": null,
            "grid_area": null,
            "grid_auto_columns": null,
            "grid_auto_flow": null,
            "grid_auto_rows": null,
            "grid_column": null,
            "grid_gap": null,
            "grid_row": null,
            "grid_template_areas": null,
            "grid_template_columns": null,
            "grid_template_rows": null,
            "height": null,
            "justify_content": null,
            "justify_items": null,
            "left": null,
            "margin": null,
            "max_height": null,
            "max_width": null,
            "min_height": null,
            "min_width": null,
            "object_fit": null,
            "object_position": null,
            "order": null,
            "overflow": null,
            "overflow_x": null,
            "overflow_y": null,
            "padding": null,
            "right": null,
            "top": null,
            "visibility": null,
            "width": null
          }
        },
        "280131557db74c13be9dc841c6835ac2": {
          "model_module": "@jupyter-widgets/controls",
          "model_name": "ProgressStyleModel",
          "model_module_version": "1.5.0",
          "state": {
            "_model_module": "@jupyter-widgets/controls",
            "_model_module_version": "1.5.0",
            "_model_name": "ProgressStyleModel",
            "_view_count": null,
            "_view_module": "@jupyter-widgets/base",
            "_view_module_version": "1.2.0",
            "_view_name": "StyleView",
            "bar_color": null,
            "description_width": ""
          }
        },
        "8acc6a94467d42b29a37fc235be56a86": {
          "model_module": "@jupyter-widgets/controls",
          "model_name": "VBoxModel",
          "model_module_version": "1.5.0",
          "state": {
            "_dom_classes": [],
            "_model_module": "@jupyter-widgets/controls",
            "_model_module_version": "1.5.0",
            "_model_name": "VBoxModel",
            "_view_count": null,
            "_view_module": "@jupyter-widgets/controls",
            "_view_module_version": "1.5.0",
            "_view_name": "VBoxView",
            "box_style": "",
            "children": [
              "IPY_MODEL_7e36756aecaf41a69f7897dc60e373b6",
              "IPY_MODEL_6f2d2dd217254620910b9db1ff626d7c"
            ],
            "layout": "IPY_MODEL_7621709dee0b41cb8ded56324bd2d043"
          }
        },
        "7e36756aecaf41a69f7897dc60e373b6": {
          "model_module": "@jupyter-widgets/controls",
          "model_name": "LabelModel",
          "model_module_version": "1.5.0",
          "state": {
            "_dom_classes": [],
            "_model_module": "@jupyter-widgets/controls",
            "_model_module_version": "1.5.0",
            "_model_name": "LabelModel",
            "_view_count": null,
            "_view_module": "@jupyter-widgets/controls",
            "_view_module_version": "1.5.0",
            "_view_name": "LabelView",
            "description": "",
            "description_tooltip": null,
            "layout": "IPY_MODEL_fc42d1f7fe9b45d499266425d5176bbf",
            "placeholder": "​",
            "style": "IPY_MODEL_78f71d872fae4f2a87033655603afc18",
            "value": "0.010 MB of 0.010 MB uploaded\r"
          }
        },
        "6f2d2dd217254620910b9db1ff626d7c": {
          "model_module": "@jupyter-widgets/controls",
          "model_name": "FloatProgressModel",
          "model_module_version": "1.5.0",
          "state": {
            "_dom_classes": [],
            "_model_module": "@jupyter-widgets/controls",
            "_model_module_version": "1.5.0",
            "_model_name": "FloatProgressModel",
            "_view_count": null,
            "_view_module": "@jupyter-widgets/controls",
            "_view_module_version": "1.5.0",
            "_view_name": "ProgressView",
            "bar_style": "",
            "description": "",
            "description_tooltip": null,
            "layout": "IPY_MODEL_ff5604fad0eb4cb3addf5a29fda86f74",
            "max": 1,
            "min": 0,
            "orientation": "horizontal",
            "style": "IPY_MODEL_c3d0e8ef495745acb1ee6791958afc57",
            "value": 1
          }
        },
        "7621709dee0b41cb8ded56324bd2d043": {
          "model_module": "@jupyter-widgets/base",
          "model_name": "LayoutModel",
          "model_module_version": "1.2.0",
          "state": {
            "_model_module": "@jupyter-widgets/base",
            "_model_module_version": "1.2.0",
            "_model_name": "LayoutModel",
            "_view_count": null,
            "_view_module": "@jupyter-widgets/base",
            "_view_module_version": "1.2.0",
            "_view_name": "LayoutView",
            "align_content": null,
            "align_items": null,
            "align_self": null,
            "border": null,
            "bottom": null,
            "display": null,
            "flex": null,
            "flex_flow": null,
            "grid_area": null,
            "grid_auto_columns": null,
            "grid_auto_flow": null,
            "grid_auto_rows": null,
            "grid_column": null,
            "grid_gap": null,
            "grid_row": null,
            "grid_template_areas": null,
            "grid_template_columns": null,
            "grid_template_rows": null,
            "height": null,
            "justify_content": null,
            "justify_items": null,
            "left": null,
            "margin": null,
            "max_height": null,
            "max_width": null,
            "min_height": null,
            "min_width": null,
            "object_fit": null,
            "object_position": null,
            "order": null,
            "overflow": null,
            "overflow_x": null,
            "overflow_y": null,
            "padding": null,
            "right": null,
            "top": null,
            "visibility": null,
            "width": null
          }
        },
        "fc42d1f7fe9b45d499266425d5176bbf": {
          "model_module": "@jupyter-widgets/base",
          "model_name": "LayoutModel",
          "model_module_version": "1.2.0",
          "state": {
            "_model_module": "@jupyter-widgets/base",
            "_model_module_version": "1.2.0",
            "_model_name": "LayoutModel",
            "_view_count": null,
            "_view_module": "@jupyter-widgets/base",
            "_view_module_version": "1.2.0",
            "_view_name": "LayoutView",
            "align_content": null,
            "align_items": null,
            "align_self": null,
            "border": null,
            "bottom": null,
            "display": null,
            "flex": null,
            "flex_flow": null,
            "grid_area": null,
            "grid_auto_columns": null,
            "grid_auto_flow": null,
            "grid_auto_rows": null,
            "grid_column": null,
            "grid_gap": null,
            "grid_row": null,
            "grid_template_areas": null,
            "grid_template_columns": null,
            "grid_template_rows": null,
            "height": null,
            "justify_content": null,
            "justify_items": null,
            "left": null,
            "margin": null,
            "max_height": null,
            "max_width": null,
            "min_height": null,
            "min_width": null,
            "object_fit": null,
            "object_position": null,
            "order": null,
            "overflow": null,
            "overflow_x": null,
            "overflow_y": null,
            "padding": null,
            "right": null,
            "top": null,
            "visibility": null,
            "width": null
          }
        },
        "78f71d872fae4f2a87033655603afc18": {
          "model_module": "@jupyter-widgets/controls",
          "model_name": "DescriptionStyleModel",
          "model_module_version": "1.5.0",
          "state": {
            "_model_module": "@jupyter-widgets/controls",
            "_model_module_version": "1.5.0",
            "_model_name": "DescriptionStyleModel",
            "_view_count": null,
            "_view_module": "@jupyter-widgets/base",
            "_view_module_version": "1.2.0",
            "_view_name": "StyleView",
            "description_width": ""
          }
        },
        "ff5604fad0eb4cb3addf5a29fda86f74": {
          "model_module": "@jupyter-widgets/base",
          "model_name": "LayoutModel",
          "model_module_version": "1.2.0",
          "state": {
            "_model_module": "@jupyter-widgets/base",
            "_model_module_version": "1.2.0",
            "_model_name": "LayoutModel",
            "_view_count": null,
            "_view_module": "@jupyter-widgets/base",
            "_view_module_version": "1.2.0",
            "_view_name": "LayoutView",
            "align_content": null,
            "align_items": null,
            "align_self": null,
            "border": null,
            "bottom": null,
            "display": null,
            "flex": null,
            "flex_flow": null,
            "grid_area": null,
            "grid_auto_columns": null,
            "grid_auto_flow": null,
            "grid_auto_rows": null,
            "grid_column": null,
            "grid_gap": null,
            "grid_row": null,
            "grid_template_areas": null,
            "grid_template_columns": null,
            "grid_template_rows": null,
            "height": null,
            "justify_content": null,
            "justify_items": null,
            "left": null,
            "margin": null,
            "max_height": null,
            "max_width": null,
            "min_height": null,
            "min_width": null,
            "object_fit": null,
            "object_position": null,
            "order": null,
            "overflow": null,
            "overflow_x": null,
            "overflow_y": null,
            "padding": null,
            "right": null,
            "top": null,
            "visibility": null,
            "width": null
          }
        },
        "c3d0e8ef495745acb1ee6791958afc57": {
          "model_module": "@jupyter-widgets/controls",
          "model_name": "ProgressStyleModel",
          "model_module_version": "1.5.0",
          "state": {
            "_model_module": "@jupyter-widgets/controls",
            "_model_module_version": "1.5.0",
            "_model_name": "ProgressStyleModel",
            "_view_count": null,
            "_view_module": "@jupyter-widgets/base",
            "_view_module_version": "1.2.0",
            "_view_name": "StyleView",
            "bar_color": null,
            "description_width": ""
          }
        },
        "93d709971f1741e99ed7fc0ed61db432": {
          "model_module": "@jupyter-widgets/controls",
          "model_name": "VBoxModel",
          "model_module_version": "1.5.0",
          "state": {
            "_dom_classes": [],
            "_model_module": "@jupyter-widgets/controls",
            "_model_module_version": "1.5.0",
            "_model_name": "VBoxModel",
            "_view_count": null,
            "_view_module": "@jupyter-widgets/controls",
            "_view_module_version": "1.5.0",
            "_view_name": "VBoxView",
            "box_style": "",
            "children": [
              "IPY_MODEL_291277b032484d2ebfbede7f3ce56680",
              "IPY_MODEL_6eef7c9056264f11a726543e472b438e"
            ],
            "layout": "IPY_MODEL_aaaf6989beab491a94ac6e37c8f56026"
          }
        },
        "291277b032484d2ebfbede7f3ce56680": {
          "model_module": "@jupyter-widgets/controls",
          "model_name": "LabelModel",
          "model_module_version": "1.5.0",
          "state": {
            "_dom_classes": [],
            "_model_module": "@jupyter-widgets/controls",
            "_model_module_version": "1.5.0",
            "_model_name": "LabelModel",
            "_view_count": null,
            "_view_module": "@jupyter-widgets/controls",
            "_view_module_version": "1.5.0",
            "_view_name": "LabelView",
            "description": "",
            "description_tooltip": null,
            "layout": "IPY_MODEL_1b8c551b9c884de1a1aac426746b7c4d",
            "placeholder": "​",
            "style": "IPY_MODEL_092acf2de3a54edc817b88702abb89df",
            "value": "0.010 MB of 0.010 MB uploaded\r"
          }
        },
        "6eef7c9056264f11a726543e472b438e": {
          "model_module": "@jupyter-widgets/controls",
          "model_name": "FloatProgressModel",
          "model_module_version": "1.5.0",
          "state": {
            "_dom_classes": [],
            "_model_module": "@jupyter-widgets/controls",
            "_model_module_version": "1.5.0",
            "_model_name": "FloatProgressModel",
            "_view_count": null,
            "_view_module": "@jupyter-widgets/controls",
            "_view_module_version": "1.5.0",
            "_view_name": "ProgressView",
            "bar_style": "",
            "description": "",
            "description_tooltip": null,
            "layout": "IPY_MODEL_7e0222feeba14ee58e34c9b754ac6e0a",
            "max": 1,
            "min": 0,
            "orientation": "horizontal",
            "style": "IPY_MODEL_56217303851e40e1ae0cc4bbc16b9b99",
            "value": 1
          }
        },
        "aaaf6989beab491a94ac6e37c8f56026": {
          "model_module": "@jupyter-widgets/base",
          "model_name": "LayoutModel",
          "model_module_version": "1.2.0",
          "state": {
            "_model_module": "@jupyter-widgets/base",
            "_model_module_version": "1.2.0",
            "_model_name": "LayoutModel",
            "_view_count": null,
            "_view_module": "@jupyter-widgets/base",
            "_view_module_version": "1.2.0",
            "_view_name": "LayoutView",
            "align_content": null,
            "align_items": null,
            "align_self": null,
            "border": null,
            "bottom": null,
            "display": null,
            "flex": null,
            "flex_flow": null,
            "grid_area": null,
            "grid_auto_columns": null,
            "grid_auto_flow": null,
            "grid_auto_rows": null,
            "grid_column": null,
            "grid_gap": null,
            "grid_row": null,
            "grid_template_areas": null,
            "grid_template_columns": null,
            "grid_template_rows": null,
            "height": null,
            "justify_content": null,
            "justify_items": null,
            "left": null,
            "margin": null,
            "max_height": null,
            "max_width": null,
            "min_height": null,
            "min_width": null,
            "object_fit": null,
            "object_position": null,
            "order": null,
            "overflow": null,
            "overflow_x": null,
            "overflow_y": null,
            "padding": null,
            "right": null,
            "top": null,
            "visibility": null,
            "width": null
          }
        },
        "1b8c551b9c884de1a1aac426746b7c4d": {
          "model_module": "@jupyter-widgets/base",
          "model_name": "LayoutModel",
          "model_module_version": "1.2.0",
          "state": {
            "_model_module": "@jupyter-widgets/base",
            "_model_module_version": "1.2.0",
            "_model_name": "LayoutModel",
            "_view_count": null,
            "_view_module": "@jupyter-widgets/base",
            "_view_module_version": "1.2.0",
            "_view_name": "LayoutView",
            "align_content": null,
            "align_items": null,
            "align_self": null,
            "border": null,
            "bottom": null,
            "display": null,
            "flex": null,
            "flex_flow": null,
            "grid_area": null,
            "grid_auto_columns": null,
            "grid_auto_flow": null,
            "grid_auto_rows": null,
            "grid_column": null,
            "grid_gap": null,
            "grid_row": null,
            "grid_template_areas": null,
            "grid_template_columns": null,
            "grid_template_rows": null,
            "height": null,
            "justify_content": null,
            "justify_items": null,
            "left": null,
            "margin": null,
            "max_height": null,
            "max_width": null,
            "min_height": null,
            "min_width": null,
            "object_fit": null,
            "object_position": null,
            "order": null,
            "overflow": null,
            "overflow_x": null,
            "overflow_y": null,
            "padding": null,
            "right": null,
            "top": null,
            "visibility": null,
            "width": null
          }
        },
        "092acf2de3a54edc817b88702abb89df": {
          "model_module": "@jupyter-widgets/controls",
          "model_name": "DescriptionStyleModel",
          "model_module_version": "1.5.0",
          "state": {
            "_model_module": "@jupyter-widgets/controls",
            "_model_module_version": "1.5.0",
            "_model_name": "DescriptionStyleModel",
            "_view_count": null,
            "_view_module": "@jupyter-widgets/base",
            "_view_module_version": "1.2.0",
            "_view_name": "StyleView",
            "description_width": ""
          }
        },
        "7e0222feeba14ee58e34c9b754ac6e0a": {
          "model_module": "@jupyter-widgets/base",
          "model_name": "LayoutModel",
          "model_module_version": "1.2.0",
          "state": {
            "_model_module": "@jupyter-widgets/base",
            "_model_module_version": "1.2.0",
            "_model_name": "LayoutModel",
            "_view_count": null,
            "_view_module": "@jupyter-widgets/base",
            "_view_module_version": "1.2.0",
            "_view_name": "LayoutView",
            "align_content": null,
            "align_items": null,
            "align_self": null,
            "border": null,
            "bottom": null,
            "display": null,
            "flex": null,
            "flex_flow": null,
            "grid_area": null,
            "grid_auto_columns": null,
            "grid_auto_flow": null,
            "grid_auto_rows": null,
            "grid_column": null,
            "grid_gap": null,
            "grid_row": null,
            "grid_template_areas": null,
            "grid_template_columns": null,
            "grid_template_rows": null,
            "height": null,
            "justify_content": null,
            "justify_items": null,
            "left": null,
            "margin": null,
            "max_height": null,
            "max_width": null,
            "min_height": null,
            "min_width": null,
            "object_fit": null,
            "object_position": null,
            "order": null,
            "overflow": null,
            "overflow_x": null,
            "overflow_y": null,
            "padding": null,
            "right": null,
            "top": null,
            "visibility": null,
            "width": null
          }
        },
        "56217303851e40e1ae0cc4bbc16b9b99": {
          "model_module": "@jupyter-widgets/controls",
          "model_name": "ProgressStyleModel",
          "model_module_version": "1.5.0",
          "state": {
            "_model_module": "@jupyter-widgets/controls",
            "_model_module_version": "1.5.0",
            "_model_name": "ProgressStyleModel",
            "_view_count": null,
            "_view_module": "@jupyter-widgets/base",
            "_view_module_version": "1.2.0",
            "_view_name": "StyleView",
            "bar_color": null,
            "description_width": ""
          }
        },
        "56bd883c16074e73bf5e44f8c61ea8d4": {
          "model_module": "@jupyter-widgets/controls",
          "model_name": "VBoxModel",
          "model_module_version": "1.5.0",
          "state": {
            "_dom_classes": [],
            "_model_module": "@jupyter-widgets/controls",
            "_model_module_version": "1.5.0",
            "_model_name": "VBoxModel",
            "_view_count": null,
            "_view_module": "@jupyter-widgets/controls",
            "_view_module_version": "1.5.0",
            "_view_name": "VBoxView",
            "box_style": "",
            "children": [
              "IPY_MODEL_27f6f501a3fe493bac1618ff7fd9c7a5",
              "IPY_MODEL_d36a9cf03c444d48ae08bf9986230e41"
            ],
            "layout": "IPY_MODEL_314dd5a5e98349c99bb291f5f7e54ee6"
          }
        },
        "27f6f501a3fe493bac1618ff7fd9c7a5": {
          "model_module": "@jupyter-widgets/controls",
          "model_name": "LabelModel",
          "model_module_version": "1.5.0",
          "state": {
            "_dom_classes": [],
            "_model_module": "@jupyter-widgets/controls",
            "_model_module_version": "1.5.0",
            "_model_name": "LabelModel",
            "_view_count": null,
            "_view_module": "@jupyter-widgets/controls",
            "_view_module_version": "1.5.0",
            "_view_name": "LabelView",
            "description": "",
            "description_tooltip": null,
            "layout": "IPY_MODEL_137a2869b95f412682b90ceb89dafab0",
            "placeholder": "​",
            "style": "IPY_MODEL_f786b38f47804efc8db15fd9245a0b4c",
            "value": "0.010 MB of 0.010 MB uploaded\r"
          }
        },
        "d36a9cf03c444d48ae08bf9986230e41": {
          "model_module": "@jupyter-widgets/controls",
          "model_name": "FloatProgressModel",
          "model_module_version": "1.5.0",
          "state": {
            "_dom_classes": [],
            "_model_module": "@jupyter-widgets/controls",
            "_model_module_version": "1.5.0",
            "_model_name": "FloatProgressModel",
            "_view_count": null,
            "_view_module": "@jupyter-widgets/controls",
            "_view_module_version": "1.5.0",
            "_view_name": "ProgressView",
            "bar_style": "",
            "description": "",
            "description_tooltip": null,
            "layout": "IPY_MODEL_024a0a34069d468b927d34da5d6ffbdb",
            "max": 1,
            "min": 0,
            "orientation": "horizontal",
            "style": "IPY_MODEL_6476cf05684f4244b379a2cbb337acd4",
            "value": 1
          }
        },
        "314dd5a5e98349c99bb291f5f7e54ee6": {
          "model_module": "@jupyter-widgets/base",
          "model_name": "LayoutModel",
          "model_module_version": "1.2.0",
          "state": {
            "_model_module": "@jupyter-widgets/base",
            "_model_module_version": "1.2.0",
            "_model_name": "LayoutModel",
            "_view_count": null,
            "_view_module": "@jupyter-widgets/base",
            "_view_module_version": "1.2.0",
            "_view_name": "LayoutView",
            "align_content": null,
            "align_items": null,
            "align_self": null,
            "border": null,
            "bottom": null,
            "display": null,
            "flex": null,
            "flex_flow": null,
            "grid_area": null,
            "grid_auto_columns": null,
            "grid_auto_flow": null,
            "grid_auto_rows": null,
            "grid_column": null,
            "grid_gap": null,
            "grid_row": null,
            "grid_template_areas": null,
            "grid_template_columns": null,
            "grid_template_rows": null,
            "height": null,
            "justify_content": null,
            "justify_items": null,
            "left": null,
            "margin": null,
            "max_height": null,
            "max_width": null,
            "min_height": null,
            "min_width": null,
            "object_fit": null,
            "object_position": null,
            "order": null,
            "overflow": null,
            "overflow_x": null,
            "overflow_y": null,
            "padding": null,
            "right": null,
            "top": null,
            "visibility": null,
            "width": null
          }
        },
        "137a2869b95f412682b90ceb89dafab0": {
          "model_module": "@jupyter-widgets/base",
          "model_name": "LayoutModel",
          "model_module_version": "1.2.0",
          "state": {
            "_model_module": "@jupyter-widgets/base",
            "_model_module_version": "1.2.0",
            "_model_name": "LayoutModel",
            "_view_count": null,
            "_view_module": "@jupyter-widgets/base",
            "_view_module_version": "1.2.0",
            "_view_name": "LayoutView",
            "align_content": null,
            "align_items": null,
            "align_self": null,
            "border": null,
            "bottom": null,
            "display": null,
            "flex": null,
            "flex_flow": null,
            "grid_area": null,
            "grid_auto_columns": null,
            "grid_auto_flow": null,
            "grid_auto_rows": null,
            "grid_column": null,
            "grid_gap": null,
            "grid_row": null,
            "grid_template_areas": null,
            "grid_template_columns": null,
            "grid_template_rows": null,
            "height": null,
            "justify_content": null,
            "justify_items": null,
            "left": null,
            "margin": null,
            "max_height": null,
            "max_width": null,
            "min_height": null,
            "min_width": null,
            "object_fit": null,
            "object_position": null,
            "order": null,
            "overflow": null,
            "overflow_x": null,
            "overflow_y": null,
            "padding": null,
            "right": null,
            "top": null,
            "visibility": null,
            "width": null
          }
        },
        "f786b38f47804efc8db15fd9245a0b4c": {
          "model_module": "@jupyter-widgets/controls",
          "model_name": "DescriptionStyleModel",
          "model_module_version": "1.5.0",
          "state": {
            "_model_module": "@jupyter-widgets/controls",
            "_model_module_version": "1.5.0",
            "_model_name": "DescriptionStyleModel",
            "_view_count": null,
            "_view_module": "@jupyter-widgets/base",
            "_view_module_version": "1.2.0",
            "_view_name": "StyleView",
            "description_width": ""
          }
        },
        "024a0a34069d468b927d34da5d6ffbdb": {
          "model_module": "@jupyter-widgets/base",
          "model_name": "LayoutModel",
          "model_module_version": "1.2.0",
          "state": {
            "_model_module": "@jupyter-widgets/base",
            "_model_module_version": "1.2.0",
            "_model_name": "LayoutModel",
            "_view_count": null,
            "_view_module": "@jupyter-widgets/base",
            "_view_module_version": "1.2.0",
            "_view_name": "LayoutView",
            "align_content": null,
            "align_items": null,
            "align_self": null,
            "border": null,
            "bottom": null,
            "display": null,
            "flex": null,
            "flex_flow": null,
            "grid_area": null,
            "grid_auto_columns": null,
            "grid_auto_flow": null,
            "grid_auto_rows": null,
            "grid_column": null,
            "grid_gap": null,
            "grid_row": null,
            "grid_template_areas": null,
            "grid_template_columns": null,
            "grid_template_rows": null,
            "height": null,
            "justify_content": null,
            "justify_items": null,
            "left": null,
            "margin": null,
            "max_height": null,
            "max_width": null,
            "min_height": null,
            "min_width": null,
            "object_fit": null,
            "object_position": null,
            "order": null,
            "overflow": null,
            "overflow_x": null,
            "overflow_y": null,
            "padding": null,
            "right": null,
            "top": null,
            "visibility": null,
            "width": null
          }
        },
        "6476cf05684f4244b379a2cbb337acd4": {
          "model_module": "@jupyter-widgets/controls",
          "model_name": "ProgressStyleModel",
          "model_module_version": "1.5.0",
          "state": {
            "_model_module": "@jupyter-widgets/controls",
            "_model_module_version": "1.5.0",
            "_model_name": "ProgressStyleModel",
            "_view_count": null,
            "_view_module": "@jupyter-widgets/base",
            "_view_module_version": "1.2.0",
            "_view_name": "StyleView",
            "bar_color": null,
            "description_width": ""
          }
        },
        "0bfee7b9bb8f4367ab435e1f416544b9": {
          "model_module": "@jupyter-widgets/controls",
          "model_name": "VBoxModel",
          "model_module_version": "1.5.0",
          "state": {
            "_dom_classes": [],
            "_model_module": "@jupyter-widgets/controls",
            "_model_module_version": "1.5.0",
            "_model_name": "VBoxModel",
            "_view_count": null,
            "_view_module": "@jupyter-widgets/controls",
            "_view_module_version": "1.5.0",
            "_view_name": "VBoxView",
            "box_style": "",
            "children": [
              "IPY_MODEL_a46792ed525f4276b2a4ef27216c70ae",
              "IPY_MODEL_2ae752f8d0844413a5cea1bb1d140a83"
            ],
            "layout": "IPY_MODEL_023940553f7148598761e6c9e9e459a9"
          }
        },
        "a46792ed525f4276b2a4ef27216c70ae": {
          "model_module": "@jupyter-widgets/controls",
          "model_name": "LabelModel",
          "model_module_version": "1.5.0",
          "state": {
            "_dom_classes": [],
            "_model_module": "@jupyter-widgets/controls",
            "_model_module_version": "1.5.0",
            "_model_name": "LabelModel",
            "_view_count": null,
            "_view_module": "@jupyter-widgets/controls",
            "_view_module_version": "1.5.0",
            "_view_name": "LabelView",
            "description": "",
            "description_tooltip": null,
            "layout": "IPY_MODEL_37d159a07e4e439685c12b5673794c5d",
            "placeholder": "​",
            "style": "IPY_MODEL_567f744f49444fe88c92d5d38f080d9f",
            "value": "0.010 MB of 0.010 MB uploaded\r"
          }
        },
        "2ae752f8d0844413a5cea1bb1d140a83": {
          "model_module": "@jupyter-widgets/controls",
          "model_name": "FloatProgressModel",
          "model_module_version": "1.5.0",
          "state": {
            "_dom_classes": [],
            "_model_module": "@jupyter-widgets/controls",
            "_model_module_version": "1.5.0",
            "_model_name": "FloatProgressModel",
            "_view_count": null,
            "_view_module": "@jupyter-widgets/controls",
            "_view_module_version": "1.5.0",
            "_view_name": "ProgressView",
            "bar_style": "",
            "description": "",
            "description_tooltip": null,
            "layout": "IPY_MODEL_0863ac94427d45dd8c0a67d78dc03a59",
            "max": 1,
            "min": 0,
            "orientation": "horizontal",
            "style": "IPY_MODEL_1f28ce5e0fcf41e3a0ecad8377dd382b",
            "value": 1
          }
        },
        "023940553f7148598761e6c9e9e459a9": {
          "model_module": "@jupyter-widgets/base",
          "model_name": "LayoutModel",
          "model_module_version": "1.2.0",
          "state": {
            "_model_module": "@jupyter-widgets/base",
            "_model_module_version": "1.2.0",
            "_model_name": "LayoutModel",
            "_view_count": null,
            "_view_module": "@jupyter-widgets/base",
            "_view_module_version": "1.2.0",
            "_view_name": "LayoutView",
            "align_content": null,
            "align_items": null,
            "align_self": null,
            "border": null,
            "bottom": null,
            "display": null,
            "flex": null,
            "flex_flow": null,
            "grid_area": null,
            "grid_auto_columns": null,
            "grid_auto_flow": null,
            "grid_auto_rows": null,
            "grid_column": null,
            "grid_gap": null,
            "grid_row": null,
            "grid_template_areas": null,
            "grid_template_columns": null,
            "grid_template_rows": null,
            "height": null,
            "justify_content": null,
            "justify_items": null,
            "left": null,
            "margin": null,
            "max_height": null,
            "max_width": null,
            "min_height": null,
            "min_width": null,
            "object_fit": null,
            "object_position": null,
            "order": null,
            "overflow": null,
            "overflow_x": null,
            "overflow_y": null,
            "padding": null,
            "right": null,
            "top": null,
            "visibility": null,
            "width": null
          }
        },
        "37d159a07e4e439685c12b5673794c5d": {
          "model_module": "@jupyter-widgets/base",
          "model_name": "LayoutModel",
          "model_module_version": "1.2.0",
          "state": {
            "_model_module": "@jupyter-widgets/base",
            "_model_module_version": "1.2.0",
            "_model_name": "LayoutModel",
            "_view_count": null,
            "_view_module": "@jupyter-widgets/base",
            "_view_module_version": "1.2.0",
            "_view_name": "LayoutView",
            "align_content": null,
            "align_items": null,
            "align_self": null,
            "border": null,
            "bottom": null,
            "display": null,
            "flex": null,
            "flex_flow": null,
            "grid_area": null,
            "grid_auto_columns": null,
            "grid_auto_flow": null,
            "grid_auto_rows": null,
            "grid_column": null,
            "grid_gap": null,
            "grid_row": null,
            "grid_template_areas": null,
            "grid_template_columns": null,
            "grid_template_rows": null,
            "height": null,
            "justify_content": null,
            "justify_items": null,
            "left": null,
            "margin": null,
            "max_height": null,
            "max_width": null,
            "min_height": null,
            "min_width": null,
            "object_fit": null,
            "object_position": null,
            "order": null,
            "overflow": null,
            "overflow_x": null,
            "overflow_y": null,
            "padding": null,
            "right": null,
            "top": null,
            "visibility": null,
            "width": null
          }
        },
        "567f744f49444fe88c92d5d38f080d9f": {
          "model_module": "@jupyter-widgets/controls",
          "model_name": "DescriptionStyleModel",
          "model_module_version": "1.5.0",
          "state": {
            "_model_module": "@jupyter-widgets/controls",
            "_model_module_version": "1.5.0",
            "_model_name": "DescriptionStyleModel",
            "_view_count": null,
            "_view_module": "@jupyter-widgets/base",
            "_view_module_version": "1.2.0",
            "_view_name": "StyleView",
            "description_width": ""
          }
        },
        "0863ac94427d45dd8c0a67d78dc03a59": {
          "model_module": "@jupyter-widgets/base",
          "model_name": "LayoutModel",
          "model_module_version": "1.2.0",
          "state": {
            "_model_module": "@jupyter-widgets/base",
            "_model_module_version": "1.2.0",
            "_model_name": "LayoutModel",
            "_view_count": null,
            "_view_module": "@jupyter-widgets/base",
            "_view_module_version": "1.2.0",
            "_view_name": "LayoutView",
            "align_content": null,
            "align_items": null,
            "align_self": null,
            "border": null,
            "bottom": null,
            "display": null,
            "flex": null,
            "flex_flow": null,
            "grid_area": null,
            "grid_auto_columns": null,
            "grid_auto_flow": null,
            "grid_auto_rows": null,
            "grid_column": null,
            "grid_gap": null,
            "grid_row": null,
            "grid_template_areas": null,
            "grid_template_columns": null,
            "grid_template_rows": null,
            "height": null,
            "justify_content": null,
            "justify_items": null,
            "left": null,
            "margin": null,
            "max_height": null,
            "max_width": null,
            "min_height": null,
            "min_width": null,
            "object_fit": null,
            "object_position": null,
            "order": null,
            "overflow": null,
            "overflow_x": null,
            "overflow_y": null,
            "padding": null,
            "right": null,
            "top": null,
            "visibility": null,
            "width": null
          }
        },
        "1f28ce5e0fcf41e3a0ecad8377dd382b": {
          "model_module": "@jupyter-widgets/controls",
          "model_name": "ProgressStyleModel",
          "model_module_version": "1.5.0",
          "state": {
            "_model_module": "@jupyter-widgets/controls",
            "_model_module_version": "1.5.0",
            "_model_name": "ProgressStyleModel",
            "_view_count": null,
            "_view_module": "@jupyter-widgets/base",
            "_view_module_version": "1.2.0",
            "_view_name": "StyleView",
            "bar_color": null,
            "description_width": ""
          }
        },
        "7f16514df609449eb041e20b165927cb": {
          "model_module": "@jupyter-widgets/controls",
          "model_name": "VBoxModel",
          "model_module_version": "1.5.0",
          "state": {
            "_dom_classes": [],
            "_model_module": "@jupyter-widgets/controls",
            "_model_module_version": "1.5.0",
            "_model_name": "VBoxModel",
            "_view_count": null,
            "_view_module": "@jupyter-widgets/controls",
            "_view_module_version": "1.5.0",
            "_view_name": "VBoxView",
            "box_style": "",
            "children": [
              "IPY_MODEL_06ef0bcd0f5145468dab6435150d4e7e",
              "IPY_MODEL_825640263e1e478292211b90ff4e8d42"
            ],
            "layout": "IPY_MODEL_40768a3c75114b4fa87badc24c291c76"
          }
        },
        "06ef0bcd0f5145468dab6435150d4e7e": {
          "model_module": "@jupyter-widgets/controls",
          "model_name": "LabelModel",
          "model_module_version": "1.5.0",
          "state": {
            "_dom_classes": [],
            "_model_module": "@jupyter-widgets/controls",
            "_model_module_version": "1.5.0",
            "_model_name": "LabelModel",
            "_view_count": null,
            "_view_module": "@jupyter-widgets/controls",
            "_view_module_version": "1.5.0",
            "_view_name": "LabelView",
            "description": "",
            "description_tooltip": null,
            "layout": "IPY_MODEL_205286014bc24bcfb023227c22148169",
            "placeholder": "​",
            "style": "IPY_MODEL_a07bd6fa8e5f47ca8b2ee829c1924e8d",
            "value": "0.010 MB of 0.010 MB uploaded\r"
          }
        },
        "825640263e1e478292211b90ff4e8d42": {
          "model_module": "@jupyter-widgets/controls",
          "model_name": "FloatProgressModel",
          "model_module_version": "1.5.0",
          "state": {
            "_dom_classes": [],
            "_model_module": "@jupyter-widgets/controls",
            "_model_module_version": "1.5.0",
            "_model_name": "FloatProgressModel",
            "_view_count": null,
            "_view_module": "@jupyter-widgets/controls",
            "_view_module_version": "1.5.0",
            "_view_name": "ProgressView",
            "bar_style": "",
            "description": "",
            "description_tooltip": null,
            "layout": "IPY_MODEL_7d4290ce03a34f11919b46e40fe001c7",
            "max": 1,
            "min": 0,
            "orientation": "horizontal",
            "style": "IPY_MODEL_ca02118593594820beb253ec8f219ffd",
            "value": 1
          }
        },
        "40768a3c75114b4fa87badc24c291c76": {
          "model_module": "@jupyter-widgets/base",
          "model_name": "LayoutModel",
          "model_module_version": "1.2.0",
          "state": {
            "_model_module": "@jupyter-widgets/base",
            "_model_module_version": "1.2.0",
            "_model_name": "LayoutModel",
            "_view_count": null,
            "_view_module": "@jupyter-widgets/base",
            "_view_module_version": "1.2.0",
            "_view_name": "LayoutView",
            "align_content": null,
            "align_items": null,
            "align_self": null,
            "border": null,
            "bottom": null,
            "display": null,
            "flex": null,
            "flex_flow": null,
            "grid_area": null,
            "grid_auto_columns": null,
            "grid_auto_flow": null,
            "grid_auto_rows": null,
            "grid_column": null,
            "grid_gap": null,
            "grid_row": null,
            "grid_template_areas": null,
            "grid_template_columns": null,
            "grid_template_rows": null,
            "height": null,
            "justify_content": null,
            "justify_items": null,
            "left": null,
            "margin": null,
            "max_height": null,
            "max_width": null,
            "min_height": null,
            "min_width": null,
            "object_fit": null,
            "object_position": null,
            "order": null,
            "overflow": null,
            "overflow_x": null,
            "overflow_y": null,
            "padding": null,
            "right": null,
            "top": null,
            "visibility": null,
            "width": null
          }
        },
        "205286014bc24bcfb023227c22148169": {
          "model_module": "@jupyter-widgets/base",
          "model_name": "LayoutModel",
          "model_module_version": "1.2.0",
          "state": {
            "_model_module": "@jupyter-widgets/base",
            "_model_module_version": "1.2.0",
            "_model_name": "LayoutModel",
            "_view_count": null,
            "_view_module": "@jupyter-widgets/base",
            "_view_module_version": "1.2.0",
            "_view_name": "LayoutView",
            "align_content": null,
            "align_items": null,
            "align_self": null,
            "border": null,
            "bottom": null,
            "display": null,
            "flex": null,
            "flex_flow": null,
            "grid_area": null,
            "grid_auto_columns": null,
            "grid_auto_flow": null,
            "grid_auto_rows": null,
            "grid_column": null,
            "grid_gap": null,
            "grid_row": null,
            "grid_template_areas": null,
            "grid_template_columns": null,
            "grid_template_rows": null,
            "height": null,
            "justify_content": null,
            "justify_items": null,
            "left": null,
            "margin": null,
            "max_height": null,
            "max_width": null,
            "min_height": null,
            "min_width": null,
            "object_fit": null,
            "object_position": null,
            "order": null,
            "overflow": null,
            "overflow_x": null,
            "overflow_y": null,
            "padding": null,
            "right": null,
            "top": null,
            "visibility": null,
            "width": null
          }
        },
        "a07bd6fa8e5f47ca8b2ee829c1924e8d": {
          "model_module": "@jupyter-widgets/controls",
          "model_name": "DescriptionStyleModel",
          "model_module_version": "1.5.0",
          "state": {
            "_model_module": "@jupyter-widgets/controls",
            "_model_module_version": "1.5.0",
            "_model_name": "DescriptionStyleModel",
            "_view_count": null,
            "_view_module": "@jupyter-widgets/base",
            "_view_module_version": "1.2.0",
            "_view_name": "StyleView",
            "description_width": ""
          }
        },
        "7d4290ce03a34f11919b46e40fe001c7": {
          "model_module": "@jupyter-widgets/base",
          "model_name": "LayoutModel",
          "model_module_version": "1.2.0",
          "state": {
            "_model_module": "@jupyter-widgets/base",
            "_model_module_version": "1.2.0",
            "_model_name": "LayoutModel",
            "_view_count": null,
            "_view_module": "@jupyter-widgets/base",
            "_view_module_version": "1.2.0",
            "_view_name": "LayoutView",
            "align_content": null,
            "align_items": null,
            "align_self": null,
            "border": null,
            "bottom": null,
            "display": null,
            "flex": null,
            "flex_flow": null,
            "grid_area": null,
            "grid_auto_columns": null,
            "grid_auto_flow": null,
            "grid_auto_rows": null,
            "grid_column": null,
            "grid_gap": null,
            "grid_row": null,
            "grid_template_areas": null,
            "grid_template_columns": null,
            "grid_template_rows": null,
            "height": null,
            "justify_content": null,
            "justify_items": null,
            "left": null,
            "margin": null,
            "max_height": null,
            "max_width": null,
            "min_height": null,
            "min_width": null,
            "object_fit": null,
            "object_position": null,
            "order": null,
            "overflow": null,
            "overflow_x": null,
            "overflow_y": null,
            "padding": null,
            "right": null,
            "top": null,
            "visibility": null,
            "width": null
          }
        },
        "ca02118593594820beb253ec8f219ffd": {
          "model_module": "@jupyter-widgets/controls",
          "model_name": "ProgressStyleModel",
          "model_module_version": "1.5.0",
          "state": {
            "_model_module": "@jupyter-widgets/controls",
            "_model_module_version": "1.5.0",
            "_model_name": "ProgressStyleModel",
            "_view_count": null,
            "_view_module": "@jupyter-widgets/base",
            "_view_module_version": "1.2.0",
            "_view_name": "StyleView",
            "bar_color": null,
            "description_width": ""
          }
        },
        "b23a6c8cd02947c2974d1bd6be20e8cf": {
          "model_module": "@jupyter-widgets/controls",
          "model_name": "VBoxModel",
          "model_module_version": "1.5.0",
          "state": {
            "_dom_classes": [],
            "_model_module": "@jupyter-widgets/controls",
            "_model_module_version": "1.5.0",
            "_model_name": "VBoxModel",
            "_view_count": null,
            "_view_module": "@jupyter-widgets/controls",
            "_view_module_version": "1.5.0",
            "_view_name": "VBoxView",
            "box_style": "",
            "children": [
              "IPY_MODEL_91fc6d32202548cfbd8ba508b0d1bc1a",
              "IPY_MODEL_63e4e136e2224d86b91bfe63f92eafb7"
            ],
            "layout": "IPY_MODEL_2d74c2d09ea54d17b92cb3f15020a815"
          }
        },
        "91fc6d32202548cfbd8ba508b0d1bc1a": {
          "model_module": "@jupyter-widgets/controls",
          "model_name": "LabelModel",
          "model_module_version": "1.5.0",
          "state": {
            "_dom_classes": [],
            "_model_module": "@jupyter-widgets/controls",
            "_model_module_version": "1.5.0",
            "_model_name": "LabelModel",
            "_view_count": null,
            "_view_module": "@jupyter-widgets/controls",
            "_view_module_version": "1.5.0",
            "_view_name": "LabelView",
            "description": "",
            "description_tooltip": null,
            "layout": "IPY_MODEL_8e035e7fa18a48828e90605fba8104c5",
            "placeholder": "​",
            "style": "IPY_MODEL_dbc021da603049659fd239467d201e3e",
            "value": "0.010 MB of 0.010 MB uploaded\r"
          }
        },
        "63e4e136e2224d86b91bfe63f92eafb7": {
          "model_module": "@jupyter-widgets/controls",
          "model_name": "FloatProgressModel",
          "model_module_version": "1.5.0",
          "state": {
            "_dom_classes": [],
            "_model_module": "@jupyter-widgets/controls",
            "_model_module_version": "1.5.0",
            "_model_name": "FloatProgressModel",
            "_view_count": null,
            "_view_module": "@jupyter-widgets/controls",
            "_view_module_version": "1.5.0",
            "_view_name": "ProgressView",
            "bar_style": "",
            "description": "",
            "description_tooltip": null,
            "layout": "IPY_MODEL_f6bde1e7f25a45a5b9989cbd0ace08c7",
            "max": 1,
            "min": 0,
            "orientation": "horizontal",
            "style": "IPY_MODEL_79b7915bc3834616ad51f32014669d34",
            "value": 1
          }
        },
        "2d74c2d09ea54d17b92cb3f15020a815": {
          "model_module": "@jupyter-widgets/base",
          "model_name": "LayoutModel",
          "model_module_version": "1.2.0",
          "state": {
            "_model_module": "@jupyter-widgets/base",
            "_model_module_version": "1.2.0",
            "_model_name": "LayoutModel",
            "_view_count": null,
            "_view_module": "@jupyter-widgets/base",
            "_view_module_version": "1.2.0",
            "_view_name": "LayoutView",
            "align_content": null,
            "align_items": null,
            "align_self": null,
            "border": null,
            "bottom": null,
            "display": null,
            "flex": null,
            "flex_flow": null,
            "grid_area": null,
            "grid_auto_columns": null,
            "grid_auto_flow": null,
            "grid_auto_rows": null,
            "grid_column": null,
            "grid_gap": null,
            "grid_row": null,
            "grid_template_areas": null,
            "grid_template_columns": null,
            "grid_template_rows": null,
            "height": null,
            "justify_content": null,
            "justify_items": null,
            "left": null,
            "margin": null,
            "max_height": null,
            "max_width": null,
            "min_height": null,
            "min_width": null,
            "object_fit": null,
            "object_position": null,
            "order": null,
            "overflow": null,
            "overflow_x": null,
            "overflow_y": null,
            "padding": null,
            "right": null,
            "top": null,
            "visibility": null,
            "width": null
          }
        },
        "8e035e7fa18a48828e90605fba8104c5": {
          "model_module": "@jupyter-widgets/base",
          "model_name": "LayoutModel",
          "model_module_version": "1.2.0",
          "state": {
            "_model_module": "@jupyter-widgets/base",
            "_model_module_version": "1.2.0",
            "_model_name": "LayoutModel",
            "_view_count": null,
            "_view_module": "@jupyter-widgets/base",
            "_view_module_version": "1.2.0",
            "_view_name": "LayoutView",
            "align_content": null,
            "align_items": null,
            "align_self": null,
            "border": null,
            "bottom": null,
            "display": null,
            "flex": null,
            "flex_flow": null,
            "grid_area": null,
            "grid_auto_columns": null,
            "grid_auto_flow": null,
            "grid_auto_rows": null,
            "grid_column": null,
            "grid_gap": null,
            "grid_row": null,
            "grid_template_areas": null,
            "grid_template_columns": null,
            "grid_template_rows": null,
            "height": null,
            "justify_content": null,
            "justify_items": null,
            "left": null,
            "margin": null,
            "max_height": null,
            "max_width": null,
            "min_height": null,
            "min_width": null,
            "object_fit": null,
            "object_position": null,
            "order": null,
            "overflow": null,
            "overflow_x": null,
            "overflow_y": null,
            "padding": null,
            "right": null,
            "top": null,
            "visibility": null,
            "width": null
          }
        },
        "dbc021da603049659fd239467d201e3e": {
          "model_module": "@jupyter-widgets/controls",
          "model_name": "DescriptionStyleModel",
          "model_module_version": "1.5.0",
          "state": {
            "_model_module": "@jupyter-widgets/controls",
            "_model_module_version": "1.5.0",
            "_model_name": "DescriptionStyleModel",
            "_view_count": null,
            "_view_module": "@jupyter-widgets/base",
            "_view_module_version": "1.2.0",
            "_view_name": "StyleView",
            "description_width": ""
          }
        },
        "f6bde1e7f25a45a5b9989cbd0ace08c7": {
          "model_module": "@jupyter-widgets/base",
          "model_name": "LayoutModel",
          "model_module_version": "1.2.0",
          "state": {
            "_model_module": "@jupyter-widgets/base",
            "_model_module_version": "1.2.0",
            "_model_name": "LayoutModel",
            "_view_count": null,
            "_view_module": "@jupyter-widgets/base",
            "_view_module_version": "1.2.0",
            "_view_name": "LayoutView",
            "align_content": null,
            "align_items": null,
            "align_self": null,
            "border": null,
            "bottom": null,
            "display": null,
            "flex": null,
            "flex_flow": null,
            "grid_area": null,
            "grid_auto_columns": null,
            "grid_auto_flow": null,
            "grid_auto_rows": null,
            "grid_column": null,
            "grid_gap": null,
            "grid_row": null,
            "grid_template_areas": null,
            "grid_template_columns": null,
            "grid_template_rows": null,
            "height": null,
            "justify_content": null,
            "justify_items": null,
            "left": null,
            "margin": null,
            "max_height": null,
            "max_width": null,
            "min_height": null,
            "min_width": null,
            "object_fit": null,
            "object_position": null,
            "order": null,
            "overflow": null,
            "overflow_x": null,
            "overflow_y": null,
            "padding": null,
            "right": null,
            "top": null,
            "visibility": null,
            "width": null
          }
        },
        "79b7915bc3834616ad51f32014669d34": {
          "model_module": "@jupyter-widgets/controls",
          "model_name": "ProgressStyleModel",
          "model_module_version": "1.5.0",
          "state": {
            "_model_module": "@jupyter-widgets/controls",
            "_model_module_version": "1.5.0",
            "_model_name": "ProgressStyleModel",
            "_view_count": null,
            "_view_module": "@jupyter-widgets/base",
            "_view_module_version": "1.2.0",
            "_view_name": "StyleView",
            "bar_color": null,
            "description_width": ""
          }
        },
        "8402138b16064dcd8165bdb7cb1d54e5": {
          "model_module": "@jupyter-widgets/controls",
          "model_name": "VBoxModel",
          "model_module_version": "1.5.0",
          "state": {
            "_dom_classes": [],
            "_model_module": "@jupyter-widgets/controls",
            "_model_module_version": "1.5.0",
            "_model_name": "VBoxModel",
            "_view_count": null,
            "_view_module": "@jupyter-widgets/controls",
            "_view_module_version": "1.5.0",
            "_view_name": "VBoxView",
            "box_style": "",
            "children": [
              "IPY_MODEL_6011f582f321435e94a13fdaced66c69",
              "IPY_MODEL_6853fd7ef03842b280f0821b166fb858"
            ],
            "layout": "IPY_MODEL_7f4ef26d6f274962b8978c115637183d"
          }
        },
        "6011f582f321435e94a13fdaced66c69": {
          "model_module": "@jupyter-widgets/controls",
          "model_name": "LabelModel",
          "model_module_version": "1.5.0",
          "state": {
            "_dom_classes": [],
            "_model_module": "@jupyter-widgets/controls",
            "_model_module_version": "1.5.0",
            "_model_name": "LabelModel",
            "_view_count": null,
            "_view_module": "@jupyter-widgets/controls",
            "_view_module_version": "1.5.0",
            "_view_name": "LabelView",
            "description": "",
            "description_tooltip": null,
            "layout": "IPY_MODEL_bf55e60a36a940f7b9a57b593f72549d",
            "placeholder": "​",
            "style": "IPY_MODEL_c5f61aaee81c4c94be2ac2668c773e44",
            "value": "0.010 MB of 0.010 MB uploaded\r"
          }
        },
        "6853fd7ef03842b280f0821b166fb858": {
          "model_module": "@jupyter-widgets/controls",
          "model_name": "FloatProgressModel",
          "model_module_version": "1.5.0",
          "state": {
            "_dom_classes": [],
            "_model_module": "@jupyter-widgets/controls",
            "_model_module_version": "1.5.0",
            "_model_name": "FloatProgressModel",
            "_view_count": null,
            "_view_module": "@jupyter-widgets/controls",
            "_view_module_version": "1.5.0",
            "_view_name": "ProgressView",
            "bar_style": "",
            "description": "",
            "description_tooltip": null,
            "layout": "IPY_MODEL_b10c1fab63fe4ec8a3055e6fc9b2d380",
            "max": 1,
            "min": 0,
            "orientation": "horizontal",
            "style": "IPY_MODEL_929d0748d7b74cd79d75ca356bfb8237",
            "value": 1
          }
        },
        "7f4ef26d6f274962b8978c115637183d": {
          "model_module": "@jupyter-widgets/base",
          "model_name": "LayoutModel",
          "model_module_version": "1.2.0",
          "state": {
            "_model_module": "@jupyter-widgets/base",
            "_model_module_version": "1.2.0",
            "_model_name": "LayoutModel",
            "_view_count": null,
            "_view_module": "@jupyter-widgets/base",
            "_view_module_version": "1.2.0",
            "_view_name": "LayoutView",
            "align_content": null,
            "align_items": null,
            "align_self": null,
            "border": null,
            "bottom": null,
            "display": null,
            "flex": null,
            "flex_flow": null,
            "grid_area": null,
            "grid_auto_columns": null,
            "grid_auto_flow": null,
            "grid_auto_rows": null,
            "grid_column": null,
            "grid_gap": null,
            "grid_row": null,
            "grid_template_areas": null,
            "grid_template_columns": null,
            "grid_template_rows": null,
            "height": null,
            "justify_content": null,
            "justify_items": null,
            "left": null,
            "margin": null,
            "max_height": null,
            "max_width": null,
            "min_height": null,
            "min_width": null,
            "object_fit": null,
            "object_position": null,
            "order": null,
            "overflow": null,
            "overflow_x": null,
            "overflow_y": null,
            "padding": null,
            "right": null,
            "top": null,
            "visibility": null,
            "width": null
          }
        },
        "bf55e60a36a940f7b9a57b593f72549d": {
          "model_module": "@jupyter-widgets/base",
          "model_name": "LayoutModel",
          "model_module_version": "1.2.0",
          "state": {
            "_model_module": "@jupyter-widgets/base",
            "_model_module_version": "1.2.0",
            "_model_name": "LayoutModel",
            "_view_count": null,
            "_view_module": "@jupyter-widgets/base",
            "_view_module_version": "1.2.0",
            "_view_name": "LayoutView",
            "align_content": null,
            "align_items": null,
            "align_self": null,
            "border": null,
            "bottom": null,
            "display": null,
            "flex": null,
            "flex_flow": null,
            "grid_area": null,
            "grid_auto_columns": null,
            "grid_auto_flow": null,
            "grid_auto_rows": null,
            "grid_column": null,
            "grid_gap": null,
            "grid_row": null,
            "grid_template_areas": null,
            "grid_template_columns": null,
            "grid_template_rows": null,
            "height": null,
            "justify_content": null,
            "justify_items": null,
            "left": null,
            "margin": null,
            "max_height": null,
            "max_width": null,
            "min_height": null,
            "min_width": null,
            "object_fit": null,
            "object_position": null,
            "order": null,
            "overflow": null,
            "overflow_x": null,
            "overflow_y": null,
            "padding": null,
            "right": null,
            "top": null,
            "visibility": null,
            "width": null
          }
        },
        "c5f61aaee81c4c94be2ac2668c773e44": {
          "model_module": "@jupyter-widgets/controls",
          "model_name": "DescriptionStyleModel",
          "model_module_version": "1.5.0",
          "state": {
            "_model_module": "@jupyter-widgets/controls",
            "_model_module_version": "1.5.0",
            "_model_name": "DescriptionStyleModel",
            "_view_count": null,
            "_view_module": "@jupyter-widgets/base",
            "_view_module_version": "1.2.0",
            "_view_name": "StyleView",
            "description_width": ""
          }
        },
        "b10c1fab63fe4ec8a3055e6fc9b2d380": {
          "model_module": "@jupyter-widgets/base",
          "model_name": "LayoutModel",
          "model_module_version": "1.2.0",
          "state": {
            "_model_module": "@jupyter-widgets/base",
            "_model_module_version": "1.2.0",
            "_model_name": "LayoutModel",
            "_view_count": null,
            "_view_module": "@jupyter-widgets/base",
            "_view_module_version": "1.2.0",
            "_view_name": "LayoutView",
            "align_content": null,
            "align_items": null,
            "align_self": null,
            "border": null,
            "bottom": null,
            "display": null,
            "flex": null,
            "flex_flow": null,
            "grid_area": null,
            "grid_auto_columns": null,
            "grid_auto_flow": null,
            "grid_auto_rows": null,
            "grid_column": null,
            "grid_gap": null,
            "grid_row": null,
            "grid_template_areas": null,
            "grid_template_columns": null,
            "grid_template_rows": null,
            "height": null,
            "justify_content": null,
            "justify_items": null,
            "left": null,
            "margin": null,
            "max_height": null,
            "max_width": null,
            "min_height": null,
            "min_width": null,
            "object_fit": null,
            "object_position": null,
            "order": null,
            "overflow": null,
            "overflow_x": null,
            "overflow_y": null,
            "padding": null,
            "right": null,
            "top": null,
            "visibility": null,
            "width": null
          }
        },
        "929d0748d7b74cd79d75ca356bfb8237": {
          "model_module": "@jupyter-widgets/controls",
          "model_name": "ProgressStyleModel",
          "model_module_version": "1.5.0",
          "state": {
            "_model_module": "@jupyter-widgets/controls",
            "_model_module_version": "1.5.0",
            "_model_name": "ProgressStyleModel",
            "_view_count": null,
            "_view_module": "@jupyter-widgets/base",
            "_view_module_version": "1.2.0",
            "_view_name": "StyleView",
            "bar_color": null,
            "description_width": ""
          }
        },
        "b1527bc8943d44e29359dd70e9cb2a09": {
          "model_module": "@jupyter-widgets/controls",
          "model_name": "VBoxModel",
          "model_module_version": "1.5.0",
          "state": {
            "_dom_classes": [],
            "_model_module": "@jupyter-widgets/controls",
            "_model_module_version": "1.5.0",
            "_model_name": "VBoxModel",
            "_view_count": null,
            "_view_module": "@jupyter-widgets/controls",
            "_view_module_version": "1.5.0",
            "_view_name": "VBoxView",
            "box_style": "",
            "children": [
              "IPY_MODEL_d80d68c602334b6fa5270684a824fcfc",
              "IPY_MODEL_3b66569bedf748a391350d0bd4eb8878"
            ],
            "layout": "IPY_MODEL_d7d3886819f74880877c55567f3202b2"
          }
        },
        "d80d68c602334b6fa5270684a824fcfc": {
          "model_module": "@jupyter-widgets/controls",
          "model_name": "LabelModel",
          "model_module_version": "1.5.0",
          "state": {
            "_dom_classes": [],
            "_model_module": "@jupyter-widgets/controls",
            "_model_module_version": "1.5.0",
            "_model_name": "LabelModel",
            "_view_count": null,
            "_view_module": "@jupyter-widgets/controls",
            "_view_module_version": "1.5.0",
            "_view_name": "LabelView",
            "description": "",
            "description_tooltip": null,
            "layout": "IPY_MODEL_7fb632ae65374f559dd975b95eb1ae20",
            "placeholder": "​",
            "style": "IPY_MODEL_da7a57a7c6e444799f7d6dc84ec43745",
            "value": "0.010 MB of 0.010 MB uploaded\r"
          }
        },
        "3b66569bedf748a391350d0bd4eb8878": {
          "model_module": "@jupyter-widgets/controls",
          "model_name": "FloatProgressModel",
          "model_module_version": "1.5.0",
          "state": {
            "_dom_classes": [],
            "_model_module": "@jupyter-widgets/controls",
            "_model_module_version": "1.5.0",
            "_model_name": "FloatProgressModel",
            "_view_count": null,
            "_view_module": "@jupyter-widgets/controls",
            "_view_module_version": "1.5.0",
            "_view_name": "ProgressView",
            "bar_style": "",
            "description": "",
            "description_tooltip": null,
            "layout": "IPY_MODEL_6659c794e134467ca76bb481dfaf5feb",
            "max": 1,
            "min": 0,
            "orientation": "horizontal",
            "style": "IPY_MODEL_109fce05ef844275b3504e0cc2853d93",
            "value": 1
          }
        },
        "d7d3886819f74880877c55567f3202b2": {
          "model_module": "@jupyter-widgets/base",
          "model_name": "LayoutModel",
          "model_module_version": "1.2.0",
          "state": {
            "_model_module": "@jupyter-widgets/base",
            "_model_module_version": "1.2.0",
            "_model_name": "LayoutModel",
            "_view_count": null,
            "_view_module": "@jupyter-widgets/base",
            "_view_module_version": "1.2.0",
            "_view_name": "LayoutView",
            "align_content": null,
            "align_items": null,
            "align_self": null,
            "border": null,
            "bottom": null,
            "display": null,
            "flex": null,
            "flex_flow": null,
            "grid_area": null,
            "grid_auto_columns": null,
            "grid_auto_flow": null,
            "grid_auto_rows": null,
            "grid_column": null,
            "grid_gap": null,
            "grid_row": null,
            "grid_template_areas": null,
            "grid_template_columns": null,
            "grid_template_rows": null,
            "height": null,
            "justify_content": null,
            "justify_items": null,
            "left": null,
            "margin": null,
            "max_height": null,
            "max_width": null,
            "min_height": null,
            "min_width": null,
            "object_fit": null,
            "object_position": null,
            "order": null,
            "overflow": null,
            "overflow_x": null,
            "overflow_y": null,
            "padding": null,
            "right": null,
            "top": null,
            "visibility": null,
            "width": null
          }
        },
        "7fb632ae65374f559dd975b95eb1ae20": {
          "model_module": "@jupyter-widgets/base",
          "model_name": "LayoutModel",
          "model_module_version": "1.2.0",
          "state": {
            "_model_module": "@jupyter-widgets/base",
            "_model_module_version": "1.2.0",
            "_model_name": "LayoutModel",
            "_view_count": null,
            "_view_module": "@jupyter-widgets/base",
            "_view_module_version": "1.2.0",
            "_view_name": "LayoutView",
            "align_content": null,
            "align_items": null,
            "align_self": null,
            "border": null,
            "bottom": null,
            "display": null,
            "flex": null,
            "flex_flow": null,
            "grid_area": null,
            "grid_auto_columns": null,
            "grid_auto_flow": null,
            "grid_auto_rows": null,
            "grid_column": null,
            "grid_gap": null,
            "grid_row": null,
            "grid_template_areas": null,
            "grid_template_columns": null,
            "grid_template_rows": null,
            "height": null,
            "justify_content": null,
            "justify_items": null,
            "left": null,
            "margin": null,
            "max_height": null,
            "max_width": null,
            "min_height": null,
            "min_width": null,
            "object_fit": null,
            "object_position": null,
            "order": null,
            "overflow": null,
            "overflow_x": null,
            "overflow_y": null,
            "padding": null,
            "right": null,
            "top": null,
            "visibility": null,
            "width": null
          }
        },
        "da7a57a7c6e444799f7d6dc84ec43745": {
          "model_module": "@jupyter-widgets/controls",
          "model_name": "DescriptionStyleModel",
          "model_module_version": "1.5.0",
          "state": {
            "_model_module": "@jupyter-widgets/controls",
            "_model_module_version": "1.5.0",
            "_model_name": "DescriptionStyleModel",
            "_view_count": null,
            "_view_module": "@jupyter-widgets/base",
            "_view_module_version": "1.2.0",
            "_view_name": "StyleView",
            "description_width": ""
          }
        },
        "6659c794e134467ca76bb481dfaf5feb": {
          "model_module": "@jupyter-widgets/base",
          "model_name": "LayoutModel",
          "model_module_version": "1.2.0",
          "state": {
            "_model_module": "@jupyter-widgets/base",
            "_model_module_version": "1.2.0",
            "_model_name": "LayoutModel",
            "_view_count": null,
            "_view_module": "@jupyter-widgets/base",
            "_view_module_version": "1.2.0",
            "_view_name": "LayoutView",
            "align_content": null,
            "align_items": null,
            "align_self": null,
            "border": null,
            "bottom": null,
            "display": null,
            "flex": null,
            "flex_flow": null,
            "grid_area": null,
            "grid_auto_columns": null,
            "grid_auto_flow": null,
            "grid_auto_rows": null,
            "grid_column": null,
            "grid_gap": null,
            "grid_row": null,
            "grid_template_areas": null,
            "grid_template_columns": null,
            "grid_template_rows": null,
            "height": null,
            "justify_content": null,
            "justify_items": null,
            "left": null,
            "margin": null,
            "max_height": null,
            "max_width": null,
            "min_height": null,
            "min_width": null,
            "object_fit": null,
            "object_position": null,
            "order": null,
            "overflow": null,
            "overflow_x": null,
            "overflow_y": null,
            "padding": null,
            "right": null,
            "top": null,
            "visibility": null,
            "width": null
          }
        },
        "109fce05ef844275b3504e0cc2853d93": {
          "model_module": "@jupyter-widgets/controls",
          "model_name": "ProgressStyleModel",
          "model_module_version": "1.5.0",
          "state": {
            "_model_module": "@jupyter-widgets/controls",
            "_model_module_version": "1.5.0",
            "_model_name": "ProgressStyleModel",
            "_view_count": null,
            "_view_module": "@jupyter-widgets/base",
            "_view_module_version": "1.2.0",
            "_view_name": "StyleView",
            "bar_color": null,
            "description_width": ""
          }
        },
        "a08a0a2128b4481c9fd55c724427eefc": {
          "model_module": "@jupyter-widgets/controls",
          "model_name": "VBoxModel",
          "model_module_version": "1.5.0",
          "state": {
            "_dom_classes": [],
            "_model_module": "@jupyter-widgets/controls",
            "_model_module_version": "1.5.0",
            "_model_name": "VBoxModel",
            "_view_count": null,
            "_view_module": "@jupyter-widgets/controls",
            "_view_module_version": "1.5.0",
            "_view_name": "VBoxView",
            "box_style": "",
            "children": [
              "IPY_MODEL_d2e2c24bc89a4f30b6ea7cf9948d1aad",
              "IPY_MODEL_5ad3e02cf7a847578598181d0d93858c"
            ],
            "layout": "IPY_MODEL_68c7e27c311a4dfea95e28b7ec7d4a90"
          }
        },
        "d2e2c24bc89a4f30b6ea7cf9948d1aad": {
          "model_module": "@jupyter-widgets/controls",
          "model_name": "LabelModel",
          "model_module_version": "1.5.0",
          "state": {
            "_dom_classes": [],
            "_model_module": "@jupyter-widgets/controls",
            "_model_module_version": "1.5.0",
            "_model_name": "LabelModel",
            "_view_count": null,
            "_view_module": "@jupyter-widgets/controls",
            "_view_module_version": "1.5.0",
            "_view_name": "LabelView",
            "description": "",
            "description_tooltip": null,
            "layout": "IPY_MODEL_899d0c899d02491e89e5a7719a3eb642",
            "placeholder": "​",
            "style": "IPY_MODEL_6a9565a7833240cfa3d0660797c838a4",
            "value": "Waiting for wandb.init()...\r"
          }
        },
        "5ad3e02cf7a847578598181d0d93858c": {
          "model_module": "@jupyter-widgets/controls",
          "model_name": "FloatProgressModel",
          "model_module_version": "1.5.0",
          "state": {
            "_dom_classes": [],
            "_model_module": "@jupyter-widgets/controls",
            "_model_module_version": "1.5.0",
            "_model_name": "FloatProgressModel",
            "_view_count": null,
            "_view_module": "@jupyter-widgets/controls",
            "_view_module_version": "1.5.0",
            "_view_name": "ProgressView",
            "bar_style": "",
            "description": "",
            "description_tooltip": null,
            "layout": "IPY_MODEL_ecc51c63ba694169a84e65a249ffef97",
            "max": 1,
            "min": 0,
            "orientation": "horizontal",
            "style": "IPY_MODEL_dc8bc3684bde427bb9cf090747b46f04",
            "value": 1
          }
        },
        "68c7e27c311a4dfea95e28b7ec7d4a90": {
          "model_module": "@jupyter-widgets/base",
          "model_name": "LayoutModel",
          "model_module_version": "1.2.0",
          "state": {
            "_model_module": "@jupyter-widgets/base",
            "_model_module_version": "1.2.0",
            "_model_name": "LayoutModel",
            "_view_count": null,
            "_view_module": "@jupyter-widgets/base",
            "_view_module_version": "1.2.0",
            "_view_name": "LayoutView",
            "align_content": null,
            "align_items": null,
            "align_self": null,
            "border": null,
            "bottom": null,
            "display": null,
            "flex": null,
            "flex_flow": null,
            "grid_area": null,
            "grid_auto_columns": null,
            "grid_auto_flow": null,
            "grid_auto_rows": null,
            "grid_column": null,
            "grid_gap": null,
            "grid_row": null,
            "grid_template_areas": null,
            "grid_template_columns": null,
            "grid_template_rows": null,
            "height": null,
            "justify_content": null,
            "justify_items": null,
            "left": null,
            "margin": null,
            "max_height": null,
            "max_width": null,
            "min_height": null,
            "min_width": null,
            "object_fit": null,
            "object_position": null,
            "order": null,
            "overflow": null,
            "overflow_x": null,
            "overflow_y": null,
            "padding": null,
            "right": null,
            "top": null,
            "visibility": null,
            "width": null
          }
        },
        "899d0c899d02491e89e5a7719a3eb642": {
          "model_module": "@jupyter-widgets/base",
          "model_name": "LayoutModel",
          "model_module_version": "1.2.0",
          "state": {
            "_model_module": "@jupyter-widgets/base",
            "_model_module_version": "1.2.0",
            "_model_name": "LayoutModel",
            "_view_count": null,
            "_view_module": "@jupyter-widgets/base",
            "_view_module_version": "1.2.0",
            "_view_name": "LayoutView",
            "align_content": null,
            "align_items": null,
            "align_self": null,
            "border": null,
            "bottom": null,
            "display": null,
            "flex": null,
            "flex_flow": null,
            "grid_area": null,
            "grid_auto_columns": null,
            "grid_auto_flow": null,
            "grid_auto_rows": null,
            "grid_column": null,
            "grid_gap": null,
            "grid_row": null,
            "grid_template_areas": null,
            "grid_template_columns": null,
            "grid_template_rows": null,
            "height": null,
            "justify_content": null,
            "justify_items": null,
            "left": null,
            "margin": null,
            "max_height": null,
            "max_width": null,
            "min_height": null,
            "min_width": null,
            "object_fit": null,
            "object_position": null,
            "order": null,
            "overflow": null,
            "overflow_x": null,
            "overflow_y": null,
            "padding": null,
            "right": null,
            "top": null,
            "visibility": null,
            "width": null
          }
        },
        "6a9565a7833240cfa3d0660797c838a4": {
          "model_module": "@jupyter-widgets/controls",
          "model_name": "DescriptionStyleModel",
          "model_module_version": "1.5.0",
          "state": {
            "_model_module": "@jupyter-widgets/controls",
            "_model_module_version": "1.5.0",
            "_model_name": "DescriptionStyleModel",
            "_view_count": null,
            "_view_module": "@jupyter-widgets/base",
            "_view_module_version": "1.2.0",
            "_view_name": "StyleView",
            "description_width": ""
          }
        },
        "ecc51c63ba694169a84e65a249ffef97": {
          "model_module": "@jupyter-widgets/base",
          "model_name": "LayoutModel",
          "model_module_version": "1.2.0",
          "state": {
            "_model_module": "@jupyter-widgets/base",
            "_model_module_version": "1.2.0",
            "_model_name": "LayoutModel",
            "_view_count": null,
            "_view_module": "@jupyter-widgets/base",
            "_view_module_version": "1.2.0",
            "_view_name": "LayoutView",
            "align_content": null,
            "align_items": null,
            "align_self": null,
            "border": null,
            "bottom": null,
            "display": null,
            "flex": null,
            "flex_flow": null,
            "grid_area": null,
            "grid_auto_columns": null,
            "grid_auto_flow": null,
            "grid_auto_rows": null,
            "grid_column": null,
            "grid_gap": null,
            "grid_row": null,
            "grid_template_areas": null,
            "grid_template_columns": null,
            "grid_template_rows": null,
            "height": null,
            "justify_content": null,
            "justify_items": null,
            "left": null,
            "margin": null,
            "max_height": null,
            "max_width": null,
            "min_height": null,
            "min_width": null,
            "object_fit": null,
            "object_position": null,
            "order": null,
            "overflow": null,
            "overflow_x": null,
            "overflow_y": null,
            "padding": null,
            "right": null,
            "top": null,
            "visibility": null,
            "width": null
          }
        },
        "dc8bc3684bde427bb9cf090747b46f04": {
          "model_module": "@jupyter-widgets/controls",
          "model_name": "ProgressStyleModel",
          "model_module_version": "1.5.0",
          "state": {
            "_model_module": "@jupyter-widgets/controls",
            "_model_module_version": "1.5.0",
            "_model_name": "ProgressStyleModel",
            "_view_count": null,
            "_view_module": "@jupyter-widgets/base",
            "_view_module_version": "1.2.0",
            "_view_name": "StyleView",
            "bar_color": null,
            "description_width": ""
          }
        },
        "56e68050e839482b857ff558715117f7": {
          "model_module": "@jupyter-widgets/controls",
          "model_name": "VBoxModel",
          "model_module_version": "1.5.0",
          "state": {
            "_dom_classes": [],
            "_model_module": "@jupyter-widgets/controls",
            "_model_module_version": "1.5.0",
            "_model_name": "VBoxModel",
            "_view_count": null,
            "_view_module": "@jupyter-widgets/controls",
            "_view_module_version": "1.5.0",
            "_view_name": "VBoxView",
            "box_style": "",
            "children": [
              "IPY_MODEL_4684ebef33a6421c9e50b1cad7ccd3db",
              "IPY_MODEL_5b4eca2e54d840bf9bb3c22099a28dce"
            ],
            "layout": "IPY_MODEL_7e4b830a3eb94c9b9f65b58520452bbf"
          }
        },
        "4684ebef33a6421c9e50b1cad7ccd3db": {
          "model_module": "@jupyter-widgets/controls",
          "model_name": "LabelModel",
          "model_module_version": "1.5.0",
          "state": {
            "_dom_classes": [],
            "_model_module": "@jupyter-widgets/controls",
            "_model_module_version": "1.5.0",
            "_model_name": "LabelModel",
            "_view_count": null,
            "_view_module": "@jupyter-widgets/controls",
            "_view_module_version": "1.5.0",
            "_view_name": "LabelView",
            "description": "",
            "description_tooltip": null,
            "layout": "IPY_MODEL_8f2c8b120717415c85814bc3989d25e6",
            "placeholder": "​",
            "style": "IPY_MODEL_a317efebb1054a869e85edb383dc7944",
            "value": "0.010 MB of 0.010 MB uploaded\r"
          }
        },
        "5b4eca2e54d840bf9bb3c22099a28dce": {
          "model_module": "@jupyter-widgets/controls",
          "model_name": "FloatProgressModel",
          "model_module_version": "1.5.0",
          "state": {
            "_dom_classes": [],
            "_model_module": "@jupyter-widgets/controls",
            "_model_module_version": "1.5.0",
            "_model_name": "FloatProgressModel",
            "_view_count": null,
            "_view_module": "@jupyter-widgets/controls",
            "_view_module_version": "1.5.0",
            "_view_name": "ProgressView",
            "bar_style": "",
            "description": "",
            "description_tooltip": null,
            "layout": "IPY_MODEL_6aafdbaa7c5d4b43bf9707eb7b786864",
            "max": 1,
            "min": 0,
            "orientation": "horizontal",
            "style": "IPY_MODEL_d02c13f2a57648a0aa459ecee429be24",
            "value": 1
          }
        },
        "7e4b830a3eb94c9b9f65b58520452bbf": {
          "model_module": "@jupyter-widgets/base",
          "model_name": "LayoutModel",
          "model_module_version": "1.2.0",
          "state": {
            "_model_module": "@jupyter-widgets/base",
            "_model_module_version": "1.2.0",
            "_model_name": "LayoutModel",
            "_view_count": null,
            "_view_module": "@jupyter-widgets/base",
            "_view_module_version": "1.2.0",
            "_view_name": "LayoutView",
            "align_content": null,
            "align_items": null,
            "align_self": null,
            "border": null,
            "bottom": null,
            "display": null,
            "flex": null,
            "flex_flow": null,
            "grid_area": null,
            "grid_auto_columns": null,
            "grid_auto_flow": null,
            "grid_auto_rows": null,
            "grid_column": null,
            "grid_gap": null,
            "grid_row": null,
            "grid_template_areas": null,
            "grid_template_columns": null,
            "grid_template_rows": null,
            "height": null,
            "justify_content": null,
            "justify_items": null,
            "left": null,
            "margin": null,
            "max_height": null,
            "max_width": null,
            "min_height": null,
            "min_width": null,
            "object_fit": null,
            "object_position": null,
            "order": null,
            "overflow": null,
            "overflow_x": null,
            "overflow_y": null,
            "padding": null,
            "right": null,
            "top": null,
            "visibility": null,
            "width": null
          }
        },
        "8f2c8b120717415c85814bc3989d25e6": {
          "model_module": "@jupyter-widgets/base",
          "model_name": "LayoutModel",
          "model_module_version": "1.2.0",
          "state": {
            "_model_module": "@jupyter-widgets/base",
            "_model_module_version": "1.2.0",
            "_model_name": "LayoutModel",
            "_view_count": null,
            "_view_module": "@jupyter-widgets/base",
            "_view_module_version": "1.2.0",
            "_view_name": "LayoutView",
            "align_content": null,
            "align_items": null,
            "align_self": null,
            "border": null,
            "bottom": null,
            "display": null,
            "flex": null,
            "flex_flow": null,
            "grid_area": null,
            "grid_auto_columns": null,
            "grid_auto_flow": null,
            "grid_auto_rows": null,
            "grid_column": null,
            "grid_gap": null,
            "grid_row": null,
            "grid_template_areas": null,
            "grid_template_columns": null,
            "grid_template_rows": null,
            "height": null,
            "justify_content": null,
            "justify_items": null,
            "left": null,
            "margin": null,
            "max_height": null,
            "max_width": null,
            "min_height": null,
            "min_width": null,
            "object_fit": null,
            "object_position": null,
            "order": null,
            "overflow": null,
            "overflow_x": null,
            "overflow_y": null,
            "padding": null,
            "right": null,
            "top": null,
            "visibility": null,
            "width": null
          }
        },
        "a317efebb1054a869e85edb383dc7944": {
          "model_module": "@jupyter-widgets/controls",
          "model_name": "DescriptionStyleModel",
          "model_module_version": "1.5.0",
          "state": {
            "_model_module": "@jupyter-widgets/controls",
            "_model_module_version": "1.5.0",
            "_model_name": "DescriptionStyleModel",
            "_view_count": null,
            "_view_module": "@jupyter-widgets/base",
            "_view_module_version": "1.2.0",
            "_view_name": "StyleView",
            "description_width": ""
          }
        },
        "6aafdbaa7c5d4b43bf9707eb7b786864": {
          "model_module": "@jupyter-widgets/base",
          "model_name": "LayoutModel",
          "model_module_version": "1.2.0",
          "state": {
            "_model_module": "@jupyter-widgets/base",
            "_model_module_version": "1.2.0",
            "_model_name": "LayoutModel",
            "_view_count": null,
            "_view_module": "@jupyter-widgets/base",
            "_view_module_version": "1.2.0",
            "_view_name": "LayoutView",
            "align_content": null,
            "align_items": null,
            "align_self": null,
            "border": null,
            "bottom": null,
            "display": null,
            "flex": null,
            "flex_flow": null,
            "grid_area": null,
            "grid_auto_columns": null,
            "grid_auto_flow": null,
            "grid_auto_rows": null,
            "grid_column": null,
            "grid_gap": null,
            "grid_row": null,
            "grid_template_areas": null,
            "grid_template_columns": null,
            "grid_template_rows": null,
            "height": null,
            "justify_content": null,
            "justify_items": null,
            "left": null,
            "margin": null,
            "max_height": null,
            "max_width": null,
            "min_height": null,
            "min_width": null,
            "object_fit": null,
            "object_position": null,
            "order": null,
            "overflow": null,
            "overflow_x": null,
            "overflow_y": null,
            "padding": null,
            "right": null,
            "top": null,
            "visibility": null,
            "width": null
          }
        },
        "d02c13f2a57648a0aa459ecee429be24": {
          "model_module": "@jupyter-widgets/controls",
          "model_name": "ProgressStyleModel",
          "model_module_version": "1.5.0",
          "state": {
            "_model_module": "@jupyter-widgets/controls",
            "_model_module_version": "1.5.0",
            "_model_name": "ProgressStyleModel",
            "_view_count": null,
            "_view_module": "@jupyter-widgets/base",
            "_view_module_version": "1.2.0",
            "_view_name": "StyleView",
            "bar_color": null,
            "description_width": ""
          }
        },
        "cc9e7a1762624eed8e0fc2f1ca8ef062": {
          "model_module": "@jupyter-widgets/controls",
          "model_name": "VBoxModel",
          "model_module_version": "1.5.0",
          "state": {
            "_dom_classes": [],
            "_model_module": "@jupyter-widgets/controls",
            "_model_module_version": "1.5.0",
            "_model_name": "VBoxModel",
            "_view_count": null,
            "_view_module": "@jupyter-widgets/controls",
            "_view_module_version": "1.5.0",
            "_view_name": "VBoxView",
            "box_style": "",
            "children": [
              "IPY_MODEL_d96a16232eac4253ac78259171148c28",
              "IPY_MODEL_23478f5a290643c08524d86357f9ab02"
            ],
            "layout": "IPY_MODEL_a0311fadf1224a98b22369a93855563a"
          }
        },
        "d96a16232eac4253ac78259171148c28": {
          "model_module": "@jupyter-widgets/controls",
          "model_name": "LabelModel",
          "model_module_version": "1.5.0",
          "state": {
            "_dom_classes": [],
            "_model_module": "@jupyter-widgets/controls",
            "_model_module_version": "1.5.0",
            "_model_name": "LabelModel",
            "_view_count": null,
            "_view_module": "@jupyter-widgets/controls",
            "_view_module_version": "1.5.0",
            "_view_name": "LabelView",
            "description": "",
            "description_tooltip": null,
            "layout": "IPY_MODEL_9e8ac04317fb41e98e9e6de01bd18fcf",
            "placeholder": "​",
            "style": "IPY_MODEL_0e7d767911b2496aadcb6008ac47e92a",
            "value": "0.010 MB of 0.010 MB uploaded\r"
          }
        },
        "23478f5a290643c08524d86357f9ab02": {
          "model_module": "@jupyter-widgets/controls",
          "model_name": "FloatProgressModel",
          "model_module_version": "1.5.0",
          "state": {
            "_dom_classes": [],
            "_model_module": "@jupyter-widgets/controls",
            "_model_module_version": "1.5.0",
            "_model_name": "FloatProgressModel",
            "_view_count": null,
            "_view_module": "@jupyter-widgets/controls",
            "_view_module_version": "1.5.0",
            "_view_name": "ProgressView",
            "bar_style": "",
            "description": "",
            "description_tooltip": null,
            "layout": "IPY_MODEL_ffdd29173df84d21a7ceb78cac50ef20",
            "max": 1,
            "min": 0,
            "orientation": "horizontal",
            "style": "IPY_MODEL_6c66b77743ef40c98a3b406087609a9d",
            "value": 1
          }
        },
        "a0311fadf1224a98b22369a93855563a": {
          "model_module": "@jupyter-widgets/base",
          "model_name": "LayoutModel",
          "model_module_version": "1.2.0",
          "state": {
            "_model_module": "@jupyter-widgets/base",
            "_model_module_version": "1.2.0",
            "_model_name": "LayoutModel",
            "_view_count": null,
            "_view_module": "@jupyter-widgets/base",
            "_view_module_version": "1.2.0",
            "_view_name": "LayoutView",
            "align_content": null,
            "align_items": null,
            "align_self": null,
            "border": null,
            "bottom": null,
            "display": null,
            "flex": null,
            "flex_flow": null,
            "grid_area": null,
            "grid_auto_columns": null,
            "grid_auto_flow": null,
            "grid_auto_rows": null,
            "grid_column": null,
            "grid_gap": null,
            "grid_row": null,
            "grid_template_areas": null,
            "grid_template_columns": null,
            "grid_template_rows": null,
            "height": null,
            "justify_content": null,
            "justify_items": null,
            "left": null,
            "margin": null,
            "max_height": null,
            "max_width": null,
            "min_height": null,
            "min_width": null,
            "object_fit": null,
            "object_position": null,
            "order": null,
            "overflow": null,
            "overflow_x": null,
            "overflow_y": null,
            "padding": null,
            "right": null,
            "top": null,
            "visibility": null,
            "width": null
          }
        },
        "9e8ac04317fb41e98e9e6de01bd18fcf": {
          "model_module": "@jupyter-widgets/base",
          "model_name": "LayoutModel",
          "model_module_version": "1.2.0",
          "state": {
            "_model_module": "@jupyter-widgets/base",
            "_model_module_version": "1.2.0",
            "_model_name": "LayoutModel",
            "_view_count": null,
            "_view_module": "@jupyter-widgets/base",
            "_view_module_version": "1.2.0",
            "_view_name": "LayoutView",
            "align_content": null,
            "align_items": null,
            "align_self": null,
            "border": null,
            "bottom": null,
            "display": null,
            "flex": null,
            "flex_flow": null,
            "grid_area": null,
            "grid_auto_columns": null,
            "grid_auto_flow": null,
            "grid_auto_rows": null,
            "grid_column": null,
            "grid_gap": null,
            "grid_row": null,
            "grid_template_areas": null,
            "grid_template_columns": null,
            "grid_template_rows": null,
            "height": null,
            "justify_content": null,
            "justify_items": null,
            "left": null,
            "margin": null,
            "max_height": null,
            "max_width": null,
            "min_height": null,
            "min_width": null,
            "object_fit": null,
            "object_position": null,
            "order": null,
            "overflow": null,
            "overflow_x": null,
            "overflow_y": null,
            "padding": null,
            "right": null,
            "top": null,
            "visibility": null,
            "width": null
          }
        },
        "0e7d767911b2496aadcb6008ac47e92a": {
          "model_module": "@jupyter-widgets/controls",
          "model_name": "DescriptionStyleModel",
          "model_module_version": "1.5.0",
          "state": {
            "_model_module": "@jupyter-widgets/controls",
            "_model_module_version": "1.5.0",
            "_model_name": "DescriptionStyleModel",
            "_view_count": null,
            "_view_module": "@jupyter-widgets/base",
            "_view_module_version": "1.2.0",
            "_view_name": "StyleView",
            "description_width": ""
          }
        },
        "ffdd29173df84d21a7ceb78cac50ef20": {
          "model_module": "@jupyter-widgets/base",
          "model_name": "LayoutModel",
          "model_module_version": "1.2.0",
          "state": {
            "_model_module": "@jupyter-widgets/base",
            "_model_module_version": "1.2.0",
            "_model_name": "LayoutModel",
            "_view_count": null,
            "_view_module": "@jupyter-widgets/base",
            "_view_module_version": "1.2.0",
            "_view_name": "LayoutView",
            "align_content": null,
            "align_items": null,
            "align_self": null,
            "border": null,
            "bottom": null,
            "display": null,
            "flex": null,
            "flex_flow": null,
            "grid_area": null,
            "grid_auto_columns": null,
            "grid_auto_flow": null,
            "grid_auto_rows": null,
            "grid_column": null,
            "grid_gap": null,
            "grid_row": null,
            "grid_template_areas": null,
            "grid_template_columns": null,
            "grid_template_rows": null,
            "height": null,
            "justify_content": null,
            "justify_items": null,
            "left": null,
            "margin": null,
            "max_height": null,
            "max_width": null,
            "min_height": null,
            "min_width": null,
            "object_fit": null,
            "object_position": null,
            "order": null,
            "overflow": null,
            "overflow_x": null,
            "overflow_y": null,
            "padding": null,
            "right": null,
            "top": null,
            "visibility": null,
            "width": null
          }
        },
        "6c66b77743ef40c98a3b406087609a9d": {
          "model_module": "@jupyter-widgets/controls",
          "model_name": "ProgressStyleModel",
          "model_module_version": "1.5.0",
          "state": {
            "_model_module": "@jupyter-widgets/controls",
            "_model_module_version": "1.5.0",
            "_model_name": "ProgressStyleModel",
            "_view_count": null,
            "_view_module": "@jupyter-widgets/base",
            "_view_module_version": "1.2.0",
            "_view_name": "StyleView",
            "bar_color": null,
            "description_width": ""
          }
        }
      }
    }
  },
  "cells": [
    {
      "cell_type": "markdown",
      "source": [
        "# Week 4 - Models and Experimentation\n",
        "\n",
        "## Step 1 Training a model\n",
        "\n",
        "For the purposes of this demo, we will be using this [adapted demo](https://www.datacamp.com/tutorial/xgboost-in-python) and training an XGBoost model, and then doing some experimentation and hyperparameter tuning.\n",
        "\n",
        "\n",
        "If running this notebook locally, use the following steps to create virtual environment:\n",
        "- Don't use past python 3.10\n",
        "- To create virtual environment use \"venv\"\n",
        "\n",
        "`python -m venv NAME`\n",
        "\n",
        "- Try to avoid anaconda, poetry or similar package management platforms\n",
        "- To install a package use pip\n",
        "\n",
        "`python -m pip install <package-name>`\n",
        "\n",
        "- once you are done working with this virtual environment, deactivate it with `deactivate`"
      ],
      "metadata": {
        "id": "WO_Pi9tQ99jR"
      }
    },
    {
      "cell_type": "markdown",
      "source": [
        "### Install packages"
      ],
      "metadata": {
        "id": "9fdJQSzCB9QN"
      }
    },
    {
      "cell_type": "code",
      "execution_count": 6,
      "metadata": {
        "id": "OA27Hq8m9MUQ",
        "colab": {
          "base_uri": "https://localhost:8080/"
        },
        "outputId": "69513624-bfab-4d4e-ca4c-3785bee32830"
      },
      "outputs": [
        {
          "output_type": "stream",
          "name": "stdout",
          "text": [
            "\u001b[2K     \u001b[90m━━━━━━━━━━━━━━━━━━━━━━━━━━━━━━━━━━━━━━━━\u001b[0m \u001b[32m2.2/2.2 MB\u001b[0m \u001b[31m15.1 MB/s\u001b[0m eta \u001b[36m0:00:00\u001b[0m\n",
            "\u001b[2K     \u001b[90m━━━━━━━━━━━━━━━━━━━━━━━━━━━━━━━━━━━━━━━━\u001b[0m \u001b[32m207.3/207.3 kB\u001b[0m \u001b[31m17.5 MB/s\u001b[0m eta \u001b[36m0:00:00\u001b[0m\n",
            "\u001b[2K     \u001b[90m━━━━━━━━━━━━━━━━━━━━━━━━━━━━━━━━━━━━━━━━\u001b[0m \u001b[32m267.1/267.1 kB\u001b[0m \u001b[31m21.7 MB/s\u001b[0m eta \u001b[36m0:00:00\u001b[0m\n",
            "\u001b[2K     \u001b[90m━━━━━━━━━━━━━━━━━━━━━━━━━━━━━━━━━━━━━━━━\u001b[0m \u001b[32m62.7/62.7 kB\u001b[0m \u001b[31m8.3 MB/s\u001b[0m eta \u001b[36m0:00:00\u001b[0m\n",
            "\u001b[?25h"
          ]
        }
      ],
      "source": [
        "!pip install wandb -qU"
      ]
    },
    {
      "cell_type": "code",
      "source": [
        "import xgboost as xgb\n",
        "import pandas as pd\n",
        "import numpy as np\n",
        "import seaborn as sns\n",
        "import matplotlib.pyplot as plt\n",
        "from sklearn.model_selection import train_test_split\n",
        "from sklearn.metrics import mean_squared_error\n"
      ],
      "metadata": {
        "id": "nWPjdRWdCa_c"
      },
      "execution_count": 7,
      "outputs": []
    },
    {
      "cell_type": "markdown",
      "source": [
        "### Import data\n",
        "\n",
        "We will be using Diamonds dataset imported from Seaborn. It is also available on [Kaggle](https://www.kaggle.com/datasets/shivam2503/diamonds).\n",
        "\n",
        "Read about the features by following the link. We will be predicting the price of diamonds."
      ],
      "metadata": {
        "id": "pN3B41RPCjpk"
      }
    },
    {
      "cell_type": "code",
      "source": [
        "diamonds = sns.load_dataset('diamonds')\n",
        "diamonds.head()"
      ],
      "metadata": {
        "colab": {
          "base_uri": "https://localhost:8080/",
          "height": 204
        },
        "id": "xqi0nueWC9u1",
        "outputId": "fa65bdc2-a1e5-4b6e-a85f-1d46f96978b8"
      },
      "execution_count": 8,
      "outputs": [
        {
          "output_type": "execute_result",
          "data": {
            "text/plain": [
              "   carat      cut color clarity  depth  table  price     x     y     z\n",
              "0   0.23    Ideal     E     SI2   61.5   55.0    326  3.95  3.98  2.43\n",
              "1   0.21  Premium     E     SI1   59.8   61.0    326  3.89  3.84  2.31\n",
              "2   0.23     Good     E     VS1   56.9   65.0    327  4.05  4.07  2.31\n",
              "3   0.29  Premium     I     VS2   62.4   58.0    334  4.20  4.23  2.63\n",
              "4   0.31     Good     J     SI2   63.3   58.0    335  4.34  4.35  2.75"
            ],
            "text/html": [
              "\n",
              "  <div id=\"df-d79c0d9b-0914-4454-8a5d-4af03b4c826d\" class=\"colab-df-container\">\n",
              "    <div>\n",
              "<style scoped>\n",
              "    .dataframe tbody tr th:only-of-type {\n",
              "        vertical-align: middle;\n",
              "    }\n",
              "\n",
              "    .dataframe tbody tr th {\n",
              "        vertical-align: top;\n",
              "    }\n",
              "\n",
              "    .dataframe thead th {\n",
              "        text-align: right;\n",
              "    }\n",
              "</style>\n",
              "<table border=\"1\" class=\"dataframe\">\n",
              "  <thead>\n",
              "    <tr style=\"text-align: right;\">\n",
              "      <th></th>\n",
              "      <th>carat</th>\n",
              "      <th>cut</th>\n",
              "      <th>color</th>\n",
              "      <th>clarity</th>\n",
              "      <th>depth</th>\n",
              "      <th>table</th>\n",
              "      <th>price</th>\n",
              "      <th>x</th>\n",
              "      <th>y</th>\n",
              "      <th>z</th>\n",
              "    </tr>\n",
              "  </thead>\n",
              "  <tbody>\n",
              "    <tr>\n",
              "      <th>0</th>\n",
              "      <td>0.23</td>\n",
              "      <td>Ideal</td>\n",
              "      <td>E</td>\n",
              "      <td>SI2</td>\n",
              "      <td>61.5</td>\n",
              "      <td>55.0</td>\n",
              "      <td>326</td>\n",
              "      <td>3.95</td>\n",
              "      <td>3.98</td>\n",
              "      <td>2.43</td>\n",
              "    </tr>\n",
              "    <tr>\n",
              "      <th>1</th>\n",
              "      <td>0.21</td>\n",
              "      <td>Premium</td>\n",
              "      <td>E</td>\n",
              "      <td>SI1</td>\n",
              "      <td>59.8</td>\n",
              "      <td>61.0</td>\n",
              "      <td>326</td>\n",
              "      <td>3.89</td>\n",
              "      <td>3.84</td>\n",
              "      <td>2.31</td>\n",
              "    </tr>\n",
              "    <tr>\n",
              "      <th>2</th>\n",
              "      <td>0.23</td>\n",
              "      <td>Good</td>\n",
              "      <td>E</td>\n",
              "      <td>VS1</td>\n",
              "      <td>56.9</td>\n",
              "      <td>65.0</td>\n",
              "      <td>327</td>\n",
              "      <td>4.05</td>\n",
              "      <td>4.07</td>\n",
              "      <td>2.31</td>\n",
              "    </tr>\n",
              "    <tr>\n",
              "      <th>3</th>\n",
              "      <td>0.29</td>\n",
              "      <td>Premium</td>\n",
              "      <td>I</td>\n",
              "      <td>VS2</td>\n",
              "      <td>62.4</td>\n",
              "      <td>58.0</td>\n",
              "      <td>334</td>\n",
              "      <td>4.20</td>\n",
              "      <td>4.23</td>\n",
              "      <td>2.63</td>\n",
              "    </tr>\n",
              "    <tr>\n",
              "      <th>4</th>\n",
              "      <td>0.31</td>\n",
              "      <td>Good</td>\n",
              "      <td>J</td>\n",
              "      <td>SI2</td>\n",
              "      <td>63.3</td>\n",
              "      <td>58.0</td>\n",
              "      <td>335</td>\n",
              "      <td>4.34</td>\n",
              "      <td>4.35</td>\n",
              "      <td>2.75</td>\n",
              "    </tr>\n",
              "  </tbody>\n",
              "</table>\n",
              "</div>\n",
              "    <div class=\"colab-df-buttons\">\n",
              "\n",
              "  <div class=\"colab-df-container\">\n",
              "    <button class=\"colab-df-convert\" onclick=\"convertToInteractive('df-d79c0d9b-0914-4454-8a5d-4af03b4c826d')\"\n",
              "            title=\"Convert this dataframe to an interactive table.\"\n",
              "            style=\"display:none;\">\n",
              "\n",
              "  <svg xmlns=\"http://www.w3.org/2000/svg\" height=\"24px\" viewBox=\"0 -960 960 960\">\n",
              "    <path d=\"M120-120v-720h720v720H120Zm60-500h600v-160H180v160Zm220 220h160v-160H400v160Zm0 220h160v-160H400v160ZM180-400h160v-160H180v160Zm440 0h160v-160H620v160ZM180-180h160v-160H180v160Zm440 0h160v-160H620v160Z\"/>\n",
              "  </svg>\n",
              "    </button>\n",
              "\n",
              "  <style>\n",
              "    .colab-df-container {\n",
              "      display:flex;\n",
              "      gap: 12px;\n",
              "    }\n",
              "\n",
              "    .colab-df-convert {\n",
              "      background-color: #E8F0FE;\n",
              "      border: none;\n",
              "      border-radius: 50%;\n",
              "      cursor: pointer;\n",
              "      display: none;\n",
              "      fill: #1967D2;\n",
              "      height: 32px;\n",
              "      padding: 0 0 0 0;\n",
              "      width: 32px;\n",
              "    }\n",
              "\n",
              "    .colab-df-convert:hover {\n",
              "      background-color: #E2EBFA;\n",
              "      box-shadow: 0px 1px 2px rgba(60, 64, 67, 0.3), 0px 1px 3px 1px rgba(60, 64, 67, 0.15);\n",
              "      fill: #174EA6;\n",
              "    }\n",
              "\n",
              "    .colab-df-buttons div {\n",
              "      margin-bottom: 4px;\n",
              "    }\n",
              "\n",
              "    [theme=dark] .colab-df-convert {\n",
              "      background-color: #3B4455;\n",
              "      fill: #D2E3FC;\n",
              "    }\n",
              "\n",
              "    [theme=dark] .colab-df-convert:hover {\n",
              "      background-color: #434B5C;\n",
              "      box-shadow: 0px 1px 3px 1px rgba(0, 0, 0, 0.15);\n",
              "      filter: drop-shadow(0px 1px 2px rgba(0, 0, 0, 0.3));\n",
              "      fill: #FFFFFF;\n",
              "    }\n",
              "  </style>\n",
              "\n",
              "    <script>\n",
              "      const buttonEl =\n",
              "        document.querySelector('#df-d79c0d9b-0914-4454-8a5d-4af03b4c826d button.colab-df-convert');\n",
              "      buttonEl.style.display =\n",
              "        google.colab.kernel.accessAllowed ? 'block' : 'none';\n",
              "\n",
              "      async function convertToInteractive(key) {\n",
              "        const element = document.querySelector('#df-d79c0d9b-0914-4454-8a5d-4af03b4c826d');\n",
              "        const dataTable =\n",
              "          await google.colab.kernel.invokeFunction('convertToInteractive',\n",
              "                                                    [key], {});\n",
              "        if (!dataTable) return;\n",
              "\n",
              "        const docLinkHtml = 'Like what you see? Visit the ' +\n",
              "          '<a target=\"_blank\" href=https://colab.research.google.com/notebooks/data_table.ipynb>data table notebook</a>'\n",
              "          + ' to learn more about interactive tables.';\n",
              "        element.innerHTML = '';\n",
              "        dataTable['output_type'] = 'display_data';\n",
              "        await google.colab.output.renderOutput(dataTable, element);\n",
              "        const docLink = document.createElement('div');\n",
              "        docLink.innerHTML = docLinkHtml;\n",
              "        element.appendChild(docLink);\n",
              "      }\n",
              "    </script>\n",
              "  </div>\n",
              "\n",
              "\n",
              "<div id=\"df-9ee66c92-ce09-4ebc-9aad-ab976e000310\">\n",
              "  <button class=\"colab-df-quickchart\" onclick=\"quickchart('df-9ee66c92-ce09-4ebc-9aad-ab976e000310')\"\n",
              "            title=\"Suggest charts\"\n",
              "            style=\"display:none;\">\n",
              "\n",
              "<svg xmlns=\"http://www.w3.org/2000/svg\" height=\"24px\"viewBox=\"0 0 24 24\"\n",
              "     width=\"24px\">\n",
              "    <g>\n",
              "        <path d=\"M19 3H5c-1.1 0-2 .9-2 2v14c0 1.1.9 2 2 2h14c1.1 0 2-.9 2-2V5c0-1.1-.9-2-2-2zM9 17H7v-7h2v7zm4 0h-2V7h2v10zm4 0h-2v-4h2v4z\"/>\n",
              "    </g>\n",
              "</svg>\n",
              "  </button>\n",
              "\n",
              "<style>\n",
              "  .colab-df-quickchart {\n",
              "      --bg-color: #E8F0FE;\n",
              "      --fill-color: #1967D2;\n",
              "      --hover-bg-color: #E2EBFA;\n",
              "      --hover-fill-color: #174EA6;\n",
              "      --disabled-fill-color: #AAA;\n",
              "      --disabled-bg-color: #DDD;\n",
              "  }\n",
              "\n",
              "  [theme=dark] .colab-df-quickchart {\n",
              "      --bg-color: #3B4455;\n",
              "      --fill-color: #D2E3FC;\n",
              "      --hover-bg-color: #434B5C;\n",
              "      --hover-fill-color: #FFFFFF;\n",
              "      --disabled-bg-color: #3B4455;\n",
              "      --disabled-fill-color: #666;\n",
              "  }\n",
              "\n",
              "  .colab-df-quickchart {\n",
              "    background-color: var(--bg-color);\n",
              "    border: none;\n",
              "    border-radius: 50%;\n",
              "    cursor: pointer;\n",
              "    display: none;\n",
              "    fill: var(--fill-color);\n",
              "    height: 32px;\n",
              "    padding: 0;\n",
              "    width: 32px;\n",
              "  }\n",
              "\n",
              "  .colab-df-quickchart:hover {\n",
              "    background-color: var(--hover-bg-color);\n",
              "    box-shadow: 0 1px 2px rgba(60, 64, 67, 0.3), 0 1px 3px 1px rgba(60, 64, 67, 0.15);\n",
              "    fill: var(--button-hover-fill-color);\n",
              "  }\n",
              "\n",
              "  .colab-df-quickchart-complete:disabled,\n",
              "  .colab-df-quickchart-complete:disabled:hover {\n",
              "    background-color: var(--disabled-bg-color);\n",
              "    fill: var(--disabled-fill-color);\n",
              "    box-shadow: none;\n",
              "  }\n",
              "\n",
              "  .colab-df-spinner {\n",
              "    border: 2px solid var(--fill-color);\n",
              "    border-color: transparent;\n",
              "    border-bottom-color: var(--fill-color);\n",
              "    animation:\n",
              "      spin 1s steps(1) infinite;\n",
              "  }\n",
              "\n",
              "  @keyframes spin {\n",
              "    0% {\n",
              "      border-color: transparent;\n",
              "      border-bottom-color: var(--fill-color);\n",
              "      border-left-color: var(--fill-color);\n",
              "    }\n",
              "    20% {\n",
              "      border-color: transparent;\n",
              "      border-left-color: var(--fill-color);\n",
              "      border-top-color: var(--fill-color);\n",
              "    }\n",
              "    30% {\n",
              "      border-color: transparent;\n",
              "      border-left-color: var(--fill-color);\n",
              "      border-top-color: var(--fill-color);\n",
              "      border-right-color: var(--fill-color);\n",
              "    }\n",
              "    40% {\n",
              "      border-color: transparent;\n",
              "      border-right-color: var(--fill-color);\n",
              "      border-top-color: var(--fill-color);\n",
              "    }\n",
              "    60% {\n",
              "      border-color: transparent;\n",
              "      border-right-color: var(--fill-color);\n",
              "    }\n",
              "    80% {\n",
              "      border-color: transparent;\n",
              "      border-right-color: var(--fill-color);\n",
              "      border-bottom-color: var(--fill-color);\n",
              "    }\n",
              "    90% {\n",
              "      border-color: transparent;\n",
              "      border-bottom-color: var(--fill-color);\n",
              "    }\n",
              "  }\n",
              "</style>\n",
              "\n",
              "  <script>\n",
              "    async function quickchart(key) {\n",
              "      const quickchartButtonEl =\n",
              "        document.querySelector('#' + key + ' button');\n",
              "      quickchartButtonEl.disabled = true;  // To prevent multiple clicks.\n",
              "      quickchartButtonEl.classList.add('colab-df-spinner');\n",
              "      try {\n",
              "        const charts = await google.colab.kernel.invokeFunction(\n",
              "            'suggestCharts', [key], {});\n",
              "      } catch (error) {\n",
              "        console.error('Error during call to suggestCharts:', error);\n",
              "      }\n",
              "      quickchartButtonEl.classList.remove('colab-df-spinner');\n",
              "      quickchartButtonEl.classList.add('colab-df-quickchart-complete');\n",
              "    }\n",
              "    (() => {\n",
              "      let quickchartButtonEl =\n",
              "        document.querySelector('#df-9ee66c92-ce09-4ebc-9aad-ab976e000310 button');\n",
              "      quickchartButtonEl.style.display =\n",
              "        google.colab.kernel.accessAllowed ? 'block' : 'none';\n",
              "    })();\n",
              "  </script>\n",
              "</div>\n",
              "    </div>\n",
              "  </div>\n"
            ],
            "application/vnd.google.colaboratory.intrinsic+json": {
              "type": "dataframe",
              "variable_name": "diamonds",
              "summary": "{\n  \"name\": \"diamonds\",\n  \"rows\": 53940,\n  \"fields\": [\n    {\n      \"column\": \"carat\",\n      \"properties\": {\n        \"dtype\": \"number\",\n        \"std\": 0.4740112444054184,\n        \"min\": 0.2,\n        \"max\": 5.01,\n        \"num_unique_values\": 273,\n        \"samples\": [\n          0.77,\n          1.58,\n          0.65\n        ],\n        \"semantic_type\": \"\",\n        \"description\": \"\"\n      }\n    },\n    {\n      \"column\": \"cut\",\n      \"properties\": {\n        \"dtype\": \"category\",\n        \"num_unique_values\": 5,\n        \"samples\": [\n          \"Premium\",\n          \"Fair\",\n          \"Good\"\n        ],\n        \"semantic_type\": \"\",\n        \"description\": \"\"\n      }\n    },\n    {\n      \"column\": \"color\",\n      \"properties\": {\n        \"dtype\": \"category\",\n        \"num_unique_values\": 7,\n        \"samples\": [\n          \"E\",\n          \"I\",\n          \"G\"\n        ],\n        \"semantic_type\": \"\",\n        \"description\": \"\"\n      }\n    },\n    {\n      \"column\": \"clarity\",\n      \"properties\": {\n        \"dtype\": \"category\",\n        \"num_unique_values\": 8,\n        \"samples\": [\n          \"SI1\",\n          \"VVS1\",\n          \"SI2\"\n        ],\n        \"semantic_type\": \"\",\n        \"description\": \"\"\n      }\n    },\n    {\n      \"column\": \"depth\",\n      \"properties\": {\n        \"dtype\": \"number\",\n        \"std\": 1.432621318833661,\n        \"min\": 43.0,\n        \"max\": 79.0,\n        \"num_unique_values\": 184,\n        \"samples\": [\n          61.0,\n          62.9,\n          70.2\n        ],\n        \"semantic_type\": \"\",\n        \"description\": \"\"\n      }\n    },\n    {\n      \"column\": \"table\",\n      \"properties\": {\n        \"dtype\": \"number\",\n        \"std\": 2.2344905628213225,\n        \"min\": 43.0,\n        \"max\": 95.0,\n        \"num_unique_values\": 127,\n        \"samples\": [\n          54.8,\n          61.5,\n          57.6\n        ],\n        \"semantic_type\": \"\",\n        \"description\": \"\"\n      }\n    },\n    {\n      \"column\": \"price\",\n      \"properties\": {\n        \"dtype\": \"number\",\n        \"std\": 3989,\n        \"min\": 326,\n        \"max\": 18823,\n        \"num_unique_values\": 11602,\n        \"samples\": [\n          16368,\n          895,\n          748\n        ],\n        \"semantic_type\": \"\",\n        \"description\": \"\"\n      }\n    },\n    {\n      \"column\": \"x\",\n      \"properties\": {\n        \"dtype\": \"number\",\n        \"std\": 1.1217607467924928,\n        \"min\": 0.0,\n        \"max\": 10.74,\n        \"num_unique_values\": 554,\n        \"samples\": [\n          5.88,\n          5.69,\n          4.61\n        ],\n        \"semantic_type\": \"\",\n        \"description\": \"\"\n      }\n    },\n    {\n      \"column\": \"y\",\n      \"properties\": {\n        \"dtype\": \"number\",\n        \"std\": 1.1421346741235552,\n        \"min\": 0.0,\n        \"max\": 58.9,\n        \"num_unique_values\": 552,\n        \"samples\": [\n          5.33,\n          5.61,\n          5.25\n        ],\n        \"semantic_type\": \"\",\n        \"description\": \"\"\n      }\n    },\n    {\n      \"column\": \"z\",\n      \"properties\": {\n        \"dtype\": \"number\",\n        \"std\": 0.7056988469499941,\n        \"min\": 0.0,\n        \"max\": 31.8,\n        \"num_unique_values\": 375,\n        \"samples\": [\n          3.36,\n          2.45,\n          2.7\n        ],\n        \"semantic_type\": \"\",\n        \"description\": \"\"\n      }\n    }\n  ]\n}"
            }
          },
          "metadata": {},
          "execution_count": 8
        }
      ]
    },
    {
      "cell_type": "code",
      "source": [
        "diamonds.info()"
      ],
      "metadata": {
        "colab": {
          "base_uri": "https://localhost:8080/"
        },
        "id": "9eXufssNFjwj",
        "outputId": "b0f3d7ea-142f-4fab-e6cb-22fc2570415c"
      },
      "execution_count": 9,
      "outputs": [
        {
          "output_type": "stream",
          "name": "stdout",
          "text": [
            "<class 'pandas.core.frame.DataFrame'>\n",
            "RangeIndex: 53940 entries, 0 to 53939\n",
            "Data columns (total 10 columns):\n",
            " #   Column   Non-Null Count  Dtype   \n",
            "---  ------   --------------  -----   \n",
            " 0   carat    53940 non-null  float64 \n",
            " 1   cut      53940 non-null  category\n",
            " 2   color    53940 non-null  category\n",
            " 3   clarity  53940 non-null  category\n",
            " 4   depth    53940 non-null  float64 \n",
            " 5   table    53940 non-null  float64 \n",
            " 6   price    53940 non-null  int64   \n",
            " 7   x        53940 non-null  float64 \n",
            " 8   y        53940 non-null  float64 \n",
            " 9   z        53940 non-null  float64 \n",
            "dtypes: category(3), float64(6), int64(1)\n",
            "memory usage: 3.0 MB\n"
          ]
        }
      ]
    },
    {
      "cell_type": "code",
      "source": [
        "diamonds.shape"
      ],
      "metadata": {
        "colab": {
          "base_uri": "https://localhost:8080/"
        },
        "id": "Cgzl6cOMFl1i",
        "outputId": "3ede9c3c-56db-4576-e2d8-2ba894b39974"
      },
      "execution_count": 10,
      "outputs": [
        {
          "output_type": "execute_result",
          "data": {
            "text/plain": [
              "(53940, 10)"
            ]
          },
          "metadata": {},
          "execution_count": 10
        }
      ]
    },
    {
      "cell_type": "code",
      "source": [
        "X,y = diamonds.drop('price', axis=1), diamonds[['price']]\n",
        "\n",
        "# For the cut, color and clarity use pandas category to enable XGBoost ability to deal with categorical data.\n",
        "\n",
        "X['cut'] = X['cut'].astype('category')\n",
        "X['color'] = X['color'].astype('category')\n",
        "X['clarity'] = X['clarity'].astype('category')"
      ],
      "metadata": {
        "id": "58GvwvXAFnfE"
      },
      "execution_count": 11,
      "outputs": []
    },
    {
      "cell_type": "markdown",
      "source": [
        "### Split the data and train a model"
      ],
      "metadata": {
        "id": "jdvS36e5NC77"
      }
    },
    {
      "cell_type": "code",
      "source": [
        "# Split the data\n",
        "X_train, X_test, y_train, y_test = train_test_split(X, y, test_size=0.2, random_state=42)\n",
        "\n",
        "# Create DMatrix\n",
        "dtrain = xgb.DMatrix(X_train, label=y_train, enable_categorical=True)\n",
        "dtest = xgb.DMatrix(X_test, label=y_test, enable_categorical=True)"
      ],
      "metadata": {
        "id": "eviT-vNcG4Ed"
      },
      "execution_count": 12,
      "outputs": []
    },
    {
      "cell_type": "code",
      "source": [
        "# Define hyperparameters\n",
        "params = {\"objective\": \"reg:squarederror\", \"tree_method\": \"gpu_hist\"}\n",
        "\n",
        "n = 100\n",
        "model = xgb.train(\n",
        "   params=params,\n",
        "   dtrain=dtrain,\n",
        "   num_boost_round=n,\n",
        ")"
      ],
      "metadata": {
        "colab": {
          "base_uri": "https://localhost:8080/"
        },
        "id": "5nHCXUzNHxhQ",
        "outputId": "ca19778e-2a8a-450f-9ce0-473770573b13"
      },
      "execution_count": 13,
      "outputs": [
        {
          "output_type": "stream",
          "name": "stderr",
          "text": [
            "/usr/local/lib/python3.10/dist-packages/xgboost/core.py:160: UserWarning: [22:39:19] WARNING: /workspace/src/common/error_msg.cc:27: The tree method `gpu_hist` is deprecated since 2.0.0. To use GPU training, set the `device` parameter to CUDA instead.\n",
            "\n",
            "    E.g. tree_method = \"hist\", device = \"cuda\"\n",
            "\n",
            "  warnings.warn(smsg, UserWarning)\n"
          ]
        }
      ]
    },
    {
      "cell_type": "code",
      "source": [
        "# Define evaluation metrics - Root Mean Squared Error\n",
        "\n",
        "predictions = model.predict(dtest)\n",
        "rmse = mean_squared_error(y_test, predictions, squared=False)\n",
        "print(f\"RMSE: {rmse}\")"
      ],
      "metadata": {
        "id": "w26fYyTmHbxT",
        "colab": {
          "base_uri": "https://localhost:8080/"
        },
        "outputId": "158f04b4-6d57-49a0-8d09-f9ad1a6e56cf"
      },
      "execution_count": 14,
      "outputs": [
        {
          "output_type": "stream",
          "name": "stdout",
          "text": [
            "RMSE: 532.8838153117543\n"
          ]
        },
        {
          "output_type": "stream",
          "name": "stderr",
          "text": [
            "/usr/local/lib/python3.10/dist-packages/xgboost/core.py:160: UserWarning: [22:39:20] WARNING: /workspace/src/common/error_msg.cc:27: The tree method `gpu_hist` is deprecated since 2.0.0. To use GPU training, set the `device` parameter to CUDA instead.\n",
            "\n",
            "    E.g. tree_method = \"hist\", device = \"cuda\"\n",
            "\n",
            "  warnings.warn(smsg, UserWarning)\n"
          ]
        }
      ]
    },
    {
      "cell_type": "markdown",
      "source": [
        "### Incorporate validation"
      ],
      "metadata": {
        "id": "OfqyuB7qNIQZ"
      }
    },
    {
      "cell_type": "code",
      "source": [
        "params = {\"objective\": \"reg:squarederror\", \"tree_method\": \"gpu_hist\"}\n",
        "n = 100\n",
        "\n",
        "# Create the validation set\n",
        "evals = [(dtrain, \"train\"), (dtest, \"validation\")]"
      ],
      "metadata": {
        "id": "1onp1yEfM9cg"
      },
      "execution_count": 15,
      "outputs": []
    },
    {
      "cell_type": "code",
      "source": [
        "evals = [(dtrain, \"train\"), (dtest, \"validation\")]\n",
        "\n",
        "model = xgb.train(\n",
        "   params=params,\n",
        "   dtrain=dtrain,\n",
        "   num_boost_round=n,\n",
        "   evals=evals,\n",
        "   verbose_eval=10,\n",
        ")"
      ],
      "metadata": {
        "colab": {
          "base_uri": "https://localhost:8080/"
        },
        "id": "9btf-kzwNfZT",
        "outputId": "083a4d13-8fc4-41ef-d55d-78857102447b"
      },
      "execution_count": 16,
      "outputs": [
        {
          "output_type": "stream",
          "name": "stdout",
          "text": [
            "[0]\ttrain-rmse:2859.49097\tvalidation-rmse:2851.62630\n"
          ]
        },
        {
          "output_type": "stream",
          "name": "stderr",
          "text": [
            "/usr/local/lib/python3.10/dist-packages/xgboost/core.py:160: UserWarning: [22:39:20] WARNING: /workspace/src/common/error_msg.cc:27: The tree method `gpu_hist` is deprecated since 2.0.0. To use GPU training, set the `device` parameter to CUDA instead.\n",
            "\n",
            "    E.g. tree_method = \"hist\", device = \"cuda\"\n",
            "\n",
            "  warnings.warn(smsg, UserWarning)\n"
          ]
        },
        {
          "output_type": "stream",
          "name": "stdout",
          "text": [
            "[10]\ttrain-rmse:550.99470\tvalidation-rmse:571.16640\n",
            "[20]\ttrain-rmse:491.51435\tvalidation-rmse:544.08058\n",
            "[30]\ttrain-rmse:464.38845\tvalidation-rmse:537.01895\n",
            "[40]\ttrain-rmse:445.99106\tvalidation-rmse:533.85127\n",
            "[50]\ttrain-rmse:430.36010\tvalidation-rmse:532.90320\n",
            "[60]\ttrain-rmse:418.87898\tvalidation-rmse:533.04629\n",
            "[70]\ttrain-rmse:409.66247\tvalidation-rmse:533.58046\n",
            "[80]\ttrain-rmse:397.34048\tvalidation-rmse:534.31963\n",
            "[90]\ttrain-rmse:389.94294\tvalidation-rmse:532.61946\n",
            "[99]\ttrain-rmse:377.70831\tvalidation-rmse:532.88383\n"
          ]
        }
      ]
    },
    {
      "cell_type": "code",
      "source": [
        "# Incorporate early stopping\n",
        "n = 10000\n",
        "\n",
        "\n",
        "model = xgb.train(\n",
        "   params=params,\n",
        "   dtrain=dtrain,\n",
        "   num_boost_round=n,\n",
        "   evals=evals,\n",
        "   verbose_eval=50,\n",
        "   # Activate early stopping\n",
        "   early_stopping_rounds=50\n",
        ")"
      ],
      "metadata": {
        "colab": {
          "base_uri": "https://localhost:8080/"
        },
        "id": "a2fGIQRPN4Bg",
        "outputId": "28484a9c-d16d-4dd2-cf84-478dd3a882f7"
      },
      "execution_count": 17,
      "outputs": [
        {
          "output_type": "stream",
          "name": "stdout",
          "text": [
            "[0]\ttrain-rmse:2859.49097\tvalidation-rmse:2851.62630\n"
          ]
        },
        {
          "output_type": "stream",
          "name": "stderr",
          "text": [
            "/usr/local/lib/python3.10/dist-packages/xgboost/core.py:160: UserWarning: [22:39:21] WARNING: /workspace/src/common/error_msg.cc:27: The tree method `gpu_hist` is deprecated since 2.0.0. To use GPU training, set the `device` parameter to CUDA instead.\n",
            "\n",
            "    E.g. tree_method = \"hist\", device = \"cuda\"\n",
            "\n",
            "  warnings.warn(smsg, UserWarning)\n"
          ]
        },
        {
          "output_type": "stream",
          "name": "stdout",
          "text": [
            "[50]\ttrain-rmse:430.36010\tvalidation-rmse:532.90320\n",
            "[100]\ttrain-rmse:377.56825\tvalidation-rmse:532.79980\n",
            "[102]\ttrain-rmse:376.20429\tvalidation-rmse:532.59813\n"
          ]
        }
      ]
    },
    {
      "cell_type": "code",
      "source": [
        "# Cross-validation\n",
        "\n",
        "params = {\"objective\": \"reg:squarederror\", \"tree_method\": \"gpu_hist\"}\n",
        "n = 1000\n",
        "\n",
        "results = xgb.cv(\n",
        "   params, dtrain,\n",
        "   num_boost_round=n,\n",
        "   nfold=5,\n",
        "   early_stopping_rounds=20\n",
        ")\n"
      ],
      "metadata": {
        "colab": {
          "base_uri": "https://localhost:8080/"
        },
        "id": "FmPP6YI7OMq7",
        "outputId": "ada306ff-0b4f-40ea-aaef-22248757d354"
      },
      "execution_count": 18,
      "outputs": [
        {
          "output_type": "stream",
          "name": "stderr",
          "text": [
            "/usr/local/lib/python3.10/dist-packages/xgboost/core.py:160: UserWarning: [22:39:22] WARNING: /workspace/src/common/error_msg.cc:27: The tree method `gpu_hist` is deprecated since 2.0.0. To use GPU training, set the `device` parameter to CUDA instead.\n",
            "\n",
            "    E.g. tree_method = \"hist\", device = \"cuda\"\n",
            "\n",
            "  warnings.warn(smsg, UserWarning)\n"
          ]
        }
      ]
    },
    {
      "cell_type": "code",
      "source": [
        "results.head()"
      ],
      "metadata": {
        "colab": {
          "base_uri": "https://localhost:8080/",
          "height": 204
        },
        "id": "dhppagDVOWZ0",
        "outputId": "f455b8dd-4612-4c39-9afa-5bb9e7331a1a"
      },
      "execution_count": 19,
      "outputs": [
        {
          "output_type": "execute_result",
          "data": {
            "text/plain": [
              "   train-rmse-mean  train-rmse-std  test-rmse-mean  test-rmse-std\n",
              "0      2861.153015        8.266765     2861.773555      36.937516\n",
              "1      2081.378004        5.534608     2084.973481      32.064109\n",
              "2      1545.361682        3.287745     1553.681211      31.059209\n",
              "3      1182.364236        3.585787     1192.464771      26.157805\n",
              "4       941.828819        2.971779      958.467497      23.613538"
            ],
            "text/html": [
              "\n",
              "  <div id=\"df-ef57c2ac-fdf4-4017-9f10-781b4968902c\" class=\"colab-df-container\">\n",
              "    <div>\n",
              "<style scoped>\n",
              "    .dataframe tbody tr th:only-of-type {\n",
              "        vertical-align: middle;\n",
              "    }\n",
              "\n",
              "    .dataframe tbody tr th {\n",
              "        vertical-align: top;\n",
              "    }\n",
              "\n",
              "    .dataframe thead th {\n",
              "        text-align: right;\n",
              "    }\n",
              "</style>\n",
              "<table border=\"1\" class=\"dataframe\">\n",
              "  <thead>\n",
              "    <tr style=\"text-align: right;\">\n",
              "      <th></th>\n",
              "      <th>train-rmse-mean</th>\n",
              "      <th>train-rmse-std</th>\n",
              "      <th>test-rmse-mean</th>\n",
              "      <th>test-rmse-std</th>\n",
              "    </tr>\n",
              "  </thead>\n",
              "  <tbody>\n",
              "    <tr>\n",
              "      <th>0</th>\n",
              "      <td>2861.153015</td>\n",
              "      <td>8.266765</td>\n",
              "      <td>2861.773555</td>\n",
              "      <td>36.937516</td>\n",
              "    </tr>\n",
              "    <tr>\n",
              "      <th>1</th>\n",
              "      <td>2081.378004</td>\n",
              "      <td>5.534608</td>\n",
              "      <td>2084.973481</td>\n",
              "      <td>32.064109</td>\n",
              "    </tr>\n",
              "    <tr>\n",
              "      <th>2</th>\n",
              "      <td>1545.361682</td>\n",
              "      <td>3.287745</td>\n",
              "      <td>1553.681211</td>\n",
              "      <td>31.059209</td>\n",
              "    </tr>\n",
              "    <tr>\n",
              "      <th>3</th>\n",
              "      <td>1182.364236</td>\n",
              "      <td>3.585787</td>\n",
              "      <td>1192.464771</td>\n",
              "      <td>26.157805</td>\n",
              "    </tr>\n",
              "    <tr>\n",
              "      <th>4</th>\n",
              "      <td>941.828819</td>\n",
              "      <td>2.971779</td>\n",
              "      <td>958.467497</td>\n",
              "      <td>23.613538</td>\n",
              "    </tr>\n",
              "  </tbody>\n",
              "</table>\n",
              "</div>\n",
              "    <div class=\"colab-df-buttons\">\n",
              "\n",
              "  <div class=\"colab-df-container\">\n",
              "    <button class=\"colab-df-convert\" onclick=\"convertToInteractive('df-ef57c2ac-fdf4-4017-9f10-781b4968902c')\"\n",
              "            title=\"Convert this dataframe to an interactive table.\"\n",
              "            style=\"display:none;\">\n",
              "\n",
              "  <svg xmlns=\"http://www.w3.org/2000/svg\" height=\"24px\" viewBox=\"0 -960 960 960\">\n",
              "    <path d=\"M120-120v-720h720v720H120Zm60-500h600v-160H180v160Zm220 220h160v-160H400v160Zm0 220h160v-160H400v160ZM180-400h160v-160H180v160Zm440 0h160v-160H620v160ZM180-180h160v-160H180v160Zm440 0h160v-160H620v160Z\"/>\n",
              "  </svg>\n",
              "    </button>\n",
              "\n",
              "  <style>\n",
              "    .colab-df-container {\n",
              "      display:flex;\n",
              "      gap: 12px;\n",
              "    }\n",
              "\n",
              "    .colab-df-convert {\n",
              "      background-color: #E8F0FE;\n",
              "      border: none;\n",
              "      border-radius: 50%;\n",
              "      cursor: pointer;\n",
              "      display: none;\n",
              "      fill: #1967D2;\n",
              "      height: 32px;\n",
              "      padding: 0 0 0 0;\n",
              "      width: 32px;\n",
              "    }\n",
              "\n",
              "    .colab-df-convert:hover {\n",
              "      background-color: #E2EBFA;\n",
              "      box-shadow: 0px 1px 2px rgba(60, 64, 67, 0.3), 0px 1px 3px 1px rgba(60, 64, 67, 0.15);\n",
              "      fill: #174EA6;\n",
              "    }\n",
              "\n",
              "    .colab-df-buttons div {\n",
              "      margin-bottom: 4px;\n",
              "    }\n",
              "\n",
              "    [theme=dark] .colab-df-convert {\n",
              "      background-color: #3B4455;\n",
              "      fill: #D2E3FC;\n",
              "    }\n",
              "\n",
              "    [theme=dark] .colab-df-convert:hover {\n",
              "      background-color: #434B5C;\n",
              "      box-shadow: 0px 1px 3px 1px rgba(0, 0, 0, 0.15);\n",
              "      filter: drop-shadow(0px 1px 2px rgba(0, 0, 0, 0.3));\n",
              "      fill: #FFFFFF;\n",
              "    }\n",
              "  </style>\n",
              "\n",
              "    <script>\n",
              "      const buttonEl =\n",
              "        document.querySelector('#df-ef57c2ac-fdf4-4017-9f10-781b4968902c button.colab-df-convert');\n",
              "      buttonEl.style.display =\n",
              "        google.colab.kernel.accessAllowed ? 'block' : 'none';\n",
              "\n",
              "      async function convertToInteractive(key) {\n",
              "        const element = document.querySelector('#df-ef57c2ac-fdf4-4017-9f10-781b4968902c');\n",
              "        const dataTable =\n",
              "          await google.colab.kernel.invokeFunction('convertToInteractive',\n",
              "                                                    [key], {});\n",
              "        if (!dataTable) return;\n",
              "\n",
              "        const docLinkHtml = 'Like what you see? Visit the ' +\n",
              "          '<a target=\"_blank\" href=https://colab.research.google.com/notebooks/data_table.ipynb>data table notebook</a>'\n",
              "          + ' to learn more about interactive tables.';\n",
              "        element.innerHTML = '';\n",
              "        dataTable['output_type'] = 'display_data';\n",
              "        await google.colab.output.renderOutput(dataTable, element);\n",
              "        const docLink = document.createElement('div');\n",
              "        docLink.innerHTML = docLinkHtml;\n",
              "        element.appendChild(docLink);\n",
              "      }\n",
              "    </script>\n",
              "  </div>\n",
              "\n",
              "\n",
              "<div id=\"df-1ea7553c-d348-4e42-91f3-db46765cfa2a\">\n",
              "  <button class=\"colab-df-quickchart\" onclick=\"quickchart('df-1ea7553c-d348-4e42-91f3-db46765cfa2a')\"\n",
              "            title=\"Suggest charts\"\n",
              "            style=\"display:none;\">\n",
              "\n",
              "<svg xmlns=\"http://www.w3.org/2000/svg\" height=\"24px\"viewBox=\"0 0 24 24\"\n",
              "     width=\"24px\">\n",
              "    <g>\n",
              "        <path d=\"M19 3H5c-1.1 0-2 .9-2 2v14c0 1.1.9 2 2 2h14c1.1 0 2-.9 2-2V5c0-1.1-.9-2-2-2zM9 17H7v-7h2v7zm4 0h-2V7h2v10zm4 0h-2v-4h2v4z\"/>\n",
              "    </g>\n",
              "</svg>\n",
              "  </button>\n",
              "\n",
              "<style>\n",
              "  .colab-df-quickchart {\n",
              "      --bg-color: #E8F0FE;\n",
              "      --fill-color: #1967D2;\n",
              "      --hover-bg-color: #E2EBFA;\n",
              "      --hover-fill-color: #174EA6;\n",
              "      --disabled-fill-color: #AAA;\n",
              "      --disabled-bg-color: #DDD;\n",
              "  }\n",
              "\n",
              "  [theme=dark] .colab-df-quickchart {\n",
              "      --bg-color: #3B4455;\n",
              "      --fill-color: #D2E3FC;\n",
              "      --hover-bg-color: #434B5C;\n",
              "      --hover-fill-color: #FFFFFF;\n",
              "      --disabled-bg-color: #3B4455;\n",
              "      --disabled-fill-color: #666;\n",
              "  }\n",
              "\n",
              "  .colab-df-quickchart {\n",
              "    background-color: var(--bg-color);\n",
              "    border: none;\n",
              "    border-radius: 50%;\n",
              "    cursor: pointer;\n",
              "    display: none;\n",
              "    fill: var(--fill-color);\n",
              "    height: 32px;\n",
              "    padding: 0;\n",
              "    width: 32px;\n",
              "  }\n",
              "\n",
              "  .colab-df-quickchart:hover {\n",
              "    background-color: var(--hover-bg-color);\n",
              "    box-shadow: 0 1px 2px rgba(60, 64, 67, 0.3), 0 1px 3px 1px rgba(60, 64, 67, 0.15);\n",
              "    fill: var(--button-hover-fill-color);\n",
              "  }\n",
              "\n",
              "  .colab-df-quickchart-complete:disabled,\n",
              "  .colab-df-quickchart-complete:disabled:hover {\n",
              "    background-color: var(--disabled-bg-color);\n",
              "    fill: var(--disabled-fill-color);\n",
              "    box-shadow: none;\n",
              "  }\n",
              "\n",
              "  .colab-df-spinner {\n",
              "    border: 2px solid var(--fill-color);\n",
              "    border-color: transparent;\n",
              "    border-bottom-color: var(--fill-color);\n",
              "    animation:\n",
              "      spin 1s steps(1) infinite;\n",
              "  }\n",
              "\n",
              "  @keyframes spin {\n",
              "    0% {\n",
              "      border-color: transparent;\n",
              "      border-bottom-color: var(--fill-color);\n",
              "      border-left-color: var(--fill-color);\n",
              "    }\n",
              "    20% {\n",
              "      border-color: transparent;\n",
              "      border-left-color: var(--fill-color);\n",
              "      border-top-color: var(--fill-color);\n",
              "    }\n",
              "    30% {\n",
              "      border-color: transparent;\n",
              "      border-left-color: var(--fill-color);\n",
              "      border-top-color: var(--fill-color);\n",
              "      border-right-color: var(--fill-color);\n",
              "    }\n",
              "    40% {\n",
              "      border-color: transparent;\n",
              "      border-right-color: var(--fill-color);\n",
              "      border-top-color: var(--fill-color);\n",
              "    }\n",
              "    60% {\n",
              "      border-color: transparent;\n",
              "      border-right-color: var(--fill-color);\n",
              "    }\n",
              "    80% {\n",
              "      border-color: transparent;\n",
              "      border-right-color: var(--fill-color);\n",
              "      border-bottom-color: var(--fill-color);\n",
              "    }\n",
              "    90% {\n",
              "      border-color: transparent;\n",
              "      border-bottom-color: var(--fill-color);\n",
              "    }\n",
              "  }\n",
              "</style>\n",
              "\n",
              "  <script>\n",
              "    async function quickchart(key) {\n",
              "      const quickchartButtonEl =\n",
              "        document.querySelector('#' + key + ' button');\n",
              "      quickchartButtonEl.disabled = true;  // To prevent multiple clicks.\n",
              "      quickchartButtonEl.classList.add('colab-df-spinner');\n",
              "      try {\n",
              "        const charts = await google.colab.kernel.invokeFunction(\n",
              "            'suggestCharts', [key], {});\n",
              "      } catch (error) {\n",
              "        console.error('Error during call to suggestCharts:', error);\n",
              "      }\n",
              "      quickchartButtonEl.classList.remove('colab-df-spinner');\n",
              "      quickchartButtonEl.classList.add('colab-df-quickchart-complete');\n",
              "    }\n",
              "    (() => {\n",
              "      let quickchartButtonEl =\n",
              "        document.querySelector('#df-1ea7553c-d348-4e42-91f3-db46765cfa2a button');\n",
              "      quickchartButtonEl.style.display =\n",
              "        google.colab.kernel.accessAllowed ? 'block' : 'none';\n",
              "    })();\n",
              "  </script>\n",
              "</div>\n",
              "    </div>\n",
              "  </div>\n"
            ],
            "application/vnd.google.colaboratory.intrinsic+json": {
              "type": "dataframe",
              "variable_name": "results",
              "summary": "{\n  \"name\": \"results\",\n  \"rows\": 53,\n  \"fields\": [\n    {\n      \"column\": \"train-rmse-mean\",\n      \"properties\": {\n        \"dtype\": \"number\",\n        \"std\": 429.7694081635209,\n        \"min\": 414.1361991658161,\n        \"max\": 2861.15301527067,\n        \"num_unique_values\": 53,\n        \"samples\": [\n          484.62573131246154,\n          433.97153637803405,\n          422.3168224812395\n        ],\n        \"semantic_type\": \"\",\n        \"description\": \"\"\n      }\n    },\n    {\n      \"column\": \"train-rmse-std\",\n      \"properties\": {\n        \"dtype\": \"number\",\n        \"std\": 1.0133113236330542,\n        \"min\": 1.8581036501569677,\n        \"max\": 8.266764717645227,\n        \"num_unique_values\": 53,\n        \"samples\": [\n          2.2293967980471145,\n          3.9505540817264166,\n          3.822599967591308\n        ],\n        \"semantic_type\": \"\",\n        \"description\": \"\"\n      }\n    },\n    {\n      \"column\": \"test-rmse-mean\",\n      \"properties\": {\n        \"dtype\": \"number\",\n        \"std\": 405.2548400212808,\n        \"min\": 549.1039652582465,\n        \"max\": 2861.7735547844964,\n        \"num_unique_values\": 53,\n        \"samples\": [\n          556.4872914846262,\n          551.1895685961096,\n          550.2180180875431\n        ],\n        \"semantic_type\": \"\",\n        \"description\": \"\"\n      }\n    },\n    {\n      \"column\": \"test-rmse-std\",\n      \"properties\": {\n        \"dtype\": \"number\",\n        \"std\": 4.686942459809015,\n        \"min\": 14.422038529767345,\n        \"max\": 36.93751579177745,\n        \"num_unique_values\": 53,\n        \"samples\": [\n          15.171151275590141,\n          14.921685539842414,\n          14.924656542067693\n        ],\n        \"semantic_type\": \"\",\n        \"description\": \"\"\n      }\n    }\n  ]\n}"
            }
          },
          "metadata": {},
          "execution_count": 19
        }
      ]
    },
    {
      "cell_type": "code",
      "source": [
        "best_rmse = results['test-rmse-mean'].min()\n",
        "\n",
        "best_rmse"
      ],
      "metadata": {
        "colab": {
          "base_uri": "https://localhost:8080/"
        },
        "id": "COZyldTfOaWI",
        "outputId": "4f0e7067-a55c-41a5-81d6-07a31704658b"
      },
      "execution_count": 20,
      "outputs": [
        {
          "output_type": "execute_result",
          "data": {
            "text/plain": [
              "549.1039652582465"
            ]
          },
          "metadata": {},
          "execution_count": 20
        }
      ]
    },
    {
      "cell_type": "markdown",
      "source": [
        "## Start W&B\n",
        "\n",
        "\n",
        "- Login into your W&B profile using the code below\n",
        "- Alternatively you can set environment variables. There are several env variables which you can set to change the behavior of W&B logging. The most important are:\n",
        "    - WANDB_API_KEY - find this in your \"Settings\" section under your profile\n",
        "    - WANDB_BASE_URL - this is the url of the W&B server\n",
        "\n",
        "- Find your API Token in \"Profile\" -> \"Setttings\" in the W&B App\n",
        "\n"
      ],
      "metadata": {
        "id": "VQNEcz4kF2ng"
      }
    },
    {
      "cell_type": "code",
      "source": [
        "# Log in to your W&B account\n",
        "import wandb\n",
        "\n",
        "wandb.login()"
      ],
      "metadata": {
        "id": "ftmEQ-keSZ87",
        "colab": {
          "base_uri": "https://localhost:8080/",
          "height": 119
        },
        "outputId": "acaaba6d-8c21-4a9e-97da-e7d1b429794c"
      },
      "execution_count": 21,
      "outputs": [
        {
          "output_type": "display_data",
          "data": {
            "text/plain": [
              "<IPython.core.display.Javascript object>"
            ],
            "application/javascript": [
              "\n",
              "        window._wandbApiKey = new Promise((resolve, reject) => {\n",
              "            function loadScript(url) {\n",
              "            return new Promise(function(resolve, reject) {\n",
              "                let newScript = document.createElement(\"script\");\n",
              "                newScript.onerror = reject;\n",
              "                newScript.onload = resolve;\n",
              "                document.body.appendChild(newScript);\n",
              "                newScript.src = url;\n",
              "            });\n",
              "            }\n",
              "            loadScript(\"https://cdn.jsdelivr.net/npm/postmate/build/postmate.min.js\").then(() => {\n",
              "            const iframe = document.createElement('iframe')\n",
              "            iframe.style.cssText = \"width:0;height:0;border:none\"\n",
              "            document.body.appendChild(iframe)\n",
              "            const handshake = new Postmate({\n",
              "                container: iframe,\n",
              "                url: 'https://wandb.ai/authorize'\n",
              "            });\n",
              "            const timeout = setTimeout(() => reject(\"Couldn't auto authenticate\"), 5000)\n",
              "            handshake.then(function(child) {\n",
              "                child.on('authorize', data => {\n",
              "                    clearTimeout(timeout)\n",
              "                    resolve(data)\n",
              "                });\n",
              "            });\n",
              "            })\n",
              "        });\n",
              "    "
            ]
          },
          "metadata": {}
        },
        {
          "output_type": "stream",
          "name": "stderr",
          "text": [
            "\u001b[34m\u001b[1mwandb\u001b[0m: Logging into wandb.ai. (Learn how to deploy a W&B server locally: https://wandb.me/wandb-server)\n",
            "\u001b[34m\u001b[1mwandb\u001b[0m: You can find your API key in your browser here: https://wandb.ai/authorize\n",
            "wandb: Paste an API key from your profile and hit enter, or press ctrl+c to quit:"
          ]
        },
        {
          "name": "stdout",
          "output_type": "stream",
          "text": [
            " ··········\n"
          ]
        },
        {
          "output_type": "stream",
          "name": "stderr",
          "text": [
            "\u001b[34m\u001b[1mwandb\u001b[0m: Appending key for api.wandb.ai to your netrc file: /root/.netrc\n"
          ]
        },
        {
          "output_type": "execute_result",
          "data": {
            "text/plain": [
              "True"
            ]
          },
          "metadata": {},
          "execution_count": 21
        }
      ]
    },
    {
      "cell_type": "code",
      "source": [
        "# TO DO\n",
        "# Start experiment tracking with W&B\n",
        "# Do at least 5 experiments with various hyperparameters\n",
        "# Choose any method for hyperparameter tuning: grid search, random search, bayesian search\n",
        "# Describe your findings and what you see"
      ],
      "metadata": {
        "id": "MZL8jjiWUnkS"
      },
      "execution_count": 22,
      "outputs": []
    },
    {
      "cell_type": "markdown",
      "source": [
        "### Grid Search"
      ],
      "metadata": {
        "id": "TvpZt7ieAezp"
      }
    },
    {
      "cell_type": "code",
      "source": [
        "for learning_rate in [0.01, 0.1, 0.2]:\n",
        "    for max_depth in [6, 9, 12]:\n",
        "        params = {\n",
        "            \"objective\": \"reg:squarederror\",\n",
        "            \"tree_method\": \"gpu_hist\",\n",
        "            \"learning_rate\": learning_rate,\n",
        "            \"max_depth\": max_depth\n",
        "        }\n",
        "        # Initialize a W&B run\n",
        "        with wandb.init(project='diamonds_price_prediction', config=params):\n",
        "            model = xgb.train(\n",
        "                params=params,\n",
        "                dtrain=dtrain,\n",
        "                num_boost_round=100,\n",
        "                evals=evals,\n",
        "                early_stopping_rounds=50\n",
        "            )\n",
        "            predictions = model.predict(dtest)\n",
        "            rmse = mean_squared_error(y_test, predictions, squared=False)\n",
        "            wandb.log({\"rmse\": rmse})\n"
      ],
      "metadata": {
        "colab": {
          "base_uri": "https://localhost:8080/",
          "height": 1000,
          "referenced_widgets": [
            "c262a98e6dd84239bbc1576b40605239",
            "fa53f22a927846f4a1147b1c71116bfb",
            "2d3f7dde28c147b9868963d7698b1870",
            "562358f5f9cd40858b4c48dede560d1b",
            "1f4633b600654915b099f265387f28f4",
            "4d199f5780324363b3d2a12577dfd32b",
            "524a6ca239ca45e79c5f1d5d39514661",
            "0e7c16d496434763b62afeebacabeb80",
            "836e441338334fd1ac172734a3e18a51",
            "d317741854f0438f956236aa06d4d16b",
            "cf528bb713a34bddb00ef829517a75ec",
            "1f6656e43f954dbb961d02451815039a",
            "05c86c3f55514b08b828f268a239ce26",
            "2a04d38c275747a498b6ed5c951abc22",
            "37aabebb784b4923ad594dc412070201",
            "8d34963482b84ed68a1934c4b4191b33",
            "d9491a99a24e45c0834430ee5ffa38ce",
            "8abe812f6bd54b84aad5f452380a834f",
            "62e9d6da43e241a7bf36a08ab8eabbae",
            "ad595290a77e435b9429385120c657ba",
            "1710d03e084b4b9baa889d2490aa8fe3",
            "2b64d4d2a6bf4730aeb1b0aae39550f2",
            "f3f1a29342b5497dab3d3f2f91634d30",
            "dda8b02c30f54c89be0c7e182ffe8af9",
            "45bedc6c6eaa4f6a89c17100e5066398",
            "762df78d751f486db9f2ace998b94205",
            "bd9ef14807fc4253b6e587af6f6cc961",
            "3e7aa7dc91314ffcaee99ae8afac1cad",
            "915e3a85732445869f4f1db20a4ae6d5",
            "c20e1c0448d441fba6ff21c1c4770ed2",
            "f1bc3fbafe4d4a508953b580bb991a76",
            "28c6d41e0c5f4419ada77f1b66ee6e66",
            "f4b008756da44cc4af87c1496ec196c4",
            "c80cdd67d4d443bb873cc15aa0e10831",
            "5d0f9f160fa8499298b2f65d815ba6ca",
            "06da1750d27349fba29db2cb09e37502",
            "5ead37eb2cbd449f8cfe2ad1cb46554e",
            "d93a05bc05d44ae78caabed2bacf5c5c",
            "6d01a7efc6754afdae43aa9939234b76",
            "db4c53123b4741aa8c0081f40ca69f52",
            "7cb9abffe3504a46aa9de8e7844a3468",
            "8a7a5e291a0744ce8c74eaa0f85e306f",
            "d9fab98f76c94e66b1dd96f4f8a42908",
            "04a4f747035c4dff978e20112ada04c8",
            "b05cc420247844d09983ef1a6b4068ae",
            "8c94a181cbdd464b8e14e63b44571b3d",
            "bff47bdd00cd4af0b1d2e48939cc3242",
            "70fdcb5018734c989eb47f5125bb03e1",
            "a2f99ced280a4453bdf0359130af50eb",
            "a1f283f650b34220b952573026e7560e",
            "112ac17f650a425c809f9f3f7be24cef",
            "8106e792613d4d1f945459975a589db0",
            "982f34b8b9304da39a0d3f173da31df1",
            "afb10681297e4605a87df30846c03ecd",
            "3b2aed006be64b0591c7751a38f66251",
            "a3b783fd840947109c0dd17b87177bdd",
            "b269ebb8408c4a52a511b5cbae21018f",
            "a62eb74b9bc145649e3a6aa2051b6bb2",
            "ecec31e57faa4fc78dc139049be061f9",
            "d5f1ca8a99404a8da1ef29dcc2baae6b",
            "01407dfa35f440c0828f980ae7144939",
            "aceed95e90114b95b14b538fd46a4ea6",
            "3aa01590c2534e1e8c55a41102795b01",
            "2e4f3fa1dc5646be9ffe780e58d2ebbd",
            "9175b9b25cb8456aa2fcd6310c1f54fb",
            "e752694f2a084aed833fba72339ab57a",
            "9602fca341074059b60e8d51706283a0",
            "427bb82467864899abcd6da01d2ba2a2",
            "39d98ce78b72450481352d67ac7dc6af",
            "52e9c3d7098e44b88b69dd4ef2e9e001",
            "a444ad51559e431d978adca6c06a765b",
            "25f134a0f45d48f595badbba5b1fafae"
          ]
        },
        "id": "2m2yjSgUPPik",
        "outputId": "2fb1db96-434e-4257-e106-c3d31ebc2852"
      },
      "execution_count": 23,
      "outputs": [
        {
          "output_type": "stream",
          "name": "stderr",
          "text": [
            "\u001b[34m\u001b[1mwandb\u001b[0m: Currently logged in as: \u001b[33msaiganeshnellore\u001b[0m (\u001b[33mnsg\u001b[0m). Use \u001b[1m`wandb login --relogin`\u001b[0m to force relogin\n"
          ]
        },
        {
          "output_type": "display_data",
          "data": {
            "text/plain": [
              "<IPython.core.display.HTML object>"
            ],
            "text/html": [
              "Tracking run with wandb version 0.16.6"
            ]
          },
          "metadata": {}
        },
        {
          "output_type": "display_data",
          "data": {
            "text/plain": [
              "<IPython.core.display.HTML object>"
            ],
            "text/html": [
              "Run data is saved locally in <code>/content/wandb/run-20240422_224013-pph7yome</code>"
            ]
          },
          "metadata": {}
        },
        {
          "output_type": "display_data",
          "data": {
            "text/plain": [
              "<IPython.core.display.HTML object>"
            ],
            "text/html": [
              "Syncing run <strong><a href='https://wandb.ai/nsg/diamonds_price_prediction/runs/pph7yome' target=\"_blank\">winter-gorge-16</a></strong> to <a href='https://wandb.ai/nsg/diamonds_price_prediction' target=\"_blank\">Weights & Biases</a> (<a href='https://wandb.me/run' target=\"_blank\">docs</a>)<br/>"
            ]
          },
          "metadata": {}
        },
        {
          "output_type": "display_data",
          "data": {
            "text/plain": [
              "<IPython.core.display.HTML object>"
            ],
            "text/html": [
              " View project at <a href='https://wandb.ai/nsg/diamonds_price_prediction' target=\"_blank\">https://wandb.ai/nsg/diamonds_price_prediction</a>"
            ]
          },
          "metadata": {}
        },
        {
          "output_type": "display_data",
          "data": {
            "text/plain": [
              "<IPython.core.display.HTML object>"
            ],
            "text/html": [
              " View run at <a href='https://wandb.ai/nsg/diamonds_price_prediction/runs/pph7yome' target=\"_blank\">https://wandb.ai/nsg/diamonds_price_prediction/runs/pph7yome</a>"
            ]
          },
          "metadata": {}
        },
        {
          "output_type": "stream",
          "name": "stdout",
          "text": [
            "[0]\ttrain-rmse:3951.92462\tvalidation-rmse:3949.02748\n",
            "[1]\ttrain-rmse:3914.29025\tvalidation-rmse:3911.21998\n",
            "[2]\ttrain-rmse:3877.10275\tvalidation-rmse:3873.86672\n",
            "[3]\ttrain-rmse:3840.30732\tvalidation-rmse:3836.90210\n",
            "[4]\ttrain-rmse:3803.89438\tvalidation-rmse:3800.32256\n",
            "[5]\ttrain-rmse:3767.86467\tvalidation-rmse:3764.12914\n",
            "[6]\ttrain-rmse:3732.20828\tvalidation-rmse:3728.30718\n",
            "[7]\ttrain-rmse:3696.92823\tvalidation-rmse:3692.85775\n",
            "[8]\ttrain-rmse:3662.02397\tvalidation-rmse:3657.78952\n",
            "[9]\ttrain-rmse:3627.46912\tvalidation-rmse:3623.08587\n",
            "[10]\ttrain-rmse:3593.28635\tvalidation-rmse:3588.73717\n",
            "[11]\ttrain-rmse:3559.44161\tvalidation-rmse:3554.71475\n",
            "[12]\ttrain-rmse:3525.97874\tvalidation-rmse:3521.06781\n",
            "[13]\ttrain-rmse:3492.86570\tvalidation-rmse:3487.77529\n",
            "[14]\ttrain-rmse:3460.11145\tvalidation-rmse:3454.83778\n",
            "[15]\ttrain-rmse:3427.65383\tvalidation-rmse:3422.21992\n",
            "[16]\ttrain-rmse:3395.56677\tvalidation-rmse:3389.96690\n"
          ]
        },
        {
          "output_type": "stream",
          "name": "stderr",
          "text": [
            "/usr/local/lib/python3.10/dist-packages/xgboost/core.py:160: UserWarning: [22:40:15] WARNING: /workspace/src/common/error_msg.cc:27: The tree method `gpu_hist` is deprecated since 2.0.0. To use GPU training, set the `device` parameter to CUDA instead.\n",
            "\n",
            "    E.g. tree_method = \"hist\", device = \"cuda\"\n",
            "\n",
            "  warnings.warn(smsg, UserWarning)\n"
          ]
        },
        {
          "output_type": "stream",
          "name": "stdout",
          "text": [
            "[17]\ttrain-rmse:3363.75667\tvalidation-rmse:3358.08757\n",
            "[18]\ttrain-rmse:3332.31965\tvalidation-rmse:3326.47775\n",
            "[19]\ttrain-rmse:3301.17180\tvalidation-rmse:3295.26749\n",
            "[20]\ttrain-rmse:3270.41375\tvalidation-rmse:3264.35438\n",
            "[21]\ttrain-rmse:3239.92519\tvalidation-rmse:3233.88165\n",
            "[22]\ttrain-rmse:3209.73054\tvalidation-rmse:3203.59201\n",
            "[23]\ttrain-rmse:3179.80215\tvalidation-rmse:3173.60675\n",
            "[24]\ttrain-rmse:3150.18892\tvalidation-rmse:3144.01912\n",
            "[25]\ttrain-rmse:3120.92669\tvalidation-rmse:3114.64985\n",
            "[26]\ttrain-rmse:3091.93693\tvalidation-rmse:3085.54884\n",
            "[27]\ttrain-rmse:3063.14791\tvalidation-rmse:3056.74740\n",
            "[28]\ttrain-rmse:3034.75572\tvalidation-rmse:3028.31985\n",
            "[29]\ttrain-rmse:3006.57676\tvalidation-rmse:3000.08035\n",
            "[30]\ttrain-rmse:2978.78205\tvalidation-rmse:2972.18011\n",
            "[31]\ttrain-rmse:2951.11499\tvalidation-rmse:2944.49426\n",
            "[32]\ttrain-rmse:2923.86171\tvalidation-rmse:2917.20940\n",
            "[33]\ttrain-rmse:2896.92357\tvalidation-rmse:2890.16929\n",
            "[34]\ttrain-rmse:2870.06897\tvalidation-rmse:2863.29618\n",
            "[35]\ttrain-rmse:2843.69881\tvalidation-rmse:2836.98224\n",
            "[36]\ttrain-rmse:2817.61360\tvalidation-rmse:2810.95150\n",
            "[37]\ttrain-rmse:2791.57972\tvalidation-rmse:2784.91730\n",
            "[38]\ttrain-rmse:2765.99722\tvalidation-rmse:2759.38358\n",
            "[39]\ttrain-rmse:2740.63092\tvalidation-rmse:2733.96677\n",
            "[40]\ttrain-rmse:2715.40293\tvalidation-rmse:2708.70396\n",
            "[41]\ttrain-rmse:2690.60907\tvalidation-rmse:2683.86044\n",
            "[42]\ttrain-rmse:2665.95715\tvalidation-rmse:2659.20915\n",
            "[43]\ttrain-rmse:2641.57644\tvalidation-rmse:2634.86439\n",
            "[44]\ttrain-rmse:2617.50961\tvalidation-rmse:2610.75259\n",
            "[45]\ttrain-rmse:2593.58497\tvalidation-rmse:2586.80354\n",
            "[46]\ttrain-rmse:2570.08452\tvalidation-rmse:2563.35373\n",
            "[47]\ttrain-rmse:2546.71854\tvalidation-rmse:2540.01155\n",
            "[48]\ttrain-rmse:2523.54508\tvalidation-rmse:2516.83407\n",
            "[49]\ttrain-rmse:2500.70879\tvalidation-rmse:2493.90779\n",
            "[50]\ttrain-rmse:2478.08307\tvalidation-rmse:2471.31361\n",
            "[51]\ttrain-rmse:2455.63737\tvalidation-rmse:2448.85390\n",
            "[52]\ttrain-rmse:2433.51696\tvalidation-rmse:2426.74877\n",
            "[53]\ttrain-rmse:2411.54058\tvalidation-rmse:2404.76059\n",
            "[54]\ttrain-rmse:2389.89727\tvalidation-rmse:2383.13439\n",
            "[55]\ttrain-rmse:2368.43138\tvalidation-rmse:2361.65486\n",
            "[56]\ttrain-rmse:2347.14212\tvalidation-rmse:2340.36625\n",
            "[57]\ttrain-rmse:2326.11743\tvalidation-rmse:2319.36001\n",
            "[58]\ttrain-rmse:2305.32174\tvalidation-rmse:2298.59908\n",
            "[59]\ttrain-rmse:2284.69523\tvalidation-rmse:2278.01183\n",
            "[60]\ttrain-rmse:2264.31650\tvalidation-rmse:2257.62271\n",
            "[61]\ttrain-rmse:2244.20332\tvalidation-rmse:2237.47937\n",
            "[62]\ttrain-rmse:2224.22289\tvalidation-rmse:2217.52999\n",
            "[63]\ttrain-rmse:2204.49951\tvalidation-rmse:2197.80574\n",
            "[64]\ttrain-rmse:2184.93831\tvalidation-rmse:2178.21623\n",
            "[65]\ttrain-rmse:2165.69583\tvalidation-rmse:2158.96800\n",
            "[66]\ttrain-rmse:2146.57376\tvalidation-rmse:2139.88611\n",
            "[67]\ttrain-rmse:2127.63043\tvalidation-rmse:2120.92465\n",
            "[68]\ttrain-rmse:2108.92907\tvalidation-rmse:2102.23506\n",
            "[69]\ttrain-rmse:2090.42309\tvalidation-rmse:2083.77081\n",
            "[70]\ttrain-rmse:2072.05858\tvalidation-rmse:2065.45110\n",
            "[71]\ttrain-rmse:2053.92213\tvalidation-rmse:2047.33371\n",
            "[72]\ttrain-rmse:2035.99843\tvalidation-rmse:2029.45293\n",
            "[73]\ttrain-rmse:2018.23865\tvalidation-rmse:2011.70656\n",
            "[74]\ttrain-rmse:2000.69196\tvalidation-rmse:1994.17418\n",
            "[75]\ttrain-rmse:1983.31166\tvalidation-rmse:1976.88543\n",
            "[76]\ttrain-rmse:1966.10710\tvalidation-rmse:1959.67734\n",
            "[77]\ttrain-rmse:1949.10119\tvalidation-rmse:1942.72150\n",
            "[78]\ttrain-rmse:1932.18129\tvalidation-rmse:1925.83302\n",
            "[79]\ttrain-rmse:1915.48851\tvalidation-rmse:1909.09732\n",
            "[80]\ttrain-rmse:1898.93744\tvalidation-rmse:1892.57944\n",
            "[81]\ttrain-rmse:1882.57136\tvalidation-rmse:1876.25126\n",
            "[82]\ttrain-rmse:1866.39046\tvalidation-rmse:1860.08937\n",
            "[83]\ttrain-rmse:1850.40734\tvalidation-rmse:1844.08199\n",
            "[84]\ttrain-rmse:1834.56974\tvalidation-rmse:1828.30813\n",
            "[85]\ttrain-rmse:1818.88094\tvalidation-rmse:1812.57563\n",
            "[86]\ttrain-rmse:1803.40778\tvalidation-rmse:1797.14280\n",
            "[87]\ttrain-rmse:1788.11181\tvalidation-rmse:1781.89026\n",
            "[88]\ttrain-rmse:1772.93294\tvalidation-rmse:1766.74419\n",
            "[89]\ttrain-rmse:1758.01100\tvalidation-rmse:1751.86808\n",
            "[90]\ttrain-rmse:1743.17159\tvalidation-rmse:1737.00607\n",
            "[91]\ttrain-rmse:1728.49043\tvalidation-rmse:1722.26035\n",
            "[92]\ttrain-rmse:1713.90479\tvalidation-rmse:1707.57720\n",
            "[93]\ttrain-rmse:1699.57442\tvalidation-rmse:1693.30594\n",
            "[94]\ttrain-rmse:1685.41124\tvalidation-rmse:1679.16974\n",
            "[95]\ttrain-rmse:1671.28479\tvalidation-rmse:1665.11250\n",
            "[96]\ttrain-rmse:1657.39011\tvalidation-rmse:1651.22154\n",
            "[97]\ttrain-rmse:1643.58776\tvalidation-rmse:1637.31739\n",
            "[98]\ttrain-rmse:1630.02834\tvalidation-rmse:1623.66430\n",
            "[99]\ttrain-rmse:1616.53460\tvalidation-rmse:1610.09543\n"
          ]
        },
        {
          "output_type": "stream",
          "name": "stderr",
          "text": [
            "/usr/local/lib/python3.10/dist-packages/xgboost/core.py:160: UserWarning: [22:40:16] WARNING: /workspace/src/common/error_msg.cc:27: The tree method `gpu_hist` is deprecated since 2.0.0. To use GPU training, set the `device` parameter to CUDA instead.\n",
            "\n",
            "    E.g. tree_method = \"hist\", device = \"cuda\"\n",
            "\n",
            "  warnings.warn(smsg, UserWarning)\n"
          ]
        },
        {
          "output_type": "display_data",
          "data": {
            "text/plain": [
              "VBox(children=(Label(value='0.001 MB of 0.001 MB uploaded\\r'), FloatProgress(value=1.0, max=1.0)))"
            ],
            "application/vnd.jupyter.widget-view+json": {
              "version_major": 2,
              "version_minor": 0,
              "model_id": "c262a98e6dd84239bbc1576b40605239"
            }
          },
          "metadata": {}
        },
        {
          "output_type": "display_data",
          "data": {
            "text/plain": [
              "<IPython.core.display.HTML object>"
            ],
            "text/html": [
              "<style>\n",
              "    table.wandb td:nth-child(1) { padding: 0 10px; text-align: left ; width: auto;} td:nth-child(2) {text-align: left ; width: 100%}\n",
              "    .wandb-row { display: flex; flex-direction: row; flex-wrap: wrap; justify-content: flex-start; width: 100% }\n",
              "    .wandb-col { display: flex; flex-direction: column; flex-basis: 100%; flex: 1; padding: 10px; }\n",
              "    </style>\n",
              "<div class=\"wandb-row\"><div class=\"wandb-col\"><h3>Run history:</h3><br/><table class=\"wandb\"><tr><td>rmse</td><td>▁</td></tr></table><br/></div><div class=\"wandb-col\"><h3>Run summary:</h3><br/><table class=\"wandb\"><tr><td>rmse</td><td>1610.09514</td></tr></table><br/></div></div>"
            ]
          },
          "metadata": {}
        },
        {
          "output_type": "display_data",
          "data": {
            "text/plain": [
              "<IPython.core.display.HTML object>"
            ],
            "text/html": [
              " View run <strong style=\"color:#cdcd00\">winter-gorge-16</strong> at: <a href='https://wandb.ai/nsg/diamonds_price_prediction/runs/pph7yome' target=\"_blank\">https://wandb.ai/nsg/diamonds_price_prediction/runs/pph7yome</a><br/> View project at: <a href='https://wandb.ai/nsg/diamonds_price_prediction' target=\"_blank\">https://wandb.ai/nsg/diamonds_price_prediction</a><br/>Synced 5 W&B file(s), 0 media file(s), 0 artifact file(s) and 0 other file(s)"
            ]
          },
          "metadata": {}
        },
        {
          "output_type": "display_data",
          "data": {
            "text/plain": [
              "<IPython.core.display.HTML object>"
            ],
            "text/html": [
              "Find logs at: <code>./wandb/run-20240422_224013-pph7yome/logs</code>"
            ]
          },
          "metadata": {}
        },
        {
          "output_type": "display_data",
          "data": {
            "text/plain": [
              "<IPython.core.display.HTML object>"
            ],
            "text/html": [
              "Tracking run with wandb version 0.16.6"
            ]
          },
          "metadata": {}
        },
        {
          "output_type": "display_data",
          "data": {
            "text/plain": [
              "<IPython.core.display.HTML object>"
            ],
            "text/html": [
              "Run data is saved locally in <code>/content/wandb/run-20240422_224026-tu1qq7yc</code>"
            ]
          },
          "metadata": {}
        },
        {
          "output_type": "display_data",
          "data": {
            "text/plain": [
              "<IPython.core.display.HTML object>"
            ],
            "text/html": [
              "Syncing run <strong><a href='https://wandb.ai/nsg/diamonds_price_prediction/runs/tu1qq7yc' target=\"_blank\">wild-deluge-17</a></strong> to <a href='https://wandb.ai/nsg/diamonds_price_prediction' target=\"_blank\">Weights & Biases</a> (<a href='https://wandb.me/run' target=\"_blank\">docs</a>)<br/>"
            ]
          },
          "metadata": {}
        },
        {
          "output_type": "display_data",
          "data": {
            "text/plain": [
              "<IPython.core.display.HTML object>"
            ],
            "text/html": [
              " View project at <a href='https://wandb.ai/nsg/diamonds_price_prediction' target=\"_blank\">https://wandb.ai/nsg/diamonds_price_prediction</a>"
            ]
          },
          "metadata": {}
        },
        {
          "output_type": "display_data",
          "data": {
            "text/plain": [
              "<IPython.core.display.HTML object>"
            ],
            "text/html": [
              " View run at <a href='https://wandb.ai/nsg/diamonds_price_prediction/runs/tu1qq7yc' target=\"_blank\">https://wandb.ai/nsg/diamonds_price_prediction/runs/tu1qq7yc</a>"
            ]
          },
          "metadata": {}
        },
        {
          "output_type": "stream",
          "name": "stdout",
          "text": [
            "[0]\ttrain-rmse:3951.31161\tvalidation-rmse:3948.51603\n",
            "[1]\ttrain-rmse:3913.06182\tvalidation-rmse:3910.16519\n",
            "[2]\ttrain-rmse:3875.20416\tvalidation-rmse:3872.21117\n",
            "[3]\ttrain-rmse:3837.72759\tvalidation-rmse:3834.64671\n",
            "[4]\ttrain-rmse:3800.65435\tvalidation-rmse:3797.48598\n",
            "[5]\ttrain-rmse:3763.95868\tvalidation-rmse:3760.68426\n",
            "[6]\ttrain-rmse:3727.63526\tvalidation-rmse:3724.29360\n",
            "[7]\ttrain-rmse:3691.68229\tvalidation-rmse:3688.30457\n"
          ]
        },
        {
          "output_type": "stream",
          "name": "stderr",
          "text": [
            "/usr/local/lib/python3.10/dist-packages/xgboost/core.py:160: UserWarning: [22:40:28] WARNING: /workspace/src/common/error_msg.cc:27: The tree method `gpu_hist` is deprecated since 2.0.0. To use GPU training, set the `device` parameter to CUDA instead.\n",
            "\n",
            "    E.g. tree_method = \"hist\", device = \"cuda\"\n",
            "\n",
            "  warnings.warn(smsg, UserWarning)\n"
          ]
        },
        {
          "output_type": "stream",
          "name": "stdout",
          "text": [
            "[8]\ttrain-rmse:3656.09006\tvalidation-rmse:3652.64018\n",
            "[9]\ttrain-rmse:3620.86228\tvalidation-rmse:3617.41609\n",
            "[10]\ttrain-rmse:3585.99076\tvalidation-rmse:3582.49463\n",
            "[11]\ttrain-rmse:3551.46856\tvalidation-rmse:3547.91563\n",
            "[12]\ttrain-rmse:3517.29885\tvalidation-rmse:3513.70542\n",
            "[13]\ttrain-rmse:3483.47667\tvalidation-rmse:3479.86643\n",
            "[14]\ttrain-rmse:3449.99711\tvalidation-rmse:3446.32743\n",
            "[15]\ttrain-rmse:3416.86206\tvalidation-rmse:3413.18331\n",
            "[16]\ttrain-rmse:3384.05851\tvalidation-rmse:3380.31172\n",
            "[17]\ttrain-rmse:3351.59675\tvalidation-rmse:3347.88861\n",
            "[18]\ttrain-rmse:3319.46008\tvalidation-rmse:3315.73005\n",
            "[19]\ttrain-rmse:3287.65596\tvalidation-rmse:3283.93800\n",
            "[20]\ttrain-rmse:3256.17609\tvalidation-rmse:3252.44695\n",
            "[21]\ttrain-rmse:3225.00835\tvalidation-rmse:3221.23390\n",
            "[22]\ttrain-rmse:3194.16374\tvalidation-rmse:3190.42093\n",
            "[23]\ttrain-rmse:3163.63536\tvalidation-rmse:3159.91866\n",
            "[24]\ttrain-rmse:3133.41055\tvalidation-rmse:3129.66044\n",
            "[25]\ttrain-rmse:3103.50265\tvalidation-rmse:3099.75892\n",
            "[26]\ttrain-rmse:3073.88879\tvalidation-rmse:3070.11310\n",
            "[27]\ttrain-rmse:3044.58562\tvalidation-rmse:3040.91505\n",
            "[28]\ttrain-rmse:3015.58011\tvalidation-rmse:3011.94514\n",
            "[29]\ttrain-rmse:2986.86393\tvalidation-rmse:2983.29898\n",
            "[30]\ttrain-rmse:2958.45255\tvalidation-rmse:2954.97498\n",
            "[31]\ttrain-rmse:2930.33110\tvalidation-rmse:2926.90609\n",
            "[32]\ttrain-rmse:2902.48094\tvalidation-rmse:2899.11668\n",
            "[33]\ttrain-rmse:2874.93049\tvalidation-rmse:2871.60762\n",
            "[34]\ttrain-rmse:2847.65361\tvalidation-rmse:2844.41694\n",
            "[35]\ttrain-rmse:2820.66175\tvalidation-rmse:2817.44544\n",
            "[36]\ttrain-rmse:2793.93370\tvalidation-rmse:2790.81489\n",
            "[37]\ttrain-rmse:2767.49462\tvalidation-rmse:2764.49603\n",
            "[38]\ttrain-rmse:2741.31108\tvalidation-rmse:2738.31230\n",
            "[39]\ttrain-rmse:2715.38113\tvalidation-rmse:2712.47429\n",
            "[40]\ttrain-rmse:2689.73443\tvalidation-rmse:2686.93335\n",
            "[41]\ttrain-rmse:2664.34036\tvalidation-rmse:2661.57803\n",
            "[42]\ttrain-rmse:2639.19621\tvalidation-rmse:2636.56358\n",
            "[43]\ttrain-rmse:2614.31107\tvalidation-rmse:2611.78431\n",
            "[44]\ttrain-rmse:2589.69115\tvalidation-rmse:2587.26587\n",
            "[45]\ttrain-rmse:2565.30388\tvalidation-rmse:2562.94118\n",
            "[46]\ttrain-rmse:2541.17032\tvalidation-rmse:2538.89863\n",
            "[47]\ttrain-rmse:2517.28722\tvalidation-rmse:2515.10629\n",
            "[48]\ttrain-rmse:2493.65126\tvalidation-rmse:2491.54615\n",
            "[49]\ttrain-rmse:2470.24649\tvalidation-rmse:2468.20606\n",
            "[50]\ttrain-rmse:2447.07956\tvalidation-rmse:2445.11272\n",
            "[51]\ttrain-rmse:2424.16355\tvalidation-rmse:2422.30850\n",
            "[52]\ttrain-rmse:2401.48071\tvalidation-rmse:2399.68109\n",
            "[53]\ttrain-rmse:2379.02256\tvalidation-rmse:2377.22139\n",
            "[54]\ttrain-rmse:2356.75820\tvalidation-rmse:2355.06515\n",
            "[55]\ttrain-rmse:2334.76676\tvalidation-rmse:2333.15899\n",
            "[56]\ttrain-rmse:2312.96141\tvalidation-rmse:2311.39489\n",
            "[57]\ttrain-rmse:2291.42006\tvalidation-rmse:2289.94408\n",
            "[58]\ttrain-rmse:2270.10640\tvalidation-rmse:2268.73382\n",
            "[59]\ttrain-rmse:2248.95665\tvalidation-rmse:2247.73368\n",
            "[60]\ttrain-rmse:2228.07296\tvalidation-rmse:2226.89332\n",
            "[61]\ttrain-rmse:2207.40161\tvalidation-rmse:2206.29831\n",
            "[62]\ttrain-rmse:2186.90023\tvalidation-rmse:2185.94710\n",
            "[63]\ttrain-rmse:2166.64825\tvalidation-rmse:2165.81795\n",
            "[64]\ttrain-rmse:2146.61162\tvalidation-rmse:2145.83662\n",
            "[65]\ttrain-rmse:2126.74848\tvalidation-rmse:2126.03671\n",
            "[66]\ttrain-rmse:2107.12030\tvalidation-rmse:2106.53706\n",
            "[67]\ttrain-rmse:2087.66465\tvalidation-rmse:2087.14397\n",
            "[68]\ttrain-rmse:2068.42716\tvalidation-rmse:2067.99575\n",
            "[69]\ttrain-rmse:2049.41292\tvalidation-rmse:2049.04796\n",
            "[70]\ttrain-rmse:2030.54557\tvalidation-rmse:2030.35581\n",
            "[71]\ttrain-rmse:2011.92029\tvalidation-rmse:2011.79160\n",
            "[72]\ttrain-rmse:1993.46735\tvalidation-rmse:1993.49434\n",
            "[73]\ttrain-rmse:1975.18786\tvalidation-rmse:1975.39496\n",
            "[74]\ttrain-rmse:1957.13470\tvalidation-rmse:1957.47749\n",
            "[75]\ttrain-rmse:1939.27086\tvalidation-rmse:1939.69677\n",
            "[76]\ttrain-rmse:1921.52417\tvalidation-rmse:1922.05638\n",
            "[77]\ttrain-rmse:1904.01118\tvalidation-rmse:1904.68134\n",
            "[78]\ttrain-rmse:1886.70576\tvalidation-rmse:1887.48201\n",
            "[79]\ttrain-rmse:1869.50847\tvalidation-rmse:1870.41548\n",
            "[80]\ttrain-rmse:1852.53892\tvalidation-rmse:1853.68901\n",
            "[81]\ttrain-rmse:1835.76897\tvalidation-rmse:1837.19292\n",
            "[82]\ttrain-rmse:1819.10707\tvalidation-rmse:1820.71465\n",
            "[83]\ttrain-rmse:1802.67469\tvalidation-rmse:1804.45091\n",
            "[84]\ttrain-rmse:1786.38494\tvalidation-rmse:1788.33078\n",
            "[85]\ttrain-rmse:1770.30177\tvalidation-rmse:1772.39379\n",
            "[86]\ttrain-rmse:1754.32629\tvalidation-rmse:1756.55089\n",
            "[87]\ttrain-rmse:1738.56909\tvalidation-rmse:1741.01985\n",
            "[88]\ttrain-rmse:1722.95024\tvalidation-rmse:1725.60360\n",
            "[89]\ttrain-rmse:1707.47363\tvalidation-rmse:1710.33616\n",
            "[90]\ttrain-rmse:1692.18924\tvalidation-rmse:1695.24998\n",
            "[91]\ttrain-rmse:1677.06003\tvalidation-rmse:1680.33036\n",
            "[92]\ttrain-rmse:1662.08697\tvalidation-rmse:1665.48920\n",
            "[93]\ttrain-rmse:1647.24944\tvalidation-rmse:1650.83439\n",
            "[94]\ttrain-rmse:1632.60377\tvalidation-rmse:1636.31112\n",
            "[95]\ttrain-rmse:1618.10282\tvalidation-rmse:1622.01436\n",
            "[96]\ttrain-rmse:1603.72182\tvalidation-rmse:1607.81659\n",
            "[97]\ttrain-rmse:1589.52663\tvalidation-rmse:1593.87436\n",
            "[98]\ttrain-rmse:1575.45816\tvalidation-rmse:1580.02824\n",
            "[99]\ttrain-rmse:1561.54224\tvalidation-rmse:1566.35922\n"
          ]
        },
        {
          "output_type": "stream",
          "name": "stderr",
          "text": [
            "/usr/local/lib/python3.10/dist-packages/xgboost/core.py:160: UserWarning: [22:40:29] WARNING: /workspace/src/common/error_msg.cc:27: The tree method `gpu_hist` is deprecated since 2.0.0. To use GPU training, set the `device` parameter to CUDA instead.\n",
            "\n",
            "    E.g. tree_method = \"hist\", device = \"cuda\"\n",
            "\n",
            "  warnings.warn(smsg, UserWarning)\n"
          ]
        },
        {
          "output_type": "display_data",
          "data": {
            "text/plain": [
              "VBox(children=(Label(value='0.001 MB of 0.001 MB uploaded\\r'), FloatProgress(value=1.0, max=1.0)))"
            ],
            "application/vnd.jupyter.widget-view+json": {
              "version_major": 2,
              "version_minor": 0,
              "model_id": "836e441338334fd1ac172734a3e18a51"
            }
          },
          "metadata": {}
        },
        {
          "output_type": "display_data",
          "data": {
            "text/plain": [
              "<IPython.core.display.HTML object>"
            ],
            "text/html": [
              "<style>\n",
              "    table.wandb td:nth-child(1) { padding: 0 10px; text-align: left ; width: auto;} td:nth-child(2) {text-align: left ; width: 100%}\n",
              "    .wandb-row { display: flex; flex-direction: row; flex-wrap: wrap; justify-content: flex-start; width: 100% }\n",
              "    .wandb-col { display: flex; flex-direction: column; flex-basis: 100%; flex: 1; padding: 10px; }\n",
              "    </style>\n",
              "<div class=\"wandb-row\"><div class=\"wandb-col\"><h3>Run history:</h3><br/><table class=\"wandb\"><tr><td>rmse</td><td>▁</td></tr></table><br/></div><div class=\"wandb-col\"><h3>Run summary:</h3><br/><table class=\"wandb\"><tr><td>rmse</td><td>1566.3593</td></tr></table><br/></div></div>"
            ]
          },
          "metadata": {}
        },
        {
          "output_type": "display_data",
          "data": {
            "text/plain": [
              "<IPython.core.display.HTML object>"
            ],
            "text/html": [
              " View run <strong style=\"color:#cdcd00\">wild-deluge-17</strong> at: <a href='https://wandb.ai/nsg/diamonds_price_prediction/runs/tu1qq7yc' target=\"_blank\">https://wandb.ai/nsg/diamonds_price_prediction/runs/tu1qq7yc</a><br/> View project at: <a href='https://wandb.ai/nsg/diamonds_price_prediction' target=\"_blank\">https://wandb.ai/nsg/diamonds_price_prediction</a><br/>Synced 5 W&B file(s), 0 media file(s), 0 artifact file(s) and 0 other file(s)"
            ]
          },
          "metadata": {}
        },
        {
          "output_type": "display_data",
          "data": {
            "text/plain": [
              "<IPython.core.display.HTML object>"
            ],
            "text/html": [
              "Find logs at: <code>./wandb/run-20240422_224026-tu1qq7yc/logs</code>"
            ]
          },
          "metadata": {}
        },
        {
          "output_type": "display_data",
          "data": {
            "text/plain": [
              "<IPython.core.display.HTML object>"
            ],
            "text/html": [
              "Tracking run with wandb version 0.16.6"
            ]
          },
          "metadata": {}
        },
        {
          "output_type": "display_data",
          "data": {
            "text/plain": [
              "<IPython.core.display.HTML object>"
            ],
            "text/html": [
              "Run data is saved locally in <code>/content/wandb/run-20240422_224035-v5ms7va8</code>"
            ]
          },
          "metadata": {}
        },
        {
          "output_type": "display_data",
          "data": {
            "text/plain": [
              "<IPython.core.display.HTML object>"
            ],
            "text/html": [
              "Syncing run <strong><a href='https://wandb.ai/nsg/diamonds_price_prediction/runs/v5ms7va8' target=\"_blank\">earthy-night-18</a></strong> to <a href='https://wandb.ai/nsg/diamonds_price_prediction' target=\"_blank\">Weights & Biases</a> (<a href='https://wandb.me/run' target=\"_blank\">docs</a>)<br/>"
            ]
          },
          "metadata": {}
        },
        {
          "output_type": "display_data",
          "data": {
            "text/plain": [
              "<IPython.core.display.HTML object>"
            ],
            "text/html": [
              " View project at <a href='https://wandb.ai/nsg/diamonds_price_prediction' target=\"_blank\">https://wandb.ai/nsg/diamonds_price_prediction</a>"
            ]
          },
          "metadata": {}
        },
        {
          "output_type": "display_data",
          "data": {
            "text/plain": [
              "<IPython.core.display.HTML object>"
            ],
            "text/html": [
              " View run at <a href='https://wandb.ai/nsg/diamonds_price_prediction/runs/v5ms7va8' target=\"_blank\">https://wandb.ai/nsg/diamonds_price_prediction/runs/v5ms7va8</a>"
            ]
          },
          "metadata": {}
        },
        {
          "output_type": "stream",
          "name": "stdout",
          "text": [
            "[0]\ttrain-rmse:3951.24816\tvalidation-rmse:3948.46957\n",
            "[1]\ttrain-rmse:3912.93494\tvalidation-rmse:3910.09797\n",
            "[2]\ttrain-rmse:3875.01078\tvalidation-rmse:3872.13959\n"
          ]
        },
        {
          "output_type": "stream",
          "name": "stderr",
          "text": [
            "/usr/local/lib/python3.10/dist-packages/xgboost/core.py:160: UserWarning: [22:40:37] WARNING: /workspace/src/common/error_msg.cc:27: The tree method `gpu_hist` is deprecated since 2.0.0. To use GPU training, set the `device` parameter to CUDA instead.\n",
            "\n",
            "    E.g. tree_method = \"hist\", device = \"cuda\"\n",
            "\n",
            "  warnings.warn(smsg, UserWarning)\n"
          ]
        },
        {
          "output_type": "stream",
          "name": "stdout",
          "text": [
            "[3]\ttrain-rmse:3837.47090\tvalidation-rmse:3834.54663\n",
            "[4]\ttrain-rmse:3800.30990\tvalidation-rmse:3797.36513\n",
            "[5]\ttrain-rmse:3763.52904\tvalidation-rmse:3760.50873\n",
            "[6]\ttrain-rmse:3727.11946\tvalidation-rmse:3724.02586\n",
            "[7]\ttrain-rmse:3691.08401\tvalidation-rmse:3687.98543\n",
            "[8]\ttrain-rmse:3655.41441\tvalidation-rmse:3652.25947\n",
            "[9]\ttrain-rmse:3620.10283\tvalidation-rmse:3616.93894\n",
            "[10]\ttrain-rmse:3585.14767\tvalidation-rmse:3581.96120\n",
            "[11]\ttrain-rmse:3550.54746\tvalidation-rmse:3547.32872\n",
            "[12]\ttrain-rmse:3516.29645\tvalidation-rmse:3513.04184\n",
            "[13]\ttrain-rmse:3482.39393\tvalidation-rmse:3479.17655\n",
            "[14]\ttrain-rmse:3448.82679\tvalidation-rmse:3445.59950\n",
            "[15]\ttrain-rmse:3415.60276\tvalidation-rmse:3412.38092\n",
            "[16]\ttrain-rmse:3382.71827\tvalidation-rmse:3379.50498\n",
            "[17]\ttrain-rmse:3350.16456\tvalidation-rmse:3346.96400\n",
            "[18]\ttrain-rmse:3317.93852\tvalidation-rmse:3314.83716\n",
            "[19]\ttrain-rmse:3286.04289\tvalidation-rmse:3282.94787\n",
            "[20]\ttrain-rmse:3254.46982\tvalidation-rmse:3251.45466\n",
            "[21]\ttrain-rmse:3223.21401\tvalidation-rmse:3220.24065\n",
            "[22]\ttrain-rmse:3192.28595\tvalidation-rmse:3189.37248\n",
            "[23]\ttrain-rmse:3161.66203\tvalidation-rmse:3158.80777\n",
            "[24]\ttrain-rmse:3131.35397\tvalidation-rmse:3128.53614\n",
            "[25]\ttrain-rmse:3101.34845\tvalidation-rmse:3098.60907\n",
            "[26]\ttrain-rmse:3071.65071\tvalidation-rmse:3068.93366\n",
            "[27]\ttrain-rmse:3042.24999\tvalidation-rmse:3039.61554\n",
            "[28]\ttrain-rmse:3013.15259\tvalidation-rmse:3010.60039\n",
            "[29]\ttrain-rmse:2984.34363\tvalidation-rmse:2981.90886\n",
            "[30]\ttrain-rmse:2955.83302\tvalidation-rmse:2953.51716\n",
            "[31]\ttrain-rmse:2927.60765\tvalidation-rmse:2925.40015\n",
            "[32]\ttrain-rmse:2899.67030\tvalidation-rmse:2897.56347\n",
            "[33]\ttrain-rmse:2872.02073\tvalidation-rmse:2870.04749\n",
            "[34]\ttrain-rmse:2844.64290\tvalidation-rmse:2842.79695\n",
            "[35]\ttrain-rmse:2817.54889\tvalidation-rmse:2815.82962\n",
            "[36]\ttrain-rmse:2790.72842\tvalidation-rmse:2789.20954\n",
            "[37]\ttrain-rmse:2764.17094\tvalidation-rmse:2762.79900\n",
            "[38]\ttrain-rmse:2737.88804\tvalidation-rmse:2736.65530\n",
            "[39]\ttrain-rmse:2711.86393\tvalidation-rmse:2710.73963\n",
            "[40]\ttrain-rmse:2686.10422\tvalidation-rmse:2685.07504\n",
            "[41]\ttrain-rmse:2660.61784\tvalidation-rmse:2659.73420\n",
            "[42]\ttrain-rmse:2635.37686\tvalidation-rmse:2634.62121\n",
            "[43]\ttrain-rmse:2610.40742\tvalidation-rmse:2609.83051\n",
            "[44]\ttrain-rmse:2585.68769\tvalidation-rmse:2585.24400\n",
            "[45]\ttrain-rmse:2561.21713\tvalidation-rmse:2560.94722\n",
            "[46]\ttrain-rmse:2537.00560\tvalidation-rmse:2536.85336\n",
            "[47]\ttrain-rmse:2513.03412\tvalidation-rmse:2513.06453\n",
            "[48]\ttrain-rmse:2489.30665\tvalidation-rmse:2489.40104\n",
            "[49]\ttrain-rmse:2465.80645\tvalidation-rmse:2466.08633\n",
            "[50]\ttrain-rmse:2442.56032\tvalidation-rmse:2443.01222\n",
            "[51]\ttrain-rmse:2419.53826\tvalidation-rmse:2420.15994\n",
            "[52]\ttrain-rmse:2396.76048\tvalidation-rmse:2397.49889\n",
            "[53]\ttrain-rmse:2374.21542\tvalidation-rmse:2375.18224\n",
            "[54]\ttrain-rmse:2351.89651\tvalidation-rmse:2352.95681\n",
            "[55]\ttrain-rmse:2329.79629\tvalidation-rmse:2331.00298\n",
            "[56]\ttrain-rmse:2307.92815\tvalidation-rmse:2309.33730\n",
            "[57]\ttrain-rmse:2286.28211\tvalidation-rmse:2287.87033\n",
            "[58]\ttrain-rmse:2264.84578\tvalidation-rmse:2266.57841\n",
            "[59]\ttrain-rmse:2243.64251\tvalidation-rmse:2245.52734\n",
            "[60]\ttrain-rmse:2222.64711\tvalidation-rmse:2224.65703\n",
            "[61]\ttrain-rmse:2201.87523\tvalidation-rmse:2204.11558\n",
            "[62]\ttrain-rmse:2181.30663\tvalidation-rmse:2183.71964\n",
            "[63]\ttrain-rmse:2160.95337\tvalidation-rmse:2163.61000\n",
            "[64]\ttrain-rmse:2140.82472\tvalidation-rmse:2143.74328\n",
            "[65]\ttrain-rmse:2120.87496\tvalidation-rmse:2123.95513\n",
            "[66]\ttrain-rmse:2101.14542\tvalidation-rmse:2104.47380\n",
            "[67]\ttrain-rmse:2081.61203\tvalidation-rmse:2085.24962\n",
            "[68]\ttrain-rmse:2062.26965\tvalidation-rmse:2066.06185\n",
            "[69]\ttrain-rmse:2043.12748\tvalidation-rmse:2047.06375\n",
            "[70]\ttrain-rmse:2024.19902\tvalidation-rmse:2028.50453\n",
            "[71]\ttrain-rmse:2005.44963\tvalidation-rmse:2009.90191\n",
            "[72]\ttrain-rmse:1986.91450\tvalidation-rmse:1991.67972\n",
            "[73]\ttrain-rmse:1968.54159\tvalidation-rmse:1973.57385\n",
            "[74]\ttrain-rmse:1950.36361\tvalidation-rmse:1955.60922\n",
            "[75]\ttrain-rmse:1932.38277\tvalidation-rmse:1937.93618\n",
            "[76]\ttrain-rmse:1914.57430\tvalidation-rmse:1920.43569\n",
            "[77]\ttrain-rmse:1896.95445\tvalidation-rmse:1903.02065\n",
            "[78]\ttrain-rmse:1879.49547\tvalidation-rmse:1885.87782\n",
            "[79]\ttrain-rmse:1862.23898\tvalidation-rmse:1868.95820\n",
            "[80]\ttrain-rmse:1845.14630\tvalidation-rmse:1852.18444\n",
            "[81]\ttrain-rmse:1828.23640\tvalidation-rmse:1835.51450\n",
            "[82]\ttrain-rmse:1811.48316\tvalidation-rmse:1819.13264\n",
            "[83]\ttrain-rmse:1794.90940\tvalidation-rmse:1802.88518\n",
            "[84]\ttrain-rmse:1778.50476\tvalidation-rmse:1786.78254\n",
            "[85]\ttrain-rmse:1762.27943\tvalidation-rmse:1770.89888\n",
            "[86]\ttrain-rmse:1746.21225\tvalidation-rmse:1755.16132\n",
            "[87]\ttrain-rmse:1730.31457\tvalidation-rmse:1739.62322\n",
            "[88]\ttrain-rmse:1714.57664\tvalidation-rmse:1724.33609\n",
            "[89]\ttrain-rmse:1699.00786\tvalidation-rmse:1709.10723\n",
            "[90]\ttrain-rmse:1683.59446\tvalidation-rmse:1694.08177\n",
            "[91]\ttrain-rmse:1668.34780\tvalidation-rmse:1679.22993\n",
            "[92]\ttrain-rmse:1653.25316\tvalidation-rmse:1664.57066\n",
            "[93]\ttrain-rmse:1638.30854\tvalidation-rmse:1650.01231\n",
            "[94]\ttrain-rmse:1623.53033\tvalidation-rmse:1635.63536\n",
            "[95]\ttrain-rmse:1608.90375\tvalidation-rmse:1621.38540\n",
            "[96]\ttrain-rmse:1594.37530\tvalidation-rmse:1607.35485\n",
            "[97]\ttrain-rmse:1580.01603\tvalidation-rmse:1593.41795\n",
            "[98]\ttrain-rmse:1565.78995\tvalidation-rmse:1579.67405\n",
            "[99]\ttrain-rmse:1551.72792\tvalidation-rmse:1566.03396\n"
          ]
        },
        {
          "output_type": "stream",
          "name": "stderr",
          "text": [
            "/usr/local/lib/python3.10/dist-packages/xgboost/core.py:160: UserWarning: [22:40:41] WARNING: /workspace/src/common/error_msg.cc:27: The tree method `gpu_hist` is deprecated since 2.0.0. To use GPU training, set the `device` parameter to CUDA instead.\n",
            "\n",
            "    E.g. tree_method = \"hist\", device = \"cuda\"\n",
            "\n",
            "  warnings.warn(smsg, UserWarning)\n"
          ]
        },
        {
          "output_type": "display_data",
          "data": {
            "text/plain": [
              "VBox(children=(Label(value='0.001 MB of 0.001 MB uploaded\\r'), FloatProgress(value=1.0, max=1.0)))"
            ],
            "application/vnd.jupyter.widget-view+json": {
              "version_major": 2,
              "version_minor": 0,
              "model_id": "d9491a99a24e45c0834430ee5ffa38ce"
            }
          },
          "metadata": {}
        },
        {
          "output_type": "display_data",
          "data": {
            "text/plain": [
              "<IPython.core.display.HTML object>"
            ],
            "text/html": [
              "<style>\n",
              "    table.wandb td:nth-child(1) { padding: 0 10px; text-align: left ; width: auto;} td:nth-child(2) {text-align: left ; width: 100%}\n",
              "    .wandb-row { display: flex; flex-direction: row; flex-wrap: wrap; justify-content: flex-start; width: 100% }\n",
              "    .wandb-col { display: flex; flex-direction: column; flex-basis: 100%; flex: 1; padding: 10px; }\n",
              "    </style>\n",
              "<div class=\"wandb-row\"><div class=\"wandb-col\"><h3>Run history:</h3><br/><table class=\"wandb\"><tr><td>rmse</td><td>▁</td></tr></table><br/></div><div class=\"wandb-col\"><h3>Run summary:</h3><br/><table class=\"wandb\"><tr><td>rmse</td><td>1566.03389</td></tr></table><br/></div></div>"
            ]
          },
          "metadata": {}
        },
        {
          "output_type": "display_data",
          "data": {
            "text/plain": [
              "<IPython.core.display.HTML object>"
            ],
            "text/html": [
              " View run <strong style=\"color:#cdcd00\">earthy-night-18</strong> at: <a href='https://wandb.ai/nsg/diamonds_price_prediction/runs/v5ms7va8' target=\"_blank\">https://wandb.ai/nsg/diamonds_price_prediction/runs/v5ms7va8</a><br/> View project at: <a href='https://wandb.ai/nsg/diamonds_price_prediction' target=\"_blank\">https://wandb.ai/nsg/diamonds_price_prediction</a><br/>Synced 5 W&B file(s), 0 media file(s), 0 artifact file(s) and 0 other file(s)"
            ]
          },
          "metadata": {}
        },
        {
          "output_type": "display_data",
          "data": {
            "text/plain": [
              "<IPython.core.display.HTML object>"
            ],
            "text/html": [
              "Find logs at: <code>./wandb/run-20240422_224035-v5ms7va8/logs</code>"
            ]
          },
          "metadata": {}
        },
        {
          "output_type": "display_data",
          "data": {
            "text/plain": [
              "<IPython.core.display.HTML object>"
            ],
            "text/html": [
              "Tracking run with wandb version 0.16.6"
            ]
          },
          "metadata": {}
        },
        {
          "output_type": "display_data",
          "data": {
            "text/plain": [
              "<IPython.core.display.HTML object>"
            ],
            "text/html": [
              "Run data is saved locally in <code>/content/wandb/run-20240422_224046-ki1rg5xp</code>"
            ]
          },
          "metadata": {}
        },
        {
          "output_type": "display_data",
          "data": {
            "text/plain": [
              "<IPython.core.display.HTML object>"
            ],
            "text/html": [
              "Syncing run <strong><a href='https://wandb.ai/nsg/diamonds_price_prediction/runs/ki1rg5xp' target=\"_blank\">tough-sea-19</a></strong> to <a href='https://wandb.ai/nsg/diamonds_price_prediction' target=\"_blank\">Weights & Biases</a> (<a href='https://wandb.me/run' target=\"_blank\">docs</a>)<br/>"
            ]
          },
          "metadata": {}
        },
        {
          "output_type": "display_data",
          "data": {
            "text/plain": [
              "<IPython.core.display.HTML object>"
            ],
            "text/html": [
              " View project at <a href='https://wandb.ai/nsg/diamonds_price_prediction' target=\"_blank\">https://wandb.ai/nsg/diamonds_price_prediction</a>"
            ]
          },
          "metadata": {}
        },
        {
          "output_type": "display_data",
          "data": {
            "text/plain": [
              "<IPython.core.display.HTML object>"
            ],
            "text/html": [
              " View run at <a href='https://wandb.ai/nsg/diamonds_price_prediction/runs/ki1rg5xp' target=\"_blank\">https://wandb.ai/nsg/diamonds_price_prediction/runs/ki1rg5xp</a>"
            ]
          },
          "metadata": {}
        },
        {
          "output_type": "stream",
          "name": "stdout",
          "text": [
            "[0]\ttrain-rmse:3610.50768\tvalidation-rmse:3606.11213\n",
            "[1]\ttrain-rmse:3271.50935\tvalidation-rmse:3265.19719\n",
            "[2]\ttrain-rmse:2967.13455\tvalidation-rmse:2960.13325\n",
            "[3]\ttrain-rmse:2692.91239\tvalidation-rmse:2685.88366\n",
            "[4]\ttrain-rmse:2448.37676\tvalidation-rmse:2441.67887\n",
            "[5]\ttrain-rmse:2228.50936\tvalidation-rmse:2221.28015\n",
            "[6]\ttrain-rmse:2031.32603\tvalidation-rmse:2024.25763\n",
            "[7]\ttrain-rmse:1855.37730\tvalidation-rmse:1849.21702\n",
            "[8]\ttrain-rmse:1697.65725\tvalidation-rmse:1692.26806\n",
            "[9]\ttrain-rmse:1556.75129\tvalidation-rmse:1549.67485\n",
            "[10]\ttrain-rmse:1430.42789\tvalidation-rmse:1423.68486\n",
            "[11]\ttrain-rmse:1319.23364\tvalidation-rmse:1313.11177\n",
            "[12]\ttrain-rmse:1219.65530\tvalidation-rmse:1213.57580\n",
            "[13]\ttrain-rmse:1131.26668\tvalidation-rmse:1125.66809\n",
            "[14]\ttrain-rmse:1052.85512\tvalidation-rmse:1048.28505\n",
            "[15]\ttrain-rmse:982.80467\tvalidation-rmse:978.20323\n",
            "[16]\ttrain-rmse:921.95189\tvalidation-rmse:918.57590\n"
          ]
        },
        {
          "output_type": "stream",
          "name": "stderr",
          "text": [
            "/usr/local/lib/python3.10/dist-packages/xgboost/core.py:160: UserWarning: [22:40:48] WARNING: /workspace/src/common/error_msg.cc:27: The tree method `gpu_hist` is deprecated since 2.0.0. To use GPU training, set the `device` parameter to CUDA instead.\n",
            "\n",
            "    E.g. tree_method = \"hist\", device = \"cuda\"\n",
            "\n",
            "  warnings.warn(smsg, UserWarning)\n"
          ]
        },
        {
          "output_type": "stream",
          "name": "stdout",
          "text": [
            "[17]\ttrain-rmse:868.86000\tvalidation-rmse:866.21695\n",
            "[18]\ttrain-rmse:821.45477\tvalidation-rmse:819.79389\n",
            "[19]\ttrain-rmse:780.15752\tvalidation-rmse:780.41317\n",
            "[20]\ttrain-rmse:744.73249\tvalidation-rmse:746.78021\n",
            "[21]\ttrain-rmse:712.48331\tvalidation-rmse:716.67222\n",
            "[22]\ttrain-rmse:685.73700\tvalidation-rmse:691.37735\n",
            "[23]\ttrain-rmse:662.00527\tvalidation-rmse:669.30421\n",
            "[24]\ttrain-rmse:641.58231\tvalidation-rmse:651.29228\n",
            "[25]\ttrain-rmse:622.49311\tvalidation-rmse:634.41151\n",
            "[26]\ttrain-rmse:607.23098\tvalidation-rmse:620.24614\n",
            "[27]\ttrain-rmse:593.31149\tvalidation-rmse:608.92380\n",
            "[28]\ttrain-rmse:581.00149\tvalidation-rmse:598.52109\n",
            "[29]\ttrain-rmse:571.35028\tvalidation-rmse:590.04102\n",
            "[30]\ttrain-rmse:562.18272\tvalidation-rmse:582.61892\n",
            "[31]\ttrain-rmse:554.44091\tvalidation-rmse:576.08962\n",
            "[32]\ttrain-rmse:547.95331\tvalidation-rmse:570.85828\n",
            "[33]\ttrain-rmse:542.14337\tvalidation-rmse:566.15872\n",
            "[34]\ttrain-rmse:536.73555\tvalidation-rmse:562.66761\n",
            "[35]\ttrain-rmse:532.00657\tvalidation-rmse:559.28528\n",
            "[36]\ttrain-rmse:527.87215\tvalidation-rmse:556.43122\n",
            "[37]\ttrain-rmse:523.82750\tvalidation-rmse:553.03593\n",
            "[38]\ttrain-rmse:520.03146\tvalidation-rmse:550.30619\n",
            "[39]\ttrain-rmse:517.07036\tvalidation-rmse:548.17237\n",
            "[40]\ttrain-rmse:513.99876\tvalidation-rmse:546.19306\n",
            "[41]\ttrain-rmse:511.41269\tvalidation-rmse:544.81907\n",
            "[42]\ttrain-rmse:508.83876\tvalidation-rmse:543.18810\n",
            "[43]\ttrain-rmse:506.73025\tvalidation-rmse:542.00414\n",
            "[44]\ttrain-rmse:504.83666\tvalidation-rmse:541.00001\n",
            "[45]\ttrain-rmse:503.14853\tvalidation-rmse:539.91325\n",
            "[46]\ttrain-rmse:501.73252\tvalidation-rmse:539.00511\n",
            "[47]\ttrain-rmse:499.68287\tvalidation-rmse:537.92723\n",
            "[48]\ttrain-rmse:497.73685\tvalidation-rmse:537.35738\n",
            "[49]\ttrain-rmse:496.13353\tvalidation-rmse:536.44649\n",
            "[50]\ttrain-rmse:494.31181\tvalidation-rmse:535.19607\n",
            "[51]\ttrain-rmse:492.75433\tvalidation-rmse:534.44002\n",
            "[52]\ttrain-rmse:490.87432\tvalidation-rmse:533.87972\n",
            "[53]\ttrain-rmse:489.95206\tvalidation-rmse:533.25476\n",
            "[54]\ttrain-rmse:488.85965\tvalidation-rmse:533.02463\n",
            "[55]\ttrain-rmse:488.03493\tvalidation-rmse:532.48419\n",
            "[56]\ttrain-rmse:486.77272\tvalidation-rmse:532.17996\n",
            "[57]\ttrain-rmse:485.26757\tvalidation-rmse:531.67355\n",
            "[58]\ttrain-rmse:483.59787\tvalidation-rmse:531.27286\n",
            "[59]\ttrain-rmse:482.65365\tvalidation-rmse:530.85972\n",
            "[60]\ttrain-rmse:481.38466\tvalidation-rmse:530.43889\n",
            "[61]\ttrain-rmse:480.46376\tvalidation-rmse:530.27511\n",
            "[62]\ttrain-rmse:479.55377\tvalidation-rmse:529.99648\n",
            "[63]\ttrain-rmse:478.23386\tvalidation-rmse:529.82147\n",
            "[64]\ttrain-rmse:476.86590\tvalidation-rmse:529.62038\n",
            "[65]\ttrain-rmse:475.81696\tvalidation-rmse:529.35013\n",
            "[66]\ttrain-rmse:474.99688\tvalidation-rmse:529.09161\n",
            "[67]\ttrain-rmse:473.28573\tvalidation-rmse:528.41011\n",
            "[68]\ttrain-rmse:472.03426\tvalidation-rmse:527.99711\n",
            "[69]\ttrain-rmse:471.11644\tvalidation-rmse:527.88575\n",
            "[70]\ttrain-rmse:469.39043\tvalidation-rmse:527.80278\n",
            "[71]\ttrain-rmse:468.61425\tvalidation-rmse:527.68092\n",
            "[72]\ttrain-rmse:467.62989\tvalidation-rmse:527.39999\n",
            "[73]\ttrain-rmse:466.26431\tvalidation-rmse:526.92058\n",
            "[74]\ttrain-rmse:465.69537\tvalidation-rmse:526.63082\n",
            "[75]\ttrain-rmse:464.75153\tvalidation-rmse:526.59000\n",
            "[76]\ttrain-rmse:464.23358\tvalidation-rmse:526.37214\n",
            "[77]\ttrain-rmse:462.98175\tvalidation-rmse:526.23963\n",
            "[78]\ttrain-rmse:461.70765\tvalidation-rmse:525.86797\n",
            "[79]\ttrain-rmse:461.04395\tvalidation-rmse:525.67928\n",
            "[80]\ttrain-rmse:460.26840\tvalidation-rmse:525.71197\n",
            "[81]\ttrain-rmse:459.04056\tvalidation-rmse:525.96765\n",
            "[82]\ttrain-rmse:458.82137\tvalidation-rmse:525.77394\n",
            "[83]\ttrain-rmse:458.08051\tvalidation-rmse:525.62100\n",
            "[84]\ttrain-rmse:457.04516\tvalidation-rmse:525.67557\n",
            "[85]\ttrain-rmse:455.70792\tvalidation-rmse:525.21235\n",
            "[86]\ttrain-rmse:455.13179\tvalidation-rmse:524.86731\n",
            "[87]\ttrain-rmse:454.44078\tvalidation-rmse:524.82712\n",
            "[88]\ttrain-rmse:454.24096\tvalidation-rmse:524.87633\n",
            "[89]\ttrain-rmse:454.11631\tvalidation-rmse:524.78149\n",
            "[90]\ttrain-rmse:453.20604\tvalidation-rmse:524.41740\n",
            "[91]\ttrain-rmse:452.72119\tvalidation-rmse:524.37866\n",
            "[92]\ttrain-rmse:452.22626\tvalidation-rmse:524.18593\n",
            "[93]\ttrain-rmse:451.40750\tvalidation-rmse:524.21102\n",
            "[94]\ttrain-rmse:450.81585\tvalidation-rmse:524.17056\n",
            "[95]\ttrain-rmse:450.04114\tvalidation-rmse:524.15927\n",
            "[96]\ttrain-rmse:449.61146\tvalidation-rmse:524.28233\n",
            "[97]\ttrain-rmse:448.71446\tvalidation-rmse:524.24886\n",
            "[98]\ttrain-rmse:448.45100\tvalidation-rmse:524.29970\n",
            "[99]\ttrain-rmse:447.55014\tvalidation-rmse:524.19659\n"
          ]
        },
        {
          "output_type": "stream",
          "name": "stderr",
          "text": [
            "/usr/local/lib/python3.10/dist-packages/xgboost/core.py:160: UserWarning: [22:40:49] WARNING: /workspace/src/common/error_msg.cc:27: The tree method `gpu_hist` is deprecated since 2.0.0. To use GPU training, set the `device` parameter to CUDA instead.\n",
            "\n",
            "    E.g. tree_method = \"hist\", device = \"cuda\"\n",
            "\n",
            "  warnings.warn(smsg, UserWarning)\n"
          ]
        },
        {
          "output_type": "display_data",
          "data": {
            "text/plain": [
              "VBox(children=(Label(value='0.001 MB of 0.001 MB uploaded\\r'), FloatProgress(value=1.0, max=1.0)))"
            ],
            "application/vnd.jupyter.widget-view+json": {
              "version_major": 2,
              "version_minor": 0,
              "model_id": "45bedc6c6eaa4f6a89c17100e5066398"
            }
          },
          "metadata": {}
        },
        {
          "output_type": "display_data",
          "data": {
            "text/plain": [
              "<IPython.core.display.HTML object>"
            ],
            "text/html": [
              "<style>\n",
              "    table.wandb td:nth-child(1) { padding: 0 10px; text-align: left ; width: auto;} td:nth-child(2) {text-align: left ; width: 100%}\n",
              "    .wandb-row { display: flex; flex-direction: row; flex-wrap: wrap; justify-content: flex-start; width: 100% }\n",
              "    .wandb-col { display: flex; flex-direction: column; flex-basis: 100%; flex: 1; padding: 10px; }\n",
              "    </style>\n",
              "<div class=\"wandb-row\"><div class=\"wandb-col\"><h3>Run history:</h3><br/><table class=\"wandb\"><tr><td>rmse</td><td>▁</td></tr></table><br/></div><div class=\"wandb-col\"><h3>Run summary:</h3><br/><table class=\"wandb\"><tr><td>rmse</td><td>524.19663</td></tr></table><br/></div></div>"
            ]
          },
          "metadata": {}
        },
        {
          "output_type": "display_data",
          "data": {
            "text/plain": [
              "<IPython.core.display.HTML object>"
            ],
            "text/html": [
              " View run <strong style=\"color:#cdcd00\">tough-sea-19</strong> at: <a href='https://wandb.ai/nsg/diamonds_price_prediction/runs/ki1rg5xp' target=\"_blank\">https://wandb.ai/nsg/diamonds_price_prediction/runs/ki1rg5xp</a><br/> View project at: <a href='https://wandb.ai/nsg/diamonds_price_prediction' target=\"_blank\">https://wandb.ai/nsg/diamonds_price_prediction</a><br/>Synced 5 W&B file(s), 0 media file(s), 0 artifact file(s) and 0 other file(s)"
            ]
          },
          "metadata": {}
        },
        {
          "output_type": "display_data",
          "data": {
            "text/plain": [
              "<IPython.core.display.HTML object>"
            ],
            "text/html": [
              "Find logs at: <code>./wandb/run-20240422_224046-ki1rg5xp/logs</code>"
            ]
          },
          "metadata": {}
        },
        {
          "output_type": "display_data",
          "data": {
            "text/plain": [
              "<IPython.core.display.HTML object>"
            ],
            "text/html": [
              "Tracking run with wandb version 0.16.6"
            ]
          },
          "metadata": {}
        },
        {
          "output_type": "display_data",
          "data": {
            "text/plain": [
              "<IPython.core.display.HTML object>"
            ],
            "text/html": [
              "Run data is saved locally in <code>/content/wandb/run-20240422_224055-gotft1hn</code>"
            ]
          },
          "metadata": {}
        },
        {
          "output_type": "display_data",
          "data": {
            "text/plain": [
              "<IPython.core.display.HTML object>"
            ],
            "text/html": [
              "Syncing run <strong><a href='https://wandb.ai/nsg/diamonds_price_prediction/runs/gotft1hn' target=\"_blank\">amber-surf-20</a></strong> to <a href='https://wandb.ai/nsg/diamonds_price_prediction' target=\"_blank\">Weights & Biases</a> (<a href='https://wandb.me/run' target=\"_blank\">docs</a>)<br/>"
            ]
          },
          "metadata": {}
        },
        {
          "output_type": "display_data",
          "data": {
            "text/plain": [
              "<IPython.core.display.HTML object>"
            ],
            "text/html": [
              " View project at <a href='https://wandb.ai/nsg/diamonds_price_prediction' target=\"_blank\">https://wandb.ai/nsg/diamonds_price_prediction</a>"
            ]
          },
          "metadata": {}
        },
        {
          "output_type": "display_data",
          "data": {
            "text/plain": [
              "<IPython.core.display.HTML object>"
            ],
            "text/html": [
              " View run at <a href='https://wandb.ai/nsg/diamonds_price_prediction/runs/gotft1hn' target=\"_blank\">https://wandb.ai/nsg/diamonds_price_prediction/runs/gotft1hn</a>"
            ]
          },
          "metadata": {}
        },
        {
          "output_type": "stream",
          "name": "stdout",
          "text": [
            "[0]\ttrain-rmse:3603.99757\tvalidation-rmse:3600.70490\n",
            "[1]\ttrain-rmse:3257.43184\tvalidation-rmse:3253.84723\n",
            "[2]\ttrain-rmse:2946.12814\tvalidation-rmse:2942.41856\n",
            "[3]\ttrain-rmse:2666.59383\tvalidation-rmse:2663.57073\n",
            "[4]\ttrain-rmse:2415.46982\tvalidation-rmse:2412.66304\n",
            "[5]\ttrain-rmse:2189.64548\tvalidation-rmse:2187.59034\n"
          ]
        },
        {
          "output_type": "stream",
          "name": "stderr",
          "text": [
            "/usr/local/lib/python3.10/dist-packages/xgboost/core.py:160: UserWarning: [22:40:58] WARNING: /workspace/src/common/error_msg.cc:27: The tree method `gpu_hist` is deprecated since 2.0.0. To use GPU training, set the `device` parameter to CUDA instead.\n",
            "\n",
            "    E.g. tree_method = \"hist\", device = \"cuda\"\n",
            "\n",
            "  warnings.warn(smsg, UserWarning)\n"
          ]
        },
        {
          "output_type": "stream",
          "name": "stdout",
          "text": [
            "[6]\ttrain-rmse:1987.35933\tvalidation-rmse:1986.75644\n",
            "[7]\ttrain-rmse:1806.19552\tvalidation-rmse:1807.76939\n",
            "[8]\ttrain-rmse:1643.27805\tvalidation-rmse:1646.28140\n",
            "[9]\ttrain-rmse:1497.96636\tvalidation-rmse:1502.30642\n",
            "[10]\ttrain-rmse:1367.57441\tvalidation-rmse:1374.18944\n",
            "[11]\ttrain-rmse:1251.53223\tvalidation-rmse:1261.17126\n",
            "[12]\ttrain-rmse:1148.33409\tvalidation-rmse:1160.91190\n",
            "[13]\ttrain-rmse:1056.23912\tvalidation-rmse:1073.16000\n",
            "[14]\ttrain-rmse:975.04060\tvalidation-rmse:995.36773\n",
            "[15]\ttrain-rmse:902.62192\tvalidation-rmse:926.97663\n",
            "[16]\ttrain-rmse:838.98619\tvalidation-rmse:868.19912\n",
            "[17]\ttrain-rmse:782.90746\tvalidation-rmse:816.46797\n",
            "[18]\ttrain-rmse:734.15536\tvalidation-rmse:772.10621\n",
            "[19]\ttrain-rmse:690.68822\tvalidation-rmse:734.02191\n",
            "[20]\ttrain-rmse:653.59273\tvalidation-rmse:700.72099\n",
            "[21]\ttrain-rmse:621.01482\tvalidation-rmse:672.33908\n",
            "[22]\ttrain-rmse:591.82088\tvalidation-rmse:648.01667\n",
            "[23]\ttrain-rmse:566.19995\tvalidation-rmse:628.37680\n",
            "[24]\ttrain-rmse:544.27253\tvalidation-rmse:612.08846\n",
            "[25]\ttrain-rmse:524.62907\tvalidation-rmse:597.33195\n",
            "[26]\ttrain-rmse:507.94573\tvalidation-rmse:585.37682\n",
            "[27]\ttrain-rmse:492.92414\tvalidation-rmse:575.76206\n",
            "[28]\ttrain-rmse:479.81029\tvalidation-rmse:566.31570\n",
            "[29]\ttrain-rmse:469.40069\tvalidation-rmse:559.46358\n",
            "[30]\ttrain-rmse:459.55302\tvalidation-rmse:553.67581\n",
            "[31]\ttrain-rmse:449.86482\tvalidation-rmse:548.68668\n",
            "[32]\ttrain-rmse:442.78774\tvalidation-rmse:544.54217\n",
            "[33]\ttrain-rmse:435.82894\tvalidation-rmse:541.33170\n",
            "[34]\ttrain-rmse:429.42271\tvalidation-rmse:538.96292\n",
            "[35]\ttrain-rmse:424.37219\tvalidation-rmse:536.69599\n",
            "[36]\ttrain-rmse:419.22802\tvalidation-rmse:534.65511\n",
            "[37]\ttrain-rmse:414.71099\tvalidation-rmse:533.52275\n",
            "[38]\ttrain-rmse:410.38783\tvalidation-rmse:532.35992\n",
            "[39]\ttrain-rmse:406.12122\tvalidation-rmse:531.07727\n",
            "[40]\ttrain-rmse:402.30632\tvalidation-rmse:530.53749\n",
            "[41]\ttrain-rmse:399.04068\tvalidation-rmse:530.07043\n",
            "[42]\ttrain-rmse:396.05474\tvalidation-rmse:529.14325\n",
            "[43]\ttrain-rmse:392.61527\tvalidation-rmse:528.76190\n",
            "[44]\ttrain-rmse:390.04215\tvalidation-rmse:528.36580\n",
            "[45]\ttrain-rmse:387.33232\tvalidation-rmse:528.28016\n",
            "[46]\ttrain-rmse:385.11184\tvalidation-rmse:527.76537\n",
            "[47]\ttrain-rmse:383.06690\tvalidation-rmse:527.70565\n",
            "[48]\ttrain-rmse:381.15739\tvalidation-rmse:527.45845\n",
            "[49]\ttrain-rmse:378.39374\tvalidation-rmse:527.00355\n",
            "[50]\ttrain-rmse:376.21232\tvalidation-rmse:527.12773\n",
            "[51]\ttrain-rmse:374.80549\tvalidation-rmse:526.91495\n",
            "[52]\ttrain-rmse:373.41634\tvalidation-rmse:526.71390\n",
            "[53]\ttrain-rmse:371.69216\tvalidation-rmse:527.19498\n",
            "[54]\ttrain-rmse:370.73158\tvalidation-rmse:527.18707\n",
            "[55]\ttrain-rmse:369.31303\tvalidation-rmse:526.98359\n",
            "[56]\ttrain-rmse:368.16487\tvalidation-rmse:526.93145\n",
            "[57]\ttrain-rmse:366.97811\tvalidation-rmse:526.74582\n",
            "[58]\ttrain-rmse:366.12074\tvalidation-rmse:526.61205\n",
            "[59]\ttrain-rmse:364.61600\tvalidation-rmse:526.68873\n",
            "[60]\ttrain-rmse:363.11448\tvalidation-rmse:526.73853\n",
            "[61]\ttrain-rmse:362.36136\tvalidation-rmse:526.61339\n",
            "[62]\ttrain-rmse:361.42021\tvalidation-rmse:526.56573\n",
            "[63]\ttrain-rmse:359.00067\tvalidation-rmse:526.17636\n",
            "[64]\ttrain-rmse:358.13397\tvalidation-rmse:526.23477\n",
            "[65]\ttrain-rmse:357.15389\tvalidation-rmse:526.00269\n",
            "[66]\ttrain-rmse:355.75177\tvalidation-rmse:525.96140\n",
            "[67]\ttrain-rmse:353.29238\tvalidation-rmse:525.56412\n",
            "[68]\ttrain-rmse:350.94009\tvalidation-rmse:525.60749\n",
            "[69]\ttrain-rmse:349.66990\tvalidation-rmse:525.65170\n",
            "[70]\ttrain-rmse:348.17254\tvalidation-rmse:525.70076\n",
            "[71]\ttrain-rmse:346.20471\tvalidation-rmse:525.55478\n",
            "[72]\ttrain-rmse:343.41675\tvalidation-rmse:525.41928\n",
            "[73]\ttrain-rmse:341.04677\tvalidation-rmse:525.94714\n",
            "[74]\ttrain-rmse:339.25455\tvalidation-rmse:526.32159\n",
            "[75]\ttrain-rmse:338.52860\tvalidation-rmse:526.56201\n",
            "[76]\ttrain-rmse:337.05630\tvalidation-rmse:526.60818\n",
            "[77]\ttrain-rmse:334.35106\tvalidation-rmse:526.98267\n",
            "[78]\ttrain-rmse:333.07121\tvalidation-rmse:526.93552\n",
            "[79]\ttrain-rmse:332.43468\tvalidation-rmse:526.89709\n",
            "[80]\ttrain-rmse:330.69446\tvalidation-rmse:526.92203\n",
            "[81]\ttrain-rmse:328.97622\tvalidation-rmse:527.13436\n",
            "[82]\ttrain-rmse:327.60794\tvalidation-rmse:527.07264\n",
            "[83]\ttrain-rmse:326.50096\tvalidation-rmse:527.28324\n",
            "[84]\ttrain-rmse:325.34804\tvalidation-rmse:527.28343\n",
            "[85]\ttrain-rmse:324.56982\tvalidation-rmse:527.40426\n",
            "[86]\ttrain-rmse:324.18772\tvalidation-rmse:527.58246\n",
            "[87]\ttrain-rmse:323.50098\tvalidation-rmse:527.57922\n",
            "[88]\ttrain-rmse:322.05874\tvalidation-rmse:527.47473\n",
            "[89]\ttrain-rmse:320.99581\tvalidation-rmse:527.72836\n",
            "[90]\ttrain-rmse:319.66785\tvalidation-rmse:527.68523\n",
            "[91]\ttrain-rmse:319.58296\tvalidation-rmse:527.64730\n",
            "[92]\ttrain-rmse:318.74642\tvalidation-rmse:527.56013\n",
            "[93]\ttrain-rmse:317.51453\tvalidation-rmse:527.50901\n",
            "[94]\ttrain-rmse:316.75034\tvalidation-rmse:527.38336\n",
            "[95]\ttrain-rmse:316.54084\tvalidation-rmse:527.38215\n",
            "[96]\ttrain-rmse:315.29989\tvalidation-rmse:527.47500\n",
            "[97]\ttrain-rmse:314.46647\tvalidation-rmse:527.33639\n",
            "[98]\ttrain-rmse:314.37940\tvalidation-rmse:527.30156\n",
            "[99]\ttrain-rmse:312.69191\tvalidation-rmse:527.30577\n"
          ]
        },
        {
          "output_type": "stream",
          "name": "stderr",
          "text": [
            "/usr/local/lib/python3.10/dist-packages/xgboost/core.py:160: UserWarning: [22:40:59] WARNING: /workspace/src/common/error_msg.cc:27: The tree method `gpu_hist` is deprecated since 2.0.0. To use GPU training, set the `device` parameter to CUDA instead.\n",
            "\n",
            "    E.g. tree_method = \"hist\", device = \"cuda\"\n",
            "\n",
            "  warnings.warn(smsg, UserWarning)\n"
          ]
        },
        {
          "output_type": "display_data",
          "data": {
            "text/plain": [
              "VBox(children=(Label(value='0.001 MB of 0.001 MB uploaded\\r'), FloatProgress(value=1.0, max=1.0)))"
            ],
            "application/vnd.jupyter.widget-view+json": {
              "version_major": 2,
              "version_minor": 0,
              "model_id": "f4b008756da44cc4af87c1496ec196c4"
            }
          },
          "metadata": {}
        },
        {
          "output_type": "display_data",
          "data": {
            "text/plain": [
              "<IPython.core.display.HTML object>"
            ],
            "text/html": [
              "<style>\n",
              "    table.wandb td:nth-child(1) { padding: 0 10px; text-align: left ; width: auto;} td:nth-child(2) {text-align: left ; width: 100%}\n",
              "    .wandb-row { display: flex; flex-direction: row; flex-wrap: wrap; justify-content: flex-start; width: 100% }\n",
              "    .wandb-col { display: flex; flex-direction: column; flex-basis: 100%; flex: 1; padding: 10px; }\n",
              "    </style>\n",
              "<div class=\"wandb-row\"><div class=\"wandb-col\"><h3>Run history:</h3><br/><table class=\"wandb\"><tr><td>rmse</td><td>▁</td></tr></table><br/></div><div class=\"wandb-col\"><h3>Run summary:</h3><br/><table class=\"wandb\"><tr><td>rmse</td><td>527.30582</td></tr></table><br/></div></div>"
            ]
          },
          "metadata": {}
        },
        {
          "output_type": "display_data",
          "data": {
            "text/plain": [
              "<IPython.core.display.HTML object>"
            ],
            "text/html": [
              " View run <strong style=\"color:#cdcd00\">amber-surf-20</strong> at: <a href='https://wandb.ai/nsg/diamonds_price_prediction/runs/gotft1hn' target=\"_blank\">https://wandb.ai/nsg/diamonds_price_prediction/runs/gotft1hn</a><br/> View project at: <a href='https://wandb.ai/nsg/diamonds_price_prediction' target=\"_blank\">https://wandb.ai/nsg/diamonds_price_prediction</a><br/>Synced 5 W&B file(s), 0 media file(s), 0 artifact file(s) and 0 other file(s)"
            ]
          },
          "metadata": {}
        },
        {
          "output_type": "display_data",
          "data": {
            "text/plain": [
              "<IPython.core.display.HTML object>"
            ],
            "text/html": [
              "Find logs at: <code>./wandb/run-20240422_224055-gotft1hn/logs</code>"
            ]
          },
          "metadata": {}
        },
        {
          "output_type": "display_data",
          "data": {
            "text/plain": [
              "<IPython.core.display.HTML object>"
            ],
            "text/html": [
              "Tracking run with wandb version 0.16.6"
            ]
          },
          "metadata": {}
        },
        {
          "output_type": "display_data",
          "data": {
            "text/plain": [
              "<IPython.core.display.HTML object>"
            ],
            "text/html": [
              "Run data is saved locally in <code>/content/wandb/run-20240422_224105-w1erjvm8</code>"
            ]
          },
          "metadata": {}
        },
        {
          "output_type": "display_data",
          "data": {
            "text/plain": [
              "<IPython.core.display.HTML object>"
            ],
            "text/html": [
              "Syncing run <strong><a href='https://wandb.ai/nsg/diamonds_price_prediction/runs/w1erjvm8' target=\"_blank\">earnest-brook-21</a></strong> to <a href='https://wandb.ai/nsg/diamonds_price_prediction' target=\"_blank\">Weights & Biases</a> (<a href='https://wandb.me/run' target=\"_blank\">docs</a>)<br/>"
            ]
          },
          "metadata": {}
        },
        {
          "output_type": "display_data",
          "data": {
            "text/plain": [
              "<IPython.core.display.HTML object>"
            ],
            "text/html": [
              " View project at <a href='https://wandb.ai/nsg/diamonds_price_prediction' target=\"_blank\">https://wandb.ai/nsg/diamonds_price_prediction</a>"
            ]
          },
          "metadata": {}
        },
        {
          "output_type": "display_data",
          "data": {
            "text/plain": [
              "<IPython.core.display.HTML object>"
            ],
            "text/html": [
              " View run at <a href='https://wandb.ai/nsg/diamonds_price_prediction/runs/w1erjvm8' target=\"_blank\">https://wandb.ai/nsg/diamonds_price_prediction/runs/w1erjvm8</a>"
            ]
          },
          "metadata": {}
        },
        {
          "output_type": "stream",
          "name": "stdout",
          "text": [
            "[0]\ttrain-rmse:3603.31398\tvalidation-rmse:3600.22336\n",
            "[1]\ttrain-rmse:3255.87528\tvalidation-rmse:3252.66502\n",
            "[2]\ttrain-rmse:2943.58334\tvalidation-rmse:2941.17465\n"
          ]
        },
        {
          "output_type": "stream",
          "name": "stderr",
          "text": [
            "/usr/local/lib/python3.10/dist-packages/xgboost/core.py:160: UserWarning: [22:41:07] WARNING: /workspace/src/common/error_msg.cc:27: The tree method `gpu_hist` is deprecated since 2.0.0. To use GPU training, set the `device` parameter to CUDA instead.\n",
            "\n",
            "    E.g. tree_method = \"hist\", device = \"cuda\"\n",
            "\n",
            "  warnings.warn(smsg, UserWarning)\n"
          ]
        },
        {
          "output_type": "stream",
          "name": "stdout",
          "text": [
            "[3]\ttrain-rmse:2663.10188\tvalidation-rmse:2661.58381\n",
            "[4]\ttrain-rmse:2411.03791\tvalidation-rmse:2410.95913\n",
            "[5]\ttrain-rmse:2184.58864\tvalidation-rmse:2186.06253\n",
            "[6]\ttrain-rmse:1981.28099\tvalidation-rmse:1984.67675\n",
            "[7]\ttrain-rmse:1798.95219\tvalidation-rmse:1805.17636\n",
            "[8]\ttrain-rmse:1635.02283\tvalidation-rmse:1644.47919\n",
            "[9]\ttrain-rmse:1488.10139\tvalidation-rmse:1501.34128\n",
            "[10]\ttrain-rmse:1355.91065\tvalidation-rmse:1374.40075\n",
            "[11]\ttrain-rmse:1237.73545\tvalidation-rmse:1261.11212\n",
            "[12]\ttrain-rmse:1131.74288\tvalidation-rmse:1161.65959\n",
            "[13]\ttrain-rmse:1036.86365\tvalidation-rmse:1074.30024\n",
            "[14]\ttrain-rmse:952.29719\tvalidation-rmse:997.60953\n",
            "[15]\ttrain-rmse:876.45020\tvalidation-rmse:929.89679\n",
            "[16]\ttrain-rmse:808.91817\tvalidation-rmse:871.14262\n",
            "[17]\ttrain-rmse:748.42169\tvalidation-rmse:821.53338\n",
            "[18]\ttrain-rmse:694.33909\tvalidation-rmse:777.17978\n",
            "[19]\ttrain-rmse:646.06692\tvalidation-rmse:739.04015\n",
            "[20]\ttrain-rmse:603.22361\tvalidation-rmse:706.52017\n",
            "[21]\ttrain-rmse:565.21893\tvalidation-rmse:678.86431\n",
            "[22]\ttrain-rmse:531.99267\tvalidation-rmse:654.88688\n",
            "[23]\ttrain-rmse:502.43735\tvalidation-rmse:636.22334\n",
            "[24]\ttrain-rmse:474.50991\tvalidation-rmse:619.75930\n",
            "[25]\ttrain-rmse:449.77886\tvalidation-rmse:605.88150\n",
            "[26]\ttrain-rmse:427.77367\tvalidation-rmse:594.57555\n",
            "[27]\ttrain-rmse:408.26023\tvalidation-rmse:585.33729\n",
            "[28]\ttrain-rmse:392.06148\tvalidation-rmse:577.10241\n",
            "[29]\ttrain-rmse:375.44524\tvalidation-rmse:570.80812\n",
            "[30]\ttrain-rmse:360.53701\tvalidation-rmse:565.60796\n",
            "[31]\ttrain-rmse:348.79166\tvalidation-rmse:560.72887\n",
            "[32]\ttrain-rmse:336.35239\tvalidation-rmse:557.36320\n",
            "[33]\ttrain-rmse:326.65486\tvalidation-rmse:554.68574\n",
            "[34]\ttrain-rmse:318.32637\tvalidation-rmse:552.22507\n",
            "[35]\ttrain-rmse:310.23940\tvalidation-rmse:550.31069\n",
            "[36]\ttrain-rmse:302.78856\tvalidation-rmse:548.52642\n",
            "[37]\ttrain-rmse:296.15150\tvalidation-rmse:547.48259\n",
            "[38]\ttrain-rmse:289.96455\tvalidation-rmse:546.50119\n",
            "[39]\ttrain-rmse:284.70406\tvalidation-rmse:545.15809\n",
            "[40]\ttrain-rmse:278.76764\tvalidation-rmse:544.57261\n",
            "[41]\ttrain-rmse:272.83236\tvalidation-rmse:544.40625\n",
            "[42]\ttrain-rmse:268.61458\tvalidation-rmse:543.59927\n",
            "[43]\ttrain-rmse:264.70941\tvalidation-rmse:543.19039\n",
            "[44]\ttrain-rmse:260.83312\tvalidation-rmse:543.13473\n",
            "[45]\ttrain-rmse:256.93755\tvalidation-rmse:542.59015\n",
            "[46]\ttrain-rmse:253.55358\tvalidation-rmse:542.27117\n",
            "[47]\ttrain-rmse:249.35568\tvalidation-rmse:542.30456\n",
            "[48]\ttrain-rmse:246.12191\tvalidation-rmse:542.59290\n",
            "[49]\ttrain-rmse:242.01639\tvalidation-rmse:542.43749\n",
            "[50]\ttrain-rmse:238.50992\tvalidation-rmse:542.53911\n",
            "[51]\ttrain-rmse:236.18341\tvalidation-rmse:542.31750\n",
            "[52]\ttrain-rmse:233.62768\tvalidation-rmse:542.36257\n",
            "[53]\ttrain-rmse:231.57769\tvalidation-rmse:542.02454\n",
            "[54]\ttrain-rmse:227.39769\tvalidation-rmse:541.82925\n",
            "[55]\ttrain-rmse:224.81978\tvalidation-rmse:541.57460\n",
            "[56]\ttrain-rmse:222.73654\tvalidation-rmse:541.52899\n",
            "[57]\ttrain-rmse:220.23633\tvalidation-rmse:541.79149\n",
            "[58]\ttrain-rmse:218.72245\tvalidation-rmse:541.89526\n",
            "[59]\ttrain-rmse:216.90527\tvalidation-rmse:541.93788\n",
            "[60]\ttrain-rmse:214.62991\tvalidation-rmse:541.86856\n",
            "[61]\ttrain-rmse:212.69891\tvalidation-rmse:542.21217\n",
            "[62]\ttrain-rmse:211.55871\tvalidation-rmse:542.14808\n",
            "[63]\ttrain-rmse:210.07370\tvalidation-rmse:542.32562\n",
            "[64]\ttrain-rmse:207.49877\tvalidation-rmse:542.55922\n",
            "[65]\ttrain-rmse:206.26499\tvalidation-rmse:542.59634\n",
            "[66]\ttrain-rmse:205.35805\tvalidation-rmse:542.50763\n",
            "[67]\ttrain-rmse:203.77016\tvalidation-rmse:542.51514\n",
            "[68]\ttrain-rmse:202.04771\tvalidation-rmse:542.61108\n",
            "[69]\ttrain-rmse:201.00861\tvalidation-rmse:542.71755\n",
            "[70]\ttrain-rmse:200.36355\tvalidation-rmse:542.66913\n",
            "[71]\ttrain-rmse:198.67357\tvalidation-rmse:542.43113\n",
            "[72]\ttrain-rmse:197.06298\tvalidation-rmse:542.54500\n",
            "[73]\ttrain-rmse:195.68505\tvalidation-rmse:542.62865\n",
            "[74]\ttrain-rmse:194.79476\tvalidation-rmse:542.64684\n",
            "[75]\ttrain-rmse:193.63316\tvalidation-rmse:542.53780\n",
            "[76]\ttrain-rmse:192.62092\tvalidation-rmse:542.61360\n",
            "[77]\ttrain-rmse:192.10416\tvalidation-rmse:542.61771\n",
            "[78]\ttrain-rmse:190.59818\tvalidation-rmse:542.56429\n",
            "[79]\ttrain-rmse:190.02659\tvalidation-rmse:542.65765\n",
            "[80]\ttrain-rmse:189.58151\tvalidation-rmse:542.65274\n",
            "[81]\ttrain-rmse:189.08204\tvalidation-rmse:542.56415\n",
            "[82]\ttrain-rmse:188.65602\tvalidation-rmse:542.58682\n",
            "[83]\ttrain-rmse:188.07231\tvalidation-rmse:542.60041\n",
            "[84]\ttrain-rmse:185.78810\tvalidation-rmse:542.53487\n",
            "[85]\ttrain-rmse:184.14503\tvalidation-rmse:542.58473\n",
            "[86]\ttrain-rmse:183.32861\tvalidation-rmse:542.70122\n",
            "[87]\ttrain-rmse:180.92478\tvalidation-rmse:542.75882\n",
            "[88]\ttrain-rmse:180.34063\tvalidation-rmse:542.75804\n",
            "[89]\ttrain-rmse:179.04620\tvalidation-rmse:542.69552\n",
            "[90]\ttrain-rmse:177.62926\tvalidation-rmse:542.86733\n",
            "[91]\ttrain-rmse:175.90293\tvalidation-rmse:542.94819\n",
            "[92]\ttrain-rmse:175.52561\tvalidation-rmse:542.92407\n",
            "[93]\ttrain-rmse:173.66560\tvalidation-rmse:543.33788\n",
            "[94]\ttrain-rmse:170.78069\tvalidation-rmse:543.38492\n",
            "[95]\ttrain-rmse:170.46202\tvalidation-rmse:543.46208\n",
            "[96]\ttrain-rmse:168.92238\tvalidation-rmse:543.43277\n",
            "[97]\ttrain-rmse:167.39037\tvalidation-rmse:543.53781\n",
            "[98]\ttrain-rmse:167.29149\tvalidation-rmse:543.52477\n",
            "[99]\ttrain-rmse:165.89983\tvalidation-rmse:543.44321\n"
          ]
        },
        {
          "output_type": "stream",
          "name": "stderr",
          "text": [
            "/usr/local/lib/python3.10/dist-packages/xgboost/core.py:160: UserWarning: [22:41:11] WARNING: /workspace/src/common/error_msg.cc:27: The tree method `gpu_hist` is deprecated since 2.0.0. To use GPU training, set the `device` parameter to CUDA instead.\n",
            "\n",
            "    E.g. tree_method = \"hist\", device = \"cuda\"\n",
            "\n",
            "  warnings.warn(smsg, UserWarning)\n"
          ]
        },
        {
          "output_type": "display_data",
          "data": {
            "text/plain": [
              "VBox(children=(Label(value='0.001 MB of 0.001 MB uploaded\\r'), FloatProgress(value=1.0, max=1.0)))"
            ],
            "application/vnd.jupyter.widget-view+json": {
              "version_major": 2,
              "version_minor": 0,
              "model_id": "7cb9abffe3504a46aa9de8e7844a3468"
            }
          },
          "metadata": {}
        },
        {
          "output_type": "display_data",
          "data": {
            "text/plain": [
              "<IPython.core.display.HTML object>"
            ],
            "text/html": [
              "<style>\n",
              "    table.wandb td:nth-child(1) { padding: 0 10px; text-align: left ; width: auto;} td:nth-child(2) {text-align: left ; width: 100%}\n",
              "    .wandb-row { display: flex; flex-direction: row; flex-wrap: wrap; justify-content: flex-start; width: 100% }\n",
              "    .wandb-col { display: flex; flex-direction: column; flex-basis: 100%; flex: 1; padding: 10px; }\n",
              "    </style>\n",
              "<div class=\"wandb-row\"><div class=\"wandb-col\"><h3>Run history:</h3><br/><table class=\"wandb\"><tr><td>rmse</td><td>▁</td></tr></table><br/></div><div class=\"wandb-col\"><h3>Run summary:</h3><br/><table class=\"wandb\"><tr><td>rmse</td><td>543.44322</td></tr></table><br/></div></div>"
            ]
          },
          "metadata": {}
        },
        {
          "output_type": "display_data",
          "data": {
            "text/plain": [
              "<IPython.core.display.HTML object>"
            ],
            "text/html": [
              " View run <strong style=\"color:#cdcd00\">earnest-brook-21</strong> at: <a href='https://wandb.ai/nsg/diamonds_price_prediction/runs/w1erjvm8' target=\"_blank\">https://wandb.ai/nsg/diamonds_price_prediction/runs/w1erjvm8</a><br/> View project at: <a href='https://wandb.ai/nsg/diamonds_price_prediction' target=\"_blank\">https://wandb.ai/nsg/diamonds_price_prediction</a><br/>Synced 5 W&B file(s), 0 media file(s), 0 artifact file(s) and 0 other file(s)"
            ]
          },
          "metadata": {}
        },
        {
          "output_type": "display_data",
          "data": {
            "text/plain": [
              "<IPython.core.display.HTML object>"
            ],
            "text/html": [
              "Find logs at: <code>./wandb/run-20240422_224105-w1erjvm8/logs</code>"
            ]
          },
          "metadata": {}
        },
        {
          "output_type": "display_data",
          "data": {
            "text/plain": [
              "<IPython.core.display.HTML object>"
            ],
            "text/html": [
              "Tracking run with wandb version 0.16.6"
            ]
          },
          "metadata": {}
        },
        {
          "output_type": "display_data",
          "data": {
            "text/plain": [
              "<IPython.core.display.HTML object>"
            ],
            "text/html": [
              "Run data is saved locally in <code>/content/wandb/run-20240422_224117-cl1uzzj7</code>"
            ]
          },
          "metadata": {}
        },
        {
          "output_type": "display_data",
          "data": {
            "text/plain": [
              "<IPython.core.display.HTML object>"
            ],
            "text/html": [
              "Syncing run <strong><a href='https://wandb.ai/nsg/diamonds_price_prediction/runs/cl1uzzj7' target=\"_blank\">good-shadow-22</a></strong> to <a href='https://wandb.ai/nsg/diamonds_price_prediction' target=\"_blank\">Weights & Biases</a> (<a href='https://wandb.me/run' target=\"_blank\">docs</a>)<br/>"
            ]
          },
          "metadata": {}
        },
        {
          "output_type": "display_data",
          "data": {
            "text/plain": [
              "<IPython.core.display.HTML object>"
            ],
            "text/html": [
              " View project at <a href='https://wandb.ai/nsg/diamonds_price_prediction' target=\"_blank\">https://wandb.ai/nsg/diamonds_price_prediction</a>"
            ]
          },
          "metadata": {}
        },
        {
          "output_type": "display_data",
          "data": {
            "text/plain": [
              "<IPython.core.display.HTML object>"
            ],
            "text/html": [
              " View run at <a href='https://wandb.ai/nsg/diamonds_price_prediction/runs/cl1uzzj7' target=\"_blank\">https://wandb.ai/nsg/diamonds_price_prediction/runs/cl1uzzj7</a>"
            ]
          },
          "metadata": {}
        },
        {
          "output_type": "stream",
          "name": "stdout",
          "text": [
            "[0]\ttrain-rmse:3233.38044\tvalidation-rmse:3227.27781\n",
            "[1]\ttrain-rmse:2635.32347\tvalidation-rmse:2627.44665\n",
            "[2]\ttrain-rmse:2158.02535\tvalidation-rmse:2148.42569\n",
            "[3]\ttrain-rmse:1781.80965\tvalidation-rmse:1774.35390\n",
            "[4]\ttrain-rmse:1484.40305\tvalidation-rmse:1475.02506\n",
            "[5]\ttrain-rmse:1251.51190\tvalidation-rmse:1243.19153\n",
            "[6]\ttrain-rmse:1070.04470\tvalidation-rmse:1063.46539\n",
            "[7]\ttrain-rmse:931.50004\tvalidation-rmse:927.48947\n",
            "[8]\ttrain-rmse:825.29999\tvalidation-rmse:824.51632\n",
            "[9]\ttrain-rmse:744.62177\tvalidation-rmse:747.45284\n",
            "[10]\ttrain-rmse:683.82356\tvalidation-rmse:692.25352\n",
            "[11]\ttrain-rmse:640.02367\tvalidation-rmse:653.28257\n",
            "[12]\ttrain-rmse:608.14455\tvalidation-rmse:625.02267\n",
            "[13]\ttrain-rmse:583.05241\tvalidation-rmse:601.49639\n",
            "[14]\ttrain-rmse:565.19881\tvalidation-rmse:588.04170\n",
            "[15]\ttrain-rmse:550.69623\tvalidation-rmse:575.80210\n",
            "[16]\ttrain-rmse:539.91286\tvalidation-rmse:567.92907\n",
            "[17]\ttrain-rmse:531.25198\tvalidation-rmse:561.50809\n"
          ]
        },
        {
          "output_type": "stream",
          "name": "stderr",
          "text": [
            "/usr/local/lib/python3.10/dist-packages/xgboost/core.py:160: UserWarning: [22:41:19] WARNING: /workspace/src/common/error_msg.cc:27: The tree method `gpu_hist` is deprecated since 2.0.0. To use GPU training, set the `device` parameter to CUDA instead.\n",
            "\n",
            "    E.g. tree_method = \"hist\", device = \"cuda\"\n",
            "\n",
            "  warnings.warn(smsg, UserWarning)\n"
          ]
        },
        {
          "output_type": "stream",
          "name": "stdout",
          "text": [
            "[18]\ttrain-rmse:524.47897\tvalidation-rmse:556.58120\n",
            "[19]\ttrain-rmse:519.42462\tvalidation-rmse:553.05511\n",
            "[20]\ttrain-rmse:514.24715\tvalidation-rmse:550.19953\n",
            "[21]\ttrain-rmse:510.67820\tvalidation-rmse:547.97200\n",
            "[22]\ttrain-rmse:506.29592\tvalidation-rmse:546.50881\n",
            "[23]\ttrain-rmse:503.56289\tvalidation-rmse:544.45359\n",
            "[24]\ttrain-rmse:499.94904\tvalidation-rmse:542.21078\n",
            "[25]\ttrain-rmse:497.16952\tvalidation-rmse:541.81032\n",
            "[26]\ttrain-rmse:494.13797\tvalidation-rmse:539.97113\n",
            "[27]\ttrain-rmse:492.35133\tvalidation-rmse:539.52006\n",
            "[28]\ttrain-rmse:490.79416\tvalidation-rmse:539.60194\n",
            "[29]\ttrain-rmse:488.14693\tvalidation-rmse:538.75695\n",
            "[30]\ttrain-rmse:485.78736\tvalidation-rmse:537.11338\n",
            "[31]\ttrain-rmse:483.36163\tvalidation-rmse:535.86078\n",
            "[32]\ttrain-rmse:480.65328\tvalidation-rmse:535.03029\n",
            "[33]\ttrain-rmse:477.43378\tvalidation-rmse:534.33605\n",
            "[34]\ttrain-rmse:475.76858\tvalidation-rmse:533.65049\n",
            "[35]\ttrain-rmse:474.07508\tvalidation-rmse:533.42376\n",
            "[36]\ttrain-rmse:471.91065\tvalidation-rmse:532.21912\n",
            "[37]\ttrain-rmse:470.14912\tvalidation-rmse:532.34728\n",
            "[38]\ttrain-rmse:468.98237\tvalidation-rmse:532.33902\n",
            "[39]\ttrain-rmse:467.80892\tvalidation-rmse:532.08071\n",
            "[40]\ttrain-rmse:466.76813\tvalidation-rmse:531.68711\n",
            "[41]\ttrain-rmse:465.19590\tvalidation-rmse:531.68326\n",
            "[42]\ttrain-rmse:463.36103\tvalidation-rmse:531.58983\n",
            "[43]\ttrain-rmse:462.72538\tvalidation-rmse:531.37824\n",
            "[44]\ttrain-rmse:460.47322\tvalidation-rmse:531.21488\n",
            "[45]\ttrain-rmse:459.90513\tvalidation-rmse:531.02747\n",
            "[46]\ttrain-rmse:459.68268\tvalidation-rmse:530.93712\n",
            "[47]\ttrain-rmse:457.99903\tvalidation-rmse:530.20621\n",
            "[48]\ttrain-rmse:456.08907\tvalidation-rmse:529.48772\n",
            "[49]\ttrain-rmse:454.47499\tvalidation-rmse:529.83938\n",
            "[50]\ttrain-rmse:453.67690\tvalidation-rmse:529.85704\n",
            "[51]\ttrain-rmse:453.54785\tvalidation-rmse:529.76071\n",
            "[52]\ttrain-rmse:453.06944\tvalidation-rmse:529.86785\n",
            "[53]\ttrain-rmse:451.51802\tvalidation-rmse:529.61952\n",
            "[54]\ttrain-rmse:449.20873\tvalidation-rmse:529.32092\n",
            "[55]\ttrain-rmse:447.13191\tvalidation-rmse:529.76431\n",
            "[56]\ttrain-rmse:446.84334\tvalidation-rmse:529.61663\n",
            "[57]\ttrain-rmse:446.21598\tvalidation-rmse:529.48176\n",
            "[58]\ttrain-rmse:444.89871\tvalidation-rmse:529.47042\n",
            "[59]\ttrain-rmse:442.64632\tvalidation-rmse:529.63989\n",
            "[60]\ttrain-rmse:442.32744\tvalidation-rmse:529.47969\n",
            "[61]\ttrain-rmse:440.35182\tvalidation-rmse:529.31079\n",
            "[62]\ttrain-rmse:439.06768\tvalidation-rmse:529.16081\n",
            "[63]\ttrain-rmse:437.40948\tvalidation-rmse:529.82147\n",
            "[64]\ttrain-rmse:436.66218\tvalidation-rmse:530.07961\n",
            "[65]\ttrain-rmse:434.86359\tvalidation-rmse:529.12120\n",
            "[66]\ttrain-rmse:433.22778\tvalidation-rmse:529.22139\n",
            "[67]\ttrain-rmse:430.95105\tvalidation-rmse:529.61924\n",
            "[68]\ttrain-rmse:430.83557\tvalidation-rmse:529.54180\n",
            "[69]\ttrain-rmse:430.42737\tvalidation-rmse:529.48263\n",
            "[70]\ttrain-rmse:429.56576\tvalidation-rmse:529.38684\n",
            "[71]\ttrain-rmse:427.81771\tvalidation-rmse:529.37814\n",
            "[72]\ttrain-rmse:426.49478\tvalidation-rmse:528.96003\n",
            "[73]\ttrain-rmse:425.78035\tvalidation-rmse:529.13762\n",
            "[74]\ttrain-rmse:425.05692\tvalidation-rmse:529.39092\n",
            "[75]\ttrain-rmse:424.84966\tvalidation-rmse:529.38062\n",
            "[76]\ttrain-rmse:424.08670\tvalidation-rmse:529.53543\n",
            "[77]\ttrain-rmse:423.99397\tvalidation-rmse:529.46421\n",
            "[78]\ttrain-rmse:423.59227\tvalidation-rmse:529.54332\n",
            "[79]\ttrain-rmse:422.81857\tvalidation-rmse:529.27547\n",
            "[80]\ttrain-rmse:422.56606\tvalidation-rmse:529.15492\n",
            "[81]\ttrain-rmse:421.57238\tvalidation-rmse:529.87930\n",
            "[82]\ttrain-rmse:420.54020\tvalidation-rmse:529.81686\n",
            "[83]\ttrain-rmse:420.20373\tvalidation-rmse:530.01700\n",
            "[84]\ttrain-rmse:419.85519\tvalidation-rmse:529.84205\n",
            "[85]\ttrain-rmse:418.91599\tvalidation-rmse:529.64484\n",
            "[86]\ttrain-rmse:417.55728\tvalidation-rmse:529.55491\n",
            "[87]\ttrain-rmse:417.49397\tvalidation-rmse:529.51506\n",
            "[88]\ttrain-rmse:417.37685\tvalidation-rmse:529.42499\n",
            "[89]\ttrain-rmse:416.24110\tvalidation-rmse:529.39466\n",
            "[90]\ttrain-rmse:415.28316\tvalidation-rmse:529.24022\n",
            "[91]\ttrain-rmse:414.34785\tvalidation-rmse:528.91209\n",
            "[92]\ttrain-rmse:413.42411\tvalidation-rmse:528.97321\n",
            "[93]\ttrain-rmse:412.73767\tvalidation-rmse:528.82191\n",
            "[94]\ttrain-rmse:412.02093\tvalidation-rmse:528.46359\n",
            "[95]\ttrain-rmse:411.38607\tvalidation-rmse:528.53248\n",
            "[96]\ttrain-rmse:410.56998\tvalidation-rmse:529.02085\n",
            "[97]\ttrain-rmse:409.70458\tvalidation-rmse:529.03136\n",
            "[98]\ttrain-rmse:408.73595\tvalidation-rmse:528.79497\n",
            "[99]\ttrain-rmse:408.20411\tvalidation-rmse:528.78762\n"
          ]
        },
        {
          "output_type": "stream",
          "name": "stderr",
          "text": [
            "/usr/local/lib/python3.10/dist-packages/xgboost/core.py:160: UserWarning: [22:41:20] WARNING: /workspace/src/common/error_msg.cc:27: The tree method `gpu_hist` is deprecated since 2.0.0. To use GPU training, set the `device` parameter to CUDA instead.\n",
            "\n",
            "    E.g. tree_method = \"hist\", device = \"cuda\"\n",
            "\n",
            "  warnings.warn(smsg, UserWarning)\n"
          ]
        },
        {
          "output_type": "display_data",
          "data": {
            "text/plain": [
              "VBox(children=(Label(value='0.001 MB of 0.001 MB uploaded\\r'), FloatProgress(value=1.0, max=1.0)))"
            ],
            "application/vnd.jupyter.widget-view+json": {
              "version_major": 2,
              "version_minor": 0,
              "model_id": "a2f99ced280a4453bdf0359130af50eb"
            }
          },
          "metadata": {}
        },
        {
          "output_type": "display_data",
          "data": {
            "text/plain": [
              "<IPython.core.display.HTML object>"
            ],
            "text/html": [
              "<style>\n",
              "    table.wandb td:nth-child(1) { padding: 0 10px; text-align: left ; width: auto;} td:nth-child(2) {text-align: left ; width: 100%}\n",
              "    .wandb-row { display: flex; flex-direction: row; flex-wrap: wrap; justify-content: flex-start; width: 100% }\n",
              "    .wandb-col { display: flex; flex-direction: column; flex-basis: 100%; flex: 1; padding: 10px; }\n",
              "    </style>\n",
              "<div class=\"wandb-row\"><div class=\"wandb-col\"><h3>Run history:</h3><br/><table class=\"wandb\"><tr><td>rmse</td><td>▁</td></tr></table><br/></div><div class=\"wandb-col\"><h3>Run summary:</h3><br/><table class=\"wandb\"><tr><td>rmse</td><td>528.78762</td></tr></table><br/></div></div>"
            ]
          },
          "metadata": {}
        },
        {
          "output_type": "display_data",
          "data": {
            "text/plain": [
              "<IPython.core.display.HTML object>"
            ],
            "text/html": [
              " View run <strong style=\"color:#cdcd00\">good-shadow-22</strong> at: <a href='https://wandb.ai/nsg/diamonds_price_prediction/runs/cl1uzzj7' target=\"_blank\">https://wandb.ai/nsg/diamonds_price_prediction/runs/cl1uzzj7</a><br/> View project at: <a href='https://wandb.ai/nsg/diamonds_price_prediction' target=\"_blank\">https://wandb.ai/nsg/diamonds_price_prediction</a><br/>Synced 5 W&B file(s), 0 media file(s), 0 artifact file(s) and 0 other file(s)"
            ]
          },
          "metadata": {}
        },
        {
          "output_type": "display_data",
          "data": {
            "text/plain": [
              "<IPython.core.display.HTML object>"
            ],
            "text/html": [
              "Find logs at: <code>./wandb/run-20240422_224117-cl1uzzj7/logs</code>"
            ]
          },
          "metadata": {}
        },
        {
          "output_type": "display_data",
          "data": {
            "text/plain": [
              "<IPython.core.display.HTML object>"
            ],
            "text/html": [
              "Tracking run with wandb version 0.16.6"
            ]
          },
          "metadata": {}
        },
        {
          "output_type": "display_data",
          "data": {
            "text/plain": [
              "<IPython.core.display.HTML object>"
            ],
            "text/html": [
              "Run data is saved locally in <code>/content/wandb/run-20240422_224125-1jm1g4ey</code>"
            ]
          },
          "metadata": {}
        },
        {
          "output_type": "display_data",
          "data": {
            "text/plain": [
              "<IPython.core.display.HTML object>"
            ],
            "text/html": [
              "Syncing run <strong><a href='https://wandb.ai/nsg/diamonds_price_prediction/runs/1jm1g4ey' target=\"_blank\">vague-waterfall-23</a></strong> to <a href='https://wandb.ai/nsg/diamonds_price_prediction' target=\"_blank\">Weights & Biases</a> (<a href='https://wandb.me/run' target=\"_blank\">docs</a>)<br/>"
            ]
          },
          "metadata": {}
        },
        {
          "output_type": "display_data",
          "data": {
            "text/plain": [
              "<IPython.core.display.HTML object>"
            ],
            "text/html": [
              " View project at <a href='https://wandb.ai/nsg/diamonds_price_prediction' target=\"_blank\">https://wandb.ai/nsg/diamonds_price_prediction</a>"
            ]
          },
          "metadata": {}
        },
        {
          "output_type": "display_data",
          "data": {
            "text/plain": [
              "<IPython.core.display.HTML object>"
            ],
            "text/html": [
              " View run at <a href='https://wandb.ai/nsg/diamonds_price_prediction/runs/1jm1g4ey' target=\"_blank\">https://wandb.ai/nsg/diamonds_price_prediction/runs/1jm1g4ey</a>"
            ]
          },
          "metadata": {}
        },
        {
          "output_type": "stream",
          "name": "stdout",
          "text": [
            "[0]\ttrain-rmse:3219.33381\tvalidation-rmse:3215.67318\n",
            "[1]\ttrain-rmse:2605.76001\tvalidation-rmse:2602.50890\n",
            "[2]\ttrain-rmse:2117.12339\tvalidation-rmse:2116.54980\n",
            "[3]\ttrain-rmse:1728.37872\tvalidation-rmse:1731.74425\n",
            "[4]\ttrain-rmse:1421.32717\tvalidation-rmse:1429.46391\n",
            "[5]\ttrain-rmse:1179.90421\tvalidation-rmse:1192.53953\n",
            "[6]\ttrain-rmse:991.55946\tvalidation-rmse:1010.88296\n"
          ]
        },
        {
          "output_type": "stream",
          "name": "stderr",
          "text": [
            "/usr/local/lib/python3.10/dist-packages/xgboost/core.py:160: UserWarning: [22:41:27] WARNING: /workspace/src/common/error_msg.cc:27: The tree method `gpu_hist` is deprecated since 2.0.0. To use GPU training, set the `device` parameter to CUDA instead.\n",
            "\n",
            "    E.g. tree_method = \"hist\", device = \"cuda\"\n",
            "\n",
            "  warnings.warn(smsg, UserWarning)\n"
          ]
        },
        {
          "output_type": "stream",
          "name": "stdout",
          "text": [
            "[7]\ttrain-rmse:845.30584\tvalidation-rmse:874.16018\n",
            "[8]\ttrain-rmse:733.73972\tvalidation-rmse:773.82550\n",
            "[9]\ttrain-rmse:650.08703\tvalidation-rmse:700.28160\n",
            "[10]\ttrain-rmse:586.54473\tvalidation-rmse:647.91706\n",
            "[11]\ttrain-rmse:539.62488\tvalidation-rmse:611.14486\n",
            "[12]\ttrain-rmse:505.03047\tvalidation-rmse:586.70409\n",
            "[13]\ttrain-rmse:479.41941\tvalidation-rmse:569.33790\n",
            "[14]\ttrain-rmse:461.62796\tvalidation-rmse:558.02503\n",
            "[15]\ttrain-rmse:446.29622\tvalidation-rmse:550.51089\n",
            "[16]\ttrain-rmse:433.29448\tvalidation-rmse:544.67261\n",
            "[17]\ttrain-rmse:423.11755\tvalidation-rmse:541.08063\n",
            "[18]\ttrain-rmse:414.66021\tvalidation-rmse:539.27889\n",
            "[19]\ttrain-rmse:409.33202\tvalidation-rmse:537.78697\n",
            "[20]\ttrain-rmse:402.10695\tvalidation-rmse:536.87034\n",
            "[21]\ttrain-rmse:396.74221\tvalidation-rmse:535.99708\n",
            "[22]\ttrain-rmse:391.77613\tvalidation-rmse:536.04305\n",
            "[23]\ttrain-rmse:388.67365\tvalidation-rmse:535.91931\n",
            "[24]\ttrain-rmse:384.94653\tvalidation-rmse:535.72035\n",
            "[25]\ttrain-rmse:381.77087\tvalidation-rmse:535.93579\n",
            "[26]\ttrain-rmse:375.86795\tvalidation-rmse:535.28789\n",
            "[27]\ttrain-rmse:370.94796\tvalidation-rmse:535.55592\n",
            "[28]\ttrain-rmse:368.06734\tvalidation-rmse:535.39166\n",
            "[29]\ttrain-rmse:362.55877\tvalidation-rmse:535.33752\n",
            "[30]\ttrain-rmse:359.87981\tvalidation-rmse:535.78717\n",
            "[31]\ttrain-rmse:356.78809\tvalidation-rmse:535.70037\n",
            "[32]\ttrain-rmse:355.43643\tvalidation-rmse:536.32025\n",
            "[33]\ttrain-rmse:352.54791\tvalidation-rmse:537.16086\n",
            "[34]\ttrain-rmse:350.08135\tvalidation-rmse:537.45442\n",
            "[35]\ttrain-rmse:346.18856\tvalidation-rmse:537.83921\n",
            "[36]\ttrain-rmse:343.98342\tvalidation-rmse:537.66251\n",
            "[37]\ttrain-rmse:338.67569\tvalidation-rmse:537.85953\n",
            "[38]\ttrain-rmse:337.08189\tvalidation-rmse:538.12414\n",
            "[39]\ttrain-rmse:333.55916\tvalidation-rmse:538.43094\n",
            "[40]\ttrain-rmse:329.78614\tvalidation-rmse:539.94535\n",
            "[41]\ttrain-rmse:327.98191\tvalidation-rmse:540.03825\n",
            "[42]\ttrain-rmse:325.36572\tvalidation-rmse:539.84204\n",
            "[43]\ttrain-rmse:322.97655\tvalidation-rmse:540.32383\n",
            "[44]\ttrain-rmse:320.58731\tvalidation-rmse:540.74831\n",
            "[45]\ttrain-rmse:320.41027\tvalidation-rmse:540.67652\n",
            "[46]\ttrain-rmse:315.09760\tvalidation-rmse:541.08948\n",
            "[47]\ttrain-rmse:313.20123\tvalidation-rmse:541.07271\n",
            "[48]\ttrain-rmse:311.29926\tvalidation-rmse:541.10226\n",
            "[49]\ttrain-rmse:309.07980\tvalidation-rmse:542.16853\n",
            "[50]\ttrain-rmse:306.62129\tvalidation-rmse:542.12568\n",
            "[51]\ttrain-rmse:305.00650\tvalidation-rmse:542.09514\n",
            "[52]\ttrain-rmse:302.52787\tvalidation-rmse:542.30007\n",
            "[53]\ttrain-rmse:298.32107\tvalidation-rmse:543.34291\n",
            "[54]\ttrain-rmse:295.60714\tvalidation-rmse:543.03263\n",
            "[55]\ttrain-rmse:293.59898\tvalidation-rmse:543.25811\n",
            "[56]\ttrain-rmse:292.84373\tvalidation-rmse:543.45046\n",
            "[57]\ttrain-rmse:290.27413\tvalidation-rmse:543.55280\n",
            "[58]\ttrain-rmse:287.91796\tvalidation-rmse:544.00124\n",
            "[59]\ttrain-rmse:287.42512\tvalidation-rmse:543.99896\n",
            "[60]\ttrain-rmse:285.83442\tvalidation-rmse:544.09028\n",
            "[61]\ttrain-rmse:285.50631\tvalidation-rmse:543.96955\n",
            "[62]\ttrain-rmse:284.28484\tvalidation-rmse:544.26375\n",
            "[63]\ttrain-rmse:282.25961\tvalidation-rmse:544.46318\n",
            "[64]\ttrain-rmse:281.39885\tvalidation-rmse:544.60254\n",
            "[65]\ttrain-rmse:279.57467\tvalidation-rmse:544.90154\n",
            "[66]\ttrain-rmse:279.23631\tvalidation-rmse:545.14401\n",
            "[67]\ttrain-rmse:277.39960\tvalidation-rmse:545.31295\n",
            "[68]\ttrain-rmse:276.06763\tvalidation-rmse:545.36360\n",
            "[69]\ttrain-rmse:275.93230\tvalidation-rmse:545.32304\n",
            "[70]\ttrain-rmse:274.64568\tvalidation-rmse:545.50983\n",
            "[71]\ttrain-rmse:273.32092\tvalidation-rmse:545.57843\n",
            "[72]\ttrain-rmse:271.90163\tvalidation-rmse:545.54480\n",
            "[73]\ttrain-rmse:270.85890\tvalidation-rmse:545.78829\n",
            "[74]\ttrain-rmse:268.97221\tvalidation-rmse:545.92075\n",
            "[75]\ttrain-rmse:268.86637\tvalidation-rmse:545.89413\n"
          ]
        },
        {
          "output_type": "stream",
          "name": "stderr",
          "text": [
            "/usr/local/lib/python3.10/dist-packages/xgboost/core.py:160: UserWarning: [22:41:28] WARNING: /workspace/src/common/error_msg.cc:27: The tree method `gpu_hist` is deprecated since 2.0.0. To use GPU training, set the `device` parameter to CUDA instead.\n",
            "\n",
            "    E.g. tree_method = \"hist\", device = \"cuda\"\n",
            "\n",
            "  warnings.warn(smsg, UserWarning)\n"
          ]
        },
        {
          "output_type": "display_data",
          "data": {
            "text/plain": [
              "VBox(children=(Label(value='0.001 MB of 0.001 MB uploaded\\r'), FloatProgress(value=1.0, max=1.0)))"
            ],
            "application/vnd.jupyter.widget-view+json": {
              "version_major": 2,
              "version_minor": 0,
              "model_id": "b269ebb8408c4a52a511b5cbae21018f"
            }
          },
          "metadata": {}
        },
        {
          "output_type": "display_data",
          "data": {
            "text/plain": [
              "<IPython.core.display.HTML object>"
            ],
            "text/html": [
              "<style>\n",
              "    table.wandb td:nth-child(1) { padding: 0 10px; text-align: left ; width: auto;} td:nth-child(2) {text-align: left ; width: 100%}\n",
              "    .wandb-row { display: flex; flex-direction: row; flex-wrap: wrap; justify-content: flex-start; width: 100% }\n",
              "    .wandb-col { display: flex; flex-direction: column; flex-basis: 100%; flex: 1; padding: 10px; }\n",
              "    </style>\n",
              "<div class=\"wandb-row\"><div class=\"wandb-col\"><h3>Run history:</h3><br/><table class=\"wandb\"><tr><td>rmse</td><td>▁</td></tr></table><br/></div><div class=\"wandb-col\"><h3>Run summary:</h3><br/><table class=\"wandb\"><tr><td>rmse</td><td>546.29685</td></tr></table><br/></div></div>"
            ]
          },
          "metadata": {}
        },
        {
          "output_type": "display_data",
          "data": {
            "text/plain": [
              "<IPython.core.display.HTML object>"
            ],
            "text/html": [
              " View run <strong style=\"color:#cdcd00\">vague-waterfall-23</strong> at: <a href='https://wandb.ai/nsg/diamonds_price_prediction/runs/1jm1g4ey' target=\"_blank\">https://wandb.ai/nsg/diamonds_price_prediction/runs/1jm1g4ey</a><br/> View project at: <a href='https://wandb.ai/nsg/diamonds_price_prediction' target=\"_blank\">https://wandb.ai/nsg/diamonds_price_prediction</a><br/>Synced 5 W&B file(s), 0 media file(s), 0 artifact file(s) and 0 other file(s)"
            ]
          },
          "metadata": {}
        },
        {
          "output_type": "display_data",
          "data": {
            "text/plain": [
              "<IPython.core.display.HTML object>"
            ],
            "text/html": [
              "Find logs at: <code>./wandb/run-20240422_224125-1jm1g4ey/logs</code>"
            ]
          },
          "metadata": {}
        },
        {
          "output_type": "display_data",
          "data": {
            "text/plain": [
              "<IPython.core.display.HTML object>"
            ],
            "text/html": [
              "Tracking run with wandb version 0.16.6"
            ]
          },
          "metadata": {}
        },
        {
          "output_type": "display_data",
          "data": {
            "text/plain": [
              "<IPython.core.display.HTML object>"
            ],
            "text/html": [
              "Run data is saved locally in <code>/content/wandb/run-20240422_224134-8jryp1s2</code>"
            ]
          },
          "metadata": {}
        },
        {
          "output_type": "display_data",
          "data": {
            "text/plain": [
              "<IPython.core.display.HTML object>"
            ],
            "text/html": [
              "Syncing run <strong><a href='https://wandb.ai/nsg/diamonds_price_prediction/runs/8jryp1s2' target=\"_blank\">confused-serenity-24</a></strong> to <a href='https://wandb.ai/nsg/diamonds_price_prediction' target=\"_blank\">Weights & Biases</a> (<a href='https://wandb.me/run' target=\"_blank\">docs</a>)<br/>"
            ]
          },
          "metadata": {}
        },
        {
          "output_type": "display_data",
          "data": {
            "text/plain": [
              "<IPython.core.display.HTML object>"
            ],
            "text/html": [
              " View project at <a href='https://wandb.ai/nsg/diamonds_price_prediction' target=\"_blank\">https://wandb.ai/nsg/diamonds_price_prediction</a>"
            ]
          },
          "metadata": {}
        },
        {
          "output_type": "display_data",
          "data": {
            "text/plain": [
              "<IPython.core.display.HTML object>"
            ],
            "text/html": [
              " View run at <a href='https://wandb.ai/nsg/diamonds_price_prediction/runs/8jryp1s2' target=\"_blank\">https://wandb.ai/nsg/diamonds_price_prediction/runs/8jryp1s2</a>"
            ]
          },
          "metadata": {}
        },
        {
          "output_type": "stream",
          "name": "stdout",
          "text": [
            "[0]\ttrain-rmse:3217.83343\tvalidation-rmse:3214.66438\n",
            "[1]\ttrain-rmse:2602.13630\tvalidation-rmse:2600.82904\n",
            "[2]\ttrain-rmse:2111.72985\tvalidation-rmse:2114.16783\n"
          ]
        },
        {
          "output_type": "stream",
          "name": "stderr",
          "text": [
            "/usr/local/lib/python3.10/dist-packages/xgboost/core.py:160: UserWarning: [22:41:36] WARNING: /workspace/src/common/error_msg.cc:27: The tree method `gpu_hist` is deprecated since 2.0.0. To use GPU training, set the `device` parameter to CUDA instead.\n",
            "\n",
            "    E.g. tree_method = \"hist\", device = \"cuda\"\n",
            "\n",
            "  warnings.warn(smsg, UserWarning)\n"
          ]
        },
        {
          "output_type": "stream",
          "name": "stdout",
          "text": [
            "[3]\ttrain-rmse:1721.45750\tvalidation-rmse:1730.05651\n",
            "[4]\ttrain-rmse:1411.27899\tvalidation-rmse:1428.59849\n",
            "[5]\ttrain-rmse:1165.15099\tvalidation-rmse:1193.70312\n",
            "[6]\ttrain-rmse:970.54790\tvalidation-rmse:1012.80740\n",
            "[7]\ttrain-rmse:817.76823\tvalidation-rmse:877.60149\n",
            "[8]\ttrain-rmse:697.63489\tvalidation-rmse:777.17345\n",
            "[9]\ttrain-rmse:603.72056\tvalidation-rmse:706.05451\n",
            "[10]\ttrain-rmse:531.87223\tvalidation-rmse:653.97026\n",
            "[11]\ttrain-rmse:474.52661\tvalidation-rmse:619.87326\n",
            "[12]\ttrain-rmse:430.74522\tvalidation-rmse:593.90690\n",
            "[13]\ttrain-rmse:394.22816\tvalidation-rmse:576.30086\n",
            "[14]\ttrain-rmse:366.76698\tvalidation-rmse:566.23577\n",
            "[15]\ttrain-rmse:345.24781\tvalidation-rmse:558.59428\n",
            "[16]\ttrain-rmse:324.30737\tvalidation-rmse:553.38875\n",
            "[17]\ttrain-rmse:306.56395\tvalidation-rmse:550.49999\n",
            "[18]\ttrain-rmse:296.13579\tvalidation-rmse:548.25369\n",
            "[19]\ttrain-rmse:284.62208\tvalidation-rmse:547.41576\n",
            "[20]\ttrain-rmse:273.14734\tvalidation-rmse:546.54901\n",
            "[21]\ttrain-rmse:264.49993\tvalidation-rmse:545.21005\n",
            "[22]\ttrain-rmse:257.03616\tvalidation-rmse:546.00615\n",
            "[23]\ttrain-rmse:251.96600\tvalidation-rmse:545.52896\n",
            "[24]\ttrain-rmse:246.95569\tvalidation-rmse:545.40710\n",
            "[25]\ttrain-rmse:240.58764\tvalidation-rmse:545.48022\n",
            "[26]\ttrain-rmse:235.00505\tvalidation-rmse:546.36389\n",
            "[27]\ttrain-rmse:229.74566\tvalidation-rmse:546.92836\n",
            "[28]\ttrain-rmse:225.28841\tvalidation-rmse:547.03055\n",
            "[29]\ttrain-rmse:221.02099\tvalidation-rmse:546.87294\n",
            "[30]\ttrain-rmse:217.43038\tvalidation-rmse:547.31835\n",
            "[31]\ttrain-rmse:215.10875\tvalidation-rmse:546.98990\n",
            "[32]\ttrain-rmse:209.99503\tvalidation-rmse:548.46505\n",
            "[33]\ttrain-rmse:204.95129\tvalidation-rmse:548.24346\n",
            "[34]\ttrain-rmse:203.20853\tvalidation-rmse:548.28528\n",
            "[35]\ttrain-rmse:198.76103\tvalidation-rmse:548.09365\n",
            "[36]\ttrain-rmse:196.84312\tvalidation-rmse:548.30609\n",
            "[37]\ttrain-rmse:194.55102\tvalidation-rmse:549.04585\n",
            "[38]\ttrain-rmse:193.02300\tvalidation-rmse:548.95119\n",
            "[39]\ttrain-rmse:192.50328\tvalidation-rmse:549.26276\n",
            "[40]\ttrain-rmse:190.65322\tvalidation-rmse:549.77580\n",
            "[41]\ttrain-rmse:187.51292\tvalidation-rmse:549.97950\n",
            "[42]\ttrain-rmse:183.95951\tvalidation-rmse:550.00575\n",
            "[43]\ttrain-rmse:181.78369\tvalidation-rmse:550.06985\n",
            "[44]\ttrain-rmse:178.77887\tvalidation-rmse:550.46356\n",
            "[45]\ttrain-rmse:178.43243\tvalidation-rmse:550.42016\n",
            "[46]\ttrain-rmse:173.98270\tvalidation-rmse:550.66286\n",
            "[47]\ttrain-rmse:171.62149\tvalidation-rmse:550.72510\n",
            "[48]\ttrain-rmse:169.44274\tvalidation-rmse:550.93524\n",
            "[49]\ttrain-rmse:164.95720\tvalidation-rmse:551.21782\n",
            "[50]\ttrain-rmse:163.59529\tvalidation-rmse:551.48939\n",
            "[51]\ttrain-rmse:160.93272\tvalidation-rmse:551.39794\n",
            "[52]\ttrain-rmse:158.17327\tvalidation-rmse:551.37120\n",
            "[53]\ttrain-rmse:155.80978\tvalidation-rmse:551.32709\n",
            "[54]\ttrain-rmse:155.59999\tvalidation-rmse:551.31023\n",
            "[55]\ttrain-rmse:154.48511\tvalidation-rmse:551.41603\n",
            "[56]\ttrain-rmse:151.30097\tvalidation-rmse:551.49334\n",
            "[57]\ttrain-rmse:149.12165\tvalidation-rmse:551.61646\n",
            "[58]\ttrain-rmse:147.57653\tvalidation-rmse:551.72646\n",
            "[59]\ttrain-rmse:146.36456\tvalidation-rmse:551.99486\n",
            "[60]\ttrain-rmse:146.21819\tvalidation-rmse:551.98327\n",
            "[61]\ttrain-rmse:144.29552\tvalidation-rmse:552.15417\n",
            "[62]\ttrain-rmse:143.34952\tvalidation-rmse:552.47070\n",
            "[63]\ttrain-rmse:143.13235\tvalidation-rmse:552.46004\n",
            "[64]\ttrain-rmse:142.13450\tvalidation-rmse:552.47335\n",
            "[65]\ttrain-rmse:139.52463\tvalidation-rmse:552.69044\n",
            "[66]\ttrain-rmse:137.91304\tvalidation-rmse:552.59852\n",
            "[67]\ttrain-rmse:137.18616\tvalidation-rmse:552.65171\n",
            "[68]\ttrain-rmse:136.50775\tvalidation-rmse:552.61207\n",
            "[69]\ttrain-rmse:136.44239\tvalidation-rmse:552.67082\n",
            "[70]\ttrain-rmse:134.43361\tvalidation-rmse:552.88333\n"
          ]
        },
        {
          "output_type": "stream",
          "name": "stderr",
          "text": [
            "/usr/local/lib/python3.10/dist-packages/xgboost/core.py:160: UserWarning: [22:41:39] WARNING: /workspace/src/common/error_msg.cc:27: The tree method `gpu_hist` is deprecated since 2.0.0. To use GPU training, set the `device` parameter to CUDA instead.\n",
            "\n",
            "    E.g. tree_method = \"hist\", device = \"cuda\"\n",
            "\n",
            "  warnings.warn(smsg, UserWarning)\n"
          ]
        },
        {
          "output_type": "display_data",
          "data": {
            "text/plain": [
              "VBox(children=(Label(value='0.001 MB of 0.001 MB uploaded\\r'), FloatProgress(value=1.0, max=1.0)))"
            ],
            "application/vnd.jupyter.widget-view+json": {
              "version_major": 2,
              "version_minor": 0,
              "model_id": "9175b9b25cb8456aa2fcd6310c1f54fb"
            }
          },
          "metadata": {}
        },
        {
          "output_type": "display_data",
          "data": {
            "text/plain": [
              "<IPython.core.display.HTML object>"
            ],
            "text/html": [
              "<style>\n",
              "    table.wandb td:nth-child(1) { padding: 0 10px; text-align: left ; width: auto;} td:nth-child(2) {text-align: left ; width: 100%}\n",
              "    .wandb-row { display: flex; flex-direction: row; flex-wrap: wrap; justify-content: flex-start; width: 100% }\n",
              "    .wandb-col { display: flex; flex-direction: column; flex-basis: 100%; flex: 1; padding: 10px; }\n",
              "    </style>\n",
              "<div class=\"wandb-row\"><div class=\"wandb-col\"><h3>Run history:</h3><br/><table class=\"wandb\"><tr><td>rmse</td><td>▁</td></tr></table><br/></div><div class=\"wandb-col\"><h3>Run summary:</h3><br/><table class=\"wandb\"><tr><td>rmse</td><td>552.90571</td></tr></table><br/></div></div>"
            ]
          },
          "metadata": {}
        },
        {
          "output_type": "display_data",
          "data": {
            "text/plain": [
              "<IPython.core.display.HTML object>"
            ],
            "text/html": [
              " View run <strong style=\"color:#cdcd00\">confused-serenity-24</strong> at: <a href='https://wandb.ai/nsg/diamonds_price_prediction/runs/8jryp1s2' target=\"_blank\">https://wandb.ai/nsg/diamonds_price_prediction/runs/8jryp1s2</a><br/> View project at: <a href='https://wandb.ai/nsg/diamonds_price_prediction' target=\"_blank\">https://wandb.ai/nsg/diamonds_price_prediction</a><br/>Synced 5 W&B file(s), 0 media file(s), 0 artifact file(s) and 0 other file(s)"
            ]
          },
          "metadata": {}
        },
        {
          "output_type": "display_data",
          "data": {
            "text/plain": [
              "<IPython.core.display.HTML object>"
            ],
            "text/html": [
              "Find logs at: <code>./wandb/run-20240422_224134-8jryp1s2/logs</code>"
            ]
          },
          "metadata": {}
        }
      ]
    },
    {
      "cell_type": "markdown",
      "source": [
        "Observations on Model Performance:\n",
        "RMSE Trends: Throughout the experiments, the Root Mean Square Error (RMSE) generally decreased as the models continued training, which indicates that the models were learning effectively from the training data.\n",
        "\n",
        "Validation Set Performance: The RMSE on the validation set showed slight fluctuations, suggesting a need to monitor for overfitting or to adjust model complexity.\n",
        "\n",
        "**Impact of Hyperparameters:**\n",
        "\n",
        "Changes in learning rate, max depth, and other parameters significantly influenced model performance. For instance, lower learning rates might have caused slower convergence, whereas higher rates might lead to overshooting the minimum.\n",
        "\n",
        "Important parameters which had more influence is learning_rate\n",
        "\n",
        "\n",
        "The number of boosting rounds also played a crucial role. In some runs, increasing the rounds continued to improve the RMSE, suggesting that further training was beneficial up to a point.\n"
      ],
      "metadata": {
        "id": "8U5FoHX1VTuA"
      }
    },
    {
      "cell_type": "markdown",
      "source": [
        "\n",
        "rmse:524.1966314359638\n",
        "*   learning_rate:0.1\n",
        "*   max_depth:6\n",
        "\n",
        "\n"
      ],
      "metadata": {
        "id": "iiiCoAOBa9Ct"
      }
    },
    {
      "cell_type": "markdown",
      "source": [
        "### Random Search"
      ],
      "metadata": {
        "id": "A4Ct10DkAhh-"
      }
    },
    {
      "cell_type": "code",
      "source": [
        "import random\n",
        "\n",
        "for _ in range(5):\n",
        "    params = {\n",
        "        \"objective\": \"reg:squarederror\",\n",
        "        \"tree_method\": \"gpu_hist\",\n",
        "        \"learning_rate\": random.uniform(0.01, 0.2),\n",
        "        \"max_depth\": random.randint(6, 12)\n",
        "    }\n",
        "    with wandb.init(project='diamonds_price_prediction', config=params):\n",
        "        model = xgb.train(\n",
        "            params=params,\n",
        "            dtrain=dtrain,\n",
        "            num_boost_round=100,\n",
        "            evals=evals,\n",
        "            early_stopping_rounds=50\n",
        "        )\n",
        "        predictions = model.predict(dtest)\n",
        "        rmse = mean_squared_error(y_test, predictions, squared=False)\n",
        "        wandb.log({\"rmse\": rmse})\n"
      ],
      "metadata": {
        "colab": {
          "base_uri": "https://localhost:8080/",
          "height": 1000,
          "referenced_widgets": [
            "bac199875efd4669b71238eb2c330896",
            "ab56d09b1dca420e96c7686a200f2141",
            "573197772e2b4d968bfd7fac4e829821",
            "e0d83f6df7054e118950b9f72a52e289",
            "5417f75b29a049e2a7705c9e7fdd4a62",
            "4f78d27e92fc4cd19d26537074bec050",
            "9d69efe0825f4bb8b53a13cefff0d58e",
            "4e926c800d554e109e7fef4aa6294841",
            "67433962dd43498dbbcc26b0911ec575",
            "854be6e0243b4287ba6fab83e9026566",
            "37e574430f0647b7ae09f5689d6af407",
            "9be6ff0d8992496ab47c8435b7cb3ee9",
            "38ab3effd1574aa9a62cdae05c2254c3",
            "184ce5e3b2584867985d0e7c3e921843",
            "3fbfdd7738c548cc94510477063d95a6",
            "90bc067381bb4e8e85b6e579a9429d58",
            "4e0cbb85ff104f53af2c6ccfcff3ee2c",
            "cf8c7934d7ca4c6d9d6bfd073c655ffc",
            "80580d1ddf3e46eab320f6f3a3f7772d",
            "b7c88704171e4899baf247d0a6d547d4",
            "ce9071bc1cf64787b4f10e4cde61617e",
            "985f8dd5520649dcbcb95a6e6091ddf6",
            "105ac9198f5942e887ef715dce8fcb76",
            "d0d5a115800d40c6bd992baf5a70e5b9",
            "a87e5543782f436e86d8432ba12140b7",
            "41348c8c09ee4280af1c655d0fda2721",
            "63f4c329fd91451a8343dee2d39d0b8d",
            "5b9c2c31ba1342b78c05cf78d2768ed7",
            "32689432325a4c3f9772fcae1bc966b1",
            "281f66f890c7462e99076e0b7b089936",
            "707c15495b0f4f36867a13a75ac6fbac",
            "94649aa275764884911db95e2dcc10ad",
            "f0e544d5542f4a67813bfcfc63db0e7f",
            "8b06a3feafbe42a28dba4b85e4204e3f",
            "e3582de767fc48b28cf32703249254ff",
            "9b652c74ae1045929fa86085b903bb8c",
            "4c4270fd31f148da83fb516d5f00cdbd",
            "d367fb60279947e1baa4eae1fc3e2e8a",
            "aabda8eb3f7c4d78b3e530b05cd31ec3",
            "2dabe6c66a70454c95a2e0e19266ea4e"
          ]
        },
        "id": "FOKL_R9ASVCF",
        "outputId": "8f3e3cbe-ebe9-471f-95c4-d43a7b683c7b"
      },
      "execution_count": 24,
      "outputs": [
        {
          "output_type": "display_data",
          "data": {
            "text/plain": [
              "<IPython.core.display.HTML object>"
            ],
            "text/html": [
              "Tracking run with wandb version 0.16.6"
            ]
          },
          "metadata": {}
        },
        {
          "output_type": "display_data",
          "data": {
            "text/plain": [
              "<IPython.core.display.HTML object>"
            ],
            "text/html": [
              "Run data is saved locally in <code>/content/wandb/run-20240422_224143-iylstqgo</code>"
            ]
          },
          "metadata": {}
        },
        {
          "output_type": "display_data",
          "data": {
            "text/plain": [
              "<IPython.core.display.HTML object>"
            ],
            "text/html": [
              "Syncing run <strong><a href='https://wandb.ai/nsg/diamonds_price_prediction/runs/iylstqgo' target=\"_blank\">jumping-forest-25</a></strong> to <a href='https://wandb.ai/nsg/diamonds_price_prediction' target=\"_blank\">Weights & Biases</a> (<a href='https://wandb.me/run' target=\"_blank\">docs</a>)<br/>"
            ]
          },
          "metadata": {}
        },
        {
          "output_type": "display_data",
          "data": {
            "text/plain": [
              "<IPython.core.display.HTML object>"
            ],
            "text/html": [
              " View project at <a href='https://wandb.ai/nsg/diamonds_price_prediction' target=\"_blank\">https://wandb.ai/nsg/diamonds_price_prediction</a>"
            ]
          },
          "metadata": {}
        },
        {
          "output_type": "display_data",
          "data": {
            "text/plain": [
              "<IPython.core.display.HTML object>"
            ],
            "text/html": [
              " View run at <a href='https://wandb.ai/nsg/diamonds_price_prediction/runs/iylstqgo' target=\"_blank\">https://wandb.ai/nsg/diamonds_price_prediction/runs/iylstqgo</a>"
            ]
          },
          "metadata": {}
        },
        {
          "output_type": "stream",
          "name": "stdout",
          "text": [
            "[0]\ttrain-rmse:3630.21272\tvalidation-rmse:3626.49109\n",
            "[1]\ttrain-rmse:3304.93808\tvalidation-rmse:3300.23857\n",
            "[2]\ttrain-rmse:3010.81222\tvalidation-rmse:3005.32242\n",
            "[3]\ttrain-rmse:2744.70338\tvalidation-rmse:2738.95184\n",
            "[4]\ttrain-rmse:2504.05344\tvalidation-rmse:2498.85603\n",
            "[5]\ttrain-rmse:2286.42476\tvalidation-rmse:2282.12875\n",
            "[6]\ttrain-rmse:2089.18432\tvalidation-rmse:2085.81751\n",
            "[7]\ttrain-rmse:1910.67143\tvalidation-rmse:1907.96545\n"
          ]
        },
        {
          "output_type": "stream",
          "name": "stderr",
          "text": [
            "/usr/local/lib/python3.10/dist-packages/xgboost/core.py:160: UserWarning: [22:41:45] WARNING: /workspace/src/common/error_msg.cc:27: The tree method `gpu_hist` is deprecated since 2.0.0. To use GPU training, set the `device` parameter to CUDA instead.\n",
            "\n",
            "    E.g. tree_method = \"hist\", device = \"cuda\"\n",
            "\n",
            "  warnings.warn(smsg, UserWarning)\n"
          ]
        },
        {
          "output_type": "stream",
          "name": "stdout",
          "text": [
            "[8]\ttrain-rmse:1750.08958\tvalidation-rmse:1748.52848\n",
            "[9]\ttrain-rmse:1605.48924\tvalidation-rmse:1605.24593\n",
            "[10]\ttrain-rmse:1475.17870\tvalidation-rmse:1475.51489\n",
            "[11]\ttrain-rmse:1357.71560\tvalidation-rmse:1359.08053\n",
            "[12]\ttrain-rmse:1252.60160\tvalidation-rmse:1256.20355\n",
            "[13]\ttrain-rmse:1158.67783\tvalidation-rmse:1164.19042\n",
            "[14]\ttrain-rmse:1074.43494\tvalidation-rmse:1082.44751\n",
            "[15]\ttrain-rmse:999.43192\tvalidation-rmse:1010.14866\n",
            "[16]\ttrain-rmse:932.55408\tvalidation-rmse:945.63031\n",
            "[17]\ttrain-rmse:872.81700\tvalidation-rmse:888.78185\n",
            "[18]\ttrain-rmse:819.99626\tvalidation-rmse:838.31408\n",
            "[19]\ttrain-rmse:772.96456\tvalidation-rmse:794.27974\n",
            "[20]\ttrain-rmse:731.20176\tvalidation-rmse:755.09995\n",
            "[21]\ttrain-rmse:694.75281\tvalidation-rmse:722.18920\n",
            "[22]\ttrain-rmse:663.05025\tvalidation-rmse:692.88491\n",
            "[23]\ttrain-rmse:634.65037\tvalidation-rmse:667.92279\n",
            "[24]\ttrain-rmse:609.87346\tvalidation-rmse:645.90324\n",
            "[25]\ttrain-rmse:588.06363\tvalidation-rmse:627.48136\n",
            "[26]\ttrain-rmse:569.56937\tvalidation-rmse:612.01187\n",
            "[27]\ttrain-rmse:552.85515\tvalidation-rmse:598.54607\n",
            "[28]\ttrain-rmse:538.95080\tvalidation-rmse:587.44481\n",
            "[29]\ttrain-rmse:525.93416\tvalidation-rmse:577.96965\n",
            "[30]\ttrain-rmse:514.86186\tvalidation-rmse:569.53236\n",
            "[31]\ttrain-rmse:504.44556\tvalidation-rmse:562.34276\n",
            "[32]\ttrain-rmse:496.34845\tvalidation-rmse:556.93064\n",
            "[33]\ttrain-rmse:489.16685\tvalidation-rmse:551.70626\n",
            "[34]\ttrain-rmse:482.36613\tvalidation-rmse:547.88011\n",
            "[35]\ttrain-rmse:476.93649\tvalidation-rmse:544.51373\n",
            "[36]\ttrain-rmse:471.96464\tvalidation-rmse:541.32008\n",
            "[37]\ttrain-rmse:467.09586\tvalidation-rmse:539.25558\n",
            "[38]\ttrain-rmse:463.37172\tvalidation-rmse:537.52964\n",
            "[39]\ttrain-rmse:459.00422\tvalidation-rmse:535.60076\n",
            "[40]\ttrain-rmse:455.26856\tvalidation-rmse:533.98119\n",
            "[41]\ttrain-rmse:451.46283\tvalidation-rmse:532.81356\n",
            "[42]\ttrain-rmse:447.53761\tvalidation-rmse:531.61893\n",
            "[43]\ttrain-rmse:444.02329\tvalidation-rmse:530.63731\n",
            "[44]\ttrain-rmse:441.81261\tvalidation-rmse:529.60405\n",
            "[45]\ttrain-rmse:438.90542\tvalidation-rmse:529.09290\n",
            "[46]\ttrain-rmse:436.45368\tvalidation-rmse:528.23313\n",
            "[47]\ttrain-rmse:434.57157\tvalidation-rmse:527.94431\n",
            "[48]\ttrain-rmse:432.74988\tvalidation-rmse:527.50281\n",
            "[49]\ttrain-rmse:431.09489\tvalidation-rmse:526.67958\n",
            "[50]\ttrain-rmse:429.78899\tvalidation-rmse:525.93801\n",
            "[51]\ttrain-rmse:428.13989\tvalidation-rmse:525.45237\n",
            "[52]\ttrain-rmse:426.69594\tvalidation-rmse:524.90931\n",
            "[53]\ttrain-rmse:425.58117\tvalidation-rmse:524.74267\n",
            "[54]\ttrain-rmse:424.49649\tvalidation-rmse:524.31064\n",
            "[55]\ttrain-rmse:422.72550\tvalidation-rmse:524.64328\n",
            "[56]\ttrain-rmse:421.60160\tvalidation-rmse:524.32440\n",
            "[57]\ttrain-rmse:420.10353\tvalidation-rmse:524.14402\n",
            "[58]\ttrain-rmse:419.16139\tvalidation-rmse:524.15889\n",
            "[59]\ttrain-rmse:417.96359\tvalidation-rmse:523.81641\n",
            "[60]\ttrain-rmse:416.24795\tvalidation-rmse:523.21182\n",
            "[61]\ttrain-rmse:413.51794\tvalidation-rmse:522.93897\n",
            "[62]\ttrain-rmse:411.87232\tvalidation-rmse:522.71204\n",
            "[63]\ttrain-rmse:410.17614\tvalidation-rmse:522.74615\n",
            "[64]\ttrain-rmse:408.53696\tvalidation-rmse:522.70198\n",
            "[65]\ttrain-rmse:407.18960\tvalidation-rmse:522.29458\n",
            "[66]\ttrain-rmse:405.99042\tvalidation-rmse:522.14313\n",
            "[67]\ttrain-rmse:405.24266\tvalidation-rmse:522.18875\n",
            "[68]\ttrain-rmse:404.08398\tvalidation-rmse:522.36559\n",
            "[69]\ttrain-rmse:402.65746\tvalidation-rmse:522.51543\n",
            "[70]\ttrain-rmse:401.29627\tvalidation-rmse:522.80121\n",
            "[71]\ttrain-rmse:400.26902\tvalidation-rmse:522.80774\n",
            "[72]\ttrain-rmse:399.29087\tvalidation-rmse:522.70312\n",
            "[73]\ttrain-rmse:398.06033\tvalidation-rmse:522.92330\n",
            "[74]\ttrain-rmse:396.73789\tvalidation-rmse:523.06732\n",
            "[75]\ttrain-rmse:395.46473\tvalidation-rmse:523.07601\n",
            "[76]\ttrain-rmse:394.66575\tvalidation-rmse:522.95953\n",
            "[77]\ttrain-rmse:393.97084\tvalidation-rmse:523.05123\n",
            "[78]\ttrain-rmse:393.15036\tvalidation-rmse:522.92680\n",
            "[79]\ttrain-rmse:390.87607\tvalidation-rmse:523.08251\n",
            "[80]\ttrain-rmse:389.90561\tvalidation-rmse:523.06392\n",
            "[81]\ttrain-rmse:389.22310\tvalidation-rmse:522.94276\n",
            "[82]\ttrain-rmse:388.08410\tvalidation-rmse:523.05559\n",
            "[83]\ttrain-rmse:386.74694\tvalidation-rmse:522.84772\n",
            "[84]\ttrain-rmse:386.31595\tvalidation-rmse:522.84539\n",
            "[85]\ttrain-rmse:385.99953\tvalidation-rmse:522.94992\n",
            "[86]\ttrain-rmse:385.17173\tvalidation-rmse:522.85331\n",
            "[87]\ttrain-rmse:384.46428\tvalidation-rmse:523.25941\n",
            "[88]\ttrain-rmse:384.01234\tvalidation-rmse:523.11314\n",
            "[89]\ttrain-rmse:381.65041\tvalidation-rmse:523.34567\n",
            "[90]\ttrain-rmse:379.47270\tvalidation-rmse:523.51824\n",
            "[91]\ttrain-rmse:378.64794\tvalidation-rmse:523.17395\n",
            "[92]\ttrain-rmse:377.65706\tvalidation-rmse:523.00845\n",
            "[93]\ttrain-rmse:376.50047\tvalidation-rmse:523.17700\n",
            "[94]\ttrain-rmse:375.67260\tvalidation-rmse:523.27321\n",
            "[95]\ttrain-rmse:374.07716\tvalidation-rmse:523.08077\n",
            "[96]\ttrain-rmse:373.94859\tvalidation-rmse:523.00692\n",
            "[97]\ttrain-rmse:373.66682\tvalidation-rmse:523.07591\n",
            "[98]\ttrain-rmse:372.85472\tvalidation-rmse:523.05555\n",
            "[99]\ttrain-rmse:372.64299\tvalidation-rmse:523.11629\n"
          ]
        },
        {
          "output_type": "stream",
          "name": "stderr",
          "text": [
            "/usr/local/lib/python3.10/dist-packages/xgboost/core.py:160: UserWarning: [22:41:47] WARNING: /workspace/src/common/error_msg.cc:27: The tree method `gpu_hist` is deprecated since 2.0.0. To use GPU training, set the `device` parameter to CUDA instead.\n",
            "\n",
            "    E.g. tree_method = \"hist\", device = \"cuda\"\n",
            "\n",
            "  warnings.warn(smsg, UserWarning)\n"
          ]
        },
        {
          "output_type": "display_data",
          "data": {
            "text/plain": [
              "VBox(children=(Label(value='0.016 MB of 0.016 MB uploaded\\r'), FloatProgress(value=1.0, max=1.0)))"
            ],
            "application/vnd.jupyter.widget-view+json": {
              "version_major": 2,
              "version_minor": 0,
              "model_id": "bac199875efd4669b71238eb2c330896"
            }
          },
          "metadata": {}
        },
        {
          "output_type": "display_data",
          "data": {
            "text/plain": [
              "<IPython.core.display.HTML object>"
            ],
            "text/html": [
              "<style>\n",
              "    table.wandb td:nth-child(1) { padding: 0 10px; text-align: left ; width: auto;} td:nth-child(2) {text-align: left ; width: 100%}\n",
              "    .wandb-row { display: flex; flex-direction: row; flex-wrap: wrap; justify-content: flex-start; width: 100% }\n",
              "    .wandb-col { display: flex; flex-direction: column; flex-basis: 100%; flex: 1; padding: 10px; }\n",
              "    </style>\n",
              "<div class=\"wandb-row\"><div class=\"wandb-col\"><h3>Run history:</h3><br/><table class=\"wandb\"><tr><td>rmse</td><td>▁</td></tr></table><br/></div><div class=\"wandb-col\"><h3>Run summary:</h3><br/><table class=\"wandb\"><tr><td>rmse</td><td>523.11639</td></tr></table><br/></div></div>"
            ]
          },
          "metadata": {}
        },
        {
          "output_type": "display_data",
          "data": {
            "text/plain": [
              "<IPython.core.display.HTML object>"
            ],
            "text/html": [
              " View run <strong style=\"color:#cdcd00\">jumping-forest-25</strong> at: <a href='https://wandb.ai/nsg/diamonds_price_prediction/runs/iylstqgo' target=\"_blank\">https://wandb.ai/nsg/diamonds_price_prediction/runs/iylstqgo</a><br/> View project at: <a href='https://wandb.ai/nsg/diamonds_price_prediction' target=\"_blank\">https://wandb.ai/nsg/diamonds_price_prediction</a><br/>Synced 5 W&B file(s), 0 media file(s), 0 artifact file(s) and 0 other file(s)"
            ]
          },
          "metadata": {}
        },
        {
          "output_type": "display_data",
          "data": {
            "text/plain": [
              "<IPython.core.display.HTML object>"
            ],
            "text/html": [
              "Find logs at: <code>./wandb/run-20240422_224143-iylstqgo/logs</code>"
            ]
          },
          "metadata": {}
        },
        {
          "output_type": "display_data",
          "data": {
            "text/plain": [
              "<IPython.core.display.HTML object>"
            ],
            "text/html": [
              "Tracking run with wandb version 0.16.6"
            ]
          },
          "metadata": {}
        },
        {
          "output_type": "display_data",
          "data": {
            "text/plain": [
              "<IPython.core.display.HTML object>"
            ],
            "text/html": [
              "Run data is saved locally in <code>/content/wandb/run-20240422_224150-tyxuvqsl</code>"
            ]
          },
          "metadata": {}
        },
        {
          "output_type": "display_data",
          "data": {
            "text/plain": [
              "<IPython.core.display.HTML object>"
            ],
            "text/html": [
              "Syncing run <strong><a href='https://wandb.ai/nsg/diamonds_price_prediction/runs/tyxuvqsl' target=\"_blank\">lunar-snow-26</a></strong> to <a href='https://wandb.ai/nsg/diamonds_price_prediction' target=\"_blank\">Weights & Biases</a> (<a href='https://wandb.me/run' target=\"_blank\">docs</a>)<br/>"
            ]
          },
          "metadata": {}
        },
        {
          "output_type": "display_data",
          "data": {
            "text/plain": [
              "<IPython.core.display.HTML object>"
            ],
            "text/html": [
              " View project at <a href='https://wandb.ai/nsg/diamonds_price_prediction' target=\"_blank\">https://wandb.ai/nsg/diamonds_price_prediction</a>"
            ]
          },
          "metadata": {}
        },
        {
          "output_type": "display_data",
          "data": {
            "text/plain": [
              "<IPython.core.display.HTML object>"
            ],
            "text/html": [
              " View run at <a href='https://wandb.ai/nsg/diamonds_price_prediction/runs/tyxuvqsl' target=\"_blank\">https://wandb.ai/nsg/diamonds_price_prediction/runs/tyxuvqsl</a>"
            ]
          },
          "metadata": {}
        },
        {
          "output_type": "stream",
          "name": "stdout",
          "text": [
            "[0]\ttrain-rmse:3864.51969\tvalidation-rmse:3861.58778\n",
            "[1]\ttrain-rmse:3743.23660\tvalidation-rmse:3740.03062\n",
            "[2]\ttrain-rmse:3625.99984\tvalidation-rmse:3622.57147\n",
            "[3]\ttrain-rmse:3512.63409\tvalidation-rmse:3509.14648\n",
            "[4]\ttrain-rmse:3402.98702\tvalidation-rmse:3399.37519\n",
            "[5]\ttrain-rmse:3296.99538\tvalidation-rmse:3293.25322\n",
            "[6]\ttrain-rmse:3194.49128\tvalidation-rmse:3190.89910\n",
            "[7]\ttrain-rmse:3095.38601\tvalidation-rmse:3091.73688\n"
          ]
        },
        {
          "output_type": "stream",
          "name": "stderr",
          "text": [
            "/usr/local/lib/python3.10/dist-packages/xgboost/core.py:160: UserWarning: [22:41:52] WARNING: /workspace/src/common/error_msg.cc:27: The tree method `gpu_hist` is deprecated since 2.0.0. To use GPU training, set the `device` parameter to CUDA instead.\n",
            "\n",
            "    E.g. tree_method = \"hist\", device = \"cuda\"\n",
            "\n",
            "  warnings.warn(smsg, UserWarning)\n"
          ]
        },
        {
          "output_type": "stream",
          "name": "stdout",
          "text": [
            "[8]\ttrain-rmse:2999.53428\tvalidation-rmse:2995.81877\n",
            "[9]\ttrain-rmse:2906.89546\tvalidation-rmse:2903.48223\n",
            "[10]\ttrain-rmse:2817.30473\tvalidation-rmse:2814.09878\n",
            "[11]\ttrain-rmse:2730.66458\tvalidation-rmse:2727.50474\n",
            "[12]\ttrain-rmse:2646.92178\tvalidation-rmse:2644.18258\n",
            "[13]\ttrain-rmse:2565.85054\tvalidation-rmse:2563.25650\n",
            "[14]\ttrain-rmse:2487.50151\tvalidation-rmse:2485.18811\n",
            "[15]\ttrain-rmse:2411.80007\tvalidation-rmse:2409.75036\n",
            "[16]\ttrain-rmse:2338.61272\tvalidation-rmse:2336.81024\n",
            "[17]\ttrain-rmse:2267.84634\tvalidation-rmse:2266.33221\n",
            "[18]\ttrain-rmse:2199.45319\tvalidation-rmse:2198.21973\n",
            "[19]\ttrain-rmse:2133.19797\tvalidation-rmse:2132.48444\n",
            "[20]\ttrain-rmse:2069.25963\tvalidation-rmse:2068.84842\n",
            "[21]\ttrain-rmse:2007.41469\tvalidation-rmse:2007.21770\n",
            "[22]\ttrain-rmse:1947.71484\tvalidation-rmse:1947.95799\n",
            "[23]\ttrain-rmse:1890.05577\tvalidation-rmse:1890.64357\n",
            "[24]\ttrain-rmse:1834.15769\tvalidation-rmse:1835.13255\n",
            "[25]\ttrain-rmse:1780.27638\tvalidation-rmse:1782.10406\n",
            "[26]\ttrain-rmse:1728.19204\tvalidation-rmse:1730.68763\n",
            "[27]\ttrain-rmse:1677.81511\tvalidation-rmse:1681.02877\n",
            "[28]\ttrain-rmse:1629.23349\tvalidation-rmse:1632.85832\n",
            "[29]\ttrain-rmse:1582.34909\tvalidation-rmse:1586.64000\n",
            "[30]\ttrain-rmse:1537.05627\tvalidation-rmse:1542.16888\n",
            "[31]\ttrain-rmse:1493.23905\tvalidation-rmse:1498.96080\n",
            "[32]\ttrain-rmse:1450.97186\tvalidation-rmse:1457.54949\n",
            "[33]\ttrain-rmse:1410.21638\tvalidation-rmse:1417.45863\n",
            "[34]\ttrain-rmse:1370.91255\tvalidation-rmse:1379.05412\n",
            "[35]\ttrain-rmse:1333.00505\tvalidation-rmse:1342.01660\n",
            "[36]\ttrain-rmse:1296.22666\tvalidation-rmse:1306.41550\n",
            "[37]\ttrain-rmse:1260.88985\tvalidation-rmse:1272.13219\n",
            "[38]\ttrain-rmse:1226.86279\tvalidation-rmse:1239.04092\n",
            "[39]\ttrain-rmse:1193.95505\tvalidation-rmse:1207.18256\n",
            "[40]\ttrain-rmse:1162.29852\tvalidation-rmse:1176.65341\n",
            "[41]\ttrain-rmse:1131.74141\tvalidation-rmse:1147.01949\n",
            "[42]\ttrain-rmse:1102.27269\tvalidation-rmse:1118.82764\n",
            "[43]\ttrain-rmse:1074.00837\tvalidation-rmse:1091.68276\n",
            "[44]\ttrain-rmse:1046.59762\tvalidation-rmse:1065.43986\n",
            "[45]\ttrain-rmse:1020.30472\tvalidation-rmse:1040.39590\n",
            "[46]\ttrain-rmse:994.99013\tvalidation-rmse:1015.98452\n",
            "[47]\ttrain-rmse:970.61334\tvalidation-rmse:992.96387\n",
            "[48]\ttrain-rmse:947.20251\tvalidation-rmse:970.62400\n",
            "[49]\ttrain-rmse:924.60156\tvalidation-rmse:949.12800\n",
            "[50]\ttrain-rmse:902.81367\tvalidation-rmse:928.80281\n",
            "[51]\ttrain-rmse:881.91668\tvalidation-rmse:909.50579\n",
            "[52]\ttrain-rmse:861.80089\tvalidation-rmse:890.85878\n",
            "[53]\ttrain-rmse:842.46444\tvalidation-rmse:872.83903\n",
            "[54]\ttrain-rmse:823.86634\tvalidation-rmse:855.75375\n",
            "[55]\ttrain-rmse:806.07938\tvalidation-rmse:839.43254\n",
            "[56]\ttrain-rmse:788.90880\tvalidation-rmse:823.83664\n",
            "[57]\ttrain-rmse:772.43917\tvalidation-rmse:808.75719\n",
            "[58]\ttrain-rmse:756.67008\tvalidation-rmse:794.43158\n",
            "[59]\ttrain-rmse:741.45641\tvalidation-rmse:780.70782\n",
            "[60]\ttrain-rmse:726.94436\tvalidation-rmse:767.60396\n",
            "[61]\ttrain-rmse:712.80874\tvalidation-rmse:755.10979\n",
            "[62]\ttrain-rmse:699.36678\tvalidation-rmse:743.09905\n",
            "[63]\ttrain-rmse:686.35240\tvalidation-rmse:731.69908\n",
            "[64]\ttrain-rmse:673.85775\tvalidation-rmse:720.75860\n",
            "[65]\ttrain-rmse:661.79719\tvalidation-rmse:710.43243\n",
            "[66]\ttrain-rmse:650.41469\tvalidation-rmse:700.59483\n",
            "[67]\ttrain-rmse:639.79445\tvalidation-rmse:691.23556\n",
            "[68]\ttrain-rmse:629.21142\tvalidation-rmse:682.40711\n",
            "[69]\ttrain-rmse:619.04731\tvalidation-rmse:673.85046\n",
            "[70]\ttrain-rmse:609.47649\tvalidation-rmse:665.80215\n",
            "[71]\ttrain-rmse:600.20266\tvalidation-rmse:658.03471\n",
            "[72]\ttrain-rmse:591.26640\tvalidation-rmse:650.67223\n",
            "[73]\ttrain-rmse:582.73091\tvalidation-rmse:643.73519\n",
            "[74]\ttrain-rmse:574.86031\tvalidation-rmse:637.29139\n",
            "[75]\ttrain-rmse:567.08655\tvalidation-rmse:631.18138\n",
            "[76]\ttrain-rmse:559.57402\tvalidation-rmse:625.17980\n",
            "[77]\ttrain-rmse:552.43534\tvalidation-rmse:619.63553\n",
            "[78]\ttrain-rmse:545.64630\tvalidation-rmse:614.40005\n",
            "[79]\ttrain-rmse:539.14672\tvalidation-rmse:609.42832\n",
            "[80]\ttrain-rmse:532.96235\tvalidation-rmse:604.74955\n",
            "[81]\ttrain-rmse:527.01617\tvalidation-rmse:600.15047\n",
            "[82]\ttrain-rmse:521.43246\tvalidation-rmse:596.02904\n",
            "[83]\ttrain-rmse:515.96774\tvalidation-rmse:591.96248\n",
            "[84]\ttrain-rmse:510.89189\tvalidation-rmse:588.16535\n",
            "[85]\ttrain-rmse:505.79512\tvalidation-rmse:584.64826\n",
            "[86]\ttrain-rmse:500.93846\tvalidation-rmse:581.29293\n",
            "[87]\ttrain-rmse:496.41817\tvalidation-rmse:578.04002\n",
            "[88]\ttrain-rmse:491.90812\tvalidation-rmse:575.02369\n",
            "[89]\ttrain-rmse:487.71465\tvalidation-rmse:571.98640\n",
            "[90]\ttrain-rmse:483.55554\tvalidation-rmse:569.33126\n",
            "[91]\ttrain-rmse:479.64789\tvalidation-rmse:566.84991\n",
            "[92]\ttrain-rmse:476.17022\tvalidation-rmse:564.45576\n",
            "[93]\ttrain-rmse:472.64600\tvalidation-rmse:562.09708\n",
            "[94]\ttrain-rmse:469.20138\tvalidation-rmse:560.00429\n",
            "[95]\ttrain-rmse:466.07925\tvalidation-rmse:557.94884\n",
            "[96]\ttrain-rmse:462.98594\tvalidation-rmse:556.08802\n",
            "[97]\ttrain-rmse:459.91874\tvalidation-rmse:554.15593\n",
            "[98]\ttrain-rmse:457.23432\tvalidation-rmse:552.52023\n",
            "[99]\ttrain-rmse:454.49777\tvalidation-rmse:550.80096\n"
          ]
        },
        {
          "output_type": "stream",
          "name": "stderr",
          "text": [
            "/usr/local/lib/python3.10/dist-packages/xgboost/core.py:160: UserWarning: [22:41:54] WARNING: /workspace/src/common/error_msg.cc:27: The tree method `gpu_hist` is deprecated since 2.0.0. To use GPU training, set the `device` parameter to CUDA instead.\n",
            "\n",
            "    E.g. tree_method = \"hist\", device = \"cuda\"\n",
            "\n",
            "  warnings.warn(smsg, UserWarning)\n"
          ]
        },
        {
          "output_type": "display_data",
          "data": {
            "text/plain": [
              "VBox(children=(Label(value='0.001 MB of 0.001 MB uploaded\\r'), FloatProgress(value=1.0, max=1.0)))"
            ],
            "application/vnd.jupyter.widget-view+json": {
              "version_major": 2,
              "version_minor": 0,
              "model_id": "67433962dd43498dbbcc26b0911ec575"
            }
          },
          "metadata": {}
        },
        {
          "output_type": "display_data",
          "data": {
            "text/plain": [
              "<IPython.core.display.HTML object>"
            ],
            "text/html": [
              "<style>\n",
              "    table.wandb td:nth-child(1) { padding: 0 10px; text-align: left ; width: auto;} td:nth-child(2) {text-align: left ; width: 100%}\n",
              "    .wandb-row { display: flex; flex-direction: row; flex-wrap: wrap; justify-content: flex-start; width: 100% }\n",
              "    .wandb-col { display: flex; flex-direction: column; flex-basis: 100%; flex: 1; padding: 10px; }\n",
              "    </style>\n",
              "<div class=\"wandb-row\"><div class=\"wandb-col\"><h3>Run history:</h3><br/><table class=\"wandb\"><tr><td>rmse</td><td>▁</td></tr></table><br/></div><div class=\"wandb-col\"><h3>Run summary:</h3><br/><table class=\"wandb\"><tr><td>rmse</td><td>550.80093</td></tr></table><br/></div></div>"
            ]
          },
          "metadata": {}
        },
        {
          "output_type": "display_data",
          "data": {
            "text/plain": [
              "<IPython.core.display.HTML object>"
            ],
            "text/html": [
              " View run <strong style=\"color:#cdcd00\">lunar-snow-26</strong> at: <a href='https://wandb.ai/nsg/diamonds_price_prediction/runs/tyxuvqsl' target=\"_blank\">https://wandb.ai/nsg/diamonds_price_prediction/runs/tyxuvqsl</a><br/> View project at: <a href='https://wandb.ai/nsg/diamonds_price_prediction' target=\"_blank\">https://wandb.ai/nsg/diamonds_price_prediction</a><br/>Synced 5 W&B file(s), 0 media file(s), 0 artifact file(s) and 0 other file(s)"
            ]
          },
          "metadata": {}
        },
        {
          "output_type": "display_data",
          "data": {
            "text/plain": [
              "<IPython.core.display.HTML object>"
            ],
            "text/html": [
              "Find logs at: <code>./wandb/run-20240422_224150-tyxuvqsl/logs</code>"
            ]
          },
          "metadata": {}
        },
        {
          "output_type": "display_data",
          "data": {
            "text/plain": [
              "<IPython.core.display.HTML object>"
            ],
            "text/html": [
              "Tracking run with wandb version 0.16.6"
            ]
          },
          "metadata": {}
        },
        {
          "output_type": "display_data",
          "data": {
            "text/plain": [
              "<IPython.core.display.HTML object>"
            ],
            "text/html": [
              "Run data is saved locally in <code>/content/wandb/run-20240422_224159-qrazxgsn</code>"
            ]
          },
          "metadata": {}
        },
        {
          "output_type": "display_data",
          "data": {
            "text/plain": [
              "<IPython.core.display.HTML object>"
            ],
            "text/html": [
              "Syncing run <strong><a href='https://wandb.ai/nsg/diamonds_price_prediction/runs/qrazxgsn' target=\"_blank\">rare-moon-27</a></strong> to <a href='https://wandb.ai/nsg/diamonds_price_prediction' target=\"_blank\">Weights & Biases</a> (<a href='https://wandb.me/run' target=\"_blank\">docs</a>)<br/>"
            ]
          },
          "metadata": {}
        },
        {
          "output_type": "display_data",
          "data": {
            "text/plain": [
              "<IPython.core.display.HTML object>"
            ],
            "text/html": [
              " View project at <a href='https://wandb.ai/nsg/diamonds_price_prediction' target=\"_blank\">https://wandb.ai/nsg/diamonds_price_prediction</a>"
            ]
          },
          "metadata": {}
        },
        {
          "output_type": "display_data",
          "data": {
            "text/plain": [
              "<IPython.core.display.HTML object>"
            ],
            "text/html": [
              " View run at <a href='https://wandb.ai/nsg/diamonds_price_prediction/runs/qrazxgsn' target=\"_blank\">https://wandb.ai/nsg/diamonds_price_prediction/runs/qrazxgsn</a>"
            ]
          },
          "metadata": {}
        },
        {
          "output_type": "stream",
          "name": "stdout",
          "text": [
            "[0]\ttrain-rmse:3793.75550\tvalidation-rmse:3790.47245\n",
            "[1]\ttrain-rmse:3607.88083\tvalidation-rmse:3603.97220\n",
            "[2]\ttrain-rmse:3431.64302\tvalidation-rmse:3427.43496\n",
            "[3]\ttrain-rmse:3264.60725\tvalidation-rmse:3259.71186\n",
            "[4]\ttrain-rmse:3106.26827\tvalidation-rmse:3101.85485\n",
            "[5]\ttrain-rmse:2956.23683\tvalidation-rmse:2951.25910\n",
            "[6]\ttrain-rmse:2813.93377\tvalidation-rmse:2808.93639\n",
            "[7]\ttrain-rmse:2679.02378\tvalidation-rmse:2674.06203\n",
            "[8]\ttrain-rmse:2550.82884\tvalidation-rmse:2545.83057\n",
            "[9]\ttrain-rmse:2429.59448\tvalidation-rmse:2424.80112\n",
            "[10]\ttrain-rmse:2314.69769\tvalidation-rmse:2309.84208\n"
          ]
        },
        {
          "output_type": "stream",
          "name": "stderr",
          "text": [
            "/usr/local/lib/python3.10/dist-packages/xgboost/core.py:160: UserWarning: [22:42:01] WARNING: /workspace/src/common/error_msg.cc:27: The tree method `gpu_hist` is deprecated since 2.0.0. To use GPU training, set the `device` parameter to CUDA instead.\n",
            "\n",
            "    E.g. tree_method = \"hist\", device = \"cuda\"\n",
            "\n",
            "  warnings.warn(smsg, UserWarning)\n"
          ]
        },
        {
          "output_type": "stream",
          "name": "stdout",
          "text": [
            "[11]\ttrain-rmse:2205.46414\tvalidation-rmse:2200.99475\n",
            "[12]\ttrain-rmse:2102.43338\tvalidation-rmse:2098.80558\n",
            "[13]\ttrain-rmse:2004.64198\tvalidation-rmse:2001.46877\n",
            "[14]\ttrain-rmse:1911.87948\tvalidation-rmse:1909.34512\n",
            "[15]\ttrain-rmse:1823.94405\tvalidation-rmse:1821.75468\n",
            "[16]\ttrain-rmse:1741.06350\tvalidation-rmse:1739.48475\n",
            "[17]\ttrain-rmse:1662.52572\tvalidation-rmse:1661.44820\n",
            "[18]\ttrain-rmse:1588.22364\tvalidation-rmse:1587.63707\n",
            "[19]\ttrain-rmse:1517.97988\tvalidation-rmse:1517.71601\n",
            "[20]\ttrain-rmse:1451.39242\tvalidation-rmse:1452.04051\n",
            "[21]\ttrain-rmse:1388.53949\tvalidation-rmse:1390.04476\n",
            "[22]\ttrain-rmse:1329.35243\tvalidation-rmse:1332.01354\n",
            "[23]\ttrain-rmse:1273.50655\tvalidation-rmse:1276.92611\n",
            "[24]\ttrain-rmse:1220.82026\tvalidation-rmse:1224.96879\n",
            "[25]\ttrain-rmse:1171.10883\tvalidation-rmse:1176.42369\n",
            "[26]\ttrain-rmse:1124.29115\tvalidation-rmse:1130.72881\n",
            "[27]\ttrain-rmse:1080.10780\tvalidation-rmse:1087.62329\n",
            "[28]\ttrain-rmse:1038.65475\tvalidation-rmse:1047.11690\n",
            "[29]\ttrain-rmse:999.58085\tvalidation-rmse:1009.25889\n",
            "[30]\ttrain-rmse:962.62175\tvalidation-rmse:973.99522\n",
            "[31]\ttrain-rmse:927.94030\tvalidation-rmse:940.60335\n",
            "[32]\ttrain-rmse:895.43769\tvalidation-rmse:909.26416\n",
            "[33]\ttrain-rmse:865.00157\tvalidation-rmse:880.28986\n",
            "[34]\ttrain-rmse:836.26550\tvalidation-rmse:853.05289\n",
            "[35]\ttrain-rmse:809.42384\tvalidation-rmse:827.66522\n",
            "[36]\ttrain-rmse:784.30194\tvalidation-rmse:804.14550\n",
            "[37]\ttrain-rmse:760.53275\tvalidation-rmse:781.79511\n",
            "[38]\ttrain-rmse:738.66821\tvalidation-rmse:761.50536\n",
            "[39]\ttrain-rmse:718.10078\tvalidation-rmse:742.65921\n",
            "[40]\ttrain-rmse:698.58369\tvalidation-rmse:724.69805\n",
            "[41]\ttrain-rmse:680.67765\tvalidation-rmse:708.22873\n",
            "[42]\ttrain-rmse:663.81324\tvalidation-rmse:692.94025\n",
            "[43]\ttrain-rmse:648.26517\tvalidation-rmse:679.04136\n",
            "[44]\ttrain-rmse:633.89299\tvalidation-rmse:666.34510\n",
            "[45]\ttrain-rmse:620.27627\tvalidation-rmse:654.53213\n",
            "[46]\ttrain-rmse:607.43521\tvalidation-rmse:643.53882\n",
            "[47]\ttrain-rmse:595.69479\tvalidation-rmse:633.40209\n",
            "[48]\ttrain-rmse:584.85141\tvalidation-rmse:624.37474\n",
            "[49]\ttrain-rmse:574.44428\tvalidation-rmse:615.79241\n",
            "[50]\ttrain-rmse:564.75444\tvalidation-rmse:607.71989\n",
            "[51]\ttrain-rmse:555.92327\tvalidation-rmse:600.49126\n",
            "[52]\ttrain-rmse:547.49588\tvalidation-rmse:593.87516\n",
            "[53]\ttrain-rmse:539.61808\tvalidation-rmse:587.70071\n",
            "[54]\ttrain-rmse:532.76501\tvalidation-rmse:582.26751\n",
            "[55]\ttrain-rmse:526.09064\tvalidation-rmse:576.85189\n",
            "[56]\ttrain-rmse:519.51809\tvalidation-rmse:572.15835\n",
            "[57]\ttrain-rmse:513.76281\tvalidation-rmse:568.22144\n",
            "[58]\ttrain-rmse:508.12018\tvalidation-rmse:564.36255\n",
            "[59]\ttrain-rmse:503.26196\tvalidation-rmse:560.66996\n",
            "[60]\ttrain-rmse:498.71385\tvalidation-rmse:557.32925\n",
            "[61]\ttrain-rmse:494.48356\tvalidation-rmse:554.36991\n",
            "[62]\ttrain-rmse:490.40107\tvalidation-rmse:551.98837\n",
            "[63]\ttrain-rmse:486.63440\tvalidation-rmse:549.46176\n",
            "[64]\ttrain-rmse:482.93578\tvalidation-rmse:547.14256\n",
            "[65]\ttrain-rmse:479.32208\tvalidation-rmse:545.20291\n",
            "[66]\ttrain-rmse:476.33883\tvalidation-rmse:543.47477\n",
            "[67]\ttrain-rmse:473.68480\tvalidation-rmse:541.76205\n",
            "[68]\ttrain-rmse:470.61176\tvalidation-rmse:539.98004\n",
            "[69]\ttrain-rmse:467.87482\tvalidation-rmse:538.69916\n",
            "[70]\ttrain-rmse:465.23535\tvalidation-rmse:537.38141\n",
            "[71]\ttrain-rmse:462.79224\tvalidation-rmse:536.35890\n",
            "[72]\ttrain-rmse:460.25876\tvalidation-rmse:535.26009\n",
            "[73]\ttrain-rmse:458.00093\tvalidation-rmse:534.10192\n",
            "[74]\ttrain-rmse:455.98721\tvalidation-rmse:533.31027\n",
            "[75]\ttrain-rmse:453.77107\tvalidation-rmse:532.37782\n",
            "[76]\ttrain-rmse:452.28083\tvalidation-rmse:531.68111\n",
            "[77]\ttrain-rmse:450.54590\tvalidation-rmse:530.97672\n",
            "[78]\ttrain-rmse:448.79453\tvalidation-rmse:530.23300\n",
            "[79]\ttrain-rmse:446.98699\tvalidation-rmse:529.77598\n",
            "[80]\ttrain-rmse:445.43521\tvalidation-rmse:529.19658\n",
            "[81]\ttrain-rmse:443.78517\tvalidation-rmse:528.51970\n",
            "[82]\ttrain-rmse:442.57695\tvalidation-rmse:527.99983\n",
            "[83]\ttrain-rmse:441.20252\tvalidation-rmse:527.47168\n",
            "[84]\ttrain-rmse:440.02048\tvalidation-rmse:527.01385\n",
            "[85]\ttrain-rmse:438.83978\tvalidation-rmse:526.49525\n",
            "[86]\ttrain-rmse:437.75673\tvalidation-rmse:526.11963\n",
            "[87]\ttrain-rmse:436.63779\tvalidation-rmse:525.81930\n",
            "[88]\ttrain-rmse:435.46612\tvalidation-rmse:525.45826\n",
            "[89]\ttrain-rmse:433.99253\tvalidation-rmse:525.29205\n",
            "[90]\ttrain-rmse:433.00740\tvalidation-rmse:525.18517\n",
            "[91]\ttrain-rmse:432.05092\tvalidation-rmse:524.92961\n",
            "[92]\ttrain-rmse:431.01440\tvalidation-rmse:524.62610\n",
            "[93]\ttrain-rmse:429.80868\tvalidation-rmse:524.48379\n",
            "[94]\ttrain-rmse:429.09285\tvalidation-rmse:524.33630\n",
            "[95]\ttrain-rmse:428.30336\tvalidation-rmse:524.04154\n",
            "[96]\ttrain-rmse:427.18683\tvalidation-rmse:523.87772\n",
            "[97]\ttrain-rmse:426.48800\tvalidation-rmse:523.73202\n",
            "[98]\ttrain-rmse:425.69662\tvalidation-rmse:523.57616\n",
            "[99]\ttrain-rmse:424.93261\tvalidation-rmse:523.59299\n"
          ]
        },
        {
          "output_type": "stream",
          "name": "stderr",
          "text": [
            "/usr/local/lib/python3.10/dist-packages/xgboost/core.py:160: UserWarning: [22:42:02] WARNING: /workspace/src/common/error_msg.cc:27: The tree method `gpu_hist` is deprecated since 2.0.0. To use GPU training, set the `device` parameter to CUDA instead.\n",
            "\n",
            "    E.g. tree_method = \"hist\", device = \"cuda\"\n",
            "\n",
            "  warnings.warn(smsg, UserWarning)\n"
          ]
        },
        {
          "output_type": "display_data",
          "data": {
            "text/plain": [
              "VBox(children=(Label(value='0.001 MB of 0.001 MB uploaded\\r'), FloatProgress(value=1.0, max=1.0)))"
            ],
            "application/vnd.jupyter.widget-view+json": {
              "version_major": 2,
              "version_minor": 0,
              "model_id": "4e0cbb85ff104f53af2c6ccfcff3ee2c"
            }
          },
          "metadata": {}
        },
        {
          "output_type": "display_data",
          "data": {
            "text/plain": [
              "<IPython.core.display.HTML object>"
            ],
            "text/html": [
              "<style>\n",
              "    table.wandb td:nth-child(1) { padding: 0 10px; text-align: left ; width: auto;} td:nth-child(2) {text-align: left ; width: 100%}\n",
              "    .wandb-row { display: flex; flex-direction: row; flex-wrap: wrap; justify-content: flex-start; width: 100% }\n",
              "    .wandb-col { display: flex; flex-direction: column; flex-basis: 100%; flex: 1; padding: 10px; }\n",
              "    </style>\n",
              "<div class=\"wandb-row\"><div class=\"wandb-col\"><h3>Run history:</h3><br/><table class=\"wandb\"><tr><td>rmse</td><td>▁</td></tr></table><br/></div><div class=\"wandb-col\"><h3>Run summary:</h3><br/><table class=\"wandb\"><tr><td>rmse</td><td>523.59295</td></tr></table><br/></div></div>"
            ]
          },
          "metadata": {}
        },
        {
          "output_type": "display_data",
          "data": {
            "text/plain": [
              "<IPython.core.display.HTML object>"
            ],
            "text/html": [
              " View run <strong style=\"color:#cdcd00\">rare-moon-27</strong> at: <a href='https://wandb.ai/nsg/diamonds_price_prediction/runs/qrazxgsn' target=\"_blank\">https://wandb.ai/nsg/diamonds_price_prediction/runs/qrazxgsn</a><br/> View project at: <a href='https://wandb.ai/nsg/diamonds_price_prediction' target=\"_blank\">https://wandb.ai/nsg/diamonds_price_prediction</a><br/>Synced 5 W&B file(s), 0 media file(s), 0 artifact file(s) and 0 other file(s)"
            ]
          },
          "metadata": {}
        },
        {
          "output_type": "display_data",
          "data": {
            "text/plain": [
              "<IPython.core.display.HTML object>"
            ],
            "text/html": [
              "Find logs at: <code>./wandb/run-20240422_224159-qrazxgsn/logs</code>"
            ]
          },
          "metadata": {}
        },
        {
          "output_type": "display_data",
          "data": {
            "text/plain": [
              "<IPython.core.display.HTML object>"
            ],
            "text/html": [
              "Tracking run with wandb version 0.16.6"
            ]
          },
          "metadata": {}
        },
        {
          "output_type": "display_data",
          "data": {
            "text/plain": [
              "<IPython.core.display.HTML object>"
            ],
            "text/html": [
              "Run data is saved locally in <code>/content/wandb/run-20240422_224208-ud9g5izr</code>"
            ]
          },
          "metadata": {}
        },
        {
          "output_type": "display_data",
          "data": {
            "text/plain": [
              "<IPython.core.display.HTML object>"
            ],
            "text/html": [
              "Syncing run <strong><a href='https://wandb.ai/nsg/diamonds_price_prediction/runs/ud9g5izr' target=\"_blank\">crimson-resonance-28</a></strong> to <a href='https://wandb.ai/nsg/diamonds_price_prediction' target=\"_blank\">Weights & Biases</a> (<a href='https://wandb.me/run' target=\"_blank\">docs</a>)<br/>"
            ]
          },
          "metadata": {}
        },
        {
          "output_type": "display_data",
          "data": {
            "text/plain": [
              "<IPython.core.display.HTML object>"
            ],
            "text/html": [
              " View project at <a href='https://wandb.ai/nsg/diamonds_price_prediction' target=\"_blank\">https://wandb.ai/nsg/diamonds_price_prediction</a>"
            ]
          },
          "metadata": {}
        },
        {
          "output_type": "display_data",
          "data": {
            "text/plain": [
              "<IPython.core.display.HTML object>"
            ],
            "text/html": [
              " View run at <a href='https://wandb.ai/nsg/diamonds_price_prediction/runs/ud9g5izr' target=\"_blank\">https://wandb.ai/nsg/diamonds_price_prediction/runs/ud9g5izr</a>"
            ]
          },
          "metadata": {}
        },
        {
          "output_type": "stream",
          "name": "stdout",
          "text": [
            "[0]\ttrain-rmse:3318.47154\tvalidation-rmse:3315.31479\n",
            "[1]\ttrain-rmse:2765.36432\tvalidation-rmse:2763.13663\n",
            "[2]\ttrain-rmse:2310.28168\tvalidation-rmse:2310.20936\n",
            "[3]\ttrain-rmse:1935.37221\tvalidation-rmse:1938.71132\n"
          ]
        },
        {
          "output_type": "stream",
          "name": "stderr",
          "text": [
            "/usr/local/lib/python3.10/dist-packages/xgboost/core.py:160: UserWarning: [22:42:10] WARNING: /workspace/src/common/error_msg.cc:27: The tree method `gpu_hist` is deprecated since 2.0.0. To use GPU training, set the `device` parameter to CUDA instead.\n",
            "\n",
            "    E.g. tree_method = \"hist\", device = \"cuda\"\n",
            "\n",
            "  warnings.warn(smsg, UserWarning)\n"
          ]
        },
        {
          "output_type": "stream",
          "name": "stdout",
          "text": [
            "[4]\ttrain-rmse:1627.79182\tvalidation-rmse:1635.70200\n",
            "[5]\ttrain-rmse:1375.53845\tvalidation-rmse:1390.77221\n",
            "[6]\ttrain-rmse:1168.90419\tvalidation-rmse:1194.43361\n",
            "[7]\ttrain-rmse:1000.34300\tvalidation-rmse:1036.50376\n",
            "[8]\ttrain-rmse:863.90446\tvalidation-rmse:911.08930\n",
            "[9]\ttrain-rmse:753.15991\tvalidation-rmse:815.40817\n",
            "[10]\ttrain-rmse:663.68561\tvalidation-rmse:740.43956\n",
            "[11]\ttrain-rmse:594.09521\tvalidation-rmse:683.32393\n",
            "[12]\ttrain-rmse:536.87422\tvalidation-rmse:642.25237\n",
            "[13]\ttrain-rmse:490.64790\tvalidation-rmse:611.90287\n",
            "[14]\ttrain-rmse:453.49511\tvalidation-rmse:591.14911\n",
            "[15]\ttrain-rmse:423.70226\tvalidation-rmse:575.82492\n",
            "[16]\ttrain-rmse:399.36363\tvalidation-rmse:564.98100\n",
            "[17]\ttrain-rmse:380.11878\tvalidation-rmse:557.10064\n",
            "[18]\ttrain-rmse:364.09269\tvalidation-rmse:552.83922\n",
            "[19]\ttrain-rmse:350.80314\tvalidation-rmse:548.60245\n",
            "[20]\ttrain-rmse:338.34780\tvalidation-rmse:546.65115\n",
            "[21]\ttrain-rmse:330.55674\tvalidation-rmse:544.63450\n",
            "[22]\ttrain-rmse:318.66562\tvalidation-rmse:543.55723\n",
            "[23]\ttrain-rmse:310.75972\tvalidation-rmse:543.19136\n",
            "[24]\ttrain-rmse:303.47471\tvalidation-rmse:542.48917\n",
            "[25]\ttrain-rmse:297.97131\tvalidation-rmse:542.13043\n",
            "[26]\ttrain-rmse:294.48306\tvalidation-rmse:541.64013\n",
            "[27]\ttrain-rmse:289.12945\tvalidation-rmse:541.09905\n",
            "[28]\ttrain-rmse:282.91894\tvalidation-rmse:541.50017\n",
            "[29]\ttrain-rmse:280.02101\tvalidation-rmse:541.01745\n",
            "[30]\ttrain-rmse:275.55753\tvalidation-rmse:540.99566\n",
            "[31]\ttrain-rmse:269.68385\tvalidation-rmse:542.12874\n",
            "[32]\ttrain-rmse:265.89064\tvalidation-rmse:542.60446\n",
            "[33]\ttrain-rmse:261.11013\tvalidation-rmse:542.97233\n",
            "[34]\ttrain-rmse:256.41970\tvalidation-rmse:543.54308\n",
            "[35]\ttrain-rmse:253.30501\tvalidation-rmse:543.69245\n",
            "[36]\ttrain-rmse:249.44217\tvalidation-rmse:543.67100\n",
            "[37]\ttrain-rmse:248.43759\tvalidation-rmse:543.56214\n",
            "[38]\ttrain-rmse:245.78416\tvalidation-rmse:543.76464\n",
            "[39]\ttrain-rmse:242.85556\tvalidation-rmse:544.03463\n",
            "[40]\ttrain-rmse:241.43125\tvalidation-rmse:543.90481\n",
            "[41]\ttrain-rmse:238.61906\tvalidation-rmse:544.09308\n",
            "[42]\ttrain-rmse:237.72111\tvalidation-rmse:544.37548\n",
            "[43]\ttrain-rmse:233.74626\tvalidation-rmse:544.93110\n",
            "[44]\ttrain-rmse:230.25379\tvalidation-rmse:544.61582\n",
            "[45]\ttrain-rmse:227.87564\tvalidation-rmse:545.07023\n",
            "[46]\ttrain-rmse:227.20537\tvalidation-rmse:544.84401\n",
            "[47]\ttrain-rmse:225.48189\tvalidation-rmse:545.33443\n",
            "[48]\ttrain-rmse:222.82337\tvalidation-rmse:546.10549\n",
            "[49]\ttrain-rmse:221.41942\tvalidation-rmse:545.84944\n",
            "[50]\ttrain-rmse:218.98825\tvalidation-rmse:546.36434\n",
            "[51]\ttrain-rmse:217.29727\tvalidation-rmse:547.02818\n",
            "[52]\ttrain-rmse:213.98348\tvalidation-rmse:547.98592\n",
            "[53]\ttrain-rmse:212.32515\tvalidation-rmse:547.98746\n",
            "[54]\ttrain-rmse:211.13874\tvalidation-rmse:547.89211\n",
            "[55]\ttrain-rmse:211.00169\tvalidation-rmse:547.87208\n",
            "[56]\ttrain-rmse:208.66930\tvalidation-rmse:548.13794\n",
            "[57]\ttrain-rmse:206.41808\tvalidation-rmse:547.99734\n",
            "[58]\ttrain-rmse:206.20718\tvalidation-rmse:548.11726\n",
            "[59]\ttrain-rmse:205.63389\tvalidation-rmse:548.10197\n",
            "[60]\ttrain-rmse:204.63097\tvalidation-rmse:548.08160\n",
            "[61]\ttrain-rmse:204.52752\tvalidation-rmse:548.06807\n",
            "[62]\ttrain-rmse:202.13686\tvalidation-rmse:548.54201\n",
            "[63]\ttrain-rmse:201.10793\tvalidation-rmse:548.49442\n",
            "[64]\ttrain-rmse:199.12050\tvalidation-rmse:548.44896\n",
            "[65]\ttrain-rmse:196.64807\tvalidation-rmse:548.70144\n",
            "[66]\ttrain-rmse:194.60231\tvalidation-rmse:548.83069\n",
            "[67]\ttrain-rmse:193.47946\tvalidation-rmse:549.00174\n",
            "[68]\ttrain-rmse:192.22879\tvalidation-rmse:549.04002\n",
            "[69]\ttrain-rmse:191.79212\tvalidation-rmse:548.97107\n",
            "[70]\ttrain-rmse:189.81845\tvalidation-rmse:549.06931\n",
            "[71]\ttrain-rmse:188.18836\tvalidation-rmse:549.56330\n",
            "[72]\ttrain-rmse:185.47791\tvalidation-rmse:549.34502\n",
            "[73]\ttrain-rmse:183.90212\tvalidation-rmse:549.32391\n",
            "[74]\ttrain-rmse:182.75059\tvalidation-rmse:549.46235\n",
            "[75]\ttrain-rmse:181.45928\tvalidation-rmse:549.46194\n",
            "[76]\ttrain-rmse:180.78622\tvalidation-rmse:549.47551\n",
            "[77]\ttrain-rmse:180.71801\tvalidation-rmse:549.46723\n",
            "[78]\ttrain-rmse:179.07598\tvalidation-rmse:549.50969\n",
            "[79]\ttrain-rmse:177.70033\tvalidation-rmse:549.64848\n"
          ]
        },
        {
          "output_type": "stream",
          "name": "stderr",
          "text": [
            "/usr/local/lib/python3.10/dist-packages/xgboost/core.py:160: UserWarning: [22:42:12] WARNING: /workspace/src/common/error_msg.cc:27: The tree method `gpu_hist` is deprecated since 2.0.0. To use GPU training, set the `device` parameter to CUDA instead.\n",
            "\n",
            "    E.g. tree_method = \"hist\", device = \"cuda\"\n",
            "\n",
            "  warnings.warn(smsg, UserWarning)\n"
          ]
        },
        {
          "output_type": "display_data",
          "data": {
            "text/plain": [
              "VBox(children=(Label(value='0.001 MB of 0.001 MB uploaded\\r'), FloatProgress(value=1.0, max=1.0)))"
            ],
            "application/vnd.jupyter.widget-view+json": {
              "version_major": 2,
              "version_minor": 0,
              "model_id": "a87e5543782f436e86d8432ba12140b7"
            }
          },
          "metadata": {}
        },
        {
          "output_type": "display_data",
          "data": {
            "text/plain": [
              "<IPython.core.display.HTML object>"
            ],
            "text/html": [
              "<style>\n",
              "    table.wandb td:nth-child(1) { padding: 0 10px; text-align: left ; width: auto;} td:nth-child(2) {text-align: left ; width: 100%}\n",
              "    .wandb-row { display: flex; flex-direction: row; flex-wrap: wrap; justify-content: flex-start; width: 100% }\n",
              "    .wandb-col { display: flex; flex-direction: column; flex-basis: 100%; flex: 1; padding: 10px; }\n",
              "    </style>\n",
              "<div class=\"wandb-row\"><div class=\"wandb-col\"><h3>Run history:</h3><br/><table class=\"wandb\"><tr><td>rmse</td><td>▁</td></tr></table><br/></div><div class=\"wandb-col\"><h3>Run summary:</h3><br/><table class=\"wandb\"><tr><td>rmse</td><td>549.5194</td></tr></table><br/></div></div>"
            ]
          },
          "metadata": {}
        },
        {
          "output_type": "display_data",
          "data": {
            "text/plain": [
              "<IPython.core.display.HTML object>"
            ],
            "text/html": [
              " View run <strong style=\"color:#cdcd00\">crimson-resonance-28</strong> at: <a href='https://wandb.ai/nsg/diamonds_price_prediction/runs/ud9g5izr' target=\"_blank\">https://wandb.ai/nsg/diamonds_price_prediction/runs/ud9g5izr</a><br/> View project at: <a href='https://wandb.ai/nsg/diamonds_price_prediction' target=\"_blank\">https://wandb.ai/nsg/diamonds_price_prediction</a><br/>Synced 5 W&B file(s), 0 media file(s), 0 artifact file(s) and 0 other file(s)"
            ]
          },
          "metadata": {}
        },
        {
          "output_type": "display_data",
          "data": {
            "text/plain": [
              "<IPython.core.display.HTML object>"
            ],
            "text/html": [
              "Find logs at: <code>./wandb/run-20240422_224208-ud9g5izr/logs</code>"
            ]
          },
          "metadata": {}
        },
        {
          "output_type": "display_data",
          "data": {
            "text/plain": [
              "<IPython.core.display.HTML object>"
            ],
            "text/html": [
              "Tracking run with wandb version 0.16.6"
            ]
          },
          "metadata": {}
        },
        {
          "output_type": "display_data",
          "data": {
            "text/plain": [
              "<IPython.core.display.HTML object>"
            ],
            "text/html": [
              "Run data is saved locally in <code>/content/wandb/run-20240422_224218-8h8fcbrc</code>"
            ]
          },
          "metadata": {}
        },
        {
          "output_type": "display_data",
          "data": {
            "text/plain": [
              "<IPython.core.display.HTML object>"
            ],
            "text/html": [
              "Syncing run <strong><a href='https://wandb.ai/nsg/diamonds_price_prediction/runs/8h8fcbrc' target=\"_blank\">ancient-armadillo-29</a></strong> to <a href='https://wandb.ai/nsg/diamonds_price_prediction' target=\"_blank\">Weights & Biases</a> (<a href='https://wandb.me/run' target=\"_blank\">docs</a>)<br/>"
            ]
          },
          "metadata": {}
        },
        {
          "output_type": "display_data",
          "data": {
            "text/plain": [
              "<IPython.core.display.HTML object>"
            ],
            "text/html": [
              " View project at <a href='https://wandb.ai/nsg/diamonds_price_prediction' target=\"_blank\">https://wandb.ai/nsg/diamonds_price_prediction</a>"
            ]
          },
          "metadata": {}
        },
        {
          "output_type": "display_data",
          "data": {
            "text/plain": [
              "<IPython.core.display.HTML object>"
            ],
            "text/html": [
              " View run at <a href='https://wandb.ai/nsg/diamonds_price_prediction/runs/8h8fcbrc' target=\"_blank\">https://wandb.ai/nsg/diamonds_price_prediction/runs/8h8fcbrc</a>"
            ]
          },
          "metadata": {}
        },
        {
          "output_type": "stream",
          "name": "stdout",
          "text": [
            "[0]\ttrain-rmse:3784.38376\tvalidation-rmse:3780.99540\n",
            "[1]\ttrain-rmse:3590.34810\tvalidation-rmse:3586.00062\n",
            "[2]\ttrain-rmse:3407.05510\tvalidation-rmse:3402.04952\n",
            "[3]\ttrain-rmse:3233.97807\tvalidation-rmse:3228.18009\n",
            "[4]\ttrain-rmse:3070.14862\tvalidation-rmse:3064.69086\n",
            "[5]\ttrain-rmse:2915.61763\tvalidation-rmse:2909.89417\n",
            "[6]\ttrain-rmse:2769.34484\tvalidation-rmse:2763.86727\n",
            "[7]\ttrain-rmse:2631.29351\tvalidation-rmse:2625.69169\n",
            "[8]\ttrain-rmse:2499.95997\tvalidation-rmse:2494.82788\n",
            "[9]\ttrain-rmse:2376.55585\tvalidation-rmse:2371.59413\n",
            "[10]\ttrain-rmse:2259.61728\tvalidation-rmse:2254.96517\n",
            "[11]\ttrain-rmse:2149.06048\tvalidation-rmse:2144.16968\n",
            "[12]\ttrain-rmse:2044.97187\tvalidation-rmse:2040.51982\n"
          ]
        },
        {
          "output_type": "stream",
          "name": "stderr",
          "text": [
            "/usr/local/lib/python3.10/dist-packages/xgboost/core.py:160: UserWarning: [22:42:20] WARNING: /workspace/src/common/error_msg.cc:27: The tree method `gpu_hist` is deprecated since 2.0.0. To use GPU training, set the `device` parameter to CUDA instead.\n",
            "\n",
            "    E.g. tree_method = \"hist\", device = \"cuda\"\n",
            "\n",
            "  warnings.warn(smsg, UserWarning)\n"
          ]
        },
        {
          "output_type": "stream",
          "name": "stdout",
          "text": [
            "[13]\ttrain-rmse:1946.32173\tvalidation-rmse:1941.90833\n",
            "[14]\ttrain-rmse:1853.72247\tvalidation-rmse:1850.01058\n",
            "[15]\ttrain-rmse:1766.19805\tvalidation-rmse:1762.85120\n",
            "[16]\ttrain-rmse:1683.61329\tvalidation-rmse:1680.72754\n",
            "[17]\ttrain-rmse:1605.84618\tvalidation-rmse:1602.78250\n",
            "[18]\ttrain-rmse:1532.62072\tvalidation-rmse:1529.74929\n",
            "[19]\ttrain-rmse:1463.43252\tvalidation-rmse:1461.00849\n",
            "[20]\ttrain-rmse:1398.25382\tvalidation-rmse:1395.91428\n",
            "[21]\ttrain-rmse:1337.27054\tvalidation-rmse:1335.29151\n",
            "[22]\ttrain-rmse:1279.64429\tvalidation-rmse:1278.52445\n",
            "[23]\ttrain-rmse:1225.41440\tvalidation-rmse:1224.99272\n",
            "[24]\ttrain-rmse:1174.62224\tvalidation-rmse:1174.83223\n",
            "[25]\ttrain-rmse:1126.49389\tvalidation-rmse:1127.50385\n",
            "[26]\ttrain-rmse:1081.72254\tvalidation-rmse:1083.47990\n",
            "[27]\ttrain-rmse:1039.55611\tvalidation-rmse:1042.31902\n",
            "[28]\ttrain-rmse:1000.27805\tvalidation-rmse:1003.67902\n",
            "[29]\ttrain-rmse:963.27748\tvalidation-rmse:967.52703\n",
            "[30]\ttrain-rmse:928.75300\tvalidation-rmse:934.06362\n",
            "[31]\ttrain-rmse:896.49488\tvalidation-rmse:902.95919\n",
            "[32]\ttrain-rmse:866.07821\tvalidation-rmse:873.55611\n",
            "[33]\ttrain-rmse:837.77003\tvalidation-rmse:846.17197\n",
            "[34]\ttrain-rmse:811.40645\tvalidation-rmse:821.09206\n",
            "[35]\ttrain-rmse:786.72320\tvalidation-rmse:797.35830\n",
            "[36]\ttrain-rmse:763.76454\tvalidation-rmse:775.78958\n",
            "[37]\ttrain-rmse:742.28760\tvalidation-rmse:755.54539\n",
            "[38]\ttrain-rmse:722.53617\tvalidation-rmse:737.17945\n",
            "[39]\ttrain-rmse:704.06951\tvalidation-rmse:719.93022\n",
            "[40]\ttrain-rmse:687.06455\tvalidation-rmse:704.23501\n",
            "[41]\ttrain-rmse:671.29785\tvalidation-rmse:689.55260\n",
            "[42]\ttrain-rmse:656.74377\tvalidation-rmse:676.34572\n",
            "[43]\ttrain-rmse:642.83524\tvalidation-rmse:663.89343\n",
            "[44]\ttrain-rmse:630.20188\tvalidation-rmse:652.53285\n",
            "[45]\ttrain-rmse:618.36494\tvalidation-rmse:641.86454\n",
            "[46]\ttrain-rmse:607.34817\tvalidation-rmse:632.30361\n",
            "[47]\ttrain-rmse:597.36389\tvalidation-rmse:623.40610\n",
            "[48]\ttrain-rmse:588.10380\tvalidation-rmse:615.71321\n",
            "[49]\ttrain-rmse:579.32528\tvalidation-rmse:608.45547\n",
            "[50]\ttrain-rmse:571.49678\tvalidation-rmse:601.97476\n",
            "[51]\ttrain-rmse:564.08184\tvalidation-rmse:595.84781\n",
            "[52]\ttrain-rmse:557.49807\tvalidation-rmse:590.31850\n",
            "[53]\ttrain-rmse:551.21523\tvalidation-rmse:585.19690\n",
            "[54]\ttrain-rmse:545.41131\tvalidation-rmse:580.68769\n",
            "[55]\ttrain-rmse:539.55036\tvalidation-rmse:576.41207\n",
            "[56]\ttrain-rmse:534.20215\tvalidation-rmse:572.40876\n",
            "[57]\ttrain-rmse:529.25979\tvalidation-rmse:568.72207\n",
            "[58]\ttrain-rmse:525.02722\tvalidation-rmse:565.59678\n",
            "[59]\ttrain-rmse:520.82015\tvalidation-rmse:562.52455\n",
            "[60]\ttrain-rmse:517.05262\tvalidation-rmse:559.79333\n",
            "[61]\ttrain-rmse:513.20579\tvalidation-rmse:557.06776\n",
            "[62]\ttrain-rmse:509.62989\tvalidation-rmse:554.71463\n",
            "[63]\ttrain-rmse:506.73773\tvalidation-rmse:552.67787\n",
            "[64]\ttrain-rmse:503.57998\tvalidation-rmse:550.38361\n",
            "[65]\ttrain-rmse:500.77321\tvalidation-rmse:548.73239\n",
            "[66]\ttrain-rmse:498.23005\tvalidation-rmse:546.87166\n",
            "[67]\ttrain-rmse:495.84972\tvalidation-rmse:545.63799\n",
            "[68]\ttrain-rmse:493.78226\tvalidation-rmse:544.09676\n",
            "[69]\ttrain-rmse:491.49643\tvalidation-rmse:542.91203\n",
            "[70]\ttrain-rmse:489.65698\tvalidation-rmse:541.58615\n",
            "[71]\ttrain-rmse:487.50959\tvalidation-rmse:540.33400\n",
            "[72]\ttrain-rmse:485.91863\tvalidation-rmse:539.35769\n",
            "[73]\ttrain-rmse:484.10900\tvalidation-rmse:538.52431\n",
            "[74]\ttrain-rmse:482.76651\tvalidation-rmse:537.52282\n",
            "[75]\ttrain-rmse:481.33926\tvalidation-rmse:536.80370\n",
            "[76]\ttrain-rmse:480.18238\tvalidation-rmse:536.16206\n",
            "[77]\ttrain-rmse:478.85161\tvalidation-rmse:535.46966\n",
            "[78]\ttrain-rmse:477.63888\tvalidation-rmse:534.84632\n",
            "[79]\ttrain-rmse:476.30608\tvalidation-rmse:534.06768\n",
            "[80]\ttrain-rmse:474.80684\tvalidation-rmse:533.43746\n",
            "[81]\ttrain-rmse:473.62368\tvalidation-rmse:533.14236\n",
            "[82]\ttrain-rmse:472.36888\tvalidation-rmse:532.66953\n",
            "[83]\ttrain-rmse:471.37063\tvalidation-rmse:532.20512\n",
            "[84]\ttrain-rmse:470.10234\tvalidation-rmse:531.64158\n",
            "[85]\ttrain-rmse:469.09407\tvalidation-rmse:531.38508\n",
            "[86]\ttrain-rmse:468.35199\tvalidation-rmse:531.02490\n",
            "[87]\ttrain-rmse:467.35221\tvalidation-rmse:530.64857\n",
            "[88]\ttrain-rmse:466.67478\tvalidation-rmse:530.37253\n",
            "[89]\ttrain-rmse:465.91982\tvalidation-rmse:529.96302\n",
            "[90]\ttrain-rmse:464.96638\tvalidation-rmse:529.72060\n",
            "[91]\ttrain-rmse:464.09055\tvalidation-rmse:529.52951\n",
            "[92]\ttrain-rmse:462.95081\tvalidation-rmse:528.93306\n",
            "[93]\ttrain-rmse:461.91419\tvalidation-rmse:528.69139\n",
            "[94]\ttrain-rmse:461.24426\tvalidation-rmse:528.39903\n",
            "[95]\ttrain-rmse:460.27335\tvalidation-rmse:528.07062\n",
            "[96]\ttrain-rmse:459.29931\tvalidation-rmse:527.81233\n",
            "[97]\ttrain-rmse:458.82078\tvalidation-rmse:527.77852\n",
            "[98]\ttrain-rmse:458.37340\tvalidation-rmse:527.70211\n",
            "[99]\ttrain-rmse:457.76076\tvalidation-rmse:527.32831\n"
          ]
        },
        {
          "output_type": "stream",
          "name": "stderr",
          "text": [
            "/usr/local/lib/python3.10/dist-packages/xgboost/core.py:160: UserWarning: [22:42:21] WARNING: /workspace/src/common/error_msg.cc:27: The tree method `gpu_hist` is deprecated since 2.0.0. To use GPU training, set the `device` parameter to CUDA instead.\n",
            "\n",
            "    E.g. tree_method = \"hist\", device = \"cuda\"\n",
            "\n",
            "  warnings.warn(smsg, UserWarning)\n"
          ]
        },
        {
          "output_type": "display_data",
          "data": {
            "text/plain": [
              "VBox(children=(Label(value='0.001 MB of 0.001 MB uploaded\\r'), FloatProgress(value=1.0, max=1.0)))"
            ],
            "application/vnd.jupyter.widget-view+json": {
              "version_major": 2,
              "version_minor": 0,
              "model_id": "f0e544d5542f4a67813bfcfc63db0e7f"
            }
          },
          "metadata": {}
        },
        {
          "output_type": "display_data",
          "data": {
            "text/plain": [
              "<IPython.core.display.HTML object>"
            ],
            "text/html": [
              "<style>\n",
              "    table.wandb td:nth-child(1) { padding: 0 10px; text-align: left ; width: auto;} td:nth-child(2) {text-align: left ; width: 100%}\n",
              "    .wandb-row { display: flex; flex-direction: row; flex-wrap: wrap; justify-content: flex-start; width: 100% }\n",
              "    .wandb-col { display: flex; flex-direction: column; flex-basis: 100%; flex: 1; padding: 10px; }\n",
              "    </style>\n",
              "<div class=\"wandb-row\"><div class=\"wandb-col\"><h3>Run history:</h3><br/><table class=\"wandb\"><tr><td>rmse</td><td>▁</td></tr></table><br/></div><div class=\"wandb-col\"><h3>Run summary:</h3><br/><table class=\"wandb\"><tr><td>rmse</td><td>527.32834</td></tr></table><br/></div></div>"
            ]
          },
          "metadata": {}
        },
        {
          "output_type": "display_data",
          "data": {
            "text/plain": [
              "<IPython.core.display.HTML object>"
            ],
            "text/html": [
              " View run <strong style=\"color:#cdcd00\">ancient-armadillo-29</strong> at: <a href='https://wandb.ai/nsg/diamonds_price_prediction/runs/8h8fcbrc' target=\"_blank\">https://wandb.ai/nsg/diamonds_price_prediction/runs/8h8fcbrc</a><br/> View project at: <a href='https://wandb.ai/nsg/diamonds_price_prediction' target=\"_blank\">https://wandb.ai/nsg/diamonds_price_prediction</a><br/>Synced 5 W&B file(s), 0 media file(s), 0 artifact file(s) and 0 other file(s)"
            ]
          },
          "metadata": {}
        },
        {
          "output_type": "display_data",
          "data": {
            "text/plain": [
              "<IPython.core.display.HTML object>"
            ],
            "text/html": [
              "Find logs at: <code>./wandb/run-20240422_224218-8h8fcbrc/logs</code>"
            ]
          },
          "metadata": {}
        }
      ]
    },
    {
      "cell_type": "markdown",
      "source": [
        "#### Hyperparameter W&B Sweeps with Bayes Method"
      ],
      "metadata": {
        "id": "ifKtN5dyAOrZ"
      }
    },
    {
      "cell_type": "code",
      "source": [
        "import wandb\n",
        "wandb.login()\n",
        "\n",
        "sweep_config = {\n",
        "    'method': 'bayes',\n",
        "    'metric': {\n",
        "        'name': 'rmse',\n",
        "        'goal': 'minimize'\n",
        "    },\n",
        "    'parameters': {\n",
        "        'max_depth': {\n",
        "            'values': [3, 6, 9, 12]\n",
        "        },\n",
        "        'learning_rate': {\n",
        "            'values': [0.01, 0.1, 0.2]\n",
        "        },\n",
        "        'n_estimators': {\n",
        "            'values': [100, 200, 300]\n",
        "        },\n",
        "        'subsample': {\n",
        "            'values': [0.8, 0.9, 1.0]\n",
        "        },\n",
        "        'colsample_bytree': {\n",
        "            'values': [0.5, 0.75, 1.0]\n",
        "        }\n",
        "    }\n",
        "}\n",
        "\n",
        "sweep_id = wandb.sweep(sweep_config, project=\"diamonds_price_prediction\")\n"
      ],
      "metadata": {
        "colab": {
          "base_uri": "https://localhost:8080/"
        },
        "id": "CE3eOf49_R5g",
        "outputId": "ef412f6a-8647-434e-816d-c8328c79ec66"
      },
      "execution_count": 29,
      "outputs": [
        {
          "output_type": "stream",
          "name": "stdout",
          "text": [
            "Create sweep with ID: yhuzk2ul\n",
            "Sweep URL: https://wandb.ai/nsg/diamonds_price_prediction/sweeps/yhuzk2ul\n"
          ]
        }
      ]
    },
    {
      "cell_type": "code",
      "source": [
        "def train():\n",
        "    wandb.init()\n",
        "\n",
        "    # Load dataset and preprocess\n",
        "    diamonds = sns.load_dataset('diamonds')\n",
        "    X = diamonds.drop('price', axis=1)\n",
        "    y = diamonds['price']\n",
        "    X['cut'] = X['cut'].astype('category')\n",
        "    X['color'] = X['color'].astype('category')\n",
        "    X['clarity'] = X['clarity'].astype('category')\n",
        "    X_train, X_test, y_train, y_test = train_test_split(X, y, test_size=0.2, random_state=42)\n",
        "    dtrain = xgb.DMatrix(X_train, label=y_train, enable_categorical=True)\n",
        "    dtest = xgb.DMatrix(X_test, label=y_test, enable_categorical=True)\n",
        "\n",
        "    # Get hyperparameters from W&B\n",
        "    config = wandb.config\n",
        "\n",
        "    params = {\n",
        "        \"objective\": \"reg:squarederror\",\n",
        "        \"tree_method\": \"gpu_hist\",\n",
        "        \"max_depth\": config.max_depth,\n",
        "        \"learning_rate\": config.learning_rate,\n",
        "        \"n_estimators\": config.n_estimators,\n",
        "        \"subsample\": config.subsample,\n",
        "        \"colsample_bytree\": config.colsample_bytree\n",
        "    }\n",
        "\n",
        "    # Train model\n",
        "    model = xgb.train(params, dtrain, num_boost_round=100)\n",
        "\n",
        "    # Predict and calculate RMSE\n",
        "    predictions = model.predict(dtest)\n",
        "    rmse = mean_squared_error(y_test, predictions, squared=False)\n",
        "\n",
        "    # Log the RMSE to W&B\n",
        "    wandb.log({\"rmse\": rmse})\n",
        "\n",
        "    wandb.finish()\n"
      ],
      "metadata": {
        "id": "ZlptxH32_SjI"
      },
      "execution_count": 30,
      "outputs": []
    },
    {
      "cell_type": "code",
      "source": [
        "wandb.agent(sweep_id, train, count=25)"
      ],
      "metadata": {
        "colab": {
          "base_uri": "https://localhost:8080/",
          "height": 1000,
          "referenced_widgets": [
            "cfc5969c8919426bb797a753381e3bac",
            "b64fc49a2f6c4c028ba81267060043aa",
            "f7f34fa0866b4a47bfd66859ff586cc2",
            "32a0fcfea7504851897a0b4475a19e85",
            "ba71ce08a53945a6beb00dc32969567d",
            "572f722ac6b94981995a3b088c206654",
            "9e363225d3714e628808958d6a67f89a",
            "e281a317ebbc407bae10885288846433",
            "ec40168df537430aa5ad5fd242a47b53",
            "32daee8d99db4ab2b69985ad259ce3f3",
            "1ab5fef0b73947b0831e6f9da7292320",
            "ef28b3a7d87a4ae4bb34b62a900bf464",
            "7baecee27be047f2a17d6cfcebafd7b7",
            "564d9de89d5a4910956c688fdf148a13",
            "6fa4b462aa2b4911b390f96f781792aa",
            "03760ab009a74a39ba5c510a0a278fb4",
            "c811d114d42747788c96ae1b3c877a79",
            "3c8af41205ba48868124b5e57d58002a",
            "0803ccc12eb24053a29876dbd39a18e3",
            "db8ed21ef3b1402ab444b31dfdb39c7c",
            "1dfeb673defd4de7bfe7b826a0235f7c",
            "442c59f6b8a14c48b954c6d38ae64584",
            "00cf472ba7ca4377a3b0e2572a286ca6",
            "10c77505e8184267a675b916ea68ee9b",
            "54db653d6a52451b863fbc5f369a393d",
            "8dcd0d519291491283cfd6312abea906",
            "7a2775b421d64501a771906ebddcbc08",
            "2648f32968fa40f6a22414659991986d",
            "b445b9b42b3a4049a1511b2210737162",
            "ed5eabe14a354a6391ae1eeb6ad0b2bc",
            "6d5f9da09bf948d6a963ffbc9b030c97",
            "85f5bed12d884ef6bba3c4a27175b4be",
            "20e43cff235e4138a0a18ce714ffda9a",
            "5bca9962209e4c53b4b367100ba5acd8",
            "bab93c4c514d46868d0c3e34739c1cb7",
            "4e8143f8f0c54cb880759f56d3150079",
            "2d869e7edad746e79326fa239bc9cbf6",
            "745a070ab8f64bafa7c48046c8a58e6b",
            "9d007714ad00425793aa470b762c7b0d",
            "9b24567021b942f48e4ec62dad89ae0c",
            "9a366eaa69504e9694beb0412ad87112",
            "01814da2c2064c6ea0258ef5a23fef0b",
            "e723f13dad3941c68f4a2fb319650576",
            "4de5b49350c14ab5b56a7d3b682a7fe5",
            "cce3f5ab84c04b74b1e356e539c6ff8f",
            "bea7c5a5b0624b3cabffe669e3172ac4",
            "0987b393fe0f4b39ab8dd6eb4c83ba2a",
            "4caa27782a3c46ad871a5139d2cf5961",
            "07e6d00cf0b24df486a95b8369295bcb",
            "7cce6cc5645644029ba43c11c359f1f5",
            "b5f92a8bb4444049825458f370fbd66e",
            "78f462a0ebe046f89b852646db02c3fa",
            "26edff0e2c5147fd994a02ae3e174497",
            "b7442e14fe8b42eeb68e7e2a9a987def",
            "964d79bfb347415d82c1baaa2e619ab0",
            "5be3d8115fe444bb8d2443cb211b1c14",
            "6d9aef83c60346b08cf22b891dbef0b9",
            "91405f75da7d48638ee0d076d049ad65",
            "ee50d9e89daf4e7bb6ff68411ed054d5",
            "e597e143094a4639a505bed2896804b1",
            "1e041e41d84f4ae0bb83c118c068079e",
            "c43a5beb2eab4e7a89b08c0affd8754a",
            "9d2afc9971314d60a7002b3b72ccf4f9",
            "9d61d403038b458aa06d1fdd0e9b7093",
            "6236c01de09546d295359b612531e2d6",
            "61873a50e42d4736bc7ab2d6428a5e4d",
            "c8f3305418af4ed4be22783ed18ed4bb",
            "bddda0f2c8ae4a22af5074174e7818c7",
            "41bd43e0921c44f2aa8d61a8491e55e0",
            "a7447f23940b4f5d8f1b2d5fee761ae9",
            "e2b47e5d190e4340a82a6164e9dd0d22",
            "df51a2725d06407291ca5064e9c0a28c",
            "6e6f01d4987447fab6ca5950a6373e13",
            "0e87656405704e5ab9c82fa081600c6f",
            "0a73937cfb8f4d07a737454deb61a06b",
            "8706d6d3bc294d96ad93b368f92581db",
            "d5c7306987474a07814b74763221ef67",
            "d962ec537d014c79977a979b83bf785a",
            "68f797ea6436420bb03fbffd9238d49d",
            "b9b2298658684348ac9e0104e0e5f744",
            "2ba44468d9664b27a8093bd1e41dca75",
            "216b391b1969419a879e4cbaf12e89c3",
            "387c2ff208d34ff8806b72446b19fd59",
            "4c4a4be4a0d94e5b9e4b539fe73ab7dd",
            "6438ebb822db4965923c72c1ba3741b5",
            "087233dad50c4d2b8e576cd193cab3b4",
            "2723ab8d45b241829eefc58400a33ae6",
            "e52ee048319043f8bcd5efd684f83005",
            "c31f78dc7aac44a195ed497181ab2bae",
            "0baa4dc3f09d45c182e47617b24ff0ee",
            "d3ee10a48c4c44f0abe64cd03bad6f45",
            "5a8d5669bca046fd9a801b5c8ebca279",
            "c262f18eb3534dfd8e499e86be1ca9d8",
            "eb0a12de19534a26a48bc96856111d1a",
            "3c58bde1de624a7b99d976ce6b4cf3ad",
            "3e6d3f9f892248769da6c2f18447fde9",
            "c0f7a21c84704700bc47244549653810",
            "e34385a6a15b4cad912a158befabc1e0",
            "0b23b677102f46e081055d11ec73a364",
            "793e6bf3442a4e46b9742c3ad2331f8c",
            "bbe6d86d27294911aa60d4d798e1851a",
            "56b7902a34fc4a65b06cd80b20f3794d",
            "5b309fd24aab4c0dbe0c8f08e48c18b4",
            "7730540532d742c0a8082377d985f53c",
            "bc55cce558714274b0b38cf868a1e9d2",
            "0126e4c0747543d1bd3e916ee962f915",
            "4a907817c6c44779bdd4ff357fa0a29e",
            "e694eff69cc8442db8e044a5d5f1e99b",
            "d379324daba8465193c0f7aa7548d521",
            "3d70544d588e462d8e54dc45d6d1d956",
            "4756e56b20de4ccda292a0115d66b979",
            "5ca593f2456041509aeb44f088ae3c2e",
            "691e931eb4d14784a8f69c650fbc5bf6",
            "7468613c55ae430fa9c634d2382eaf04",
            "cb845ff044c64c1f9cef67b91433d418",
            "273d3e4a181744628efb15295415fe7f",
            "2f9aaf79c9784a56a525e5fb89052a34",
            "5efbf52d365c47c8862872b06d9e901d",
            "1c5dc0df60734c2188c87af3b13a82cb",
            "280131557db74c13be9dc841c6835ac2",
            "8acc6a94467d42b29a37fc235be56a86",
            "7e36756aecaf41a69f7897dc60e373b6",
            "6f2d2dd217254620910b9db1ff626d7c",
            "7621709dee0b41cb8ded56324bd2d043",
            "fc42d1f7fe9b45d499266425d5176bbf",
            "78f71d872fae4f2a87033655603afc18",
            "ff5604fad0eb4cb3addf5a29fda86f74",
            "c3d0e8ef495745acb1ee6791958afc57",
            "93d709971f1741e99ed7fc0ed61db432",
            "291277b032484d2ebfbede7f3ce56680",
            "6eef7c9056264f11a726543e472b438e",
            "aaaf6989beab491a94ac6e37c8f56026",
            "1b8c551b9c884de1a1aac426746b7c4d",
            "092acf2de3a54edc817b88702abb89df",
            "7e0222feeba14ee58e34c9b754ac6e0a",
            "56217303851e40e1ae0cc4bbc16b9b99",
            "56bd883c16074e73bf5e44f8c61ea8d4",
            "27f6f501a3fe493bac1618ff7fd9c7a5",
            "d36a9cf03c444d48ae08bf9986230e41",
            "314dd5a5e98349c99bb291f5f7e54ee6",
            "137a2869b95f412682b90ceb89dafab0",
            "f786b38f47804efc8db15fd9245a0b4c",
            "024a0a34069d468b927d34da5d6ffbdb",
            "6476cf05684f4244b379a2cbb337acd4",
            "0bfee7b9bb8f4367ab435e1f416544b9",
            "a46792ed525f4276b2a4ef27216c70ae",
            "2ae752f8d0844413a5cea1bb1d140a83",
            "023940553f7148598761e6c9e9e459a9",
            "37d159a07e4e439685c12b5673794c5d",
            "567f744f49444fe88c92d5d38f080d9f",
            "0863ac94427d45dd8c0a67d78dc03a59",
            "1f28ce5e0fcf41e3a0ecad8377dd382b",
            "7f16514df609449eb041e20b165927cb",
            "06ef0bcd0f5145468dab6435150d4e7e",
            "825640263e1e478292211b90ff4e8d42",
            "40768a3c75114b4fa87badc24c291c76",
            "205286014bc24bcfb023227c22148169",
            "a07bd6fa8e5f47ca8b2ee829c1924e8d",
            "7d4290ce03a34f11919b46e40fe001c7",
            "ca02118593594820beb253ec8f219ffd",
            "b23a6c8cd02947c2974d1bd6be20e8cf",
            "91fc6d32202548cfbd8ba508b0d1bc1a",
            "63e4e136e2224d86b91bfe63f92eafb7",
            "2d74c2d09ea54d17b92cb3f15020a815",
            "8e035e7fa18a48828e90605fba8104c5",
            "dbc021da603049659fd239467d201e3e",
            "f6bde1e7f25a45a5b9989cbd0ace08c7",
            "79b7915bc3834616ad51f32014669d34",
            "8402138b16064dcd8165bdb7cb1d54e5",
            "6011f582f321435e94a13fdaced66c69",
            "6853fd7ef03842b280f0821b166fb858",
            "7f4ef26d6f274962b8978c115637183d",
            "bf55e60a36a940f7b9a57b593f72549d",
            "c5f61aaee81c4c94be2ac2668c773e44",
            "b10c1fab63fe4ec8a3055e6fc9b2d380",
            "929d0748d7b74cd79d75ca356bfb8237",
            "b1527bc8943d44e29359dd70e9cb2a09",
            "d80d68c602334b6fa5270684a824fcfc",
            "3b66569bedf748a391350d0bd4eb8878",
            "d7d3886819f74880877c55567f3202b2",
            "7fb632ae65374f559dd975b95eb1ae20",
            "da7a57a7c6e444799f7d6dc84ec43745",
            "6659c794e134467ca76bb481dfaf5feb",
            "109fce05ef844275b3504e0cc2853d93",
            "a08a0a2128b4481c9fd55c724427eefc",
            "d2e2c24bc89a4f30b6ea7cf9948d1aad",
            "5ad3e02cf7a847578598181d0d93858c",
            "68c7e27c311a4dfea95e28b7ec7d4a90",
            "899d0c899d02491e89e5a7719a3eb642",
            "6a9565a7833240cfa3d0660797c838a4",
            "ecc51c63ba694169a84e65a249ffef97",
            "dc8bc3684bde427bb9cf090747b46f04",
            "56e68050e839482b857ff558715117f7",
            "4684ebef33a6421c9e50b1cad7ccd3db",
            "5b4eca2e54d840bf9bb3c22099a28dce",
            "7e4b830a3eb94c9b9f65b58520452bbf",
            "8f2c8b120717415c85814bc3989d25e6",
            "a317efebb1054a869e85edb383dc7944",
            "6aafdbaa7c5d4b43bf9707eb7b786864",
            "d02c13f2a57648a0aa459ecee429be24",
            "cc9e7a1762624eed8e0fc2f1ca8ef062",
            "d96a16232eac4253ac78259171148c28",
            "23478f5a290643c08524d86357f9ab02",
            "a0311fadf1224a98b22369a93855563a",
            "9e8ac04317fb41e98e9e6de01bd18fcf",
            "0e7d767911b2496aadcb6008ac47e92a",
            "ffdd29173df84d21a7ceb78cac50ef20",
            "6c66b77743ef40c98a3b406087609a9d"
          ]
        },
        "id": "fUsfNJKN_SmZ",
        "outputId": "c304453e-8f0e-4bf0-9122-738075e39463"
      },
      "execution_count": 32,
      "outputs": [
        {
          "output_type": "stream",
          "name": "stderr",
          "text": [
            "\u001b[34m\u001b[1mwandb\u001b[0m: Agent Starting Run: qd8lopzs with config:\n",
            "\u001b[34m\u001b[1mwandb\u001b[0m: \tcolsample_bytree: 0.75\n",
            "\u001b[34m\u001b[1mwandb\u001b[0m: \tlearning_rate: 0.01\n",
            "\u001b[34m\u001b[1mwandb\u001b[0m: \tmax_depth: 12\n",
            "\u001b[34m\u001b[1mwandb\u001b[0m: \tn_estimators: 200\n",
            "\u001b[34m\u001b[1mwandb\u001b[0m: \tsubsample: 0.8\n"
          ]
        },
        {
          "output_type": "display_data",
          "data": {
            "text/plain": [
              "<IPython.core.display.HTML object>"
            ],
            "text/html": [
              "Tracking run with wandb version 0.16.6"
            ]
          },
          "metadata": {}
        },
        {
          "output_type": "display_data",
          "data": {
            "text/plain": [
              "<IPython.core.display.HTML object>"
            ],
            "text/html": [
              "Run data is saved locally in <code>/content/wandb/run-20240422_224702-qd8lopzs</code>"
            ]
          },
          "metadata": {}
        },
        {
          "output_type": "display_data",
          "data": {
            "text/plain": [
              "<IPython.core.display.HTML object>"
            ],
            "text/html": [
              "Syncing run <strong><a href='https://wandb.ai/nsg/diamonds_price_prediction/runs/qd8lopzs' target=\"_blank\">vague-sweep-1</a></strong> to <a href='https://wandb.ai/nsg/diamonds_price_prediction' target=\"_blank\">Weights & Biases</a> (<a href='https://wandb.me/run' target=\"_blank\">docs</a>)<br/>Sweep page: <a href='https://wandb.ai/nsg/diamonds_price_prediction/sweeps/yhuzk2ul' target=\"_blank\">https://wandb.ai/nsg/diamonds_price_prediction/sweeps/yhuzk2ul</a>"
            ]
          },
          "metadata": {}
        },
        {
          "output_type": "display_data",
          "data": {
            "text/plain": [
              "<IPython.core.display.HTML object>"
            ],
            "text/html": [
              " View project at <a href='https://wandb.ai/nsg/diamonds_price_prediction' target=\"_blank\">https://wandb.ai/nsg/diamonds_price_prediction</a>"
            ]
          },
          "metadata": {}
        },
        {
          "output_type": "display_data",
          "data": {
            "text/plain": [
              "<IPython.core.display.HTML object>"
            ],
            "text/html": [
              " View sweep at <a href='https://wandb.ai/nsg/diamonds_price_prediction/sweeps/yhuzk2ul' target=\"_blank\">https://wandb.ai/nsg/diamonds_price_prediction/sweeps/yhuzk2ul</a>"
            ]
          },
          "metadata": {}
        },
        {
          "output_type": "display_data",
          "data": {
            "text/plain": [
              "<IPython.core.display.HTML object>"
            ],
            "text/html": [
              " View run at <a href='https://wandb.ai/nsg/diamonds_price_prediction/runs/qd8lopzs' target=\"_blank\">https://wandb.ai/nsg/diamonds_price_prediction/runs/qd8lopzs</a>"
            ]
          },
          "metadata": {}
        },
        {
          "output_type": "display_data",
          "data": {
            "text/plain": [
              "VBox(children=(Label(value='0.010 MB of 0.010 MB uploaded\\r'), FloatProgress(value=0.929006453958731, max=1.0)…"
            ],
            "application/vnd.jupyter.widget-view+json": {
              "version_major": 2,
              "version_minor": 0,
              "model_id": "cfc5969c8919426bb797a753381e3bac"
            }
          },
          "metadata": {}
        },
        {
          "output_type": "display_data",
          "data": {
            "text/plain": [
              "<IPython.core.display.HTML object>"
            ],
            "text/html": [
              "<style>\n",
              "    table.wandb td:nth-child(1) { padding: 0 10px; text-align: left ; width: auto;} td:nth-child(2) {text-align: left ; width: 100%}\n",
              "    .wandb-row { display: flex; flex-direction: row; flex-wrap: wrap; justify-content: flex-start; width: 100% }\n",
              "    .wandb-col { display: flex; flex-direction: column; flex-basis: 100%; flex: 1; padding: 10px; }\n",
              "    </style>\n",
              "<div class=\"wandb-row\"><div class=\"wandb-col\"><h3>Run history:</h3><br/><table class=\"wandb\"><tr><td>rmse</td><td>▁</td></tr></table><br/></div><div class=\"wandb-col\"><h3>Run summary:</h3><br/><table class=\"wandb\"><tr><td>rmse</td><td>1623.08621</td></tr></table><br/></div></div>"
            ]
          },
          "metadata": {}
        },
        {
          "output_type": "display_data",
          "data": {
            "text/plain": [
              "<IPython.core.display.HTML object>"
            ],
            "text/html": [
              " View run <strong style=\"color:#cdcd00\">vague-sweep-1</strong> at: <a href='https://wandb.ai/nsg/diamonds_price_prediction/runs/qd8lopzs' target=\"_blank\">https://wandb.ai/nsg/diamonds_price_prediction/runs/qd8lopzs</a><br/> View project at: <a href='https://wandb.ai/nsg/diamonds_price_prediction' target=\"_blank\">https://wandb.ai/nsg/diamonds_price_prediction</a><br/>Synced 4 W&B file(s), 0 media file(s), 0 artifact file(s) and 0 other file(s)"
            ]
          },
          "metadata": {}
        },
        {
          "output_type": "display_data",
          "data": {
            "text/plain": [
              "<IPython.core.display.HTML object>"
            ],
            "text/html": [
              "Find logs at: <code>./wandb/run-20240422_224702-qd8lopzs/logs</code>"
            ]
          },
          "metadata": {}
        },
        {
          "output_type": "stream",
          "name": "stderr",
          "text": [
            "\u001b[34m\u001b[1mwandb\u001b[0m: Agent Starting Run: rvazewkj with config:\n",
            "\u001b[34m\u001b[1mwandb\u001b[0m: \tcolsample_bytree: 1\n",
            "\u001b[34m\u001b[1mwandb\u001b[0m: \tlearning_rate: 0.1\n",
            "\u001b[34m\u001b[1mwandb\u001b[0m: \tmax_depth: 3\n",
            "\u001b[34m\u001b[1mwandb\u001b[0m: \tn_estimators: 200\n",
            "\u001b[34m\u001b[1mwandb\u001b[0m: \tsubsample: 0.9\n"
          ]
        },
        {
          "output_type": "display_data",
          "data": {
            "text/plain": [
              "<IPython.core.display.HTML object>"
            ],
            "text/html": [
              "Tracking run with wandb version 0.16.6"
            ]
          },
          "metadata": {}
        },
        {
          "output_type": "display_data",
          "data": {
            "text/plain": [
              "<IPython.core.display.HTML object>"
            ],
            "text/html": [
              "Run data is saved locally in <code>/content/wandb/run-20240422_224718-rvazewkj</code>"
            ]
          },
          "metadata": {}
        },
        {
          "output_type": "display_data",
          "data": {
            "text/plain": [
              "<IPython.core.display.HTML object>"
            ],
            "text/html": [
              "Syncing run <strong><a href='https://wandb.ai/nsg/diamonds_price_prediction/runs/rvazewkj' target=\"_blank\">misunderstood-sweep-2</a></strong> to <a href='https://wandb.ai/nsg/diamonds_price_prediction' target=\"_blank\">Weights & Biases</a> (<a href='https://wandb.me/run' target=\"_blank\">docs</a>)<br/>Sweep page: <a href='https://wandb.ai/nsg/diamonds_price_prediction/sweeps/yhuzk2ul' target=\"_blank\">https://wandb.ai/nsg/diamonds_price_prediction/sweeps/yhuzk2ul</a>"
            ]
          },
          "metadata": {}
        },
        {
          "output_type": "display_data",
          "data": {
            "text/plain": [
              "<IPython.core.display.HTML object>"
            ],
            "text/html": [
              " View project at <a href='https://wandb.ai/nsg/diamonds_price_prediction' target=\"_blank\">https://wandb.ai/nsg/diamonds_price_prediction</a>"
            ]
          },
          "metadata": {}
        },
        {
          "output_type": "display_data",
          "data": {
            "text/plain": [
              "<IPython.core.display.HTML object>"
            ],
            "text/html": [
              " View sweep at <a href='https://wandb.ai/nsg/diamonds_price_prediction/sweeps/yhuzk2ul' target=\"_blank\">https://wandb.ai/nsg/diamonds_price_prediction/sweeps/yhuzk2ul</a>"
            ]
          },
          "metadata": {}
        },
        {
          "output_type": "display_data",
          "data": {
            "text/plain": [
              "<IPython.core.display.HTML object>"
            ],
            "text/html": [
              " View run at <a href='https://wandb.ai/nsg/diamonds_price_prediction/runs/rvazewkj' target=\"_blank\">https://wandb.ai/nsg/diamonds_price_prediction/runs/rvazewkj</a>"
            ]
          },
          "metadata": {}
        },
        {
          "output_type": "display_data",
          "data": {
            "text/plain": [
              "VBox(children=(Label(value='0.010 MB of 0.010 MB uploaded\\r'), FloatProgress(value=1.0, max=1.0)))"
            ],
            "application/vnd.jupyter.widget-view+json": {
              "version_major": 2,
              "version_minor": 0,
              "model_id": "ec40168df537430aa5ad5fd242a47b53"
            }
          },
          "metadata": {}
        },
        {
          "output_type": "display_data",
          "data": {
            "text/plain": [
              "<IPython.core.display.HTML object>"
            ],
            "text/html": [
              "<style>\n",
              "    table.wandb td:nth-child(1) { padding: 0 10px; text-align: left ; width: auto;} td:nth-child(2) {text-align: left ; width: 100%}\n",
              "    .wandb-row { display: flex; flex-direction: row; flex-wrap: wrap; justify-content: flex-start; width: 100% }\n",
              "    .wandb-col { display: flex; flex-direction: column; flex-basis: 100%; flex: 1; padding: 10px; }\n",
              "    </style>\n",
              "<div class=\"wandb-row\"><div class=\"wandb-col\"><h3>Run history:</h3><br/><table class=\"wandb\"><tr><td>rmse</td><td>▁</td></tr></table><br/></div><div class=\"wandb-col\"><h3>Run summary:</h3><br/><table class=\"wandb\"><tr><td>rmse</td><td>612.80815</td></tr></table><br/></div></div>"
            ]
          },
          "metadata": {}
        },
        {
          "output_type": "display_data",
          "data": {
            "text/plain": [
              "<IPython.core.display.HTML object>"
            ],
            "text/html": [
              " View run <strong style=\"color:#cdcd00\">misunderstood-sweep-2</strong> at: <a href='https://wandb.ai/nsg/diamonds_price_prediction/runs/rvazewkj' target=\"_blank\">https://wandb.ai/nsg/diamonds_price_prediction/runs/rvazewkj</a><br/> View project at: <a href='https://wandb.ai/nsg/diamonds_price_prediction' target=\"_blank\">https://wandb.ai/nsg/diamonds_price_prediction</a><br/>Synced 4 W&B file(s), 0 media file(s), 0 artifact file(s) and 0 other file(s)"
            ]
          },
          "metadata": {}
        },
        {
          "output_type": "display_data",
          "data": {
            "text/plain": [
              "<IPython.core.display.HTML object>"
            ],
            "text/html": [
              "Find logs at: <code>./wandb/run-20240422_224718-rvazewkj/logs</code>"
            ]
          },
          "metadata": {}
        },
        {
          "output_type": "stream",
          "name": "stderr",
          "text": [
            "\u001b[34m\u001b[1mwandb\u001b[0m: Agent Starting Run: 6qkxk4l5 with config:\n",
            "\u001b[34m\u001b[1mwandb\u001b[0m: \tcolsample_bytree: 0.5\n",
            "\u001b[34m\u001b[1mwandb\u001b[0m: \tlearning_rate: 0.2\n",
            "\u001b[34m\u001b[1mwandb\u001b[0m: \tmax_depth: 9\n",
            "\u001b[34m\u001b[1mwandb\u001b[0m: \tn_estimators: 300\n",
            "\u001b[34m\u001b[1mwandb\u001b[0m: \tsubsample: 0.9\n"
          ]
        },
        {
          "output_type": "display_data",
          "data": {
            "text/plain": [
              "<IPython.core.display.HTML object>"
            ],
            "text/html": [
              "Tracking run with wandb version 0.16.6"
            ]
          },
          "metadata": {}
        },
        {
          "output_type": "display_data",
          "data": {
            "text/plain": [
              "<IPython.core.display.HTML object>"
            ],
            "text/html": [
              "Run data is saved locally in <code>/content/wandb/run-20240422_224727-6qkxk4l5</code>"
            ]
          },
          "metadata": {}
        },
        {
          "output_type": "display_data",
          "data": {
            "text/plain": [
              "<IPython.core.display.HTML object>"
            ],
            "text/html": [
              "Syncing run <strong><a href='https://wandb.ai/nsg/diamonds_price_prediction/runs/6qkxk4l5' target=\"_blank\">worldly-sweep-3</a></strong> to <a href='https://wandb.ai/nsg/diamonds_price_prediction' target=\"_blank\">Weights & Biases</a> (<a href='https://wandb.me/run' target=\"_blank\">docs</a>)<br/>Sweep page: <a href='https://wandb.ai/nsg/diamonds_price_prediction/sweeps/yhuzk2ul' target=\"_blank\">https://wandb.ai/nsg/diamonds_price_prediction/sweeps/yhuzk2ul</a>"
            ]
          },
          "metadata": {}
        },
        {
          "output_type": "display_data",
          "data": {
            "text/plain": [
              "<IPython.core.display.HTML object>"
            ],
            "text/html": [
              " View project at <a href='https://wandb.ai/nsg/diamonds_price_prediction' target=\"_blank\">https://wandb.ai/nsg/diamonds_price_prediction</a>"
            ]
          },
          "metadata": {}
        },
        {
          "output_type": "display_data",
          "data": {
            "text/plain": [
              "<IPython.core.display.HTML object>"
            ],
            "text/html": [
              " View sweep at <a href='https://wandb.ai/nsg/diamonds_price_prediction/sweeps/yhuzk2ul' target=\"_blank\">https://wandb.ai/nsg/diamonds_price_prediction/sweeps/yhuzk2ul</a>"
            ]
          },
          "metadata": {}
        },
        {
          "output_type": "display_data",
          "data": {
            "text/plain": [
              "<IPython.core.display.HTML object>"
            ],
            "text/html": [
              " View run at <a href='https://wandb.ai/nsg/diamonds_price_prediction/runs/6qkxk4l5' target=\"_blank\">https://wandb.ai/nsg/diamonds_price_prediction/runs/6qkxk4l5</a>"
            ]
          },
          "metadata": {}
        },
        {
          "output_type": "display_data",
          "data": {
            "text/plain": [
              "VBox(children=(Label(value='0.001 MB of 0.010 MB uploaded\\r'), FloatProgress(value=0.11229749631811488, max=1.…"
            ],
            "application/vnd.jupyter.widget-view+json": {
              "version_major": 2,
              "version_minor": 0,
              "model_id": "c811d114d42747788c96ae1b3c877a79"
            }
          },
          "metadata": {}
        },
        {
          "output_type": "display_data",
          "data": {
            "text/plain": [
              "<IPython.core.display.HTML object>"
            ],
            "text/html": [
              "<style>\n",
              "    table.wandb td:nth-child(1) { padding: 0 10px; text-align: left ; width: auto;} td:nth-child(2) {text-align: left ; width: 100%}\n",
              "    .wandb-row { display: flex; flex-direction: row; flex-wrap: wrap; justify-content: flex-start; width: 100% }\n",
              "    .wandb-col { display: flex; flex-direction: column; flex-basis: 100%; flex: 1; padding: 10px; }\n",
              "    </style>\n",
              "<div class=\"wandb-row\"><div class=\"wandb-col\"><h3>Run history:</h3><br/><table class=\"wandb\"><tr><td>rmse</td><td>▁</td></tr></table><br/></div><div class=\"wandb-col\"><h3>Run summary:</h3><br/><table class=\"wandb\"><tr><td>rmse</td><td>605.06089</td></tr></table><br/></div></div>"
            ]
          },
          "metadata": {}
        },
        {
          "output_type": "display_data",
          "data": {
            "text/plain": [
              "<IPython.core.display.HTML object>"
            ],
            "text/html": [
              " View run <strong style=\"color:#cdcd00\">worldly-sweep-3</strong> at: <a href='https://wandb.ai/nsg/diamonds_price_prediction/runs/6qkxk4l5' target=\"_blank\">https://wandb.ai/nsg/diamonds_price_prediction/runs/6qkxk4l5</a><br/> View project at: <a href='https://wandb.ai/nsg/diamonds_price_prediction' target=\"_blank\">https://wandb.ai/nsg/diamonds_price_prediction</a><br/>Synced 4 W&B file(s), 0 media file(s), 0 artifact file(s) and 0 other file(s)"
            ]
          },
          "metadata": {}
        },
        {
          "output_type": "display_data",
          "data": {
            "text/plain": [
              "<IPython.core.display.HTML object>"
            ],
            "text/html": [
              "Find logs at: <code>./wandb/run-20240422_224727-6qkxk4l5/logs</code>"
            ]
          },
          "metadata": {}
        },
        {
          "output_type": "stream",
          "name": "stderr",
          "text": [
            "\u001b[34m\u001b[1mwandb\u001b[0m: Agent Starting Run: 8zcrpt27 with config:\n",
            "\u001b[34m\u001b[1mwandb\u001b[0m: \tcolsample_bytree: 0.5\n",
            "\u001b[34m\u001b[1mwandb\u001b[0m: \tlearning_rate: 0.2\n",
            "\u001b[34m\u001b[1mwandb\u001b[0m: \tmax_depth: 6\n",
            "\u001b[34m\u001b[1mwandb\u001b[0m: \tn_estimators: 200\n",
            "\u001b[34m\u001b[1mwandb\u001b[0m: \tsubsample: 1\n"
          ]
        },
        {
          "output_type": "display_data",
          "data": {
            "text/plain": [
              "<IPython.core.display.HTML object>"
            ],
            "text/html": [
              "Tracking run with wandb version 0.16.6"
            ]
          },
          "metadata": {}
        },
        {
          "output_type": "display_data",
          "data": {
            "text/plain": [
              "<IPython.core.display.HTML object>"
            ],
            "text/html": [
              "Run data is saved locally in <code>/content/wandb/run-20240422_224744-8zcrpt27</code>"
            ]
          },
          "metadata": {}
        },
        {
          "output_type": "display_data",
          "data": {
            "text/plain": [
              "<IPython.core.display.HTML object>"
            ],
            "text/html": [
              "Syncing run <strong><a href='https://wandb.ai/nsg/diamonds_price_prediction/runs/8zcrpt27' target=\"_blank\">drawn-sweep-4</a></strong> to <a href='https://wandb.ai/nsg/diamonds_price_prediction' target=\"_blank\">Weights & Biases</a> (<a href='https://wandb.me/run' target=\"_blank\">docs</a>)<br/>Sweep page: <a href='https://wandb.ai/nsg/diamonds_price_prediction/sweeps/yhuzk2ul' target=\"_blank\">https://wandb.ai/nsg/diamonds_price_prediction/sweeps/yhuzk2ul</a>"
            ]
          },
          "metadata": {}
        },
        {
          "output_type": "display_data",
          "data": {
            "text/plain": [
              "<IPython.core.display.HTML object>"
            ],
            "text/html": [
              " View project at <a href='https://wandb.ai/nsg/diamonds_price_prediction' target=\"_blank\">https://wandb.ai/nsg/diamonds_price_prediction</a>"
            ]
          },
          "metadata": {}
        },
        {
          "output_type": "display_data",
          "data": {
            "text/plain": [
              "<IPython.core.display.HTML object>"
            ],
            "text/html": [
              " View sweep at <a href='https://wandb.ai/nsg/diamonds_price_prediction/sweeps/yhuzk2ul' target=\"_blank\">https://wandb.ai/nsg/diamonds_price_prediction/sweeps/yhuzk2ul</a>"
            ]
          },
          "metadata": {}
        },
        {
          "output_type": "display_data",
          "data": {
            "text/plain": [
              "<IPython.core.display.HTML object>"
            ],
            "text/html": [
              " View run at <a href='https://wandb.ai/nsg/diamonds_price_prediction/runs/8zcrpt27' target=\"_blank\">https://wandb.ai/nsg/diamonds_price_prediction/runs/8zcrpt27</a>"
            ]
          },
          "metadata": {}
        },
        {
          "output_type": "display_data",
          "data": {
            "text/plain": [
              "VBox(children=(Label(value='0.010 MB of 0.010 MB uploaded\\r'), FloatProgress(value=1.0, max=1.0)))"
            ],
            "application/vnd.jupyter.widget-view+json": {
              "version_major": 2,
              "version_minor": 0,
              "model_id": "54db653d6a52451b863fbc5f369a393d"
            }
          },
          "metadata": {}
        },
        {
          "output_type": "display_data",
          "data": {
            "text/plain": [
              "<IPython.core.display.HTML object>"
            ],
            "text/html": [
              "<style>\n",
              "    table.wandb td:nth-child(1) { padding: 0 10px; text-align: left ; width: auto;} td:nth-child(2) {text-align: left ; width: 100%}\n",
              "    .wandb-row { display: flex; flex-direction: row; flex-wrap: wrap; justify-content: flex-start; width: 100% }\n",
              "    .wandb-col { display: flex; flex-direction: column; flex-basis: 100%; flex: 1; padding: 10px; }\n",
              "    </style>\n",
              "<div class=\"wandb-row\"><div class=\"wandb-col\"><h3>Run history:</h3><br/><table class=\"wandb\"><tr><td>rmse</td><td>▁</td></tr></table><br/></div><div class=\"wandb-col\"><h3>Run summary:</h3><br/><table class=\"wandb\"><tr><td>rmse</td><td>546.71962</td></tr></table><br/></div></div>"
            ]
          },
          "metadata": {}
        },
        {
          "output_type": "display_data",
          "data": {
            "text/plain": [
              "<IPython.core.display.HTML object>"
            ],
            "text/html": [
              " View run <strong style=\"color:#cdcd00\">drawn-sweep-4</strong> at: <a href='https://wandb.ai/nsg/diamonds_price_prediction/runs/8zcrpt27' target=\"_blank\">https://wandb.ai/nsg/diamonds_price_prediction/runs/8zcrpt27</a><br/> View project at: <a href='https://wandb.ai/nsg/diamonds_price_prediction' target=\"_blank\">https://wandb.ai/nsg/diamonds_price_prediction</a><br/>Synced 4 W&B file(s), 0 media file(s), 0 artifact file(s) and 0 other file(s)"
            ]
          },
          "metadata": {}
        },
        {
          "output_type": "display_data",
          "data": {
            "text/plain": [
              "<IPython.core.display.HTML object>"
            ],
            "text/html": [
              "Find logs at: <code>./wandb/run-20240422_224744-8zcrpt27/logs</code>"
            ]
          },
          "metadata": {}
        },
        {
          "output_type": "stream",
          "name": "stderr",
          "text": [
            "\u001b[34m\u001b[1mwandb\u001b[0m: Agent Starting Run: 908b7zly with config:\n",
            "\u001b[34m\u001b[1mwandb\u001b[0m: \tcolsample_bytree: 0.75\n",
            "\u001b[34m\u001b[1mwandb\u001b[0m: \tlearning_rate: 0.2\n",
            "\u001b[34m\u001b[1mwandb\u001b[0m: \tmax_depth: 6\n",
            "\u001b[34m\u001b[1mwandb\u001b[0m: \tn_estimators: 300\n",
            "\u001b[34m\u001b[1mwandb\u001b[0m: \tsubsample: 1\n"
          ]
        },
        {
          "output_type": "display_data",
          "data": {
            "text/plain": [
              "<IPython.core.display.HTML object>"
            ],
            "text/html": [
              "Tracking run with wandb version 0.16.6"
            ]
          },
          "metadata": {}
        },
        {
          "output_type": "display_data",
          "data": {
            "text/plain": [
              "<IPython.core.display.HTML object>"
            ],
            "text/html": [
              "Run data is saved locally in <code>/content/wandb/run-20240422_224754-908b7zly</code>"
            ]
          },
          "metadata": {}
        },
        {
          "output_type": "display_data",
          "data": {
            "text/plain": [
              "<IPython.core.display.HTML object>"
            ],
            "text/html": [
              "Syncing run <strong><a href='https://wandb.ai/nsg/diamonds_price_prediction/runs/908b7zly' target=\"_blank\">peachy-sweep-5</a></strong> to <a href='https://wandb.ai/nsg/diamonds_price_prediction' target=\"_blank\">Weights & Biases</a> (<a href='https://wandb.me/run' target=\"_blank\">docs</a>)<br/>Sweep page: <a href='https://wandb.ai/nsg/diamonds_price_prediction/sweeps/yhuzk2ul' target=\"_blank\">https://wandb.ai/nsg/diamonds_price_prediction/sweeps/yhuzk2ul</a>"
            ]
          },
          "metadata": {}
        },
        {
          "output_type": "display_data",
          "data": {
            "text/plain": [
              "<IPython.core.display.HTML object>"
            ],
            "text/html": [
              " View project at <a href='https://wandb.ai/nsg/diamonds_price_prediction' target=\"_blank\">https://wandb.ai/nsg/diamonds_price_prediction</a>"
            ]
          },
          "metadata": {}
        },
        {
          "output_type": "display_data",
          "data": {
            "text/plain": [
              "<IPython.core.display.HTML object>"
            ],
            "text/html": [
              " View sweep at <a href='https://wandb.ai/nsg/diamonds_price_prediction/sweeps/yhuzk2ul' target=\"_blank\">https://wandb.ai/nsg/diamonds_price_prediction/sweeps/yhuzk2ul</a>"
            ]
          },
          "metadata": {}
        },
        {
          "output_type": "display_data",
          "data": {
            "text/plain": [
              "<IPython.core.display.HTML object>"
            ],
            "text/html": [
              " View run at <a href='https://wandb.ai/nsg/diamonds_price_prediction/runs/908b7zly' target=\"_blank\">https://wandb.ai/nsg/diamonds_price_prediction/runs/908b7zly</a>"
            ]
          },
          "metadata": {}
        },
        {
          "output_type": "display_data",
          "data": {
            "text/plain": [
              "VBox(children=(Label(value='0.010 MB of 0.010 MB uploaded\\r'), FloatProgress(value=1.0, max=1.0)))"
            ],
            "application/vnd.jupyter.widget-view+json": {
              "version_major": 2,
              "version_minor": 0,
              "model_id": "20e43cff235e4138a0a18ce714ffda9a"
            }
          },
          "metadata": {}
        },
        {
          "output_type": "display_data",
          "data": {
            "text/plain": [
              "<IPython.core.display.HTML object>"
            ],
            "text/html": [
              "<style>\n",
              "    table.wandb td:nth-child(1) { padding: 0 10px; text-align: left ; width: auto;} td:nth-child(2) {text-align: left ; width: 100%}\n",
              "    .wandb-row { display: flex; flex-direction: row; flex-wrap: wrap; justify-content: flex-start; width: 100% }\n",
              "    .wandb-col { display: flex; flex-direction: column; flex-basis: 100%; flex: 1; padding: 10px; }\n",
              "    </style>\n",
              "<div class=\"wandb-row\"><div class=\"wandb-col\"><h3>Run history:</h3><br/><table class=\"wandb\"><tr><td>rmse</td><td>▁</td></tr></table><br/></div><div class=\"wandb-col\"><h3>Run summary:</h3><br/><table class=\"wandb\"><tr><td>rmse</td><td>529.78454</td></tr></table><br/></div></div>"
            ]
          },
          "metadata": {}
        },
        {
          "output_type": "display_data",
          "data": {
            "text/plain": [
              "<IPython.core.display.HTML object>"
            ],
            "text/html": [
              " View run <strong style=\"color:#cdcd00\">peachy-sweep-5</strong> at: <a href='https://wandb.ai/nsg/diamonds_price_prediction/runs/908b7zly' target=\"_blank\">https://wandb.ai/nsg/diamonds_price_prediction/runs/908b7zly</a><br/> View project at: <a href='https://wandb.ai/nsg/diamonds_price_prediction' target=\"_blank\">https://wandb.ai/nsg/diamonds_price_prediction</a><br/>Synced 4 W&B file(s), 0 media file(s), 0 artifact file(s) and 0 other file(s)"
            ]
          },
          "metadata": {}
        },
        {
          "output_type": "display_data",
          "data": {
            "text/plain": [
              "<IPython.core.display.HTML object>"
            ],
            "text/html": [
              "Find logs at: <code>./wandb/run-20240422_224754-908b7zly/logs</code>"
            ]
          },
          "metadata": {}
        },
        {
          "output_type": "stream",
          "name": "stderr",
          "text": [
            "\u001b[34m\u001b[1mwandb\u001b[0m: Agent Starting Run: 99by3d1h with config:\n",
            "\u001b[34m\u001b[1mwandb\u001b[0m: \tcolsample_bytree: 0.75\n",
            "\u001b[34m\u001b[1mwandb\u001b[0m: \tlearning_rate: 0.2\n",
            "\u001b[34m\u001b[1mwandb\u001b[0m: \tmax_depth: 3\n",
            "\u001b[34m\u001b[1mwandb\u001b[0m: \tn_estimators: 200\n",
            "\u001b[34m\u001b[1mwandb\u001b[0m: \tsubsample: 1\n"
          ]
        },
        {
          "output_type": "display_data",
          "data": {
            "text/plain": [
              "<IPython.core.display.HTML object>"
            ],
            "text/html": [
              "Tracking run with wandb version 0.16.6"
            ]
          },
          "metadata": {}
        },
        {
          "output_type": "display_data",
          "data": {
            "text/plain": [
              "<IPython.core.display.HTML object>"
            ],
            "text/html": [
              "Run data is saved locally in <code>/content/wandb/run-20240422_224805-99by3d1h</code>"
            ]
          },
          "metadata": {}
        },
        {
          "output_type": "display_data",
          "data": {
            "text/plain": [
              "<IPython.core.display.HTML object>"
            ],
            "text/html": [
              "Syncing run <strong><a href='https://wandb.ai/nsg/diamonds_price_prediction/runs/99by3d1h' target=\"_blank\">sandy-sweep-6</a></strong> to <a href='https://wandb.ai/nsg/diamonds_price_prediction' target=\"_blank\">Weights & Biases</a> (<a href='https://wandb.me/run' target=\"_blank\">docs</a>)<br/>Sweep page: <a href='https://wandb.ai/nsg/diamonds_price_prediction/sweeps/yhuzk2ul' target=\"_blank\">https://wandb.ai/nsg/diamonds_price_prediction/sweeps/yhuzk2ul</a>"
            ]
          },
          "metadata": {}
        },
        {
          "output_type": "display_data",
          "data": {
            "text/plain": [
              "<IPython.core.display.HTML object>"
            ],
            "text/html": [
              " View project at <a href='https://wandb.ai/nsg/diamonds_price_prediction' target=\"_blank\">https://wandb.ai/nsg/diamonds_price_prediction</a>"
            ]
          },
          "metadata": {}
        },
        {
          "output_type": "display_data",
          "data": {
            "text/plain": [
              "<IPython.core.display.HTML object>"
            ],
            "text/html": [
              " View sweep at <a href='https://wandb.ai/nsg/diamonds_price_prediction/sweeps/yhuzk2ul' target=\"_blank\">https://wandb.ai/nsg/diamonds_price_prediction/sweeps/yhuzk2ul</a>"
            ]
          },
          "metadata": {}
        },
        {
          "output_type": "display_data",
          "data": {
            "text/plain": [
              "<IPython.core.display.HTML object>"
            ],
            "text/html": [
              " View run at <a href='https://wandb.ai/nsg/diamonds_price_prediction/runs/99by3d1h' target=\"_blank\">https://wandb.ai/nsg/diamonds_price_prediction/runs/99by3d1h</a>"
            ]
          },
          "metadata": {}
        },
        {
          "output_type": "display_data",
          "data": {
            "text/plain": [
              "VBox(children=(Label(value='0.010 MB of 0.010 MB uploaded\\r'), FloatProgress(value=1.0, max=1.0)))"
            ],
            "application/vnd.jupyter.widget-view+json": {
              "version_major": 2,
              "version_minor": 0,
              "model_id": "9a366eaa69504e9694beb0412ad87112"
            }
          },
          "metadata": {}
        },
        {
          "output_type": "display_data",
          "data": {
            "text/plain": [
              "<IPython.core.display.HTML object>"
            ],
            "text/html": [
              "<style>\n",
              "    table.wandb td:nth-child(1) { padding: 0 10px; text-align: left ; width: auto;} td:nth-child(2) {text-align: left ; width: 100%}\n",
              "    .wandb-row { display: flex; flex-direction: row; flex-wrap: wrap; justify-content: flex-start; width: 100% }\n",
              "    .wandb-col { display: flex; flex-direction: column; flex-basis: 100%; flex: 1; padding: 10px; }\n",
              "    </style>\n",
              "<div class=\"wandb-row\"><div class=\"wandb-col\"><h3>Run history:</h3><br/><table class=\"wandb\"><tr><td>rmse</td><td>▁</td></tr></table><br/></div><div class=\"wandb-col\"><h3>Run summary:</h3><br/><table class=\"wandb\"><tr><td>rmse</td><td>578.58018</td></tr></table><br/></div></div>"
            ]
          },
          "metadata": {}
        },
        {
          "output_type": "display_data",
          "data": {
            "text/plain": [
              "<IPython.core.display.HTML object>"
            ],
            "text/html": [
              " View run <strong style=\"color:#cdcd00\">sandy-sweep-6</strong> at: <a href='https://wandb.ai/nsg/diamonds_price_prediction/runs/99by3d1h' target=\"_blank\">https://wandb.ai/nsg/diamonds_price_prediction/runs/99by3d1h</a><br/> View project at: <a href='https://wandb.ai/nsg/diamonds_price_prediction' target=\"_blank\">https://wandb.ai/nsg/diamonds_price_prediction</a><br/>Synced 4 W&B file(s), 0 media file(s), 0 artifact file(s) and 0 other file(s)"
            ]
          },
          "metadata": {}
        },
        {
          "output_type": "display_data",
          "data": {
            "text/plain": [
              "<IPython.core.display.HTML object>"
            ],
            "text/html": [
              "Find logs at: <code>./wandb/run-20240422_224805-99by3d1h/logs</code>"
            ]
          },
          "metadata": {}
        },
        {
          "output_type": "stream",
          "name": "stderr",
          "text": [
            "\u001b[34m\u001b[1mwandb\u001b[0m: Agent Starting Run: btslqcay with config:\n",
            "\u001b[34m\u001b[1mwandb\u001b[0m: \tcolsample_bytree: 1\n",
            "\u001b[34m\u001b[1mwandb\u001b[0m: \tlearning_rate: 0.2\n",
            "\u001b[34m\u001b[1mwandb\u001b[0m: \tmax_depth: 3\n",
            "\u001b[34m\u001b[1mwandb\u001b[0m: \tn_estimators: 300\n",
            "\u001b[34m\u001b[1mwandb\u001b[0m: \tsubsample: 1\n"
          ]
        },
        {
          "output_type": "display_data",
          "data": {
            "text/plain": [
              "<IPython.core.display.HTML object>"
            ],
            "text/html": [
              "Tracking run with wandb version 0.16.6"
            ]
          },
          "metadata": {}
        },
        {
          "output_type": "display_data",
          "data": {
            "text/plain": [
              "<IPython.core.display.HTML object>"
            ],
            "text/html": [
              "Run data is saved locally in <code>/content/wandb/run-20240422_224816-btslqcay</code>"
            ]
          },
          "metadata": {}
        },
        {
          "output_type": "display_data",
          "data": {
            "text/plain": [
              "<IPython.core.display.HTML object>"
            ],
            "text/html": [
              "Syncing run <strong><a href='https://wandb.ai/nsg/diamonds_price_prediction/runs/btslqcay' target=\"_blank\">earnest-sweep-7</a></strong> to <a href='https://wandb.ai/nsg/diamonds_price_prediction' target=\"_blank\">Weights & Biases</a> (<a href='https://wandb.me/run' target=\"_blank\">docs</a>)<br/>Sweep page: <a href='https://wandb.ai/nsg/diamonds_price_prediction/sweeps/yhuzk2ul' target=\"_blank\">https://wandb.ai/nsg/diamonds_price_prediction/sweeps/yhuzk2ul</a>"
            ]
          },
          "metadata": {}
        },
        {
          "output_type": "display_data",
          "data": {
            "text/plain": [
              "<IPython.core.display.HTML object>"
            ],
            "text/html": [
              " View project at <a href='https://wandb.ai/nsg/diamonds_price_prediction' target=\"_blank\">https://wandb.ai/nsg/diamonds_price_prediction</a>"
            ]
          },
          "metadata": {}
        },
        {
          "output_type": "display_data",
          "data": {
            "text/plain": [
              "<IPython.core.display.HTML object>"
            ],
            "text/html": [
              " View sweep at <a href='https://wandb.ai/nsg/diamonds_price_prediction/sweeps/yhuzk2ul' target=\"_blank\">https://wandb.ai/nsg/diamonds_price_prediction/sweeps/yhuzk2ul</a>"
            ]
          },
          "metadata": {}
        },
        {
          "output_type": "display_data",
          "data": {
            "text/plain": [
              "<IPython.core.display.HTML object>"
            ],
            "text/html": [
              " View run at <a href='https://wandb.ai/nsg/diamonds_price_prediction/runs/btslqcay' target=\"_blank\">https://wandb.ai/nsg/diamonds_price_prediction/runs/btslqcay</a>"
            ]
          },
          "metadata": {}
        },
        {
          "output_type": "display_data",
          "data": {
            "text/plain": [
              "VBox(children=(Label(value='0.001 MB of 0.010 MB uploaded\\r'), FloatProgress(value=0.11132332878581173, max=1.…"
            ],
            "application/vnd.jupyter.widget-view+json": {
              "version_major": 2,
              "version_minor": 0,
              "model_id": "07e6d00cf0b24df486a95b8369295bcb"
            }
          },
          "metadata": {}
        },
        {
          "output_type": "display_data",
          "data": {
            "text/plain": [
              "<IPython.core.display.HTML object>"
            ],
            "text/html": [
              "<style>\n",
              "    table.wandb td:nth-child(1) { padding: 0 10px; text-align: left ; width: auto;} td:nth-child(2) {text-align: left ; width: 100%}\n",
              "    .wandb-row { display: flex; flex-direction: row; flex-wrap: wrap; justify-content: flex-start; width: 100% }\n",
              "    .wandb-col { display: flex; flex-direction: column; flex-basis: 100%; flex: 1; padding: 10px; }\n",
              "    </style>\n",
              "<div class=\"wandb-row\"><div class=\"wandb-col\"><h3>Run history:</h3><br/><table class=\"wandb\"><tr><td>rmse</td><td>▁</td></tr></table><br/></div><div class=\"wandb-col\"><h3>Run summary:</h3><br/><table class=\"wandb\"><tr><td>rmse</td><td>581.45812</td></tr></table><br/></div></div>"
            ]
          },
          "metadata": {}
        },
        {
          "output_type": "display_data",
          "data": {
            "text/plain": [
              "<IPython.core.display.HTML object>"
            ],
            "text/html": [
              " View run <strong style=\"color:#cdcd00\">earnest-sweep-7</strong> at: <a href='https://wandb.ai/nsg/diamonds_price_prediction/runs/btslqcay' target=\"_blank\">https://wandb.ai/nsg/diamonds_price_prediction/runs/btslqcay</a><br/> View project at: <a href='https://wandb.ai/nsg/diamonds_price_prediction' target=\"_blank\">https://wandb.ai/nsg/diamonds_price_prediction</a><br/>Synced 4 W&B file(s), 0 media file(s), 0 artifact file(s) and 0 other file(s)"
            ]
          },
          "metadata": {}
        },
        {
          "output_type": "display_data",
          "data": {
            "text/plain": [
              "<IPython.core.display.HTML object>"
            ],
            "text/html": [
              "Find logs at: <code>./wandb/run-20240422_224816-btslqcay/logs</code>"
            ]
          },
          "metadata": {}
        },
        {
          "output_type": "stream",
          "name": "stderr",
          "text": [
            "\u001b[34m\u001b[1mwandb\u001b[0m: Agent Starting Run: u9xbtfmn with config:\n",
            "\u001b[34m\u001b[1mwandb\u001b[0m: \tcolsample_bytree: 0.5\n",
            "\u001b[34m\u001b[1mwandb\u001b[0m: \tlearning_rate: 0.2\n",
            "\u001b[34m\u001b[1mwandb\u001b[0m: \tmax_depth: 3\n",
            "\u001b[34m\u001b[1mwandb\u001b[0m: \tn_estimators: 300\n",
            "\u001b[34m\u001b[1mwandb\u001b[0m: \tsubsample: 1\n"
          ]
        },
        {
          "output_type": "display_data",
          "data": {
            "text/plain": [
              "<IPython.core.display.HTML object>"
            ],
            "text/html": [
              "Tracking run with wandb version 0.16.6"
            ]
          },
          "metadata": {}
        },
        {
          "output_type": "display_data",
          "data": {
            "text/plain": [
              "<IPython.core.display.HTML object>"
            ],
            "text/html": [
              "Run data is saved locally in <code>/content/wandb/run-20240422_224827-u9xbtfmn</code>"
            ]
          },
          "metadata": {}
        },
        {
          "output_type": "display_data",
          "data": {
            "text/plain": [
              "<IPython.core.display.HTML object>"
            ],
            "text/html": [
              "Syncing run <strong><a href='https://wandb.ai/nsg/diamonds_price_prediction/runs/u9xbtfmn' target=\"_blank\">zany-sweep-8</a></strong> to <a href='https://wandb.ai/nsg/diamonds_price_prediction' target=\"_blank\">Weights & Biases</a> (<a href='https://wandb.me/run' target=\"_blank\">docs</a>)<br/>Sweep page: <a href='https://wandb.ai/nsg/diamonds_price_prediction/sweeps/yhuzk2ul' target=\"_blank\">https://wandb.ai/nsg/diamonds_price_prediction/sweeps/yhuzk2ul</a>"
            ]
          },
          "metadata": {}
        },
        {
          "output_type": "display_data",
          "data": {
            "text/plain": [
              "<IPython.core.display.HTML object>"
            ],
            "text/html": [
              " View project at <a href='https://wandb.ai/nsg/diamonds_price_prediction' target=\"_blank\">https://wandb.ai/nsg/diamonds_price_prediction</a>"
            ]
          },
          "metadata": {}
        },
        {
          "output_type": "display_data",
          "data": {
            "text/plain": [
              "<IPython.core.display.HTML object>"
            ],
            "text/html": [
              " View sweep at <a href='https://wandb.ai/nsg/diamonds_price_prediction/sweeps/yhuzk2ul' target=\"_blank\">https://wandb.ai/nsg/diamonds_price_prediction/sweeps/yhuzk2ul</a>"
            ]
          },
          "metadata": {}
        },
        {
          "output_type": "display_data",
          "data": {
            "text/plain": [
              "<IPython.core.display.HTML object>"
            ],
            "text/html": [
              " View run at <a href='https://wandb.ai/nsg/diamonds_price_prediction/runs/u9xbtfmn' target=\"_blank\">https://wandb.ai/nsg/diamonds_price_prediction/runs/u9xbtfmn</a>"
            ]
          },
          "metadata": {}
        },
        {
          "output_type": "display_data",
          "data": {
            "text/plain": [
              "VBox(children=(Label(value='0.001 MB of 0.010 MB uploaded\\r'), FloatProgress(value=0.11130308265890697, max=1.…"
            ],
            "application/vnd.jupyter.widget-view+json": {
              "version_major": 2,
              "version_minor": 0,
              "model_id": "6d9aef83c60346b08cf22b891dbef0b9"
            }
          },
          "metadata": {}
        },
        {
          "output_type": "display_data",
          "data": {
            "text/plain": [
              "<IPython.core.display.HTML object>"
            ],
            "text/html": [
              "<style>\n",
              "    table.wandb td:nth-child(1) { padding: 0 10px; text-align: left ; width: auto;} td:nth-child(2) {text-align: left ; width: 100%}\n",
              "    .wandb-row { display: flex; flex-direction: row; flex-wrap: wrap; justify-content: flex-start; width: 100% }\n",
              "    .wandb-col { display: flex; flex-direction: column; flex-basis: 100%; flex: 1; padding: 10px; }\n",
              "    </style>\n",
              "<div class=\"wandb-row\"><div class=\"wandb-col\"><h3>Run history:</h3><br/><table class=\"wandb\"><tr><td>rmse</td><td>▁</td></tr></table><br/></div><div class=\"wandb-col\"><h3>Run summary:</h3><br/><table class=\"wandb\"><tr><td>rmse</td><td>609.72705</td></tr></table><br/></div></div>"
            ]
          },
          "metadata": {}
        },
        {
          "output_type": "display_data",
          "data": {
            "text/plain": [
              "<IPython.core.display.HTML object>"
            ],
            "text/html": [
              " View run <strong style=\"color:#cdcd00\">zany-sweep-8</strong> at: <a href='https://wandb.ai/nsg/diamonds_price_prediction/runs/u9xbtfmn' target=\"_blank\">https://wandb.ai/nsg/diamonds_price_prediction/runs/u9xbtfmn</a><br/> View project at: <a href='https://wandb.ai/nsg/diamonds_price_prediction' target=\"_blank\">https://wandb.ai/nsg/diamonds_price_prediction</a><br/>Synced 4 W&B file(s), 0 media file(s), 0 artifact file(s) and 0 other file(s)"
            ]
          },
          "metadata": {}
        },
        {
          "output_type": "display_data",
          "data": {
            "text/plain": [
              "<IPython.core.display.HTML object>"
            ],
            "text/html": [
              "Find logs at: <code>./wandb/run-20240422_224827-u9xbtfmn/logs</code>"
            ]
          },
          "metadata": {}
        },
        {
          "output_type": "stream",
          "name": "stderr",
          "text": [
            "\u001b[34m\u001b[1mwandb\u001b[0m: Agent Starting Run: 8vuugzcr with config:\n",
            "\u001b[34m\u001b[1mwandb\u001b[0m: \tcolsample_bytree: 1\n",
            "\u001b[34m\u001b[1mwandb\u001b[0m: \tlearning_rate: 0.2\n",
            "\u001b[34m\u001b[1mwandb\u001b[0m: \tmax_depth: 3\n",
            "\u001b[34m\u001b[1mwandb\u001b[0m: \tn_estimators: 100\n",
            "\u001b[34m\u001b[1mwandb\u001b[0m: \tsubsample: 0.9\n"
          ]
        },
        {
          "output_type": "display_data",
          "data": {
            "text/plain": [
              "<IPython.core.display.HTML object>"
            ],
            "text/html": [
              "Tracking run with wandb version 0.16.6"
            ]
          },
          "metadata": {}
        },
        {
          "output_type": "display_data",
          "data": {
            "text/plain": [
              "<IPython.core.display.HTML object>"
            ],
            "text/html": [
              "Run data is saved locally in <code>/content/wandb/run-20240422_224837-8vuugzcr</code>"
            ]
          },
          "metadata": {}
        },
        {
          "output_type": "display_data",
          "data": {
            "text/plain": [
              "<IPython.core.display.HTML object>"
            ],
            "text/html": [
              "Syncing run <strong><a href='https://wandb.ai/nsg/diamonds_price_prediction/runs/8vuugzcr' target=\"_blank\">polar-sweep-9</a></strong> to <a href='https://wandb.ai/nsg/diamonds_price_prediction' target=\"_blank\">Weights & Biases</a> (<a href='https://wandb.me/run' target=\"_blank\">docs</a>)<br/>Sweep page: <a href='https://wandb.ai/nsg/diamonds_price_prediction/sweeps/yhuzk2ul' target=\"_blank\">https://wandb.ai/nsg/diamonds_price_prediction/sweeps/yhuzk2ul</a>"
            ]
          },
          "metadata": {}
        },
        {
          "output_type": "display_data",
          "data": {
            "text/plain": [
              "<IPython.core.display.HTML object>"
            ],
            "text/html": [
              " View project at <a href='https://wandb.ai/nsg/diamonds_price_prediction' target=\"_blank\">https://wandb.ai/nsg/diamonds_price_prediction</a>"
            ]
          },
          "metadata": {}
        },
        {
          "output_type": "display_data",
          "data": {
            "text/plain": [
              "<IPython.core.display.HTML object>"
            ],
            "text/html": [
              " View sweep at <a href='https://wandb.ai/nsg/diamonds_price_prediction/sweeps/yhuzk2ul' target=\"_blank\">https://wandb.ai/nsg/diamonds_price_prediction/sweeps/yhuzk2ul</a>"
            ]
          },
          "metadata": {}
        },
        {
          "output_type": "display_data",
          "data": {
            "text/plain": [
              "<IPython.core.display.HTML object>"
            ],
            "text/html": [
              " View run at <a href='https://wandb.ai/nsg/diamonds_price_prediction/runs/8vuugzcr' target=\"_blank\">https://wandb.ai/nsg/diamonds_price_prediction/runs/8vuugzcr</a>"
            ]
          },
          "metadata": {}
        },
        {
          "output_type": "display_data",
          "data": {
            "text/plain": [
              "VBox(children=(Label(value='0.001 MB of 0.010 MB uploaded\\r'), FloatProgress(value=0.11123237835379718, max=1.…"
            ],
            "application/vnd.jupyter.widget-view+json": {
              "version_major": 2,
              "version_minor": 0,
              "model_id": "6236c01de09546d295359b612531e2d6"
            }
          },
          "metadata": {}
        },
        {
          "output_type": "display_data",
          "data": {
            "text/plain": [
              "<IPython.core.display.HTML object>"
            ],
            "text/html": [
              "<style>\n",
              "    table.wandb td:nth-child(1) { padding: 0 10px; text-align: left ; width: auto;} td:nth-child(2) {text-align: left ; width: 100%}\n",
              "    .wandb-row { display: flex; flex-direction: row; flex-wrap: wrap; justify-content: flex-start; width: 100% }\n",
              "    .wandb-col { display: flex; flex-direction: column; flex-basis: 100%; flex: 1; padding: 10px; }\n",
              "    </style>\n",
              "<div class=\"wandb-row\"><div class=\"wandb-col\"><h3>Run history:</h3><br/><table class=\"wandb\"><tr><td>rmse</td><td>▁</td></tr></table><br/></div><div class=\"wandb-col\"><h3>Run summary:</h3><br/><table class=\"wandb\"><tr><td>rmse</td><td>587.47154</td></tr></table><br/></div></div>"
            ]
          },
          "metadata": {}
        },
        {
          "output_type": "display_data",
          "data": {
            "text/plain": [
              "<IPython.core.display.HTML object>"
            ],
            "text/html": [
              " View run <strong style=\"color:#cdcd00\">polar-sweep-9</strong> at: <a href='https://wandb.ai/nsg/diamonds_price_prediction/runs/8vuugzcr' target=\"_blank\">https://wandb.ai/nsg/diamonds_price_prediction/runs/8vuugzcr</a><br/> View project at: <a href='https://wandb.ai/nsg/diamonds_price_prediction' target=\"_blank\">https://wandb.ai/nsg/diamonds_price_prediction</a><br/>Synced 4 W&B file(s), 0 media file(s), 0 artifact file(s) and 0 other file(s)"
            ]
          },
          "metadata": {}
        },
        {
          "output_type": "display_data",
          "data": {
            "text/plain": [
              "<IPython.core.display.HTML object>"
            ],
            "text/html": [
              "Find logs at: <code>./wandb/run-20240422_224837-8vuugzcr/logs</code>"
            ]
          },
          "metadata": {}
        },
        {
          "output_type": "stream",
          "name": "stderr",
          "text": [
            "\u001b[34m\u001b[1mwandb\u001b[0m: Agent Starting Run: 21gdf9uq with config:\n",
            "\u001b[34m\u001b[1mwandb\u001b[0m: \tcolsample_bytree: 0.5\n",
            "\u001b[34m\u001b[1mwandb\u001b[0m: \tlearning_rate: 0.2\n",
            "\u001b[34m\u001b[1mwandb\u001b[0m: \tmax_depth: 3\n",
            "\u001b[34m\u001b[1mwandb\u001b[0m: \tn_estimators: 100\n",
            "\u001b[34m\u001b[1mwandb\u001b[0m: \tsubsample: 1\n"
          ]
        },
        {
          "output_type": "display_data",
          "data": {
            "text/plain": [
              "<IPython.core.display.HTML object>"
            ],
            "text/html": [
              "Tracking run with wandb version 0.16.6"
            ]
          },
          "metadata": {}
        },
        {
          "output_type": "display_data",
          "data": {
            "text/plain": [
              "<IPython.core.display.HTML object>"
            ],
            "text/html": [
              "Run data is saved locally in <code>/content/wandb/run-20240422_224849-21gdf9uq</code>"
            ]
          },
          "metadata": {}
        },
        {
          "output_type": "display_data",
          "data": {
            "text/plain": [
              "<IPython.core.display.HTML object>"
            ],
            "text/html": [
              "Syncing run <strong><a href='https://wandb.ai/nsg/diamonds_price_prediction/runs/21gdf9uq' target=\"_blank\">morning-sweep-10</a></strong> to <a href='https://wandb.ai/nsg/diamonds_price_prediction' target=\"_blank\">Weights & Biases</a> (<a href='https://wandb.me/run' target=\"_blank\">docs</a>)<br/>Sweep page: <a href='https://wandb.ai/nsg/diamonds_price_prediction/sweeps/yhuzk2ul' target=\"_blank\">https://wandb.ai/nsg/diamonds_price_prediction/sweeps/yhuzk2ul</a>"
            ]
          },
          "metadata": {}
        },
        {
          "output_type": "display_data",
          "data": {
            "text/plain": [
              "<IPython.core.display.HTML object>"
            ],
            "text/html": [
              " View project at <a href='https://wandb.ai/nsg/diamonds_price_prediction' target=\"_blank\">https://wandb.ai/nsg/diamonds_price_prediction</a>"
            ]
          },
          "metadata": {}
        },
        {
          "output_type": "display_data",
          "data": {
            "text/plain": [
              "<IPython.core.display.HTML object>"
            ],
            "text/html": [
              " View sweep at <a href='https://wandb.ai/nsg/diamonds_price_prediction/sweeps/yhuzk2ul' target=\"_blank\">https://wandb.ai/nsg/diamonds_price_prediction/sweeps/yhuzk2ul</a>"
            ]
          },
          "metadata": {}
        },
        {
          "output_type": "display_data",
          "data": {
            "text/plain": [
              "<IPython.core.display.HTML object>"
            ],
            "text/html": [
              " View run at <a href='https://wandb.ai/nsg/diamonds_price_prediction/runs/21gdf9uq' target=\"_blank\">https://wandb.ai/nsg/diamonds_price_prediction/runs/21gdf9uq</a>"
            ]
          },
          "metadata": {}
        },
        {
          "output_type": "display_data",
          "data": {
            "text/plain": [
              "VBox(children=(Label(value='0.010 MB of 0.010 MB uploaded\\r'), FloatProgress(value=1.0, max=1.0)))"
            ],
            "application/vnd.jupyter.widget-view+json": {
              "version_major": 2,
              "version_minor": 0,
              "model_id": "6e6f01d4987447fab6ca5950a6373e13"
            }
          },
          "metadata": {}
        },
        {
          "output_type": "display_data",
          "data": {
            "text/plain": [
              "<IPython.core.display.HTML object>"
            ],
            "text/html": [
              "<style>\n",
              "    table.wandb td:nth-child(1) { padding: 0 10px; text-align: left ; width: auto;} td:nth-child(2) {text-align: left ; width: 100%}\n",
              "    .wandb-row { display: flex; flex-direction: row; flex-wrap: wrap; justify-content: flex-start; width: 100% }\n",
              "    .wandb-col { display: flex; flex-direction: column; flex-basis: 100%; flex: 1; padding: 10px; }\n",
              "    </style>\n",
              "<div class=\"wandb-row\"><div class=\"wandb-col\"><h3>Run history:</h3><br/><table class=\"wandb\"><tr><td>rmse</td><td>▁</td></tr></table><br/></div><div class=\"wandb-col\"><h3>Run summary:</h3><br/><table class=\"wandb\"><tr><td>rmse</td><td>609.72705</td></tr></table><br/></div></div>"
            ]
          },
          "metadata": {}
        },
        {
          "output_type": "display_data",
          "data": {
            "text/plain": [
              "<IPython.core.display.HTML object>"
            ],
            "text/html": [
              " View run <strong style=\"color:#cdcd00\">morning-sweep-10</strong> at: <a href='https://wandb.ai/nsg/diamonds_price_prediction/runs/21gdf9uq' target=\"_blank\">https://wandb.ai/nsg/diamonds_price_prediction/runs/21gdf9uq</a><br/> View project at: <a href='https://wandb.ai/nsg/diamonds_price_prediction' target=\"_blank\">https://wandb.ai/nsg/diamonds_price_prediction</a><br/>Synced 4 W&B file(s), 0 media file(s), 0 artifact file(s) and 0 other file(s)"
            ]
          },
          "metadata": {}
        },
        {
          "output_type": "display_data",
          "data": {
            "text/plain": [
              "<IPython.core.display.HTML object>"
            ],
            "text/html": [
              "Find logs at: <code>./wandb/run-20240422_224849-21gdf9uq/logs</code>"
            ]
          },
          "metadata": {}
        },
        {
          "output_type": "stream",
          "name": "stderr",
          "text": [
            "\u001b[34m\u001b[1mwandb\u001b[0m: Agent Starting Run: o5t4ielu with config:\n",
            "\u001b[34m\u001b[1mwandb\u001b[0m: \tcolsample_bytree: 1\n",
            "\u001b[34m\u001b[1mwandb\u001b[0m: \tlearning_rate: 0.1\n",
            "\u001b[34m\u001b[1mwandb\u001b[0m: \tmax_depth: 3\n",
            "\u001b[34m\u001b[1mwandb\u001b[0m: \tn_estimators: 100\n",
            "\u001b[34m\u001b[1mwandb\u001b[0m: \tsubsample: 1\n"
          ]
        },
        {
          "output_type": "display_data",
          "data": {
            "text/plain": [
              "<IPython.core.display.HTML object>"
            ],
            "text/html": [
              "Tracking run with wandb version 0.16.6"
            ]
          },
          "metadata": {}
        },
        {
          "output_type": "display_data",
          "data": {
            "text/plain": [
              "<IPython.core.display.HTML object>"
            ],
            "text/html": [
              "Run data is saved locally in <code>/content/wandb/run-20240422_224859-o5t4ielu</code>"
            ]
          },
          "metadata": {}
        },
        {
          "output_type": "display_data",
          "data": {
            "text/plain": [
              "<IPython.core.display.HTML object>"
            ],
            "text/html": [
              "Syncing run <strong><a href='https://wandb.ai/nsg/diamonds_price_prediction/runs/o5t4ielu' target=\"_blank\">zesty-sweep-11</a></strong> to <a href='https://wandb.ai/nsg/diamonds_price_prediction' target=\"_blank\">Weights & Biases</a> (<a href='https://wandb.me/run' target=\"_blank\">docs</a>)<br/>Sweep page: <a href='https://wandb.ai/nsg/diamonds_price_prediction/sweeps/yhuzk2ul' target=\"_blank\">https://wandb.ai/nsg/diamonds_price_prediction/sweeps/yhuzk2ul</a>"
            ]
          },
          "metadata": {}
        },
        {
          "output_type": "display_data",
          "data": {
            "text/plain": [
              "<IPython.core.display.HTML object>"
            ],
            "text/html": [
              " View project at <a href='https://wandb.ai/nsg/diamonds_price_prediction' target=\"_blank\">https://wandb.ai/nsg/diamonds_price_prediction</a>"
            ]
          },
          "metadata": {}
        },
        {
          "output_type": "display_data",
          "data": {
            "text/plain": [
              "<IPython.core.display.HTML object>"
            ],
            "text/html": [
              " View sweep at <a href='https://wandb.ai/nsg/diamonds_price_prediction/sweeps/yhuzk2ul' target=\"_blank\">https://wandb.ai/nsg/diamonds_price_prediction/sweeps/yhuzk2ul</a>"
            ]
          },
          "metadata": {}
        },
        {
          "output_type": "display_data",
          "data": {
            "text/plain": [
              "<IPython.core.display.HTML object>"
            ],
            "text/html": [
              " View run at <a href='https://wandb.ai/nsg/diamonds_price_prediction/runs/o5t4ielu' target=\"_blank\">https://wandb.ai/nsg/diamonds_price_prediction/runs/o5t4ielu</a>"
            ]
          },
          "metadata": {}
        },
        {
          "output_type": "display_data",
          "data": {
            "text/plain": [
              "VBox(children=(Label(value='0.010 MB of 0.010 MB uploaded\\r'), FloatProgress(value=1.0, max=1.0)))"
            ],
            "application/vnd.jupyter.widget-view+json": {
              "version_major": 2,
              "version_minor": 0,
              "model_id": "2ba44468d9664b27a8093bd1e41dca75"
            }
          },
          "metadata": {}
        },
        {
          "output_type": "display_data",
          "data": {
            "text/plain": [
              "<IPython.core.display.HTML object>"
            ],
            "text/html": [
              "<style>\n",
              "    table.wandb td:nth-child(1) { padding: 0 10px; text-align: left ; width: auto;} td:nth-child(2) {text-align: left ; width: 100%}\n",
              "    .wandb-row { display: flex; flex-direction: row; flex-wrap: wrap; justify-content: flex-start; width: 100% }\n",
              "    .wandb-col { display: flex; flex-direction: column; flex-basis: 100%; flex: 1; padding: 10px; }\n",
              "    </style>\n",
              "<div class=\"wandb-row\"><div class=\"wandb-col\"><h3>Run history:</h3><br/><table class=\"wandb\"><tr><td>rmse</td><td>▁</td></tr></table><br/></div><div class=\"wandb-col\"><h3>Run summary:</h3><br/><table class=\"wandb\"><tr><td>rmse</td><td>610.32823</td></tr></table><br/></div></div>"
            ]
          },
          "metadata": {}
        },
        {
          "output_type": "display_data",
          "data": {
            "text/plain": [
              "<IPython.core.display.HTML object>"
            ],
            "text/html": [
              " View run <strong style=\"color:#cdcd00\">zesty-sweep-11</strong> at: <a href='https://wandb.ai/nsg/diamonds_price_prediction/runs/o5t4ielu' target=\"_blank\">https://wandb.ai/nsg/diamonds_price_prediction/runs/o5t4ielu</a><br/> View project at: <a href='https://wandb.ai/nsg/diamonds_price_prediction' target=\"_blank\">https://wandb.ai/nsg/diamonds_price_prediction</a><br/>Synced 4 W&B file(s), 0 media file(s), 0 artifact file(s) and 0 other file(s)"
            ]
          },
          "metadata": {}
        },
        {
          "output_type": "display_data",
          "data": {
            "text/plain": [
              "<IPython.core.display.HTML object>"
            ],
            "text/html": [
              "Find logs at: <code>./wandb/run-20240422_224859-o5t4ielu/logs</code>"
            ]
          },
          "metadata": {}
        },
        {
          "output_type": "stream",
          "name": "stderr",
          "text": [
            "\u001b[34m\u001b[1mwandb\u001b[0m: Agent Starting Run: 4qlbb3t6 with config:\n",
            "\u001b[34m\u001b[1mwandb\u001b[0m: \tcolsample_bytree: 1\n",
            "\u001b[34m\u001b[1mwandb\u001b[0m: \tlearning_rate: 0.2\n",
            "\u001b[34m\u001b[1mwandb\u001b[0m: \tmax_depth: 3\n",
            "\u001b[34m\u001b[1mwandb\u001b[0m: \tn_estimators: 200\n",
            "\u001b[34m\u001b[1mwandb\u001b[0m: \tsubsample: 0.8\n"
          ]
        },
        {
          "output_type": "display_data",
          "data": {
            "text/plain": [
              "<IPython.core.display.HTML object>"
            ],
            "text/html": [
              "Tracking run with wandb version 0.16.6"
            ]
          },
          "metadata": {}
        },
        {
          "output_type": "display_data",
          "data": {
            "text/plain": [
              "<IPython.core.display.HTML object>"
            ],
            "text/html": [
              "Run data is saved locally in <code>/content/wandb/run-20240422_224911-4qlbb3t6</code>"
            ]
          },
          "metadata": {}
        },
        {
          "output_type": "display_data",
          "data": {
            "text/plain": [
              "<IPython.core.display.HTML object>"
            ],
            "text/html": [
              "Syncing run <strong><a href='https://wandb.ai/nsg/diamonds_price_prediction/runs/4qlbb3t6' target=\"_blank\">swept-sweep-12</a></strong> to <a href='https://wandb.ai/nsg/diamonds_price_prediction' target=\"_blank\">Weights & Biases</a> (<a href='https://wandb.me/run' target=\"_blank\">docs</a>)<br/>Sweep page: <a href='https://wandb.ai/nsg/diamonds_price_prediction/sweeps/yhuzk2ul' target=\"_blank\">https://wandb.ai/nsg/diamonds_price_prediction/sweeps/yhuzk2ul</a>"
            ]
          },
          "metadata": {}
        },
        {
          "output_type": "display_data",
          "data": {
            "text/plain": [
              "<IPython.core.display.HTML object>"
            ],
            "text/html": [
              " View project at <a href='https://wandb.ai/nsg/diamonds_price_prediction' target=\"_blank\">https://wandb.ai/nsg/diamonds_price_prediction</a>"
            ]
          },
          "metadata": {}
        },
        {
          "output_type": "display_data",
          "data": {
            "text/plain": [
              "<IPython.core.display.HTML object>"
            ],
            "text/html": [
              " View sweep at <a href='https://wandb.ai/nsg/diamonds_price_prediction/sweeps/yhuzk2ul' target=\"_blank\">https://wandb.ai/nsg/diamonds_price_prediction/sweeps/yhuzk2ul</a>"
            ]
          },
          "metadata": {}
        },
        {
          "output_type": "display_data",
          "data": {
            "text/plain": [
              "<IPython.core.display.HTML object>"
            ],
            "text/html": [
              " View run at <a href='https://wandb.ai/nsg/diamonds_price_prediction/runs/4qlbb3t6' target=\"_blank\">https://wandb.ai/nsg/diamonds_price_prediction/runs/4qlbb3t6</a>"
            ]
          },
          "metadata": {}
        },
        {
          "output_type": "display_data",
          "data": {
            "text/plain": [
              "VBox(children=(Label(value='0.010 MB of 0.010 MB uploaded\\r'), FloatProgress(value=1.0, max=1.0)))"
            ],
            "application/vnd.jupyter.widget-view+json": {
              "version_major": 2,
              "version_minor": 0,
              "model_id": "c31f78dc7aac44a195ed497181ab2bae"
            }
          },
          "metadata": {}
        },
        {
          "output_type": "display_data",
          "data": {
            "text/plain": [
              "<IPython.core.display.HTML object>"
            ],
            "text/html": [
              "<style>\n",
              "    table.wandb td:nth-child(1) { padding: 0 10px; text-align: left ; width: auto;} td:nth-child(2) {text-align: left ; width: 100%}\n",
              "    .wandb-row { display: flex; flex-direction: row; flex-wrap: wrap; justify-content: flex-start; width: 100% }\n",
              "    .wandb-col { display: flex; flex-direction: column; flex-basis: 100%; flex: 1; padding: 10px; }\n",
              "    </style>\n",
              "<div class=\"wandb-row\"><div class=\"wandb-col\"><h3>Run history:</h3><br/><table class=\"wandb\"><tr><td>rmse</td><td>▁</td></tr></table><br/></div><div class=\"wandb-col\"><h3>Run summary:</h3><br/><table class=\"wandb\"><tr><td>rmse</td><td>583.92454</td></tr></table><br/></div></div>"
            ]
          },
          "metadata": {}
        },
        {
          "output_type": "display_data",
          "data": {
            "text/plain": [
              "<IPython.core.display.HTML object>"
            ],
            "text/html": [
              " View run <strong style=\"color:#cdcd00\">swept-sweep-12</strong> at: <a href='https://wandb.ai/nsg/diamonds_price_prediction/runs/4qlbb3t6' target=\"_blank\">https://wandb.ai/nsg/diamonds_price_prediction/runs/4qlbb3t6</a><br/> View project at: <a href='https://wandb.ai/nsg/diamonds_price_prediction' target=\"_blank\">https://wandb.ai/nsg/diamonds_price_prediction</a><br/>Synced 4 W&B file(s), 0 media file(s), 0 artifact file(s) and 0 other file(s)"
            ]
          },
          "metadata": {}
        },
        {
          "output_type": "display_data",
          "data": {
            "text/plain": [
              "<IPython.core.display.HTML object>"
            ],
            "text/html": [
              "Find logs at: <code>./wandb/run-20240422_224911-4qlbb3t6/logs</code>"
            ]
          },
          "metadata": {}
        },
        {
          "output_type": "stream",
          "name": "stderr",
          "text": [
            "\u001b[34m\u001b[1mwandb\u001b[0m: Agent Starting Run: 7mi6mn3e with config:\n",
            "\u001b[34m\u001b[1mwandb\u001b[0m: \tcolsample_bytree: 1\n",
            "\u001b[34m\u001b[1mwandb\u001b[0m: \tlearning_rate: 0.2\n",
            "\u001b[34m\u001b[1mwandb\u001b[0m: \tmax_depth: 3\n",
            "\u001b[34m\u001b[1mwandb\u001b[0m: \tn_estimators: 200\n",
            "\u001b[34m\u001b[1mwandb\u001b[0m: \tsubsample: 1\n"
          ]
        },
        {
          "output_type": "display_data",
          "data": {
            "text/plain": [
              "<IPython.core.display.HTML object>"
            ],
            "text/html": [
              "Tracking run with wandb version 0.16.6"
            ]
          },
          "metadata": {}
        },
        {
          "output_type": "display_data",
          "data": {
            "text/plain": [
              "<IPython.core.display.HTML object>"
            ],
            "text/html": [
              "Run data is saved locally in <code>/content/wandb/run-20240422_224922-7mi6mn3e</code>"
            ]
          },
          "metadata": {}
        },
        {
          "output_type": "display_data",
          "data": {
            "text/plain": [
              "<IPython.core.display.HTML object>"
            ],
            "text/html": [
              "Syncing run <strong><a href='https://wandb.ai/nsg/diamonds_price_prediction/runs/7mi6mn3e' target=\"_blank\">brisk-sweep-13</a></strong> to <a href='https://wandb.ai/nsg/diamonds_price_prediction' target=\"_blank\">Weights & Biases</a> (<a href='https://wandb.me/run' target=\"_blank\">docs</a>)<br/>Sweep page: <a href='https://wandb.ai/nsg/diamonds_price_prediction/sweeps/yhuzk2ul' target=\"_blank\">https://wandb.ai/nsg/diamonds_price_prediction/sweeps/yhuzk2ul</a>"
            ]
          },
          "metadata": {}
        },
        {
          "output_type": "display_data",
          "data": {
            "text/plain": [
              "<IPython.core.display.HTML object>"
            ],
            "text/html": [
              " View project at <a href='https://wandb.ai/nsg/diamonds_price_prediction' target=\"_blank\">https://wandb.ai/nsg/diamonds_price_prediction</a>"
            ]
          },
          "metadata": {}
        },
        {
          "output_type": "display_data",
          "data": {
            "text/plain": [
              "<IPython.core.display.HTML object>"
            ],
            "text/html": [
              " View sweep at <a href='https://wandb.ai/nsg/diamonds_price_prediction/sweeps/yhuzk2ul' target=\"_blank\">https://wandb.ai/nsg/diamonds_price_prediction/sweeps/yhuzk2ul</a>"
            ]
          },
          "metadata": {}
        },
        {
          "output_type": "display_data",
          "data": {
            "text/plain": [
              "<IPython.core.display.HTML object>"
            ],
            "text/html": [
              " View run at <a href='https://wandb.ai/nsg/diamonds_price_prediction/runs/7mi6mn3e' target=\"_blank\">https://wandb.ai/nsg/diamonds_price_prediction/runs/7mi6mn3e</a>"
            ]
          },
          "metadata": {}
        },
        {
          "output_type": "display_data",
          "data": {
            "text/plain": [
              "VBox(children=(Label(value='0.010 MB of 0.010 MB uploaded\\r'), FloatProgress(value=1.0, max=1.0)))"
            ],
            "application/vnd.jupyter.widget-view+json": {
              "version_major": 2,
              "version_minor": 0,
              "model_id": "c0f7a21c84704700bc47244549653810"
            }
          },
          "metadata": {}
        },
        {
          "output_type": "display_data",
          "data": {
            "text/plain": [
              "<IPython.core.display.HTML object>"
            ],
            "text/html": [
              "<style>\n",
              "    table.wandb td:nth-child(1) { padding: 0 10px; text-align: left ; width: auto;} td:nth-child(2) {text-align: left ; width: 100%}\n",
              "    .wandb-row { display: flex; flex-direction: row; flex-wrap: wrap; justify-content: flex-start; width: 100% }\n",
              "    .wandb-col { display: flex; flex-direction: column; flex-basis: 100%; flex: 1; padding: 10px; }\n",
              "    </style>\n",
              "<div class=\"wandb-row\"><div class=\"wandb-col\"><h3>Run history:</h3><br/><table class=\"wandb\"><tr><td>rmse</td><td>▁</td></tr></table><br/></div><div class=\"wandb-col\"><h3>Run summary:</h3><br/><table class=\"wandb\"><tr><td>rmse</td><td>581.45812</td></tr></table><br/></div></div>"
            ]
          },
          "metadata": {}
        },
        {
          "output_type": "display_data",
          "data": {
            "text/plain": [
              "<IPython.core.display.HTML object>"
            ],
            "text/html": [
              " View run <strong style=\"color:#cdcd00\">brisk-sweep-13</strong> at: <a href='https://wandb.ai/nsg/diamonds_price_prediction/runs/7mi6mn3e' target=\"_blank\">https://wandb.ai/nsg/diamonds_price_prediction/runs/7mi6mn3e</a><br/> View project at: <a href='https://wandb.ai/nsg/diamonds_price_prediction' target=\"_blank\">https://wandb.ai/nsg/diamonds_price_prediction</a><br/>Synced 4 W&B file(s), 0 media file(s), 0 artifact file(s) and 0 other file(s)"
            ]
          },
          "metadata": {}
        },
        {
          "output_type": "display_data",
          "data": {
            "text/plain": [
              "<IPython.core.display.HTML object>"
            ],
            "text/html": [
              "Find logs at: <code>./wandb/run-20240422_224922-7mi6mn3e/logs</code>"
            ]
          },
          "metadata": {}
        },
        {
          "output_type": "stream",
          "name": "stderr",
          "text": [
            "\u001b[34m\u001b[1mwandb\u001b[0m: Agent Starting Run: c5wjhd59 with config:\n",
            "\u001b[34m\u001b[1mwandb\u001b[0m: \tcolsample_bytree: 0.5\n",
            "\u001b[34m\u001b[1mwandb\u001b[0m: \tlearning_rate: 0.2\n",
            "\u001b[34m\u001b[1mwandb\u001b[0m: \tmax_depth: 3\n",
            "\u001b[34m\u001b[1mwandb\u001b[0m: \tn_estimators: 200\n",
            "\u001b[34m\u001b[1mwandb\u001b[0m: \tsubsample: 0.8\n"
          ]
        },
        {
          "output_type": "display_data",
          "data": {
            "text/plain": [
              "<IPython.core.display.HTML object>"
            ],
            "text/html": [
              "Tracking run with wandb version 0.16.6"
            ]
          },
          "metadata": {}
        },
        {
          "output_type": "display_data",
          "data": {
            "text/plain": [
              "<IPython.core.display.HTML object>"
            ],
            "text/html": [
              "Run data is saved locally in <code>/content/wandb/run-20240422_224933-c5wjhd59</code>"
            ]
          },
          "metadata": {}
        },
        {
          "output_type": "display_data",
          "data": {
            "text/plain": [
              "<IPython.core.display.HTML object>"
            ],
            "text/html": [
              "Syncing run <strong><a href='https://wandb.ai/nsg/diamonds_price_prediction/runs/c5wjhd59' target=\"_blank\">fearless-sweep-14</a></strong> to <a href='https://wandb.ai/nsg/diamonds_price_prediction' target=\"_blank\">Weights & Biases</a> (<a href='https://wandb.me/run' target=\"_blank\">docs</a>)<br/>Sweep page: <a href='https://wandb.ai/nsg/diamonds_price_prediction/sweeps/yhuzk2ul' target=\"_blank\">https://wandb.ai/nsg/diamonds_price_prediction/sweeps/yhuzk2ul</a>"
            ]
          },
          "metadata": {}
        },
        {
          "output_type": "display_data",
          "data": {
            "text/plain": [
              "<IPython.core.display.HTML object>"
            ],
            "text/html": [
              " View project at <a href='https://wandb.ai/nsg/diamonds_price_prediction' target=\"_blank\">https://wandb.ai/nsg/diamonds_price_prediction</a>"
            ]
          },
          "metadata": {}
        },
        {
          "output_type": "display_data",
          "data": {
            "text/plain": [
              "<IPython.core.display.HTML object>"
            ],
            "text/html": [
              " View sweep at <a href='https://wandb.ai/nsg/diamonds_price_prediction/sweeps/yhuzk2ul' target=\"_blank\">https://wandb.ai/nsg/diamonds_price_prediction/sweeps/yhuzk2ul</a>"
            ]
          },
          "metadata": {}
        },
        {
          "output_type": "display_data",
          "data": {
            "text/plain": [
              "<IPython.core.display.HTML object>"
            ],
            "text/html": [
              " View run at <a href='https://wandb.ai/nsg/diamonds_price_prediction/runs/c5wjhd59' target=\"_blank\">https://wandb.ai/nsg/diamonds_price_prediction/runs/c5wjhd59</a>"
            ]
          },
          "metadata": {}
        },
        {
          "output_type": "display_data",
          "data": {
            "text/plain": [
              "VBox(children=(Label(value='0.001 MB of 0.010 MB uploaded\\r'), FloatProgress(value=0.11254256004417043, max=1.…"
            ],
            "application/vnd.jupyter.widget-view+json": {
              "version_major": 2,
              "version_minor": 0,
              "model_id": "bc55cce558714274b0b38cf868a1e9d2"
            }
          },
          "metadata": {}
        },
        {
          "output_type": "display_data",
          "data": {
            "text/plain": [
              "<IPython.core.display.HTML object>"
            ],
            "text/html": [
              "<style>\n",
              "    table.wandb td:nth-child(1) { padding: 0 10px; text-align: left ; width: auto;} td:nth-child(2) {text-align: left ; width: 100%}\n",
              "    .wandb-row { display: flex; flex-direction: row; flex-wrap: wrap; justify-content: flex-start; width: 100% }\n",
              "    .wandb-col { display: flex; flex-direction: column; flex-basis: 100%; flex: 1; padding: 10px; }\n",
              "    </style>\n",
              "<div class=\"wandb-row\"><div class=\"wandb-col\"><h3>Run history:</h3><br/><table class=\"wandb\"><tr><td>rmse</td><td>▁</td></tr></table><br/></div><div class=\"wandb-col\"><h3>Run summary:</h3><br/><table class=\"wandb\"><tr><td>rmse</td><td>604.2648</td></tr></table><br/></div></div>"
            ]
          },
          "metadata": {}
        },
        {
          "output_type": "display_data",
          "data": {
            "text/plain": [
              "<IPython.core.display.HTML object>"
            ],
            "text/html": [
              " View run <strong style=\"color:#cdcd00\">fearless-sweep-14</strong> at: <a href='https://wandb.ai/nsg/diamonds_price_prediction/runs/c5wjhd59' target=\"_blank\">https://wandb.ai/nsg/diamonds_price_prediction/runs/c5wjhd59</a><br/> View project at: <a href='https://wandb.ai/nsg/diamonds_price_prediction' target=\"_blank\">https://wandb.ai/nsg/diamonds_price_prediction</a><br/>Synced 4 W&B file(s), 0 media file(s), 0 artifact file(s) and 0 other file(s)"
            ]
          },
          "metadata": {}
        },
        {
          "output_type": "display_data",
          "data": {
            "text/plain": [
              "<IPython.core.display.HTML object>"
            ],
            "text/html": [
              "Find logs at: <code>./wandb/run-20240422_224933-c5wjhd59/logs</code>"
            ]
          },
          "metadata": {}
        },
        {
          "output_type": "stream",
          "name": "stderr",
          "text": [
            "\u001b[34m\u001b[1mwandb\u001b[0m: Agent Starting Run: glzsvs4l with config:\n",
            "\u001b[34m\u001b[1mwandb\u001b[0m: \tcolsample_bytree: 1\n",
            "\u001b[34m\u001b[1mwandb\u001b[0m: \tlearning_rate: 0.2\n",
            "\u001b[34m\u001b[1mwandb\u001b[0m: \tmax_depth: 3\n",
            "\u001b[34m\u001b[1mwandb\u001b[0m: \tn_estimators: 300\n",
            "\u001b[34m\u001b[1mwandb\u001b[0m: \tsubsample: 0.9\n"
          ]
        },
        {
          "output_type": "display_data",
          "data": {
            "text/plain": [
              "<IPython.core.display.HTML object>"
            ],
            "text/html": [
              "Tracking run with wandb version 0.16.6"
            ]
          },
          "metadata": {}
        },
        {
          "output_type": "display_data",
          "data": {
            "text/plain": [
              "<IPython.core.display.HTML object>"
            ],
            "text/html": [
              "Run data is saved locally in <code>/content/wandb/run-20240422_224944-glzsvs4l</code>"
            ]
          },
          "metadata": {}
        },
        {
          "output_type": "display_data",
          "data": {
            "text/plain": [
              "<IPython.core.display.HTML object>"
            ],
            "text/html": [
              "Syncing run <strong><a href='https://wandb.ai/nsg/diamonds_price_prediction/runs/glzsvs4l' target=\"_blank\">different-sweep-15</a></strong> to <a href='https://wandb.ai/nsg/diamonds_price_prediction' target=\"_blank\">Weights & Biases</a> (<a href='https://wandb.me/run' target=\"_blank\">docs</a>)<br/>Sweep page: <a href='https://wandb.ai/nsg/diamonds_price_prediction/sweeps/yhuzk2ul' target=\"_blank\">https://wandb.ai/nsg/diamonds_price_prediction/sweeps/yhuzk2ul</a>"
            ]
          },
          "metadata": {}
        },
        {
          "output_type": "display_data",
          "data": {
            "text/plain": [
              "<IPython.core.display.HTML object>"
            ],
            "text/html": [
              " View project at <a href='https://wandb.ai/nsg/diamonds_price_prediction' target=\"_blank\">https://wandb.ai/nsg/diamonds_price_prediction</a>"
            ]
          },
          "metadata": {}
        },
        {
          "output_type": "display_data",
          "data": {
            "text/plain": [
              "<IPython.core.display.HTML object>"
            ],
            "text/html": [
              " View sweep at <a href='https://wandb.ai/nsg/diamonds_price_prediction/sweeps/yhuzk2ul' target=\"_blank\">https://wandb.ai/nsg/diamonds_price_prediction/sweeps/yhuzk2ul</a>"
            ]
          },
          "metadata": {}
        },
        {
          "output_type": "display_data",
          "data": {
            "text/plain": [
              "<IPython.core.display.HTML object>"
            ],
            "text/html": [
              " View run at <a href='https://wandb.ai/nsg/diamonds_price_prediction/runs/glzsvs4l' target=\"_blank\">https://wandb.ai/nsg/diamonds_price_prediction/runs/glzsvs4l</a>"
            ]
          },
          "metadata": {}
        },
        {
          "output_type": "display_data",
          "data": {
            "text/plain": [
              "VBox(children=(Label(value='0.010 MB of 0.010 MB uploaded\\r'), FloatProgress(value=1.0, max=1.0)))"
            ],
            "application/vnd.jupyter.widget-view+json": {
              "version_major": 2,
              "version_minor": 0,
              "model_id": "691e931eb4d14784a8f69c650fbc5bf6"
            }
          },
          "metadata": {}
        },
        {
          "output_type": "display_data",
          "data": {
            "text/plain": [
              "<IPython.core.display.HTML object>"
            ],
            "text/html": [
              "<style>\n",
              "    table.wandb td:nth-child(1) { padding: 0 10px; text-align: left ; width: auto;} td:nth-child(2) {text-align: left ; width: 100%}\n",
              "    .wandb-row { display: flex; flex-direction: row; flex-wrap: wrap; justify-content: flex-start; width: 100% }\n",
              "    .wandb-col { display: flex; flex-direction: column; flex-basis: 100%; flex: 1; padding: 10px; }\n",
              "    </style>\n",
              "<div class=\"wandb-row\"><div class=\"wandb-col\"><h3>Run history:</h3><br/><table class=\"wandb\"><tr><td>rmse</td><td>▁</td></tr></table><br/></div><div class=\"wandb-col\"><h3>Run summary:</h3><br/><table class=\"wandb\"><tr><td>rmse</td><td>587.47154</td></tr></table><br/></div></div>"
            ]
          },
          "metadata": {}
        },
        {
          "output_type": "display_data",
          "data": {
            "text/plain": [
              "<IPython.core.display.HTML object>"
            ],
            "text/html": [
              " View run <strong style=\"color:#cdcd00\">different-sweep-15</strong> at: <a href='https://wandb.ai/nsg/diamonds_price_prediction/runs/glzsvs4l' target=\"_blank\">https://wandb.ai/nsg/diamonds_price_prediction/runs/glzsvs4l</a><br/> View project at: <a href='https://wandb.ai/nsg/diamonds_price_prediction' target=\"_blank\">https://wandb.ai/nsg/diamonds_price_prediction</a><br/>Synced 4 W&B file(s), 0 media file(s), 0 artifact file(s) and 0 other file(s)"
            ]
          },
          "metadata": {}
        },
        {
          "output_type": "display_data",
          "data": {
            "text/plain": [
              "<IPython.core.display.HTML object>"
            ],
            "text/html": [
              "Find logs at: <code>./wandb/run-20240422_224944-glzsvs4l/logs</code>"
            ]
          },
          "metadata": {}
        },
        {
          "output_type": "stream",
          "name": "stderr",
          "text": [
            "\u001b[34m\u001b[1mwandb\u001b[0m: Sweep Agent: Waiting for job.\n",
            "\u001b[34m\u001b[1mwandb\u001b[0m: Job received.\n",
            "\u001b[34m\u001b[1mwandb\u001b[0m: Agent Starting Run: 5utvy1mm with config:\n",
            "\u001b[34m\u001b[1mwandb\u001b[0m: \tcolsample_bytree: 0.5\n",
            "\u001b[34m\u001b[1mwandb\u001b[0m: \tlearning_rate: 0.2\n",
            "\u001b[34m\u001b[1mwandb\u001b[0m: \tmax_depth: 3\n",
            "\u001b[34m\u001b[1mwandb\u001b[0m: \tn_estimators: 100\n",
            "\u001b[34m\u001b[1mwandb\u001b[0m: \tsubsample: 0.8\n"
          ]
        },
        {
          "output_type": "display_data",
          "data": {
            "text/plain": [
              "<IPython.core.display.HTML object>"
            ],
            "text/html": [
              "Tracking run with wandb version 0.16.6"
            ]
          },
          "metadata": {}
        },
        {
          "output_type": "display_data",
          "data": {
            "text/plain": [
              "<IPython.core.display.HTML object>"
            ],
            "text/html": [
              "Run data is saved locally in <code>/content/wandb/run-20240422_225008-5utvy1mm</code>"
            ]
          },
          "metadata": {}
        },
        {
          "output_type": "display_data",
          "data": {
            "text/plain": [
              "<IPython.core.display.HTML object>"
            ],
            "text/html": [
              "Syncing run <strong><a href='https://wandb.ai/nsg/diamonds_price_prediction/runs/5utvy1mm' target=\"_blank\">vital-sweep-16</a></strong> to <a href='https://wandb.ai/nsg/diamonds_price_prediction' target=\"_blank\">Weights & Biases</a> (<a href='https://wandb.me/run' target=\"_blank\">docs</a>)<br/>Sweep page: <a href='https://wandb.ai/nsg/diamonds_price_prediction/sweeps/yhuzk2ul' target=\"_blank\">https://wandb.ai/nsg/diamonds_price_prediction/sweeps/yhuzk2ul</a>"
            ]
          },
          "metadata": {}
        },
        {
          "output_type": "display_data",
          "data": {
            "text/plain": [
              "<IPython.core.display.HTML object>"
            ],
            "text/html": [
              " View project at <a href='https://wandb.ai/nsg/diamonds_price_prediction' target=\"_blank\">https://wandb.ai/nsg/diamonds_price_prediction</a>"
            ]
          },
          "metadata": {}
        },
        {
          "output_type": "display_data",
          "data": {
            "text/plain": [
              "<IPython.core.display.HTML object>"
            ],
            "text/html": [
              " View sweep at <a href='https://wandb.ai/nsg/diamonds_price_prediction/sweeps/yhuzk2ul' target=\"_blank\">https://wandb.ai/nsg/diamonds_price_prediction/sweeps/yhuzk2ul</a>"
            ]
          },
          "metadata": {}
        },
        {
          "output_type": "display_data",
          "data": {
            "text/plain": [
              "<IPython.core.display.HTML object>"
            ],
            "text/html": [
              " View run at <a href='https://wandb.ai/nsg/diamonds_price_prediction/runs/5utvy1mm' target=\"_blank\">https://wandb.ai/nsg/diamonds_price_prediction/runs/5utvy1mm</a>"
            ]
          },
          "metadata": {}
        },
        {
          "output_type": "display_data",
          "data": {
            "text/plain": [
              "VBox(children=(Label(value='0.010 MB of 0.010 MB uploaded\\r'), FloatProgress(value=1.0, max=1.0)))"
            ],
            "application/vnd.jupyter.widget-view+json": {
              "version_major": 2,
              "version_minor": 0,
              "model_id": "8acc6a94467d42b29a37fc235be56a86"
            }
          },
          "metadata": {}
        },
        {
          "output_type": "display_data",
          "data": {
            "text/plain": [
              "<IPython.core.display.HTML object>"
            ],
            "text/html": [
              "<style>\n",
              "    table.wandb td:nth-child(1) { padding: 0 10px; text-align: left ; width: auto;} td:nth-child(2) {text-align: left ; width: 100%}\n",
              "    .wandb-row { display: flex; flex-direction: row; flex-wrap: wrap; justify-content: flex-start; width: 100% }\n",
              "    .wandb-col { display: flex; flex-direction: column; flex-basis: 100%; flex: 1; padding: 10px; }\n",
              "    </style>\n",
              "<div class=\"wandb-row\"><div class=\"wandb-col\"><h3>Run history:</h3><br/><table class=\"wandb\"><tr><td>rmse</td><td>▁</td></tr></table><br/></div><div class=\"wandb-col\"><h3>Run summary:</h3><br/><table class=\"wandb\"><tr><td>rmse</td><td>604.2648</td></tr></table><br/></div></div>"
            ]
          },
          "metadata": {}
        },
        {
          "output_type": "display_data",
          "data": {
            "text/plain": [
              "<IPython.core.display.HTML object>"
            ],
            "text/html": [
              " View run <strong style=\"color:#cdcd00\">vital-sweep-16</strong> at: <a href='https://wandb.ai/nsg/diamonds_price_prediction/runs/5utvy1mm' target=\"_blank\">https://wandb.ai/nsg/diamonds_price_prediction/runs/5utvy1mm</a><br/> View project at: <a href='https://wandb.ai/nsg/diamonds_price_prediction' target=\"_blank\">https://wandb.ai/nsg/diamonds_price_prediction</a><br/>Synced 4 W&B file(s), 0 media file(s), 0 artifact file(s) and 0 other file(s)"
            ]
          },
          "metadata": {}
        },
        {
          "output_type": "display_data",
          "data": {
            "text/plain": [
              "<IPython.core.display.HTML object>"
            ],
            "text/html": [
              "Find logs at: <code>./wandb/run-20240422_225008-5utvy1mm/logs</code>"
            ]
          },
          "metadata": {}
        },
        {
          "output_type": "stream",
          "name": "stderr",
          "text": [
            "\u001b[34m\u001b[1mwandb\u001b[0m: Agent Starting Run: ciktpiuq with config:\n",
            "\u001b[34m\u001b[1mwandb\u001b[0m: \tcolsample_bytree: 1\n",
            "\u001b[34m\u001b[1mwandb\u001b[0m: \tlearning_rate: 0.2\n",
            "\u001b[34m\u001b[1mwandb\u001b[0m: \tmax_depth: 3\n",
            "\u001b[34m\u001b[1mwandb\u001b[0m: \tn_estimators: 200\n",
            "\u001b[34m\u001b[1mwandb\u001b[0m: \tsubsample: 1\n"
          ]
        },
        {
          "output_type": "display_data",
          "data": {
            "text/plain": [
              "<IPython.core.display.HTML object>"
            ],
            "text/html": [
              "Tracking run with wandb version 0.16.6"
            ]
          },
          "metadata": {}
        },
        {
          "output_type": "display_data",
          "data": {
            "text/plain": [
              "<IPython.core.display.HTML object>"
            ],
            "text/html": [
              "Run data is saved locally in <code>/content/wandb/run-20240422_225019-ciktpiuq</code>"
            ]
          },
          "metadata": {}
        },
        {
          "output_type": "display_data",
          "data": {
            "text/plain": [
              "<IPython.core.display.HTML object>"
            ],
            "text/html": [
              "Syncing run <strong><a href='https://wandb.ai/nsg/diamonds_price_prediction/runs/ciktpiuq' target=\"_blank\">faithful-sweep-17</a></strong> to <a href='https://wandb.ai/nsg/diamonds_price_prediction' target=\"_blank\">Weights & Biases</a> (<a href='https://wandb.me/run' target=\"_blank\">docs</a>)<br/>Sweep page: <a href='https://wandb.ai/nsg/diamonds_price_prediction/sweeps/yhuzk2ul' target=\"_blank\">https://wandb.ai/nsg/diamonds_price_prediction/sweeps/yhuzk2ul</a>"
            ]
          },
          "metadata": {}
        },
        {
          "output_type": "display_data",
          "data": {
            "text/plain": [
              "<IPython.core.display.HTML object>"
            ],
            "text/html": [
              " View project at <a href='https://wandb.ai/nsg/diamonds_price_prediction' target=\"_blank\">https://wandb.ai/nsg/diamonds_price_prediction</a>"
            ]
          },
          "metadata": {}
        },
        {
          "output_type": "display_data",
          "data": {
            "text/plain": [
              "<IPython.core.display.HTML object>"
            ],
            "text/html": [
              " View sweep at <a href='https://wandb.ai/nsg/diamonds_price_prediction/sweeps/yhuzk2ul' target=\"_blank\">https://wandb.ai/nsg/diamonds_price_prediction/sweeps/yhuzk2ul</a>"
            ]
          },
          "metadata": {}
        },
        {
          "output_type": "display_data",
          "data": {
            "text/plain": [
              "<IPython.core.display.HTML object>"
            ],
            "text/html": [
              " View run at <a href='https://wandb.ai/nsg/diamonds_price_prediction/runs/ciktpiuq' target=\"_blank\">https://wandb.ai/nsg/diamonds_price_prediction/runs/ciktpiuq</a>"
            ]
          },
          "metadata": {}
        },
        {
          "output_type": "display_data",
          "data": {
            "text/plain": [
              "VBox(children=(Label(value='0.010 MB of 0.010 MB uploaded\\r'), FloatProgress(value=1.0, max=1.0)))"
            ],
            "application/vnd.jupyter.widget-view+json": {
              "version_major": 2,
              "version_minor": 0,
              "model_id": "93d709971f1741e99ed7fc0ed61db432"
            }
          },
          "metadata": {}
        },
        {
          "output_type": "display_data",
          "data": {
            "text/plain": [
              "<IPython.core.display.HTML object>"
            ],
            "text/html": [
              "<style>\n",
              "    table.wandb td:nth-child(1) { padding: 0 10px; text-align: left ; width: auto;} td:nth-child(2) {text-align: left ; width: 100%}\n",
              "    .wandb-row { display: flex; flex-direction: row; flex-wrap: wrap; justify-content: flex-start; width: 100% }\n",
              "    .wandb-col { display: flex; flex-direction: column; flex-basis: 100%; flex: 1; padding: 10px; }\n",
              "    </style>\n",
              "<div class=\"wandb-row\"><div class=\"wandb-col\"><h3>Run history:</h3><br/><table class=\"wandb\"><tr><td>rmse</td><td>▁</td></tr></table><br/></div><div class=\"wandb-col\"><h3>Run summary:</h3><br/><table class=\"wandb\"><tr><td>rmse</td><td>581.45812</td></tr></table><br/></div></div>"
            ]
          },
          "metadata": {}
        },
        {
          "output_type": "display_data",
          "data": {
            "text/plain": [
              "<IPython.core.display.HTML object>"
            ],
            "text/html": [
              " View run <strong style=\"color:#cdcd00\">faithful-sweep-17</strong> at: <a href='https://wandb.ai/nsg/diamonds_price_prediction/runs/ciktpiuq' target=\"_blank\">https://wandb.ai/nsg/diamonds_price_prediction/runs/ciktpiuq</a><br/> View project at: <a href='https://wandb.ai/nsg/diamonds_price_prediction' target=\"_blank\">https://wandb.ai/nsg/diamonds_price_prediction</a><br/>Synced 4 W&B file(s), 0 media file(s), 0 artifact file(s) and 0 other file(s)"
            ]
          },
          "metadata": {}
        },
        {
          "output_type": "display_data",
          "data": {
            "text/plain": [
              "<IPython.core.display.HTML object>"
            ],
            "text/html": [
              "Find logs at: <code>./wandb/run-20240422_225019-ciktpiuq/logs</code>"
            ]
          },
          "metadata": {}
        },
        {
          "output_type": "stream",
          "name": "stderr",
          "text": [
            "\u001b[34m\u001b[1mwandb\u001b[0m: Agent Starting Run: 4bkmatfv with config:\n",
            "\u001b[34m\u001b[1mwandb\u001b[0m: \tcolsample_bytree: 1\n",
            "\u001b[34m\u001b[1mwandb\u001b[0m: \tlearning_rate: 0.2\n",
            "\u001b[34m\u001b[1mwandb\u001b[0m: \tmax_depth: 3\n",
            "\u001b[34m\u001b[1mwandb\u001b[0m: \tn_estimators: 100\n",
            "\u001b[34m\u001b[1mwandb\u001b[0m: \tsubsample: 0.8\n"
          ]
        },
        {
          "output_type": "display_data",
          "data": {
            "text/plain": [
              "<IPython.core.display.HTML object>"
            ],
            "text/html": [
              "Tracking run with wandb version 0.16.6"
            ]
          },
          "metadata": {}
        },
        {
          "output_type": "display_data",
          "data": {
            "text/plain": [
              "<IPython.core.display.HTML object>"
            ],
            "text/html": [
              "Run data is saved locally in <code>/content/wandb/run-20240422_225030-4bkmatfv</code>"
            ]
          },
          "metadata": {}
        },
        {
          "output_type": "display_data",
          "data": {
            "text/plain": [
              "<IPython.core.display.HTML object>"
            ],
            "text/html": [
              "Syncing run <strong><a href='https://wandb.ai/nsg/diamonds_price_prediction/runs/4bkmatfv' target=\"_blank\">different-sweep-18</a></strong> to <a href='https://wandb.ai/nsg/diamonds_price_prediction' target=\"_blank\">Weights & Biases</a> (<a href='https://wandb.me/run' target=\"_blank\">docs</a>)<br/>Sweep page: <a href='https://wandb.ai/nsg/diamonds_price_prediction/sweeps/yhuzk2ul' target=\"_blank\">https://wandb.ai/nsg/diamonds_price_prediction/sweeps/yhuzk2ul</a>"
            ]
          },
          "metadata": {}
        },
        {
          "output_type": "display_data",
          "data": {
            "text/plain": [
              "<IPython.core.display.HTML object>"
            ],
            "text/html": [
              " View project at <a href='https://wandb.ai/nsg/diamonds_price_prediction' target=\"_blank\">https://wandb.ai/nsg/diamonds_price_prediction</a>"
            ]
          },
          "metadata": {}
        },
        {
          "output_type": "display_data",
          "data": {
            "text/plain": [
              "<IPython.core.display.HTML object>"
            ],
            "text/html": [
              " View sweep at <a href='https://wandb.ai/nsg/diamonds_price_prediction/sweeps/yhuzk2ul' target=\"_blank\">https://wandb.ai/nsg/diamonds_price_prediction/sweeps/yhuzk2ul</a>"
            ]
          },
          "metadata": {}
        },
        {
          "output_type": "display_data",
          "data": {
            "text/plain": [
              "<IPython.core.display.HTML object>"
            ],
            "text/html": [
              " View run at <a href='https://wandb.ai/nsg/diamonds_price_prediction/runs/4bkmatfv' target=\"_blank\">https://wandb.ai/nsg/diamonds_price_prediction/runs/4bkmatfv</a>"
            ]
          },
          "metadata": {}
        },
        {
          "output_type": "display_data",
          "data": {
            "text/plain": [
              "VBox(children=(Label(value='0.010 MB of 0.010 MB uploaded\\r'), FloatProgress(value=1.0, max=1.0)))"
            ],
            "application/vnd.jupyter.widget-view+json": {
              "version_major": 2,
              "version_minor": 0,
              "model_id": "56bd883c16074e73bf5e44f8c61ea8d4"
            }
          },
          "metadata": {}
        },
        {
          "output_type": "display_data",
          "data": {
            "text/plain": [
              "<IPython.core.display.HTML object>"
            ],
            "text/html": [
              "<style>\n",
              "    table.wandb td:nth-child(1) { padding: 0 10px; text-align: left ; width: auto;} td:nth-child(2) {text-align: left ; width: 100%}\n",
              "    .wandb-row { display: flex; flex-direction: row; flex-wrap: wrap; justify-content: flex-start; width: 100% }\n",
              "    .wandb-col { display: flex; flex-direction: column; flex-basis: 100%; flex: 1; padding: 10px; }\n",
              "    </style>\n",
              "<div class=\"wandb-row\"><div class=\"wandb-col\"><h3>Run history:</h3><br/><table class=\"wandb\"><tr><td>rmse</td><td>▁</td></tr></table><br/></div><div class=\"wandb-col\"><h3>Run summary:</h3><br/><table class=\"wandb\"><tr><td>rmse</td><td>583.92454</td></tr></table><br/></div></div>"
            ]
          },
          "metadata": {}
        },
        {
          "output_type": "display_data",
          "data": {
            "text/plain": [
              "<IPython.core.display.HTML object>"
            ],
            "text/html": [
              " View run <strong style=\"color:#cdcd00\">different-sweep-18</strong> at: <a href='https://wandb.ai/nsg/diamonds_price_prediction/runs/4bkmatfv' target=\"_blank\">https://wandb.ai/nsg/diamonds_price_prediction/runs/4bkmatfv</a><br/> View project at: <a href='https://wandb.ai/nsg/diamonds_price_prediction' target=\"_blank\">https://wandb.ai/nsg/diamonds_price_prediction</a><br/>Synced 4 W&B file(s), 0 media file(s), 0 artifact file(s) and 0 other file(s)"
            ]
          },
          "metadata": {}
        },
        {
          "output_type": "display_data",
          "data": {
            "text/plain": [
              "<IPython.core.display.HTML object>"
            ],
            "text/html": [
              "Find logs at: <code>./wandb/run-20240422_225030-4bkmatfv/logs</code>"
            ]
          },
          "metadata": {}
        },
        {
          "output_type": "stream",
          "name": "stderr",
          "text": [
            "\u001b[34m\u001b[1mwandb\u001b[0m: Agent Starting Run: z69u9g2m with config:\n",
            "\u001b[34m\u001b[1mwandb\u001b[0m: \tcolsample_bytree: 0.5\n",
            "\u001b[34m\u001b[1mwandb\u001b[0m: \tlearning_rate: 0.2\n",
            "\u001b[34m\u001b[1mwandb\u001b[0m: \tmax_depth: 3\n",
            "\u001b[34m\u001b[1mwandb\u001b[0m: \tn_estimators: 100\n",
            "\u001b[34m\u001b[1mwandb\u001b[0m: \tsubsample: 0.9\n"
          ]
        },
        {
          "output_type": "display_data",
          "data": {
            "text/plain": [
              "<IPython.core.display.HTML object>"
            ],
            "text/html": [
              "Tracking run with wandb version 0.16.6"
            ]
          },
          "metadata": {}
        },
        {
          "output_type": "display_data",
          "data": {
            "text/plain": [
              "<IPython.core.display.HTML object>"
            ],
            "text/html": [
              "Run data is saved locally in <code>/content/wandb/run-20240422_225040-z69u9g2m</code>"
            ]
          },
          "metadata": {}
        },
        {
          "output_type": "display_data",
          "data": {
            "text/plain": [
              "<IPython.core.display.HTML object>"
            ],
            "text/html": [
              "Syncing run <strong><a href='https://wandb.ai/nsg/diamonds_price_prediction/runs/z69u9g2m' target=\"_blank\">swept-sweep-19</a></strong> to <a href='https://wandb.ai/nsg/diamonds_price_prediction' target=\"_blank\">Weights & Biases</a> (<a href='https://wandb.me/run' target=\"_blank\">docs</a>)<br/>Sweep page: <a href='https://wandb.ai/nsg/diamonds_price_prediction/sweeps/yhuzk2ul' target=\"_blank\">https://wandb.ai/nsg/diamonds_price_prediction/sweeps/yhuzk2ul</a>"
            ]
          },
          "metadata": {}
        },
        {
          "output_type": "display_data",
          "data": {
            "text/plain": [
              "<IPython.core.display.HTML object>"
            ],
            "text/html": [
              " View project at <a href='https://wandb.ai/nsg/diamonds_price_prediction' target=\"_blank\">https://wandb.ai/nsg/diamonds_price_prediction</a>"
            ]
          },
          "metadata": {}
        },
        {
          "output_type": "display_data",
          "data": {
            "text/plain": [
              "<IPython.core.display.HTML object>"
            ],
            "text/html": [
              " View sweep at <a href='https://wandb.ai/nsg/diamonds_price_prediction/sweeps/yhuzk2ul' target=\"_blank\">https://wandb.ai/nsg/diamonds_price_prediction/sweeps/yhuzk2ul</a>"
            ]
          },
          "metadata": {}
        },
        {
          "output_type": "display_data",
          "data": {
            "text/plain": [
              "<IPython.core.display.HTML object>"
            ],
            "text/html": [
              " View run at <a href='https://wandb.ai/nsg/diamonds_price_prediction/runs/z69u9g2m' target=\"_blank\">https://wandb.ai/nsg/diamonds_price_prediction/runs/z69u9g2m</a>"
            ]
          },
          "metadata": {}
        },
        {
          "output_type": "display_data",
          "data": {
            "text/plain": [
              "VBox(children=(Label(value='0.010 MB of 0.010 MB uploaded\\r'), FloatProgress(value=1.0, max=1.0)))"
            ],
            "application/vnd.jupyter.widget-view+json": {
              "version_major": 2,
              "version_minor": 0,
              "model_id": "0bfee7b9bb8f4367ab435e1f416544b9"
            }
          },
          "metadata": {}
        },
        {
          "output_type": "display_data",
          "data": {
            "text/plain": [
              "<IPython.core.display.HTML object>"
            ],
            "text/html": [
              "<style>\n",
              "    table.wandb td:nth-child(1) { padding: 0 10px; text-align: left ; width: auto;} td:nth-child(2) {text-align: left ; width: 100%}\n",
              "    .wandb-row { display: flex; flex-direction: row; flex-wrap: wrap; justify-content: flex-start; width: 100% }\n",
              "    .wandb-col { display: flex; flex-direction: column; flex-basis: 100%; flex: 1; padding: 10px; }\n",
              "    </style>\n",
              "<div class=\"wandb-row\"><div class=\"wandb-col\"><h3>Run history:</h3><br/><table class=\"wandb\"><tr><td>rmse</td><td>▁</td></tr></table><br/></div><div class=\"wandb-col\"><h3>Run summary:</h3><br/><table class=\"wandb\"><tr><td>rmse</td><td>607.23496</td></tr></table><br/></div></div>"
            ]
          },
          "metadata": {}
        },
        {
          "output_type": "display_data",
          "data": {
            "text/plain": [
              "<IPython.core.display.HTML object>"
            ],
            "text/html": [
              " View run <strong style=\"color:#cdcd00\">swept-sweep-19</strong> at: <a href='https://wandb.ai/nsg/diamonds_price_prediction/runs/z69u9g2m' target=\"_blank\">https://wandb.ai/nsg/diamonds_price_prediction/runs/z69u9g2m</a><br/> View project at: <a href='https://wandb.ai/nsg/diamonds_price_prediction' target=\"_blank\">https://wandb.ai/nsg/diamonds_price_prediction</a><br/>Synced 4 W&B file(s), 0 media file(s), 0 artifact file(s) and 0 other file(s)"
            ]
          },
          "metadata": {}
        },
        {
          "output_type": "display_data",
          "data": {
            "text/plain": [
              "<IPython.core.display.HTML object>"
            ],
            "text/html": [
              "Find logs at: <code>./wandb/run-20240422_225040-z69u9g2m/logs</code>"
            ]
          },
          "metadata": {}
        },
        {
          "output_type": "stream",
          "name": "stderr",
          "text": [
            "\u001b[34m\u001b[1mwandb\u001b[0m: Agent Starting Run: ni0l31q3 with config:\n",
            "\u001b[34m\u001b[1mwandb\u001b[0m: \tcolsample_bytree: 1\n",
            "\u001b[34m\u001b[1mwandb\u001b[0m: \tlearning_rate: 0.2\n",
            "\u001b[34m\u001b[1mwandb\u001b[0m: \tmax_depth: 3\n",
            "\u001b[34m\u001b[1mwandb\u001b[0m: \tn_estimators: 100\n",
            "\u001b[34m\u001b[1mwandb\u001b[0m: \tsubsample: 0.9\n"
          ]
        },
        {
          "output_type": "display_data",
          "data": {
            "text/plain": [
              "<IPython.core.display.HTML object>"
            ],
            "text/html": [
              "Tracking run with wandb version 0.16.6"
            ]
          },
          "metadata": {}
        },
        {
          "output_type": "display_data",
          "data": {
            "text/plain": [
              "<IPython.core.display.HTML object>"
            ],
            "text/html": [
              "Run data is saved locally in <code>/content/wandb/run-20240422_225050-ni0l31q3</code>"
            ]
          },
          "metadata": {}
        },
        {
          "output_type": "display_data",
          "data": {
            "text/plain": [
              "<IPython.core.display.HTML object>"
            ],
            "text/html": [
              "Syncing run <strong><a href='https://wandb.ai/nsg/diamonds_price_prediction/runs/ni0l31q3' target=\"_blank\">denim-sweep-20</a></strong> to <a href='https://wandb.ai/nsg/diamonds_price_prediction' target=\"_blank\">Weights & Biases</a> (<a href='https://wandb.me/run' target=\"_blank\">docs</a>)<br/>Sweep page: <a href='https://wandb.ai/nsg/diamonds_price_prediction/sweeps/yhuzk2ul' target=\"_blank\">https://wandb.ai/nsg/diamonds_price_prediction/sweeps/yhuzk2ul</a>"
            ]
          },
          "metadata": {}
        },
        {
          "output_type": "display_data",
          "data": {
            "text/plain": [
              "<IPython.core.display.HTML object>"
            ],
            "text/html": [
              " View project at <a href='https://wandb.ai/nsg/diamonds_price_prediction' target=\"_blank\">https://wandb.ai/nsg/diamonds_price_prediction</a>"
            ]
          },
          "metadata": {}
        },
        {
          "output_type": "display_data",
          "data": {
            "text/plain": [
              "<IPython.core.display.HTML object>"
            ],
            "text/html": [
              " View sweep at <a href='https://wandb.ai/nsg/diamonds_price_prediction/sweeps/yhuzk2ul' target=\"_blank\">https://wandb.ai/nsg/diamonds_price_prediction/sweeps/yhuzk2ul</a>"
            ]
          },
          "metadata": {}
        },
        {
          "output_type": "display_data",
          "data": {
            "text/plain": [
              "<IPython.core.display.HTML object>"
            ],
            "text/html": [
              " View run at <a href='https://wandb.ai/nsg/diamonds_price_prediction/runs/ni0l31q3' target=\"_blank\">https://wandb.ai/nsg/diamonds_price_prediction/runs/ni0l31q3</a>"
            ]
          },
          "metadata": {}
        },
        {
          "output_type": "display_data",
          "data": {
            "text/plain": [
              "VBox(children=(Label(value='0.001 MB of 0.010 MB uploaded\\r'), FloatProgress(value=0.11264494754279404, max=1.…"
            ],
            "application/vnd.jupyter.widget-view+json": {
              "version_major": 2,
              "version_minor": 0,
              "model_id": "7f16514df609449eb041e20b165927cb"
            }
          },
          "metadata": {}
        },
        {
          "output_type": "display_data",
          "data": {
            "text/plain": [
              "<IPython.core.display.HTML object>"
            ],
            "text/html": [
              "<style>\n",
              "    table.wandb td:nth-child(1) { padding: 0 10px; text-align: left ; width: auto;} td:nth-child(2) {text-align: left ; width: 100%}\n",
              "    .wandb-row { display: flex; flex-direction: row; flex-wrap: wrap; justify-content: flex-start; width: 100% }\n",
              "    .wandb-col { display: flex; flex-direction: column; flex-basis: 100%; flex: 1; padding: 10px; }\n",
              "    </style>\n",
              "<div class=\"wandb-row\"><div class=\"wandb-col\"><h3>Run history:</h3><br/><table class=\"wandb\"><tr><td>rmse</td><td>▁</td></tr></table><br/></div><div class=\"wandb-col\"><h3>Run summary:</h3><br/><table class=\"wandb\"><tr><td>rmse</td><td>587.47154</td></tr></table><br/></div></div>"
            ]
          },
          "metadata": {}
        },
        {
          "output_type": "display_data",
          "data": {
            "text/plain": [
              "<IPython.core.display.HTML object>"
            ],
            "text/html": [
              " View run <strong style=\"color:#cdcd00\">denim-sweep-20</strong> at: <a href='https://wandb.ai/nsg/diamonds_price_prediction/runs/ni0l31q3' target=\"_blank\">https://wandb.ai/nsg/diamonds_price_prediction/runs/ni0l31q3</a><br/> View project at: <a href='https://wandb.ai/nsg/diamonds_price_prediction' target=\"_blank\">https://wandb.ai/nsg/diamonds_price_prediction</a><br/>Synced 4 W&B file(s), 0 media file(s), 0 artifact file(s) and 0 other file(s)"
            ]
          },
          "metadata": {}
        },
        {
          "output_type": "display_data",
          "data": {
            "text/plain": [
              "<IPython.core.display.HTML object>"
            ],
            "text/html": [
              "Find logs at: <code>./wandb/run-20240422_225050-ni0l31q3/logs</code>"
            ]
          },
          "metadata": {}
        },
        {
          "output_type": "stream",
          "name": "stderr",
          "text": [
            "\u001b[34m\u001b[1mwandb\u001b[0m: Agent Starting Run: zjbh7p2z with config:\n",
            "\u001b[34m\u001b[1mwandb\u001b[0m: \tcolsample_bytree: 1\n",
            "\u001b[34m\u001b[1mwandb\u001b[0m: \tlearning_rate: 0.2\n",
            "\u001b[34m\u001b[1mwandb\u001b[0m: \tmax_depth: 3\n",
            "\u001b[34m\u001b[1mwandb\u001b[0m: \tn_estimators: 200\n",
            "\u001b[34m\u001b[1mwandb\u001b[0m: \tsubsample: 0.9\n"
          ]
        },
        {
          "output_type": "display_data",
          "data": {
            "text/plain": [
              "<IPython.core.display.HTML object>"
            ],
            "text/html": [
              "Tracking run with wandb version 0.16.6"
            ]
          },
          "metadata": {}
        },
        {
          "output_type": "display_data",
          "data": {
            "text/plain": [
              "<IPython.core.display.HTML object>"
            ],
            "text/html": [
              "Run data is saved locally in <code>/content/wandb/run-20240422_225101-zjbh7p2z</code>"
            ]
          },
          "metadata": {}
        },
        {
          "output_type": "display_data",
          "data": {
            "text/plain": [
              "<IPython.core.display.HTML object>"
            ],
            "text/html": [
              "Syncing run <strong><a href='https://wandb.ai/nsg/diamonds_price_prediction/runs/zjbh7p2z' target=\"_blank\">proud-sweep-21</a></strong> to <a href='https://wandb.ai/nsg/diamonds_price_prediction' target=\"_blank\">Weights & Biases</a> (<a href='https://wandb.me/run' target=\"_blank\">docs</a>)<br/>Sweep page: <a href='https://wandb.ai/nsg/diamonds_price_prediction/sweeps/yhuzk2ul' target=\"_blank\">https://wandb.ai/nsg/diamonds_price_prediction/sweeps/yhuzk2ul</a>"
            ]
          },
          "metadata": {}
        },
        {
          "output_type": "display_data",
          "data": {
            "text/plain": [
              "<IPython.core.display.HTML object>"
            ],
            "text/html": [
              " View project at <a href='https://wandb.ai/nsg/diamonds_price_prediction' target=\"_blank\">https://wandb.ai/nsg/diamonds_price_prediction</a>"
            ]
          },
          "metadata": {}
        },
        {
          "output_type": "display_data",
          "data": {
            "text/plain": [
              "<IPython.core.display.HTML object>"
            ],
            "text/html": [
              " View sweep at <a href='https://wandb.ai/nsg/diamonds_price_prediction/sweeps/yhuzk2ul' target=\"_blank\">https://wandb.ai/nsg/diamonds_price_prediction/sweeps/yhuzk2ul</a>"
            ]
          },
          "metadata": {}
        },
        {
          "output_type": "display_data",
          "data": {
            "text/plain": [
              "<IPython.core.display.HTML object>"
            ],
            "text/html": [
              " View run at <a href='https://wandb.ai/nsg/diamonds_price_prediction/runs/zjbh7p2z' target=\"_blank\">https://wandb.ai/nsg/diamonds_price_prediction/runs/zjbh7p2z</a>"
            ]
          },
          "metadata": {}
        },
        {
          "output_type": "display_data",
          "data": {
            "text/plain": [
              "VBox(children=(Label(value='0.010 MB of 0.010 MB uploaded\\r'), FloatProgress(value=1.0, max=1.0)))"
            ],
            "application/vnd.jupyter.widget-view+json": {
              "version_major": 2,
              "version_minor": 0,
              "model_id": "b23a6c8cd02947c2974d1bd6be20e8cf"
            }
          },
          "metadata": {}
        },
        {
          "output_type": "display_data",
          "data": {
            "text/plain": [
              "<IPython.core.display.HTML object>"
            ],
            "text/html": [
              "<style>\n",
              "    table.wandb td:nth-child(1) { padding: 0 10px; text-align: left ; width: auto;} td:nth-child(2) {text-align: left ; width: 100%}\n",
              "    .wandb-row { display: flex; flex-direction: row; flex-wrap: wrap; justify-content: flex-start; width: 100% }\n",
              "    .wandb-col { display: flex; flex-direction: column; flex-basis: 100%; flex: 1; padding: 10px; }\n",
              "    </style>\n",
              "<div class=\"wandb-row\"><div class=\"wandb-col\"><h3>Run history:</h3><br/><table class=\"wandb\"><tr><td>rmse</td><td>▁</td></tr></table><br/></div><div class=\"wandb-col\"><h3>Run summary:</h3><br/><table class=\"wandb\"><tr><td>rmse</td><td>587.47154</td></tr></table><br/></div></div>"
            ]
          },
          "metadata": {}
        },
        {
          "output_type": "display_data",
          "data": {
            "text/plain": [
              "<IPython.core.display.HTML object>"
            ],
            "text/html": [
              " View run <strong style=\"color:#cdcd00\">proud-sweep-21</strong> at: <a href='https://wandb.ai/nsg/diamonds_price_prediction/runs/zjbh7p2z' target=\"_blank\">https://wandb.ai/nsg/diamonds_price_prediction/runs/zjbh7p2z</a><br/> View project at: <a href='https://wandb.ai/nsg/diamonds_price_prediction' target=\"_blank\">https://wandb.ai/nsg/diamonds_price_prediction</a><br/>Synced 4 W&B file(s), 0 media file(s), 0 artifact file(s) and 0 other file(s)"
            ]
          },
          "metadata": {}
        },
        {
          "output_type": "display_data",
          "data": {
            "text/plain": [
              "<IPython.core.display.HTML object>"
            ],
            "text/html": [
              "Find logs at: <code>./wandb/run-20240422_225101-zjbh7p2z/logs</code>"
            ]
          },
          "metadata": {}
        },
        {
          "output_type": "stream",
          "name": "stderr",
          "text": [
            "\u001b[34m\u001b[1mwandb\u001b[0m: Agent Starting Run: 83c1l2kf with config:\n",
            "\u001b[34m\u001b[1mwandb\u001b[0m: \tcolsample_bytree: 1\n",
            "\u001b[34m\u001b[1mwandb\u001b[0m: \tlearning_rate: 0.2\n",
            "\u001b[34m\u001b[1mwandb\u001b[0m: \tmax_depth: 3\n",
            "\u001b[34m\u001b[1mwandb\u001b[0m: \tn_estimators: 200\n",
            "\u001b[34m\u001b[1mwandb\u001b[0m: \tsubsample: 0.9\n"
          ]
        },
        {
          "output_type": "display_data",
          "data": {
            "text/plain": [
              "<IPython.core.display.HTML object>"
            ],
            "text/html": [
              "Tracking run with wandb version 0.16.6"
            ]
          },
          "metadata": {}
        },
        {
          "output_type": "display_data",
          "data": {
            "text/plain": [
              "<IPython.core.display.HTML object>"
            ],
            "text/html": [
              "Run data is saved locally in <code>/content/wandb/run-20240422_225116-83c1l2kf</code>"
            ]
          },
          "metadata": {}
        },
        {
          "output_type": "display_data",
          "data": {
            "text/plain": [
              "<IPython.core.display.HTML object>"
            ],
            "text/html": [
              "Syncing run <strong><a href='https://wandb.ai/nsg/diamonds_price_prediction/runs/83c1l2kf' target=\"_blank\">golden-sweep-22</a></strong> to <a href='https://wandb.ai/nsg/diamonds_price_prediction' target=\"_blank\">Weights & Biases</a> (<a href='https://wandb.me/run' target=\"_blank\">docs</a>)<br/>Sweep page: <a href='https://wandb.ai/nsg/diamonds_price_prediction/sweeps/yhuzk2ul' target=\"_blank\">https://wandb.ai/nsg/diamonds_price_prediction/sweeps/yhuzk2ul</a>"
            ]
          },
          "metadata": {}
        },
        {
          "output_type": "display_data",
          "data": {
            "text/plain": [
              "<IPython.core.display.HTML object>"
            ],
            "text/html": [
              " View project at <a href='https://wandb.ai/nsg/diamonds_price_prediction' target=\"_blank\">https://wandb.ai/nsg/diamonds_price_prediction</a>"
            ]
          },
          "metadata": {}
        },
        {
          "output_type": "display_data",
          "data": {
            "text/plain": [
              "<IPython.core.display.HTML object>"
            ],
            "text/html": [
              " View sweep at <a href='https://wandb.ai/nsg/diamonds_price_prediction/sweeps/yhuzk2ul' target=\"_blank\">https://wandb.ai/nsg/diamonds_price_prediction/sweeps/yhuzk2ul</a>"
            ]
          },
          "metadata": {}
        },
        {
          "output_type": "display_data",
          "data": {
            "text/plain": [
              "<IPython.core.display.HTML object>"
            ],
            "text/html": [
              " View run at <a href='https://wandb.ai/nsg/diamonds_price_prediction/runs/83c1l2kf' target=\"_blank\">https://wandb.ai/nsg/diamonds_price_prediction/runs/83c1l2kf</a>"
            ]
          },
          "metadata": {}
        },
        {
          "output_type": "display_data",
          "data": {
            "text/plain": [
              "VBox(children=(Label(value='0.010 MB of 0.010 MB uploaded\\r'), FloatProgress(value=1.0, max=1.0)))"
            ],
            "application/vnd.jupyter.widget-view+json": {
              "version_major": 2,
              "version_minor": 0,
              "model_id": "8402138b16064dcd8165bdb7cb1d54e5"
            }
          },
          "metadata": {}
        },
        {
          "output_type": "display_data",
          "data": {
            "text/plain": [
              "<IPython.core.display.HTML object>"
            ],
            "text/html": [
              "<style>\n",
              "    table.wandb td:nth-child(1) { padding: 0 10px; text-align: left ; width: auto;} td:nth-child(2) {text-align: left ; width: 100%}\n",
              "    .wandb-row { display: flex; flex-direction: row; flex-wrap: wrap; justify-content: flex-start; width: 100% }\n",
              "    .wandb-col { display: flex; flex-direction: column; flex-basis: 100%; flex: 1; padding: 10px; }\n",
              "    </style>\n",
              "<div class=\"wandb-row\"><div class=\"wandb-col\"><h3>Run history:</h3><br/><table class=\"wandb\"><tr><td>rmse</td><td>▁</td></tr></table><br/></div><div class=\"wandb-col\"><h3>Run summary:</h3><br/><table class=\"wandb\"><tr><td>rmse</td><td>587.47154</td></tr></table><br/></div></div>"
            ]
          },
          "metadata": {}
        },
        {
          "output_type": "display_data",
          "data": {
            "text/plain": [
              "<IPython.core.display.HTML object>"
            ],
            "text/html": [
              " View run <strong style=\"color:#cdcd00\">golden-sweep-22</strong> at: <a href='https://wandb.ai/nsg/diamonds_price_prediction/runs/83c1l2kf' target=\"_blank\">https://wandb.ai/nsg/diamonds_price_prediction/runs/83c1l2kf</a><br/> View project at: <a href='https://wandb.ai/nsg/diamonds_price_prediction' target=\"_blank\">https://wandb.ai/nsg/diamonds_price_prediction</a><br/>Synced 4 W&B file(s), 0 media file(s), 0 artifact file(s) and 0 other file(s)"
            ]
          },
          "metadata": {}
        },
        {
          "output_type": "display_data",
          "data": {
            "text/plain": [
              "<IPython.core.display.HTML object>"
            ],
            "text/html": [
              "Find logs at: <code>./wandb/run-20240422_225116-83c1l2kf/logs</code>"
            ]
          },
          "metadata": {}
        },
        {
          "output_type": "stream",
          "name": "stderr",
          "text": [
            "\u001b[34m\u001b[1mwandb\u001b[0m: Agent Starting Run: 73saupud with config:\n",
            "\u001b[34m\u001b[1mwandb\u001b[0m: \tcolsample_bytree: 0.75\n",
            "\u001b[34m\u001b[1mwandb\u001b[0m: \tlearning_rate: 0.2\n",
            "\u001b[34m\u001b[1mwandb\u001b[0m: \tmax_depth: 3\n",
            "\u001b[34m\u001b[1mwandb\u001b[0m: \tn_estimators: 100\n",
            "\u001b[34m\u001b[1mwandb\u001b[0m: \tsubsample: 0.8\n"
          ]
        },
        {
          "output_type": "display_data",
          "data": {
            "text/plain": [
              "<IPython.core.display.HTML object>"
            ],
            "text/html": [
              "Tracking run with wandb version 0.16.6"
            ]
          },
          "metadata": {}
        },
        {
          "output_type": "display_data",
          "data": {
            "text/plain": [
              "<IPython.core.display.HTML object>"
            ],
            "text/html": [
              "Run data is saved locally in <code>/content/wandb/run-20240422_225128-73saupud</code>"
            ]
          },
          "metadata": {}
        },
        {
          "output_type": "display_data",
          "data": {
            "text/plain": [
              "<IPython.core.display.HTML object>"
            ],
            "text/html": [
              "Syncing run <strong><a href='https://wandb.ai/nsg/diamonds_price_prediction/runs/73saupud' target=\"_blank\">different-sweep-23</a></strong> to <a href='https://wandb.ai/nsg/diamonds_price_prediction' target=\"_blank\">Weights & Biases</a> (<a href='https://wandb.me/run' target=\"_blank\">docs</a>)<br/>Sweep page: <a href='https://wandb.ai/nsg/diamonds_price_prediction/sweeps/yhuzk2ul' target=\"_blank\">https://wandb.ai/nsg/diamonds_price_prediction/sweeps/yhuzk2ul</a>"
            ]
          },
          "metadata": {}
        },
        {
          "output_type": "display_data",
          "data": {
            "text/plain": [
              "<IPython.core.display.HTML object>"
            ],
            "text/html": [
              " View project at <a href='https://wandb.ai/nsg/diamonds_price_prediction' target=\"_blank\">https://wandb.ai/nsg/diamonds_price_prediction</a>"
            ]
          },
          "metadata": {}
        },
        {
          "output_type": "display_data",
          "data": {
            "text/plain": [
              "<IPython.core.display.HTML object>"
            ],
            "text/html": [
              " View sweep at <a href='https://wandb.ai/nsg/diamonds_price_prediction/sweeps/yhuzk2ul' target=\"_blank\">https://wandb.ai/nsg/diamonds_price_prediction/sweeps/yhuzk2ul</a>"
            ]
          },
          "metadata": {}
        },
        {
          "output_type": "display_data",
          "data": {
            "text/plain": [
              "<IPython.core.display.HTML object>"
            ],
            "text/html": [
              " View run at <a href='https://wandb.ai/nsg/diamonds_price_prediction/runs/73saupud' target=\"_blank\">https://wandb.ai/nsg/diamonds_price_prediction/runs/73saupud</a>"
            ]
          },
          "metadata": {}
        },
        {
          "output_type": "display_data",
          "data": {
            "text/plain": [
              "VBox(children=(Label(value='0.010 MB of 0.010 MB uploaded\\r'), FloatProgress(value=1.0, max=1.0)))"
            ],
            "application/vnd.jupyter.widget-view+json": {
              "version_major": 2,
              "version_minor": 0,
              "model_id": "b1527bc8943d44e29359dd70e9cb2a09"
            }
          },
          "metadata": {}
        },
        {
          "output_type": "display_data",
          "data": {
            "text/plain": [
              "<IPython.core.display.HTML object>"
            ],
            "text/html": [
              "<style>\n",
              "    table.wandb td:nth-child(1) { padding: 0 10px; text-align: left ; width: auto;} td:nth-child(2) {text-align: left ; width: 100%}\n",
              "    .wandb-row { display: flex; flex-direction: row; flex-wrap: wrap; justify-content: flex-start; width: 100% }\n",
              "    .wandb-col { display: flex; flex-direction: column; flex-basis: 100%; flex: 1; padding: 10px; }\n",
              "    </style>\n",
              "<div class=\"wandb-row\"><div class=\"wandb-col\"><h3>Run history:</h3><br/><table class=\"wandb\"><tr><td>rmse</td><td>▁</td></tr></table><br/></div><div class=\"wandb-col\"><h3>Run summary:</h3><br/><table class=\"wandb\"><tr><td>rmse</td><td>580.22251</td></tr></table><br/></div></div>"
            ]
          },
          "metadata": {}
        },
        {
          "output_type": "display_data",
          "data": {
            "text/plain": [
              "<IPython.core.display.HTML object>"
            ],
            "text/html": [
              " View run <strong style=\"color:#cdcd00\">different-sweep-23</strong> at: <a href='https://wandb.ai/nsg/diamonds_price_prediction/runs/73saupud' target=\"_blank\">https://wandb.ai/nsg/diamonds_price_prediction/runs/73saupud</a><br/> View project at: <a href='https://wandb.ai/nsg/diamonds_price_prediction' target=\"_blank\">https://wandb.ai/nsg/diamonds_price_prediction</a><br/>Synced 4 W&B file(s), 0 media file(s), 0 artifact file(s) and 0 other file(s)"
            ]
          },
          "metadata": {}
        },
        {
          "output_type": "display_data",
          "data": {
            "text/plain": [
              "<IPython.core.display.HTML object>"
            ],
            "text/html": [
              "Find logs at: <code>./wandb/run-20240422_225128-73saupud/logs</code>"
            ]
          },
          "metadata": {}
        },
        {
          "output_type": "stream",
          "name": "stderr",
          "text": [
            "\u001b[34m\u001b[1mwandb\u001b[0m: Agent Starting Run: qak5bqbv with config:\n",
            "\u001b[34m\u001b[1mwandb\u001b[0m: \tcolsample_bytree: 1\n",
            "\u001b[34m\u001b[1mwandb\u001b[0m: \tlearning_rate: 0.2\n",
            "\u001b[34m\u001b[1mwandb\u001b[0m: \tmax_depth: 3\n",
            "\u001b[34m\u001b[1mwandb\u001b[0m: \tn_estimators: 200\n",
            "\u001b[34m\u001b[1mwandb\u001b[0m: \tsubsample: 0.9\n"
          ]
        },
        {
          "output_type": "display_data",
          "data": {
            "text/plain": [
              "VBox(children=(Label(value='Waiting for wandb.init()...\\r'), FloatProgress(value=0.011112679366664855, max=1.0…"
            ],
            "application/vnd.jupyter.widget-view+json": {
              "version_major": 2,
              "version_minor": 0,
              "model_id": "a08a0a2128b4481c9fd55c724427eefc"
            }
          },
          "metadata": {}
        },
        {
          "output_type": "display_data",
          "data": {
            "text/plain": [
              "<IPython.core.display.HTML object>"
            ],
            "text/html": [
              "Tracking run with wandb version 0.16.6"
            ]
          },
          "metadata": {}
        },
        {
          "output_type": "display_data",
          "data": {
            "text/plain": [
              "<IPython.core.display.HTML object>"
            ],
            "text/html": [
              "Run data is saved locally in <code>/content/wandb/run-20240422_225139-qak5bqbv</code>"
            ]
          },
          "metadata": {}
        },
        {
          "output_type": "display_data",
          "data": {
            "text/plain": [
              "<IPython.core.display.HTML object>"
            ],
            "text/html": [
              "Syncing run <strong><a href='https://wandb.ai/nsg/diamonds_price_prediction/runs/qak5bqbv' target=\"_blank\">wobbly-sweep-24</a></strong> to <a href='https://wandb.ai/nsg/diamonds_price_prediction' target=\"_blank\">Weights & Biases</a> (<a href='https://wandb.me/run' target=\"_blank\">docs</a>)<br/>Sweep page: <a href='https://wandb.ai/nsg/diamonds_price_prediction/sweeps/yhuzk2ul' target=\"_blank\">https://wandb.ai/nsg/diamonds_price_prediction/sweeps/yhuzk2ul</a>"
            ]
          },
          "metadata": {}
        },
        {
          "output_type": "display_data",
          "data": {
            "text/plain": [
              "<IPython.core.display.HTML object>"
            ],
            "text/html": [
              " View project at <a href='https://wandb.ai/nsg/diamonds_price_prediction' target=\"_blank\">https://wandb.ai/nsg/diamonds_price_prediction</a>"
            ]
          },
          "metadata": {}
        },
        {
          "output_type": "display_data",
          "data": {
            "text/plain": [
              "<IPython.core.display.HTML object>"
            ],
            "text/html": [
              " View sweep at <a href='https://wandb.ai/nsg/diamonds_price_prediction/sweeps/yhuzk2ul' target=\"_blank\">https://wandb.ai/nsg/diamonds_price_prediction/sweeps/yhuzk2ul</a>"
            ]
          },
          "metadata": {}
        },
        {
          "output_type": "display_data",
          "data": {
            "text/plain": [
              "<IPython.core.display.HTML object>"
            ],
            "text/html": [
              " View run at <a href='https://wandb.ai/nsg/diamonds_price_prediction/runs/qak5bqbv' target=\"_blank\">https://wandb.ai/nsg/diamonds_price_prediction/runs/qak5bqbv</a>"
            ]
          },
          "metadata": {}
        },
        {
          "output_type": "display_data",
          "data": {
            "text/plain": [
              "VBox(children=(Label(value='0.010 MB of 0.010 MB uploaded\\r'), FloatProgress(value=1.0, max=1.0)))"
            ],
            "application/vnd.jupyter.widget-view+json": {
              "version_major": 2,
              "version_minor": 0,
              "model_id": "56e68050e839482b857ff558715117f7"
            }
          },
          "metadata": {}
        },
        {
          "output_type": "display_data",
          "data": {
            "text/plain": [
              "<IPython.core.display.HTML object>"
            ],
            "text/html": [
              "<style>\n",
              "    table.wandb td:nth-child(1) { padding: 0 10px; text-align: left ; width: auto;} td:nth-child(2) {text-align: left ; width: 100%}\n",
              "    .wandb-row { display: flex; flex-direction: row; flex-wrap: wrap; justify-content: flex-start; width: 100% }\n",
              "    .wandb-col { display: flex; flex-direction: column; flex-basis: 100%; flex: 1; padding: 10px; }\n",
              "    </style>\n",
              "<div class=\"wandb-row\"><div class=\"wandb-col\"><h3>Run history:</h3><br/><table class=\"wandb\"><tr><td>rmse</td><td>▁</td></tr></table><br/></div><div class=\"wandb-col\"><h3>Run summary:</h3><br/><table class=\"wandb\"><tr><td>rmse</td><td>587.47154</td></tr></table><br/></div></div>"
            ]
          },
          "metadata": {}
        },
        {
          "output_type": "display_data",
          "data": {
            "text/plain": [
              "<IPython.core.display.HTML object>"
            ],
            "text/html": [
              " View run <strong style=\"color:#cdcd00\">wobbly-sweep-24</strong> at: <a href='https://wandb.ai/nsg/diamonds_price_prediction/runs/qak5bqbv' target=\"_blank\">https://wandb.ai/nsg/diamonds_price_prediction/runs/qak5bqbv</a><br/> View project at: <a href='https://wandb.ai/nsg/diamonds_price_prediction' target=\"_blank\">https://wandb.ai/nsg/diamonds_price_prediction</a><br/>Synced 4 W&B file(s), 0 media file(s), 0 artifact file(s) and 0 other file(s)"
            ]
          },
          "metadata": {}
        },
        {
          "output_type": "display_data",
          "data": {
            "text/plain": [
              "<IPython.core.display.HTML object>"
            ],
            "text/html": [
              "Find logs at: <code>./wandb/run-20240422_225139-qak5bqbv/logs</code>"
            ]
          },
          "metadata": {}
        },
        {
          "output_type": "stream",
          "name": "stderr",
          "text": [
            "\u001b[34m\u001b[1mwandb\u001b[0m: Sweep Agent: Waiting for job.\n",
            "\u001b[34m\u001b[1mwandb\u001b[0m: Job received.\n",
            "\u001b[34m\u001b[1mwandb\u001b[0m: Agent Starting Run: 7wu3jp6g with config:\n",
            "\u001b[34m\u001b[1mwandb\u001b[0m: \tcolsample_bytree: 0.75\n",
            "\u001b[34m\u001b[1mwandb\u001b[0m: \tlearning_rate: 0.2\n",
            "\u001b[34m\u001b[1mwandb\u001b[0m: \tmax_depth: 3\n",
            "\u001b[34m\u001b[1mwandb\u001b[0m: \tn_estimators: 200\n",
            "\u001b[34m\u001b[1mwandb\u001b[0m: \tsubsample: 0.8\n"
          ]
        },
        {
          "output_type": "display_data",
          "data": {
            "text/plain": [
              "<IPython.core.display.HTML object>"
            ],
            "text/html": [
              "Tracking run with wandb version 0.16.6"
            ]
          },
          "metadata": {}
        },
        {
          "output_type": "display_data",
          "data": {
            "text/plain": [
              "<IPython.core.display.HTML object>"
            ],
            "text/html": [
              "Run data is saved locally in <code>/content/wandb/run-20240422_225204-7wu3jp6g</code>"
            ]
          },
          "metadata": {}
        },
        {
          "output_type": "display_data",
          "data": {
            "text/plain": [
              "<IPython.core.display.HTML object>"
            ],
            "text/html": [
              "Syncing run <strong><a href='https://wandb.ai/nsg/diamonds_price_prediction/runs/7wu3jp6g' target=\"_blank\">neat-sweep-25</a></strong> to <a href='https://wandb.ai/nsg/diamonds_price_prediction' target=\"_blank\">Weights & Biases</a> (<a href='https://wandb.me/run' target=\"_blank\">docs</a>)<br/>Sweep page: <a href='https://wandb.ai/nsg/diamonds_price_prediction/sweeps/yhuzk2ul' target=\"_blank\">https://wandb.ai/nsg/diamonds_price_prediction/sweeps/yhuzk2ul</a>"
            ]
          },
          "metadata": {}
        },
        {
          "output_type": "display_data",
          "data": {
            "text/plain": [
              "<IPython.core.display.HTML object>"
            ],
            "text/html": [
              " View project at <a href='https://wandb.ai/nsg/diamonds_price_prediction' target=\"_blank\">https://wandb.ai/nsg/diamonds_price_prediction</a>"
            ]
          },
          "metadata": {}
        },
        {
          "output_type": "display_data",
          "data": {
            "text/plain": [
              "<IPython.core.display.HTML object>"
            ],
            "text/html": [
              " View sweep at <a href='https://wandb.ai/nsg/diamonds_price_prediction/sweeps/yhuzk2ul' target=\"_blank\">https://wandb.ai/nsg/diamonds_price_prediction/sweeps/yhuzk2ul</a>"
            ]
          },
          "metadata": {}
        },
        {
          "output_type": "display_data",
          "data": {
            "text/plain": [
              "<IPython.core.display.HTML object>"
            ],
            "text/html": [
              " View run at <a href='https://wandb.ai/nsg/diamonds_price_prediction/runs/7wu3jp6g' target=\"_blank\">https://wandb.ai/nsg/diamonds_price_prediction/runs/7wu3jp6g</a>"
            ]
          },
          "metadata": {}
        },
        {
          "output_type": "display_data",
          "data": {
            "text/plain": [
              "VBox(children=(Label(value='0.001 MB of 0.010 MB uploaded\\r'), FloatProgress(value=0.11120203673395163, max=1.…"
            ],
            "application/vnd.jupyter.widget-view+json": {
              "version_major": 2,
              "version_minor": 0,
              "model_id": "cc9e7a1762624eed8e0fc2f1ca8ef062"
            }
          },
          "metadata": {}
        },
        {
          "output_type": "display_data",
          "data": {
            "text/plain": [
              "<IPython.core.display.HTML object>"
            ],
            "text/html": [
              "<style>\n",
              "    table.wandb td:nth-child(1) { padding: 0 10px; text-align: left ; width: auto;} td:nth-child(2) {text-align: left ; width: 100%}\n",
              "    .wandb-row { display: flex; flex-direction: row; flex-wrap: wrap; justify-content: flex-start; width: 100% }\n",
              "    .wandb-col { display: flex; flex-direction: column; flex-basis: 100%; flex: 1; padding: 10px; }\n",
              "    </style>\n",
              "<div class=\"wandb-row\"><div class=\"wandb-col\"><h3>Run history:</h3><br/><table class=\"wandb\"><tr><td>rmse</td><td>▁</td></tr></table><br/></div><div class=\"wandb-col\"><h3>Run summary:</h3><br/><table class=\"wandb\"><tr><td>rmse</td><td>580.22251</td></tr></table><br/></div></div>"
            ]
          },
          "metadata": {}
        },
        {
          "output_type": "display_data",
          "data": {
            "text/plain": [
              "<IPython.core.display.HTML object>"
            ],
            "text/html": [
              " View run <strong style=\"color:#cdcd00\">neat-sweep-25</strong> at: <a href='https://wandb.ai/nsg/diamonds_price_prediction/runs/7wu3jp6g' target=\"_blank\">https://wandb.ai/nsg/diamonds_price_prediction/runs/7wu3jp6g</a><br/> View project at: <a href='https://wandb.ai/nsg/diamonds_price_prediction' target=\"_blank\">https://wandb.ai/nsg/diamonds_price_prediction</a><br/>Synced 4 W&B file(s), 0 media file(s), 0 artifact file(s) and 0 other file(s)"
            ]
          },
          "metadata": {}
        },
        {
          "output_type": "display_data",
          "data": {
            "text/plain": [
              "<IPython.core.display.HTML object>"
            ],
            "text/html": [
              "Find logs at: <code>./wandb/run-20240422_225204-7wu3jp6g/logs</code>"
            ]
          },
          "metadata": {}
        }
      ]
    },
    {
      "cell_type": "markdown",
      "source": [
        "## Experiment Observation and Analysis\n",
        "\n",
        "### Objective\n",
        "The goal of this series of experiments was to optimize the hyperparameters of an XGBoost model trained on the Diamonds dataset. We aimed to minimize the root mean squared error (RMSE) of the model's predictions on the test dataset. We used Weights & Biases (W&B) for experiment tracking and hyperparameter sweeps.\n",
        "\n",
        "### Methodology\n",
        "We employed W&B's Bayesian optimization for the hyperparameter tuning process, focusing on several key parameters:\n",
        "- `max_depth`: The maximum depth of the trees.\n",
        "- `learning_rate`: The step size shrinkage used to prevent overfitting.\n",
        "- `n_estimators`: The number of trees in the forest.\n",
        "- `subsample`: The fraction of samples to be used for fitting the individual base learners.\n",
        "- `colsample_bytree`: The fraction of features to be used for each tree.\n",
        "\n",
        "These parameters were varied over defined ranges to observe their effect on the RMSE.\n",
        "\n",
        "### Results and Insights\n",
        "The experiments were conducted over multiple runs, each with a different set of hyperparameters. Here are some of the noteworthy observations:\n",
        "\n",
        "- The lowest RMSE achieved was 529.78, with the hyperparameters set to `colsample_bytree: 0.75`, `learning_rate: 0.2`, `max_depth: 6`, `n_estimators: 300`, and `subsample: 1.0`.\n",
        "- Increasing the `max_depth` and `n_estimators` generally led to better performance, indicating that more complex models were able to capture the underlying patterns in the data more effectively.\n",
        "- The `learning_rate` at 0.2 combined with higher values of `max_depth` and `n_estimators` consistently yielded better results, suggesting that a higher learning rate works well with a more complex model in this dataset.\n",
        "- The optimal `subsample` and `colsample_bytree` values hovered around 0.9 and 0.75, respectively, balancing the model's ability to train on diverse data samples while avoiding overfitting."
      ],
      "metadata": {
        "id": "zwcn3sHGBU1S"
      }
    },
    {
      "cell_type": "code",
      "source": [],
      "metadata": {
        "id": "k-vqkIfU_So_"
      },
      "execution_count": null,
      "outputs": []
    }
  ]
}